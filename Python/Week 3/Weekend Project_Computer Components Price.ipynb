{
  "nbformat": 4,
  "nbformat_minor": 0,
  "metadata": {
    "colab": {
      "name": "FinalProject3.ipynb",
      "provenance": [],
      "collapsed_sections": []
    },
    "kernelspec": {
      "display_name": "Python 3",
      "name": "python3"
    },
    "language_info": {
      "name": "python"
    }
  },
  "cells": [
    {
      "cell_type": "code",
      "metadata": {
        "colab": {
          "base_uri": "https://localhost:8080/"
        },
        "id": "NyC_u57MojAh",
        "outputId": "6310be86-5a37-4e11-da66-34352ef7ef49"
      },
      "source": [
        "pip install dash"
      ],
      "execution_count": null,
      "outputs": [
        {
          "output_type": "stream",
          "text": [
            "Requirement already satisfied: dash in /usr/local/lib/python3.7/dist-packages (1.20.0)\n",
            "Requirement already satisfied: future in /usr/local/lib/python3.7/dist-packages (from dash) (0.16.0)\n",
            "Requirement already satisfied: dash-table==4.11.3 in /usr/local/lib/python3.7/dist-packages (from dash) (4.11.3)\n",
            "Requirement already satisfied: Flask>=1.0.4 in /usr/local/lib/python3.7/dist-packages (from dash) (1.1.4)\n",
            "Requirement already satisfied: plotly in /usr/local/lib/python3.7/dist-packages (from dash) (4.4.1)\n",
            "Requirement already satisfied: dash-renderer==1.9.1 in /usr/local/lib/python3.7/dist-packages (from dash) (1.9.1)\n",
            "Requirement already satisfied: dash-core-components==1.16.0 in /usr/local/lib/python3.7/dist-packages (from dash) (1.16.0)\n",
            "Requirement already satisfied: flask-compress in /usr/local/lib/python3.7/dist-packages (from dash) (1.9.0)\n",
            "Requirement already satisfied: dash-html-components==1.1.3 in /usr/local/lib/python3.7/dist-packages (from dash) (1.1.3)\n",
            "Requirement already satisfied: Jinja2<3.0,>=2.10.1 in /usr/local/lib/python3.7/dist-packages (from Flask>=1.0.4->dash) (2.11.3)\n",
            "Requirement already satisfied: click<8.0,>=5.1 in /usr/local/lib/python3.7/dist-packages (from Flask>=1.0.4->dash) (7.1.2)\n",
            "Requirement already satisfied: itsdangerous<2.0,>=0.24 in /usr/local/lib/python3.7/dist-packages (from Flask>=1.0.4->dash) (1.1.0)\n",
            "Requirement already satisfied: Werkzeug<2.0,>=0.15 in /usr/local/lib/python3.7/dist-packages (from Flask>=1.0.4->dash) (1.0.1)\n",
            "Requirement already satisfied: six in /usr/local/lib/python3.7/dist-packages (from plotly->dash) (1.15.0)\n",
            "Requirement already satisfied: retrying>=1.3.3 in /usr/local/lib/python3.7/dist-packages (from plotly->dash) (1.3.3)\n",
            "Requirement already satisfied: brotli in /usr/local/lib/python3.7/dist-packages (from flask-compress->dash) (1.0.9)\n",
            "Requirement already satisfied: MarkupSafe>=0.23 in /usr/local/lib/python3.7/dist-packages (from Jinja2<3.0,>=2.10.1->Flask>=1.0.4->dash) (2.0.1)\n"
          ],
          "name": "stdout"
        }
      ]
    },
    {
      "cell_type": "code",
      "metadata": {
        "colab": {
          "base_uri": "https://localhost:8080/"
        },
        "id": "_FwkNfIc3si6",
        "outputId": "2c4a9ba5-87a5-4713-d5f4-69a616284234"
      },
      "source": [
        "!pip install matplotlib-venn"
      ],
      "execution_count": null,
      "outputs": [
        {
          "output_type": "stream",
          "text": [
            "Requirement already satisfied: matplotlib-venn in /usr/local/lib/python3.7/dist-packages (0.11.6)\n",
            "Requirement already satisfied: scipy in /usr/local/lib/python3.7/dist-packages (from matplotlib-venn) (1.4.1)\n",
            "Requirement already satisfied: numpy in /usr/local/lib/python3.7/dist-packages (from matplotlib-venn) (1.19.5)\n",
            "Requirement already satisfied: matplotlib in /usr/local/lib/python3.7/dist-packages (from matplotlib-venn) (3.2.2)\n",
            "Requirement already satisfied: kiwisolver>=1.0.1 in /usr/local/lib/python3.7/dist-packages (from matplotlib->matplotlib-venn) (1.3.1)\n",
            "Requirement already satisfied: pyparsing!=2.0.4,!=2.1.2,!=2.1.6,>=2.0.1 in /usr/local/lib/python3.7/dist-packages (from matplotlib->matplotlib-venn) (2.4.7)\n",
            "Requirement already satisfied: python-dateutil>=2.1 in /usr/local/lib/python3.7/dist-packages (from matplotlib->matplotlib-venn) (2.8.1)\n",
            "Requirement already satisfied: cycler>=0.10 in /usr/local/lib/python3.7/dist-packages (from matplotlib->matplotlib-venn) (0.10.0)\n",
            "Requirement already satisfied: six>=1.5 in /usr/local/lib/python3.7/dist-packages (from python-dateutil>=2.1->matplotlib->matplotlib-venn) (1.15.0)\n"
          ],
          "name": "stdout"
        }
      ]
    },
    {
      "cell_type": "code",
      "metadata": {
        "id": "3rRkndyE3wkP"
      },
      "source": [
        "!apt-get -qq install -y libfluidsynth1"
      ],
      "execution_count": null,
      "outputs": []
    },
    {
      "cell_type": "code",
      "metadata": {
        "colab": {
          "base_uri": "https://localhost:8080/"
        },
        "id": "zp6lUCYdqVOY",
        "outputId": "a8d9c8ee-000d-4fd8-e647-c0e41c5fe500"
      },
      "source": [
        "pip install jupyter-dash"
      ],
      "execution_count": null,
      "outputs": [
        {
          "output_type": "stream",
          "text": [
            "Requirement already satisfied: jupyter-dash in /usr/local/lib/python3.7/dist-packages (0.4.0)\n",
            "Requirement already satisfied: ipykernel in /usr/local/lib/python3.7/dist-packages (from jupyter-dash) (4.10.1)\n",
            "Requirement already satisfied: requests in /usr/local/lib/python3.7/dist-packages (from jupyter-dash) (2.23.0)\n",
            "Requirement already satisfied: dash in /usr/local/lib/python3.7/dist-packages (from jupyter-dash) (1.20.0)\n",
            "Requirement already satisfied: ipython in /usr/local/lib/python3.7/dist-packages (from jupyter-dash) (5.5.0)\n",
            "Requirement already satisfied: flask in /usr/local/lib/python3.7/dist-packages (from jupyter-dash) (1.1.4)\n",
            "Requirement already satisfied: ansi2html in /usr/local/lib/python3.7/dist-packages (from jupyter-dash) (1.6.0)\n",
            "Requirement already satisfied: retrying in /usr/local/lib/python3.7/dist-packages (from jupyter-dash) (1.3.3)\n",
            "Requirement already satisfied: tornado>=4.0 in /usr/local/lib/python3.7/dist-packages (from ipykernel->jupyter-dash) (5.1.1)\n",
            "Requirement already satisfied: jupyter-client in /usr/local/lib/python3.7/dist-packages (from ipykernel->jupyter-dash) (5.3.5)\n",
            "Requirement already satisfied: traitlets>=4.1.0 in /usr/local/lib/python3.7/dist-packages (from ipykernel->jupyter-dash) (5.0.5)\n",
            "Requirement already satisfied: urllib3!=1.25.0,!=1.25.1,<1.26,>=1.21.1 in /usr/local/lib/python3.7/dist-packages (from requests->jupyter-dash) (1.24.3)\n",
            "Requirement already satisfied: idna<3,>=2.5 in /usr/local/lib/python3.7/dist-packages (from requests->jupyter-dash) (2.10)\n",
            "Requirement already satisfied: chardet<4,>=3.0.2 in /usr/local/lib/python3.7/dist-packages (from requests->jupyter-dash) (3.0.4)\n",
            "Requirement already satisfied: certifi>=2017.4.17 in /usr/local/lib/python3.7/dist-packages (from requests->jupyter-dash) (2020.12.5)\n",
            "Requirement already satisfied: plotly in /usr/local/lib/python3.7/dist-packages (from dash->jupyter-dash) (4.4.1)\n",
            "Requirement already satisfied: dash-table==4.11.3 in /usr/local/lib/python3.7/dist-packages (from dash->jupyter-dash) (4.11.3)\n",
            "Requirement already satisfied: dash-html-components==1.1.3 in /usr/local/lib/python3.7/dist-packages (from dash->jupyter-dash) (1.1.3)\n",
            "Requirement already satisfied: flask-compress in /usr/local/lib/python3.7/dist-packages (from dash->jupyter-dash) (1.9.0)\n",
            "Requirement already satisfied: dash-renderer==1.9.1 in /usr/local/lib/python3.7/dist-packages (from dash->jupyter-dash) (1.9.1)\n",
            "Requirement already satisfied: dash-core-components==1.16.0 in /usr/local/lib/python3.7/dist-packages (from dash->jupyter-dash) (1.16.0)\n",
            "Requirement already satisfied: future in /usr/local/lib/python3.7/dist-packages (from dash->jupyter-dash) (0.16.0)\n",
            "Requirement already satisfied: simplegeneric>0.8 in /usr/local/lib/python3.7/dist-packages (from ipython->jupyter-dash) (0.8.1)\n",
            "Requirement already satisfied: setuptools>=18.5 in /usr/local/lib/python3.7/dist-packages (from ipython->jupyter-dash) (57.0.0)\n",
            "Requirement already satisfied: pexpect; sys_platform != \"win32\" in /usr/local/lib/python3.7/dist-packages (from ipython->jupyter-dash) (4.8.0)\n",
            "Requirement already satisfied: decorator in /usr/local/lib/python3.7/dist-packages (from ipython->jupyter-dash) (4.4.2)\n",
            "Requirement already satisfied: pickleshare in /usr/local/lib/python3.7/dist-packages (from ipython->jupyter-dash) (0.7.5)\n",
            "Requirement already satisfied: pygments in /usr/local/lib/python3.7/dist-packages (from ipython->jupyter-dash) (2.6.1)\n",
            "Requirement already satisfied: prompt-toolkit<2.0.0,>=1.0.4 in /usr/local/lib/python3.7/dist-packages (from ipython->jupyter-dash) (1.0.18)\n",
            "Requirement already satisfied: Jinja2<3.0,>=2.10.1 in /usr/local/lib/python3.7/dist-packages (from flask->jupyter-dash) (2.11.3)\n",
            "Requirement already satisfied: click<8.0,>=5.1 in /usr/local/lib/python3.7/dist-packages (from flask->jupyter-dash) (7.1.2)\n",
            "Requirement already satisfied: itsdangerous<2.0,>=0.24 in /usr/local/lib/python3.7/dist-packages (from flask->jupyter-dash) (1.1.0)\n",
            "Requirement already satisfied: Werkzeug<2.0,>=0.15 in /usr/local/lib/python3.7/dist-packages (from flask->jupyter-dash) (1.0.1)\n",
            "Requirement already satisfied: six>=1.7.0 in /usr/local/lib/python3.7/dist-packages (from retrying->jupyter-dash) (1.15.0)\n",
            "Requirement already satisfied: jupyter-core>=4.6.0 in /usr/local/lib/python3.7/dist-packages (from jupyter-client->ipykernel->jupyter-dash) (4.7.1)\n",
            "Requirement already satisfied: pyzmq>=13 in /usr/local/lib/python3.7/dist-packages (from jupyter-client->ipykernel->jupyter-dash) (22.0.3)\n",
            "Requirement already satisfied: python-dateutil>=2.1 in /usr/local/lib/python3.7/dist-packages (from jupyter-client->ipykernel->jupyter-dash) (2.8.1)\n",
            "Requirement already satisfied: ipython-genutils in /usr/local/lib/python3.7/dist-packages (from traitlets>=4.1.0->ipykernel->jupyter-dash) (0.2.0)\n",
            "Requirement already satisfied: brotli in /usr/local/lib/python3.7/dist-packages (from flask-compress->dash->jupyter-dash) (1.0.9)\n",
            "Requirement already satisfied: ptyprocess>=0.5 in /usr/local/lib/python3.7/dist-packages (from pexpect; sys_platform != \"win32\"->ipython->jupyter-dash) (0.7.0)\n",
            "Requirement already satisfied: wcwidth in /usr/local/lib/python3.7/dist-packages (from prompt-toolkit<2.0.0,>=1.0.4->ipython->jupyter-dash) (0.2.5)\n",
            "Requirement already satisfied: MarkupSafe>=0.23 in /usr/local/lib/python3.7/dist-packages (from Jinja2<3.0,>=2.10.1->flask->jupyter-dash) (2.0.1)\n"
          ],
          "name": "stdout"
        }
      ]
    },
    {
      "cell_type": "code",
      "metadata": {
        "colab": {
          "base_uri": "https://localhost:8080/"
        },
        "id": "E5Pq_PEhqVcf",
        "outputId": "a374710c-3829-49c6-bbb8-56f4eb7472f1"
      },
      "source": [
        "pip install pandas"
      ],
      "execution_count": null,
      "outputs": [
        {
          "output_type": "stream",
          "text": [
            "Requirement already satisfied: pandas in /usr/local/lib/python3.7/dist-packages (1.1.5)\n",
            "Requirement already satisfied: pytz>=2017.2 in /usr/local/lib/python3.7/dist-packages (from pandas) (2018.9)\n",
            "Requirement already satisfied: python-dateutil>=2.7.3 in /usr/local/lib/python3.7/dist-packages (from pandas) (2.8.1)\n",
            "Requirement already satisfied: numpy>=1.15.4 in /usr/local/lib/python3.7/dist-packages (from pandas) (1.19.5)\n",
            "Requirement already satisfied: six>=1.5 in /usr/local/lib/python3.7/dist-packages (from python-dateutil>=2.7.3->pandas) (1.15.0)\n"
          ],
          "name": "stdout"
        }
      ]
    },
    {
      "cell_type": "code",
      "metadata": {
        "id": "1h6yhZp4qVkd"
      },
      "source": [
        "# import libraries \n",
        "\n",
        "import numpy as np \n",
        "import pandas as pd\n",
        "import matplotlib.pyplot as plt \n",
        "import seaborn as sns\n",
        "\n",
        "# libraries for build dashboard\n",
        "import dash\n",
        "import dash_core_components as dcc\n",
        "import dash_html_components as html\n",
        "from dash.dependencies import Input, Output\n",
        "import plotly.express as px\n",
        "\n",
        "from jupyter_dash import JupyterDash"
      ],
      "execution_count": null,
      "outputs": []
    },
    {
      "cell_type": "markdown",
      "metadata": {
        "id": "EhI4-1Rr_Cd5"
      },
      "source": [
        "### Load Dataset"
      ]
    },
    {
      "cell_type": "code",
      "metadata": {
        "colab": {
          "base_uri": "https://localhost:8080/",
          "height": 407
        },
        "id": "bJXt6P_wou3w",
        "outputId": "63141ac7-c7e0-4964-c21d-fbf0b87ca410"
      },
      "source": [
        "# read dataset\n",
        "df = pd.read_csv(\"/futereprice.csv\")\n",
        "df"
      ],
      "execution_count": null,
      "outputs": [
        {
          "output_type": "execute_result",
          "data": {
            "text/html": [
              "<div>\n",
              "<style scoped>\n",
              "    .dataframe tbody tr th:only-of-type {\n",
              "        vertical-align: middle;\n",
              "    }\n",
              "\n",
              "    .dataframe tbody tr th {\n",
              "        vertical-align: top;\n",
              "    }\n",
              "\n",
              "    .dataframe thead th {\n",
              "        text-align: right;\n",
              "    }\n",
              "</style>\n",
              "<table border=\"1\" class=\"dataframe\">\n",
              "  <thead>\n",
              "    <tr style=\"text-align: right;\">\n",
              "      <th></th>\n",
              "      <th>Unnamed: 0</th>\n",
              "      <th>brand_name</th>\n",
              "      <th>items_Decribtion</th>\n",
              "      <th>ratings</th>\n",
              "      <th>prices</th>\n",
              "      <th>Category</th>\n",
              "    </tr>\n",
              "  </thead>\n",
              "  <tbody>\n",
              "    <tr>\n",
              "      <th>0</th>\n",
              "      <td>0</td>\n",
              "      <td>AMD</td>\n",
              "      <td>CORSAIR Vengeance RGB Pro 16GB (2 x 8GB) 288-P...</td>\n",
              "      <td>(1)</td>\n",
              "      <td>14,723.99</td>\n",
              "      <td>cpu</td>\n",
              "    </tr>\n",
              "    <tr>\n",
              "      <th>1</th>\n",
              "      <td>1</td>\n",
              "      <td>AMD</td>\n",
              "      <td>Kingston 16GB (2 x 8GB) 240-Pin DDR3 SDRAM DDR...</td>\n",
              "      <td>(9)</td>\n",
              "      <td>378.99</td>\n",
              "      <td>cpu</td>\n",
              "    </tr>\n",
              "    <tr>\n",
              "      <th>2</th>\n",
              "      <td>2</td>\n",
              "      <td>AMD</td>\n",
              "      <td>CORSAIR Vengeance LPX 32GB (4 x 8GB) 288-Pin D...</td>\n",
              "      <td>(4)</td>\n",
              "      <td>2,834.99</td>\n",
              "      <td>cpu</td>\n",
              "    </tr>\n",
              "    <tr>\n",
              "      <th>3</th>\n",
              "      <td>3</td>\n",
              "      <td>AMD</td>\n",
              "      <td>CORSAIR Vengeance LPX 128GB (4 x 32GB) 288-Pin...</td>\n",
              "      <td>(42)</td>\n",
              "      <td>661.99</td>\n",
              "      <td>cpu</td>\n",
              "    </tr>\n",
              "    <tr>\n",
              "      <th>4</th>\n",
              "      <td>4</td>\n",
              "      <td>AMD</td>\n",
              "      <td>AMD Ryzen Threadripper 3990X 64-Core 2.9 GHz S...</td>\n",
              "      <td>(691)</td>\n",
              "      <td>1,588.99</td>\n",
              "      <td>cpu</td>\n",
              "    </tr>\n",
              "    <tr>\n",
              "      <th>...</th>\n",
              "      <td>...</td>\n",
              "      <td>...</td>\n",
              "      <td>...</td>\n",
              "      <td>...</td>\n",
              "      <td>...</td>\n",
              "      <td>...</td>\n",
              "    </tr>\n",
              "    <tr>\n",
              "      <th>2700</th>\n",
              "      <td>195</td>\n",
              "      <td>NaN</td>\n",
              "      <td>EVGA SuperNOVA 1000 T2 220-T2-1000-X1 80+ TITA...</td>\n",
              "      <td>NaN</td>\n",
              "      <td>NaN</td>\n",
              "      <td>power</td>\n",
              "    </tr>\n",
              "    <tr>\n",
              "      <th>2701</th>\n",
              "      <td>196</td>\n",
              "      <td>NaN</td>\n",
              "      <td>Thermaltake TR2 TR-600 600W ATX12V v2.3 SLI Re...</td>\n",
              "      <td>NaN</td>\n",
              "      <td>NaN</td>\n",
              "      <td>power</td>\n",
              "    </tr>\n",
              "    <tr>\n",
              "      <th>2702</th>\n",
              "      <td>197</td>\n",
              "      <td>NaN</td>\n",
              "      <td>EVGA SuperNOVA 650 P2 220-P2-0650-X1 80+ PLATI...</td>\n",
              "      <td>NaN</td>\n",
              "      <td>NaN</td>\n",
              "      <td>power</td>\n",
              "    </tr>\n",
              "    <tr>\n",
              "      <th>2703</th>\n",
              "      <td>198</td>\n",
              "      <td>NaN</td>\n",
              "      <td>EVGA SuperNOVA 850 PQ, 80 Plus PLATINUM 850W, ...</td>\n",
              "      <td>NaN</td>\n",
              "      <td>NaN</td>\n",
              "      <td>power</td>\n",
              "    </tr>\n",
              "    <tr>\n",
              "      <th>2704</th>\n",
              "      <td>199</td>\n",
              "      <td>NaN</td>\n",
              "      <td>Thermaltake Toughpower PS-TPD-0850MPCGUS-1 850...</td>\n",
              "      <td>NaN</td>\n",
              "      <td>NaN</td>\n",
              "      <td>power</td>\n",
              "    </tr>\n",
              "  </tbody>\n",
              "</table>\n",
              "<p>2705 rows × 6 columns</p>\n",
              "</div>"
            ],
            "text/plain": [
              "      Unnamed: 0 brand_name  ...     prices Category\n",
              "0              0        AMD  ...  14,723.99      cpu\n",
              "1              1        AMD  ...     378.99      cpu\n",
              "2              2        AMD  ...   2,834.99      cpu\n",
              "3              3        AMD  ...     661.99      cpu\n",
              "4              4        AMD  ...   1,588.99      cpu\n",
              "...          ...        ...  ...        ...      ...\n",
              "2700         195        NaN  ...        NaN    power\n",
              "2701         196        NaN  ...        NaN    power\n",
              "2702         197        NaN  ...        NaN    power\n",
              "2703         198        NaN  ...        NaN    power\n",
              "2704         199        NaN  ...        NaN    power\n",
              "\n",
              "[2705 rows x 6 columns]"
            ]
          },
          "metadata": {
            "tags": []
          },
          "execution_count": 25
        }
      ]
    },
    {
      "cell_type": "code",
      "metadata": {
        "id": "LFosvIhlo1ML",
        "colab": {
          "base_uri": "https://localhost:8080/",
          "height": 197
        },
        "outputId": "d5283b2f-6ebf-448b-d0ac-ad3203a18c93"
      },
      "source": [
        "df.head()"
      ],
      "execution_count": null,
      "outputs": [
        {
          "output_type": "execute_result",
          "data": {
            "text/html": [
              "<div>\n",
              "<style scoped>\n",
              "    .dataframe tbody tr th:only-of-type {\n",
              "        vertical-align: middle;\n",
              "    }\n",
              "\n",
              "    .dataframe tbody tr th {\n",
              "        vertical-align: top;\n",
              "    }\n",
              "\n",
              "    .dataframe thead th {\n",
              "        text-align: right;\n",
              "    }\n",
              "</style>\n",
              "<table border=\"1\" class=\"dataframe\">\n",
              "  <thead>\n",
              "    <tr style=\"text-align: right;\">\n",
              "      <th></th>\n",
              "      <th>Unnamed: 0</th>\n",
              "      <th>brand_name</th>\n",
              "      <th>items_Decribtion</th>\n",
              "      <th>ratings</th>\n",
              "      <th>prices</th>\n",
              "      <th>Category</th>\n",
              "    </tr>\n",
              "  </thead>\n",
              "  <tbody>\n",
              "    <tr>\n",
              "      <th>0</th>\n",
              "      <td>0</td>\n",
              "      <td>AMD</td>\n",
              "      <td>CORSAIR Vengeance RGB Pro 16GB (2 x 8GB) 288-P...</td>\n",
              "      <td>(1)</td>\n",
              "      <td>14,723.99</td>\n",
              "      <td>cpu</td>\n",
              "    </tr>\n",
              "    <tr>\n",
              "      <th>1</th>\n",
              "      <td>1</td>\n",
              "      <td>AMD</td>\n",
              "      <td>Kingston 16GB (2 x 8GB) 240-Pin DDR3 SDRAM DDR...</td>\n",
              "      <td>(9)</td>\n",
              "      <td>378.99</td>\n",
              "      <td>cpu</td>\n",
              "    </tr>\n",
              "    <tr>\n",
              "      <th>2</th>\n",
              "      <td>2</td>\n",
              "      <td>AMD</td>\n",
              "      <td>CORSAIR Vengeance LPX 32GB (4 x 8GB) 288-Pin D...</td>\n",
              "      <td>(4)</td>\n",
              "      <td>2,834.99</td>\n",
              "      <td>cpu</td>\n",
              "    </tr>\n",
              "    <tr>\n",
              "      <th>3</th>\n",
              "      <td>3</td>\n",
              "      <td>AMD</td>\n",
              "      <td>CORSAIR Vengeance LPX 128GB (4 x 32GB) 288-Pin...</td>\n",
              "      <td>(42)</td>\n",
              "      <td>661.99</td>\n",
              "      <td>cpu</td>\n",
              "    </tr>\n",
              "    <tr>\n",
              "      <th>4</th>\n",
              "      <td>4</td>\n",
              "      <td>AMD</td>\n",
              "      <td>AMD Ryzen Threadripper 3990X 64-Core 2.9 GHz S...</td>\n",
              "      <td>(691)</td>\n",
              "      <td>1,588.99</td>\n",
              "      <td>cpu</td>\n",
              "    </tr>\n",
              "  </tbody>\n",
              "</table>\n",
              "</div>"
            ],
            "text/plain": [
              "   Unnamed: 0 brand_name  ...     prices Category\n",
              "0           0        AMD  ...  14,723.99      cpu\n",
              "1           1        AMD  ...     378.99      cpu\n",
              "2           2        AMD  ...   2,834.99      cpu\n",
              "3           3        AMD  ...     661.99      cpu\n",
              "4           4        AMD  ...   1,588.99      cpu\n",
              "\n",
              "[5 rows x 6 columns]"
            ]
          },
          "metadata": {
            "tags": []
          },
          "execution_count": 26
        }
      ]
    },
    {
      "cell_type": "code",
      "metadata": {
        "id": "t47BtvyitJxp",
        "colab": {
          "base_uri": "https://localhost:8080/",
          "height": 197
        },
        "outputId": "e509410c-737c-4a53-c2c4-5c2a65031307"
      },
      "source": [
        "df.tail()"
      ],
      "execution_count": null,
      "outputs": [
        {
          "output_type": "execute_result",
          "data": {
            "text/html": [
              "<div>\n",
              "<style scoped>\n",
              "    .dataframe tbody tr th:only-of-type {\n",
              "        vertical-align: middle;\n",
              "    }\n",
              "\n",
              "    .dataframe tbody tr th {\n",
              "        vertical-align: top;\n",
              "    }\n",
              "\n",
              "    .dataframe thead th {\n",
              "        text-align: right;\n",
              "    }\n",
              "</style>\n",
              "<table border=\"1\" class=\"dataframe\">\n",
              "  <thead>\n",
              "    <tr style=\"text-align: right;\">\n",
              "      <th></th>\n",
              "      <th>Unnamed: 0</th>\n",
              "      <th>brand_name</th>\n",
              "      <th>items_Decribtion</th>\n",
              "      <th>ratings</th>\n",
              "      <th>prices</th>\n",
              "      <th>Category</th>\n",
              "    </tr>\n",
              "  </thead>\n",
              "  <tbody>\n",
              "    <tr>\n",
              "      <th>2700</th>\n",
              "      <td>195</td>\n",
              "      <td>NaN</td>\n",
              "      <td>EVGA SuperNOVA 1000 T2 220-T2-1000-X1 80+ TITA...</td>\n",
              "      <td>NaN</td>\n",
              "      <td>NaN</td>\n",
              "      <td>power</td>\n",
              "    </tr>\n",
              "    <tr>\n",
              "      <th>2701</th>\n",
              "      <td>196</td>\n",
              "      <td>NaN</td>\n",
              "      <td>Thermaltake TR2 TR-600 600W ATX12V v2.3 SLI Re...</td>\n",
              "      <td>NaN</td>\n",
              "      <td>NaN</td>\n",
              "      <td>power</td>\n",
              "    </tr>\n",
              "    <tr>\n",
              "      <th>2702</th>\n",
              "      <td>197</td>\n",
              "      <td>NaN</td>\n",
              "      <td>EVGA SuperNOVA 650 P2 220-P2-0650-X1 80+ PLATI...</td>\n",
              "      <td>NaN</td>\n",
              "      <td>NaN</td>\n",
              "      <td>power</td>\n",
              "    </tr>\n",
              "    <tr>\n",
              "      <th>2703</th>\n",
              "      <td>198</td>\n",
              "      <td>NaN</td>\n",
              "      <td>EVGA SuperNOVA 850 PQ, 80 Plus PLATINUM 850W, ...</td>\n",
              "      <td>NaN</td>\n",
              "      <td>NaN</td>\n",
              "      <td>power</td>\n",
              "    </tr>\n",
              "    <tr>\n",
              "      <th>2704</th>\n",
              "      <td>199</td>\n",
              "      <td>NaN</td>\n",
              "      <td>Thermaltake Toughpower PS-TPD-0850MPCGUS-1 850...</td>\n",
              "      <td>NaN</td>\n",
              "      <td>NaN</td>\n",
              "      <td>power</td>\n",
              "    </tr>\n",
              "  </tbody>\n",
              "</table>\n",
              "</div>"
            ],
            "text/plain": [
              "      Unnamed: 0 brand_name  ... prices Category\n",
              "2700         195        NaN  ...    NaN    power\n",
              "2701         196        NaN  ...    NaN    power\n",
              "2702         197        NaN  ...    NaN    power\n",
              "2703         198        NaN  ...    NaN    power\n",
              "2704         199        NaN  ...    NaN    power\n",
              "\n",
              "[5 rows x 6 columns]"
            ]
          },
          "metadata": {
            "tags": []
          },
          "execution_count": 27
        }
      ]
    },
    {
      "cell_type": "code",
      "metadata": {
        "id": "I2PMxVOypA03",
        "colab": {
          "base_uri": "https://localhost:8080/"
        },
        "outputId": "b264b7ee-eaca-47b3-9b6e-048ccfe3ff76"
      },
      "source": [
        "df.shape"
      ],
      "execution_count": null,
      "outputs": [
        {
          "output_type": "execute_result",
          "data": {
            "text/plain": [
              "(2705, 6)"
            ]
          },
          "metadata": {
            "tags": []
          },
          "execution_count": 28
        }
      ]
    },
    {
      "cell_type": "code",
      "metadata": {
        "id": "f_g-2-lmpHat",
        "colab": {
          "base_uri": "https://localhost:8080/"
        },
        "outputId": "fbbf8f7b-3b9d-481c-be2e-9c47cc6d350f"
      },
      "source": [
        "# Check nulls values\n",
        "df.isnull().sum()"
      ],
      "execution_count": null,
      "outputs": [
        {
          "output_type": "execute_result",
          "data": {
            "text/plain": [
              "Unnamed: 0             0\n",
              "brand_name           276\n",
              "items_Decribtion       0\n",
              "ratings             1003\n",
              "prices               286\n",
              "Category               0\n",
              "dtype: int64"
            ]
          },
          "metadata": {
            "tags": []
          },
          "execution_count": 29
        }
      ]
    },
    {
      "cell_type": "code",
      "metadata": {
        "id": "8cxvGbxfpfOv"
      },
      "source": [
        ""
      ],
      "execution_count": null,
      "outputs": []
    },
    {
      "cell_type": "markdown",
      "metadata": {
        "id": "owv-sixG_GI6"
      },
      "source": [
        "## Describe Data"
      ]
    },
    {
      "cell_type": "markdown",
      "metadata": {
        "id": "-PkHIC6K_IO0"
      },
      "source": [
        "### Pre processing "
      ]
    },
    {
      "cell_type": "markdown",
      "metadata": {
        "id": "q_RhYbio_QGb"
      },
      "source": [
        "### Fill missing value \n",
        "- brand_name (fill missing value by extract the brand name from description)\n",
        "- ratings (fill with Zero)\n",
        "- prices\n"
      ]
    },
    {
      "cell_type": "markdown",
      "metadata": {
        "id": "5Vky0cJz_VZi"
      },
      "source": [
        "Filling Missing Value-Prices "
      ]
    },
    {
      "cell_type": "code",
      "metadata": {
        "id": "7395_i3a_WeL",
        "colab": {
          "base_uri": "https://localhost:8080/"
        },
        "outputId": "d04247c0-33a7-43e3-e17e-b3e8f995452d"
      },
      "source": [
        "# convert prices data type from object to float\n",
        "df['prices'] = df['prices'].str.replace(',','').astype('float')\n",
        "\n",
        "# Replacing null values in prices with the avg price\n",
        "df['prices'] = df['prices'].fillna(df['prices'].mean())\n",
        "df.prices"
      ],
      "execution_count": null,
      "outputs": [
        {
          "output_type": "execute_result",
          "data": {
            "text/plain": [
              "0       14723.990000\n",
              "1         378.990000\n",
              "2        2834.990000\n",
              "3         661.990000\n",
              "4        1588.990000\n",
              "            ...     \n",
              "2700     1533.002026\n",
              "2701     1533.002026\n",
              "2702     1533.002026\n",
              "2703     1533.002026\n",
              "2704     1533.002026\n",
              "Name: prices, Length: 2705, dtype: float64"
            ]
          },
          "metadata": {
            "tags": []
          },
          "execution_count": 30
        }
      ]
    },
    {
      "cell_type": "code",
      "metadata": {
        "id": "ye0e2fIc_nwZ",
        "colab": {
          "base_uri": "https://localhost:8080/"
        },
        "outputId": "65ae4c61-53d9-4a73-cf54-1505c1828ec3"
      },
      "source": [
        "# Remove the brackets from ratings,\n",
        "# Replacing null values in ratings with zero\n",
        "df['ratings'] = df['ratings'].str.replace('(','').str.replace(')','')\n",
        "df['ratings'] = df['ratings'].str.replace(',','').astype('float').fillna(0)\n",
        "df['ratings']"
      ],
      "execution_count": null,
      "outputs": [
        {
          "output_type": "execute_result",
          "data": {
            "text/plain": [
              "0         1.0\n",
              "1         9.0\n",
              "2         4.0\n",
              "3        42.0\n",
              "4       691.0\n",
              "        ...  \n",
              "2700      0.0\n",
              "2701      0.0\n",
              "2702      0.0\n",
              "2703      0.0\n",
              "2704      0.0\n",
              "Name: ratings, Length: 2705, dtype: float64"
            ]
          },
          "metadata": {
            "tags": []
          },
          "execution_count": 31
        }
      ]
    },
    {
      "cell_type": "code",
      "metadata": {
        "id": "4Kat8gc__qH2"
      },
      "source": [
        "# Replacing null values in brand name with mode (DELL)\n",
        "#df['brand_name'] = df['brand_name'].fillna(df['brand_name'].mode()[0])\n",
        "#df['brand_name']"
      ],
      "execution_count": null,
      "outputs": []
    },
    {
      "cell_type": "markdown",
      "metadata": {
        "id": "21c9MO6AQS6w"
      },
      "source": [
        "### Fill missing value by extract the **brand name** from description"
      ]
    },
    {
      "cell_type": "code",
      "metadata": {
        "id": "DhJWLVN2QPoL",
        "colab": {
          "base_uri": "https://localhost:8080/"
        },
        "outputId": "fe1e2a4c-44f1-4d76-e80b-db0c49b9c565"
      },
      "source": [
        "df.brand_name.replace(np.nan, ' ', inplace=True) # replace NaN value by space\n",
        "brand_name_list = df.brand_name.unique() # get the unique value in the brand name column\n",
        "\n",
        "\n",
        "# itrate throught the list element with missing brand_name value\n",
        "for i in df[df['brand_name']== ' '].index:\n",
        "  item_dec = df.iloc[i]['items_Decribtion'] # get the items_Decribtion\n",
        "\n",
        "  # return the brand name if the items_Decribtion any of the brands exisitng in the brand list \n",
        "  brand = [B for B in brand_name_list if B.lower().split(' ')[0] in (x.lower() for x in item_dec.split() )]\n",
        "\n",
        "  # if there are more than one matched brand, one of them is the computer brand and another is the components brand (like Intel)\n",
        "  if len(brand) > 1:\n",
        "    df['brand_name'][i] = brand[1]\n",
        "    \n",
        "  # if there is one brand, then return the first item from the list\n",
        "  elif len(brand) == 1:\n",
        "    df['brand_name'][i] = brand[0]\n",
        "\n",
        "  # if there isn't matched brand return 'N/A'\n",
        "  else:\n",
        "    df['brand_name'][i] = 'N/A'\n",
        "  "
      ],
      "execution_count": null,
      "outputs": [
        {
          "output_type": "stream",
          "text": [
            "/usr/local/lib/python3.7/dist-packages/ipykernel_launcher.py:18: SettingWithCopyWarning:\n",
            "\n",
            "\n",
            "A value is trying to be set on a copy of a slice from a DataFrame\n",
            "\n",
            "See the caveats in the documentation: https://pandas.pydata.org/pandas-docs/stable/user_guide/indexing.html#returning-a-view-versus-a-copy\n",
            "\n",
            "/usr/local/lib/python3.7/dist-packages/ipykernel_launcher.py:14: SettingWithCopyWarning:\n",
            "\n",
            "\n",
            "A value is trying to be set on a copy of a slice from a DataFrame\n",
            "\n",
            "See the caveats in the documentation: https://pandas.pydata.org/pandas-docs/stable/user_guide/indexing.html#returning-a-view-versus-a-copy\n",
            "\n",
            "/usr/local/lib/python3.7/dist-packages/ipykernel_launcher.py:22: SettingWithCopyWarning:\n",
            "\n",
            "\n",
            "A value is trying to be set on a copy of a slice from a DataFrame\n",
            "\n",
            "See the caveats in the documentation: https://pandas.pydata.org/pandas-docs/stable/user_guide/indexing.html#returning-a-view-versus-a-copy\n",
            "\n"
          ],
          "name": "stderr"
        }
      ]
    },
    {
      "cell_type": "markdown",
      "metadata": {
        "id": "EpvowYowQ8o8"
      },
      "source": [
        "## Dashbord"
      ]
    },
    {
      "cell_type": "code",
      "metadata": {
        "id": "Egg1gGLUQkZn",
        "colab": {
          "base_uri": "https://localhost:8080/",
          "height": 671
        },
        "outputId": "67ed4cff-89b1-4b72-fcf4-add339cda98e"
      },
      "source": [
        "# Instatiate the App\n",
        "\n",
        "app = JupyterDash(__name__ )\n",
        "\n",
        "# Create layout that will hold all visuals \n",
        "app.layout = html.Div([\n",
        "    html.H1(\n",
        "        'Features and price of computer components', \n",
        "        style={'color':'#F3F3F3','background-color': '#67001F','text-align':'center','padding':10}\n",
        "        ),\n",
        "\n",
        "    ########################### \n",
        "    html.Div([\n",
        "               html.Label([\n",
        "                \"Category\", # Label title\n",
        "                # create Radio Items \n",
        "                dcc.RadioItems(\n",
        "                    id = 'category', # Radio Items id\n",
        "                    value = \"gpu\", # default value\n",
        "                    # display options on one line\n",
        "                    labelStyle = {'display': 'inline-block' ,'text-align':'center'},\n",
        "                    # return the unique values from Category column\n",
        "                    options = [{\"label\":x, \"value\":x} for x in \tdf.Category.unique()],\n",
        "                    )\n",
        "                ],\n",
        "                style={'fontSize':20,'text-align':'center'}), # change the options size and centred text\n",
        "              \n",
        "\n",
        "\n",
        "    ],\n",
        "    style={'width': '100%', 'float': 'left', 'display': 'inline-block',\n",
        "                 'background-color': '#F3F3F3','margin-right':1,'padding':10,\n",
        "             'text-align':'center'}),\n",
        "\n",
        "    # 1st plot \n",
        "    html.Div([   \n",
        "              # create a graph\n",
        "              dcc.Graph(id='graph'), \n",
        "                  \n",
        "          ],\n",
        "          # add style for the div\n",
        "          style={'width': '48%', 'float': 'left', 'display': 'inline-block',\n",
        "                 'background-color': '#F3F3F3','margin-right':1,'padding':10}),\n",
        "\n",
        "\n",
        "      ###########################\n",
        "      # 2nd plot \n",
        "      html.Div([\n",
        "\n",
        "              # create a graph\n",
        "              dcc.Graph(id='graph2'),\n",
        "              \n",
        "              \n",
        "          ],\n",
        "          # add style for the div\n",
        "          style={'width': '48%', 'float': 'right', 'display': 'inline-block',\n",
        "                 'background-color': '#F3F3F3','padding':10}),\n",
        "\n",
        "        ###########################\n",
        "        # 3rd plot\n",
        "            html.Div([   \n",
        "              html.Label([\n",
        "                \"Choose brand\", # Label title\n",
        "                # create Dropdown list\n",
        "                dcc.Dropdown( \n",
        "                    id = 'brand_name2', # Dropdown id\n",
        "                    clearable = False,\n",
        "                    value = \"DELL\", # default value\n",
        "                    style={'color': '#67001F'},\n",
        "                    # return the unique values from brand_name column\n",
        "                    options = [{\"label\":x, \"value\":x} for x in \tdf.brand_name.unique()] \n",
        "                    )\n",
        "                ],\n",
        "                style={'fontSize':18}), # change the options size\n",
        "              \n",
        "              # create a graph\n",
        "              dcc.Graph(id='graph3'), \n",
        "                  \n",
        "          ],\n",
        "\n",
        "          # add style for the div\n",
        "          style={'width': '48%', 'float': 'left', 'display': 'inline-block',\n",
        "                   'background-color': '#F3F3F3','margin-right':1,'padding':10,'margin-top':1}),\n",
        "\n",
        "        \n",
        "        ###########################\n",
        "        # 4th plot\n",
        "        html.Div([\n",
        "              \n",
        "        html.Label([\n",
        "                    'Chose brands to compare:',\n",
        "                    dcc.Dropdown(\n",
        "                      id='brands',\n",
        "                      options=[{'label':x, 'value':x} for x in df.sort_values('brand_name')['brand_name'].unique()],\n",
        "                      value=['DELL'],\n",
        "                      multi=True,\n",
        "                      disabled=False,\n",
        "                      clearable=True,\n",
        "                      searchable=True,\n",
        "                      placeholder='Choose Brand...',\n",
        "                      className='form-dropdown',\n",
        "                      persistence='string',\n",
        "                      style={'color': '#67001F'},\n",
        "                      persistence_type='memory')\n",
        "                    \n",
        "                  ],\n",
        "                style={'fontSize':18}), # change the options size\n",
        "\n",
        "              dcc.Graph(id='graph4'),\n",
        "              \n",
        "              \n",
        "          ],\n",
        "          # add style for the div\n",
        "          style={'width': '48%', 'float': 'right', 'display': 'inline-block',\n",
        "                   'background-color': '#F3F3F3','padding':10,'margin-top':1}),\n",
        "\n",
        "      ])\n",
        "\n",
        "\n",
        "###########################\n",
        "# 1st plot\n",
        "@app.callback(\n",
        "    Output('graph','figure'),\n",
        "    Input('category','value')\n",
        ")\n",
        " \n",
        "def update_figures(category):\n",
        "  # filter data by category\n",
        "  test = df[df['Category']== category]\n",
        "  \n",
        "\n",
        "  # create scatter plot for prices and ratings\n",
        "  fig =  px.scatter(\n",
        "          test, \n",
        "          x = 'prices', \n",
        "          y = 'ratings' ,\n",
        "          color = 'brand_name',\n",
        "          color_discrete_sequence=px.colors.sequential.RdBu,\n",
        "          labels = {\"ratings\": \"Rating\", \"prices\":\"Price\"},\n",
        "          title = \"Relation between the price and rating based on category\"\n",
        "          )\n",
        "  \n",
        "\n",
        "  # transparent background\n",
        "  fig.update_layout({\n",
        "    'plot_bgcolor': 'rgba(0, 0, 0, 0)', # change plot background color\n",
        "    'paper_bgcolor': 'rgba(0, 0, 0, 0)',  # change paper background color\n",
        "\n",
        "    'title_font_color': '#67001F', # change the plot title color\n",
        "    })\n",
        "  \n",
        "  # return plot\n",
        "  return fig\n",
        "\n",
        "###########################\n",
        "# 2nd plot\n",
        "@app.callback(\n",
        "    Output('graph2','figure'),\n",
        "    Input('category','value')\n",
        ")\n",
        "\n",
        "def update_figures(category):\n",
        "  # filter data by category\n",
        "  test = df[df['Category'] == category]\n",
        "\n",
        "  # create a bar plot - counts the products bsed on the category \n",
        "  fig =  px.bar(\n",
        "            test,\n",
        "            x = test.brand_name.value_counts().index,\n",
        "            y = test.brand_name.value_counts().values,\n",
        "            color_discrete_sequence=px.colors.sequential.RdBu,\n",
        "            labels = {\"y\": \"Count of products\", \"x\":\"Brand Name\"},\n",
        "            title = \"Count of the products based on the category\"\n",
        "    \n",
        "  )\n",
        "\n",
        "  # transparent background\n",
        "  fig.update_layout({\n",
        "    'plot_bgcolor': 'rgba(0, 0, 0, 0)',  # change plot background color\n",
        "    'paper_bgcolor': 'rgba(0, 0, 0, 0)',  # change paper background color\n",
        "\n",
        "    'title_font_color': '#67001F', # change the plot title color\n",
        "    })\n",
        "  \n",
        "  # return plot\n",
        "  return fig\n",
        "\n",
        "###########################\n",
        "# 3rd plot\n",
        "\n",
        "@app.callback(\n",
        "    Output('graph3','figure'),\n",
        "    Input('brand_name2','value')\n",
        ")\n",
        " \n",
        "def update_figures(brand_name):\n",
        "  # filter data by brand_name\n",
        "  test = df[df['brand_name']== brand_name]\n",
        "  \n",
        "\n",
        "  # create scatter plot for prices and ratings\n",
        "  fig = px.pie(test, test['Category'],color_discrete_sequence=px.colors.sequential.RdBu)\n",
        "  fig.update_layout(title_text='Categories for computer brands')\n",
        "  \n",
        "  # transparent background\n",
        "  fig.update_layout({\n",
        "    'plot_bgcolor': 'rgba(0, 0, 0, 0)', # change plot background color\n",
        "    'paper_bgcolor': 'rgba(0, 0, 0, 0)',  # change paper background color\n",
        "\n",
        "    'title_font_color': '#67001F', # change the plot title color\n",
        "    })\n",
        "  \n",
        "  # return plot\n",
        "  return fig\n",
        "\n",
        "###########################\n",
        "# 4th plot\n",
        "\n",
        "@app.callback(\n",
        "    Output('graph4','figure'),\n",
        "    Input('brands','value')\n",
        ")\n",
        "\n",
        "\n",
        "def build_graph(brands):\n",
        "    df1 = df[df['brand_name'].isin(brands)]\n",
        "           \n",
        "    df1 = df1.groupby('brand_name')['prices'].agg('mean') \n",
        "\n",
        "    fig = px.bar(df1,\n",
        "                x = df1.index,\n",
        "                y = df1.values,\n",
        "                color = df1.index,\n",
        "                color_discrete_sequence=px.colors.sequential.RdBu)\n",
        "    \n",
        "    fig.update_layout(yaxis={'title':'Computer brand price'},\n",
        "                      xaxis={'title':'Brand Names'},\n",
        "                      title={'text':'Price comparison of brands'})\n",
        "    \n",
        "    \n",
        "  # transparent background\n",
        "    fig.update_layout({\n",
        "      'plot_bgcolor': 'rgba(0, 0, 0, 0)', # change plot background color\n",
        "      'paper_bgcolor': 'rgba(0, 0, 0, 0)',  # change paper background color\n",
        "\n",
        "      'title_font_color': '#67001F', # change the plot title color\n",
        "      })\n",
        "  \n",
        "    return fig\n",
        "\n",
        "\n",
        "\n",
        "\n",
        "# Run the App Server\n",
        "app.run_server(mode=\"inline\")"
      ],
      "execution_count": null,
      "outputs": [
        {
          "output_type": "display_data",
          "data": {
            "application/javascript": [
              "(async (port, path, width, height, cache, element) => {\n",
              "    if (!google.colab.kernel.accessAllowed && !cache) {\n",
              "      return;\n",
              "    }\n",
              "    element.appendChild(document.createTextNode(''));\n",
              "    const url = await google.colab.kernel.proxyPort(port, {cache});\n",
              "    const iframe = document.createElement('iframe');\n",
              "    iframe.src = new URL(path, url).toString();\n",
              "    iframe.height = height;\n",
              "    iframe.width = width;\n",
              "    iframe.style.border = 0;\n",
              "    element.appendChild(iframe);\n",
              "  })(8050, \"/\", \"100%\", 650, false, window.element)"
            ],
            "text/plain": [
              "<IPython.core.display.Javascript object>"
            ]
          },
          "metadata": {
            "tags": []
          }
        }
      ]
    }
  ]
}