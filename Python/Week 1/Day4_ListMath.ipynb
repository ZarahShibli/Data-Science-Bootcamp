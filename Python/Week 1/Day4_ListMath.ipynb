{
  "nbformat": 4,
  "nbformat_minor": 0,
  "metadata": {
    "colab": {
      "name": "ListMath.ipynb",
      "provenance": []
    },
    "kernelspec": {
      "name": "python3",
      "display_name": "Python 3"
    },
    "language_info": {
      "name": "python"
    }
  },
  "cells": [
    {
      "cell_type": "code",
      "metadata": {
        "colab": {
          "base_uri": "https://localhost:8080/"
        },
        "id": "4o8Z35VpCFD_",
        "outputId": "6c87f913-a167-4b54-9086-fd445d0a244d"
      },
      "source": [
        "!pip install -i https://test.pypi.org/simple/ List-Math==0.0.2"
      ],
      "execution_count": null,
      "outputs": [
        {
          "output_type": "stream",
          "text": [
            "Looking in indexes: https://test.pypi.org/simple/\n",
            "Collecting List-Math==0.0.2\n",
            "  Downloading https://test-files.pythonhosted.org/packages/de/de/f09fd52ef928ce7363463d1345e1f3384a74ea1a73864d0f36606f5045f5/List_Math-0.0.2-py3-none-any.whl\n",
            "Installing collected packages: List-Math\n",
            "  Found existing installation: List-Math 0.0.1\n",
            "    Uninstalling List-Math-0.0.1:\n",
            "      Successfully uninstalled List-Math-0.0.1\n",
            "Successfully installed List-Math-0.0.2\n"
          ],
          "name": "stdout"
        }
      ]
    },
    {
      "cell_type": "code",
      "metadata": {
        "id": "8KZ_07kxCG49"
      },
      "source": [
        "from List import ListMath"
      ],
      "execution_count": null,
      "outputs": []
    },
    {
      "cell_type": "code",
      "metadata": {
        "colab": {
          "base_uri": "https://localhost:8080/"
        },
        "id": "mVXDeKC_CTTT",
        "outputId": "08692432-406a-494f-9148-c77f775b3394"
      },
      "source": [
        "LM = ListMath()\n",
        "ls = [4, -3, 5, 7, -6, 8]\n",
        "\n",
        "\n",
        "print(\"Min value: \",LM.minimum(ls))\n",
        "print(\"Max value: \",LM.maximum(ls))\n",
        "print(\"Max squered value: \",LM.max_squared(ls))\n",
        "print(\"Length: \",LM.length(ls))\n",
        "print(\"Sum of positive number: \",LM.positive_sum(ls))\n",
        "print(\"Count of negative number: \",LM.negative_count(ls))\n",
        "print(\"Reversed list: \",LM.reverse_list(ls))\n",
        "print(\"Avarage : \",LM.average(ls))\n",
        "print(\"Sum : \",LM.sum_total(ls))\n",
        "print(LM.summary(ls))\n"
      ],
      "execution_count": null,
      "outputs": [
        {
          "output_type": "stream",
          "text": [
            "Min value:  -6\n",
            "Max value:  8\n",
            "Max squered value:  64\n",
            "Length:  6\n",
            "Sum of positive number:  24\n",
            "Count of negative number:  2\n",
            "Reversed list:  [8, -6, 7, 5, -3, 4]\n",
            "Avarage :  2.5\n",
            "Sum :  15\n",
            "{'Sum Total': 15, 'Average': 2.5, 'Minimum': -6, 'Maximum': 8, 'Length': 6}\n"
          ],
          "name": "stdout"
        }
      ]
    },
    {
      "cell_type": "code",
      "metadata": {
        "id": "9PyPUnpDCghh"
      },
      "source": [
        ""
      ],
      "execution_count": null,
      "outputs": []
    }
  ]
}