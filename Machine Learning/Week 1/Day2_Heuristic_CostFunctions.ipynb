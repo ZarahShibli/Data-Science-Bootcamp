{
  "nbformat": 4,
  "nbformat_minor": 0,
  "metadata": {
    "colab": {
      "name": "Day2_ML_Heuristic_CostFunctions.ipynb",
      "provenance": [],
      "collapsed_sections": []
    },
    "kernelspec": {
      "name": "python3",
      "display_name": "Python 3"
    }
  },
  "cells": [
    {
      "cell_type": "markdown",
      "metadata": {
        "id": "view-in-github"
      },
      "source": [
        "<a href=\"https://colab.research.google.com/github/gumdropsteve/intro_to_machine_learning/blob/main/day_02/02_assignment_cost.ipynb\" target=\"_parent\"><img src=\"https://colab.research.google.com/assets/colab-badge.svg\" alt=\"Open In Colab\"/></a>"
      ]
    },
    {
      "cell_type": "code",
      "metadata": {
        "id": "0DBsWMnDfWJN"
      },
      "source": [
        "%%capture\n",
        "# STARTER CODE - RUN THIS CELL - DO NOT CHANGE\n",
        "!pip install category_encoders\n",
        "import seaborn as sns\n",
        "import pandas as pd\n",
        "import numpy as np\n",
        "import matplotlib.pyplot as plt\n",
        "import category_encoders as ce\n",
        "from sklearn.linear_model import LinearRegression, LogisticRegression\n",
        "from sklearn.preprocessing import StandardScaler\n",
        "from sklearn.model_selection import train_test_split\n",
        "from sklearn.pipeline import make_pipeline\n",
        "from sklearn.metrics import mean_squared_error, mean_absolute_error, accuracy_score, accuracy_score, recall_score, precision_score\n",
        "df_r = sns.load_dataset(\"tips\").dropna()\n",
        "df_c = sns.load_dataset(\"titanic\").dropna()\n",
        "model_r = LinearRegression()\n",
        "model_c = LogisticRegression()\n",
        "x_train_r, x_test_r, y_train_r, y_test_r = train_test_split(df_r.drop(\"total_bill\", axis=1), df_r[\"total_bill\"])\n",
        "x_train_c, x_test_c, y_train_c, y_test_c = train_test_split(df_c.drop([\"survived\", \"alive\", \"adult_male\"], axis=1), df_c[\"survived\"])\n",
        "pipe_r = make_pipeline(ce.OrdinalEncoder(), StandardScaler(), LinearRegression()).fit(x_train_r, y_train_r)\n",
        "pipe_c = make_pipeline(ce.OrdinalEncoder(), StandardScaler(), LogisticRegression()).fit(x_train_c, y_train_c)\n",
        "y_pred_r = pipe_r.predict(x_test_r)\n",
        "y_pred_c = pipe_c.predict(x_test_c)"
      ],
      "execution_count": null,
      "outputs": []
    },
    {
      "cell_type": "markdown",
      "metadata": {
        "id": "JA6ub2bZemNP"
      },
      "source": [
        "# Cost Functions\n",
        "\n",
        "- Without importing any libraries please write a cost function for each of the following listed below.\n",
        "- Do not refrence ANY online resources other than whats provided\n",
        "\n",
        "You can only use these resources, `pandas` and `numpy` to make your functions:\n",
        "- [Mean Squared Error](https://en.wikipedia.org/wiki/Mean_squared_error)\n",
        "- [Mean Absolute Error](https://en.wikipedia.org/wiki/Mean_absolute_error)\n",
        "- [Root Mean Squared Error](https://en.wikipedia.org/wiki/Root-mean-square_deviation)\n",
        "- [Residual Sum of Squares](https://en.wikipedia.org/wiki/Residual_sum_of_squares)\n",
        "- [Precision, Recall, Accuracy](https://en.wikipedia.org/wiki/Confusion_matrix)\n",
        "- [Scikit-Learn](https://scikit-learn.org/stable/index.html)"
      ]
    },
    {
      "cell_type": "markdown",
      "metadata": {
        "id": "39_TltPpf60I"
      },
      "source": [
        "#### Regression Cost Functions\n",
        "\n",
        "- Use `y_test_r` as your true labels\n",
        "- Use `y_pred_r` as your predicted labels"
      ]
    },
    {
      "cell_type": "markdown",
      "metadata": {
        "id": "YvZTG3IOvuCO"
      },
      "source": [
        "![](https://vedexcel.com/wp-content/uploads/2020/12/MSE_Python.gif)"
      ]
    },
    {
      "cell_type": "code",
      "metadata": {
        "id": "LgU4Ke0Cd3gw",
        "colab": {
          "base_uri": "https://localhost:8080/"
        },
        "outputId": "1ee75297-ce3e-4282-cae9-771b17f2895b"
      },
      "source": [
        "# Create a Mean Squared Error Function\n",
        "def mse(y_true, y_pred):\n",
        "  mse = sum(np.square(y_true - y_pred))/ len(y_true)\n",
        "  return mse\n",
        "\n",
        "mse(y_test_r, y_pred_r)"
      ],
      "execution_count": null,
      "outputs": [
        {
          "output_type": "execute_result",
          "data": {
            "text/plain": [
              "304.7379130576678"
            ]
          },
          "metadata": {
            "tags": []
          },
          "execution_count": 30
        }
      ]
    },
    {
      "cell_type": "code",
      "metadata": {
        "id": "Eyp3WVY_tuBz",
        "colab": {
          "base_uri": "https://localhost:8080/"
        },
        "outputId": "3173e06a-83d7-4bf6-9b34-1f63fae12aab"
      },
      "source": [
        "# Your Mean Squared Error function should equal this value\n",
        "mean_squared_error(y_test_r, y_pred_r)"
      ],
      "execution_count": null,
      "outputs": [
        {
          "output_type": "execute_result",
          "data": {
            "text/plain": [
              "304.73791305766775"
            ]
          },
          "metadata": {
            "tags": []
          },
          "execution_count": 25
        }
      ]
    },
    {
      "cell_type": "markdown",
      "metadata": {
        "id": "F6NyftHXv8HW"
      },
      "source": [
        "![](https://miro.medium.com/max/2288/1*fY-Wt0n9VhTO61ESgOAMjQ.png)"
      ]
    },
    {
      "cell_type": "code",
      "metadata": {
        "id": "n-B-pkxtfAtI",
        "colab": {
          "base_uri": "https://localhost:8080/"
        },
        "outputId": "34c06309-b07e-4f2a-801b-20bce99db05e"
      },
      "source": [
        "# Create a Mean Absolute Error Function\n",
        "def mae(y_true, y_pred):\n",
        "    mae = sum(np.absolute(y_true - y_pred))/ len(y_true)\n",
        "    return mae\n",
        "\n",
        "mae(y_test_r, y_pred_r)"
      ],
      "execution_count": null,
      "outputs": [
        {
          "output_type": "execute_result",
          "data": {
            "text/plain": [
              "15.41274324015282"
            ]
          },
          "metadata": {
            "tags": []
          },
          "execution_count": 31
        }
      ]
    },
    {
      "cell_type": "code",
      "metadata": {
        "id": "8ZzkyvrSuCkc",
        "colab": {
          "base_uri": "https://localhost:8080/"
        },
        "outputId": "0a70a1d5-e0fc-457f-acb2-ce2fb6a117b4"
      },
      "source": [
        "# Your Mean Absolute Error function should equal this value\n",
        "mean_absolute_error(y_test_r, y_pred_r)"
      ],
      "execution_count": null,
      "outputs": [
        {
          "output_type": "execute_result",
          "data": {
            "text/plain": [
              "15.412743240152821"
            ]
          },
          "metadata": {
            "tags": []
          },
          "execution_count": 32
        }
      ]
    },
    {
      "cell_type": "code",
      "metadata": {
        "id": "E0yGxLSEvb7-"
      },
      "source": [
        ""
      ],
      "execution_count": null,
      "outputs": []
    },
    {
      "cell_type": "markdown",
      "metadata": {
        "id": "BQCartrqvSyX"
      },
      "source": [
        "![](https://i.stack.imgur.com/RIq96.png)"
      ]
    },
    {
      "cell_type": "code",
      "metadata": {
        "id": "w4nobsDJfk4L",
        "colab": {
          "base_uri": "https://localhost:8080/"
        },
        "outputId": "156abf10-d8d9-4ec6-90c6-b80109324928"
      },
      "source": [
        "# Create a Root Mean Squared Error Function\n",
        "def rmse(y_true, y_pred):\n",
        "    return  np.sqrt(sum(np.square(y_true - y_pred)) / len(y_true))\n",
        "\n",
        "rmse(y_test_r, y_pred_r)"
      ],
      "execution_count": null,
      "outputs": [
        {
          "output_type": "execute_result",
          "data": {
            "text/plain": [
              "647.5543043365523"
            ]
          },
          "metadata": {
            "tags": []
          },
          "execution_count": 39
        }
      ]
    },
    {
      "cell_type": "code",
      "metadata": {
        "id": "WswkpQCruRyb",
        "colab": {
          "base_uri": "https://localhost:8080/"
        },
        "outputId": "9f00a734-9bef-4383-8c2e-e3f5e8323cc5"
      },
      "source": [
        "# Your Root Mean Squared Error function should equal this value\n",
        "mean_squared_error(y_test_r, y_pred_r, squared=False)"
      ],
      "execution_count": null,
      "outputs": [
        {
          "output_type": "execute_result",
          "data": {
            "text/plain": [
              "647.5543043365523"
            ]
          },
          "metadata": {
            "tags": []
          },
          "execution_count": 40
        }
      ]
    },
    {
      "cell_type": "markdown",
      "metadata": {
        "id": "kQRMYNAzxGLH"
      },
      "source": [
        "![](https://miro.medium.com/max/1540/1*gc1jko6kNBj_R7QSSSn38w.png)"
      ]
    },
    {
      "cell_type": "code",
      "metadata": {
        "id": "RcuwEx9qd_hq",
        "colab": {
          "base_uri": "https://localhost:8080/"
        },
        "outputId": "747f2a97-bd49-4180-c1b5-bac0a1d67b06"
      },
      "source": [
        "# Create a Sum of Squared Error Function\n",
        "def rss(y_true, y_pred):\n",
        "    return sum(np.square(y_true - y_pred))\n",
        "\n",
        "rss(y_test_r, y_pred_r)"
      ],
      "execution_count": null,
      "outputs": [
        {
          "output_type": "execute_result",
          "data": {
            "text/plain": [
              "25578921.200952567"
            ]
          },
          "metadata": {
            "tags": []
          },
          "execution_count": 41
        }
      ]
    },
    {
      "cell_type": "markdown",
      "metadata": {
        "id": "fYpJ2jdYf-Et"
      },
      "source": [
        "#### Classification Cost Functions\n",
        "\n",
        "- Use `y_test_c` as your true labels\n",
        "- Use `y_pred_c` as your predicted labels"
      ]
    },
    {
      "cell_type": "code",
      "metadata": {
        "id": "aipG_B_7h3yI"
      },
      "source": [
        "# Replace None with the correct value value\n",
        "true_positive = np.zeros(len(y_test_c))\n",
        "true_negative = np.zeros(len(y_test_c))\n",
        "false_positive = np.zeros(len(y_test_c))\n",
        "false_negative = np.zeros(len(y_test_c))\n",
        "\n",
        "# Here is some starter code but you can solve this problem any way you want\n",
        "# Write a loop to identify true positives, false negatives, false positives, and true negatives\n",
        "for x in range(len(y_test_c)):\n",
        "    if y_test_c.iloc[x] == y_pred_c[x]:\n",
        "        if y_pred_c[x] == 1:\n",
        "            true_positive[x] = 1   # add 1 to the true_positive, true_negative, false_positive or false_negative count (do this for each pass, each of the 4 should be represented once)\n",
        "        if y_pred_c[x] == 0:\n",
        "            true_negative[x] = 1\n",
        "    if y_test_c.iloc[x] != y_pred_c[x]:\n",
        "        if y_pred_c[x] == 1:\n",
        "            false_positive[x] = 1\n",
        "        if y_pred_c[x] == 0:\n",
        "            false_negative[x] = 1\n",
        "\n",
        "# Uncomment below when your loop works to see totals of each\n",
        "# print(f\"True Positives: {true_positive}\\nTrue Negatives: {true_negative}\\nFalse Positives: {false_positive}\\nFalse Negatives: {false_negative}\")"
      ],
      "execution_count": null,
      "outputs": []
    },
    {
      "cell_type": "markdown",
      "metadata": {
        "id": "pfO8ekZ2xdiU"
      },
      "source": [
        "![](https://miro.medium.com/max/888/1*7J08ekAwupLBegeUI8muHA.png)"
      ]
    },
    {
      "cell_type": "code",
      "metadata": {
        "id": "Q3Ctlw2heCig",
        "colab": {
          "base_uri": "https://localhost:8080/"
        },
        "outputId": "f415eb8a-a4e0-4a50-e510-afd3ce7c5a61"
      },
      "source": [
        "# Create A Function to Calculate Precision\n",
        "def precision(TP, FP):\n",
        "    return (sum(TP) / sum(TP + FP))\n",
        "\n",
        "precision(true_positive, false_positive)"
      ],
      "execution_count": null,
      "outputs": [
        {
          "output_type": "execute_result",
          "data": {
            "text/plain": [
              "0.5789473684210527"
            ]
          },
          "metadata": {
            "tags": []
          },
          "execution_count": 57
        }
      ]
    },
    {
      "cell_type": "code",
      "metadata": {
        "id": "UpzJxKZJqz9S",
        "colab": {
          "base_uri": "https://localhost:8080/"
        },
        "outputId": "128a66c1-43ee-4270-f817-515e3ce5bd6b"
      },
      "source": [
        "# Your precision function should equal this value\n",
        "precision_score(y_test_c, y_pred_c)"
      ],
      "execution_count": null,
      "outputs": [
        {
          "output_type": "execute_result",
          "data": {
            "text/plain": [
              "0.5789473684210527"
            ]
          },
          "metadata": {
            "tags": []
          },
          "execution_count": 58
        }
      ]
    },
    {
      "cell_type": "code",
      "metadata": {
        "id": "rAX5khvCedHC",
        "colab": {
          "base_uri": "https://localhost:8080/"
        },
        "outputId": "493e57f4-9ec4-4bd1-d74a-2fd20d35247d"
      },
      "source": [
        "# Create A Function to Calculate Recall\n",
        "def recall(TP, FN):\n",
        "    return (sum(TP) / sum(TP + FN))\n",
        "\n",
        "recall(true_positive, false_negative)"
      ],
      "execution_count": null,
      "outputs": [
        {
          "output_type": "execute_result",
          "data": {
            "text/plain": [
              "0.9166666666666666"
            ]
          },
          "metadata": {
            "tags": []
          },
          "execution_count": 60
        }
      ]
    },
    {
      "cell_type": "code",
      "metadata": {
        "id": "sPin2Q9Zqk-X",
        "colab": {
          "base_uri": "https://localhost:8080/"
        },
        "outputId": "b3b8fbfc-8566-4f84-b533-fac0367f22d7"
      },
      "source": [
        "# Your recall function should equal this value\n",
        "recall_score(y_test_c, y_pred_c)"
      ],
      "execution_count": null,
      "outputs": [
        {
          "output_type": "execute_result",
          "data": {
            "text/plain": [
              "0.9166666666666666"
            ]
          },
          "metadata": {
            "tags": []
          },
          "execution_count": 61
        }
      ]
    },
    {
      "cell_type": "code",
      "metadata": {
        "id": "RQ8YleBTegvn",
        "colab": {
          "base_uri": "https://localhost:8080/"
        },
        "outputId": "992cb13a-59d2-4cf9-dcc0-e2e0311d3d24"
      },
      "source": [
        "# Create a Function to Calculate Accuracy\n",
        "def accuracy(TP, FP, TN, FN):\n",
        "    return (sum(TP + TN) / sum(TP + TN + FP + FN))\n",
        "\n",
        "accuracy(true_positive, false_positive, true_negative, false_negative)"
      ],
      "execution_count": null,
      "outputs": [
        {
          "output_type": "execute_result",
          "data": {
            "text/plain": [
              "0.6086956521739131"
            ]
          },
          "metadata": {
            "tags": []
          },
          "execution_count": 62
        }
      ]
    },
    {
      "cell_type": "code",
      "metadata": {
        "id": "tzNMG0PmqSkn",
        "colab": {
          "base_uri": "https://localhost:8080/"
        },
        "outputId": "d1126246-ac47-4494-a8ae-5a91f01c4cb1"
      },
      "source": [
        "# Your accuracy score function should equal this value\n",
        "accuracy_score(y_test_c, y_pred_c)"
      ],
      "execution_count": null,
      "outputs": [
        {
          "output_type": "execute_result",
          "data": {
            "text/plain": [
              "0.6086956521739131"
            ]
          },
          "metadata": {
            "tags": []
          },
          "execution_count": 63
        }
      ]
    },
    {
      "cell_type": "markdown",
      "metadata": {
        "id": "z3Cto_N8RVaM"
      },
      "source": [
        "## Part - 2"
      ]
    },
    {
      "cell_type": "markdown",
      "metadata": {
        "id": "vU4-8BpFUrpG"
      },
      "source": [
        "### Predict RAIN\n",
        "\n",
        "Determine the **Precision**, **Recall**, and **Accuracy** from yesterday's model and compare your results with the Scikit-Learn Functions.\n"
      ]
    },
    {
      "cell_type": "code",
      "metadata": {
        "id": "pVhTypA3bQZ8",
        "colab": {
          "base_uri": "https://localhost:8080/",
          "height": 203
        },
        "outputId": "e2524c15-a9c2-4d8f-8588-575c1213bffa"
      },
      "source": [
        "# read data from the driver csv file\n",
        "URL = 'https://drive.google.com/file/d/16ZSKEHFlF0QVnrdUu3Zb2yJg1t95awkn/view?usp=sharing'\n",
        "path = 'https://drive.google.com/uc?export=download&id='+URL.split('/')[-2]\n",
        "df = pd.read_csv(path)\n",
        "df.head()"
      ],
      "execution_count": null,
      "outputs": [
        {
          "output_type": "execute_result",
          "data": {
            "text/html": [
              "<div>\n",
              "<style scoped>\n",
              "    .dataframe tbody tr th:only-of-type {\n",
              "        vertical-align: middle;\n",
              "    }\n",
              "\n",
              "    .dataframe tbody tr th {\n",
              "        vertical-align: top;\n",
              "    }\n",
              "\n",
              "    .dataframe thead th {\n",
              "        text-align: right;\n",
              "    }\n",
              "</style>\n",
              "<table border=\"1\" class=\"dataframe\">\n",
              "  <thead>\n",
              "    <tr style=\"text-align: right;\">\n",
              "      <th></th>\n",
              "      <th>DATE</th>\n",
              "      <th>PRCP</th>\n",
              "      <th>TMAX</th>\n",
              "      <th>TMIN</th>\n",
              "      <th>RAIN</th>\n",
              "    </tr>\n",
              "  </thead>\n",
              "  <tbody>\n",
              "    <tr>\n",
              "      <th>0</th>\n",
              "      <td>1948-01-01</td>\n",
              "      <td>0.47</td>\n",
              "      <td>51</td>\n",
              "      <td>42</td>\n",
              "      <td>True</td>\n",
              "    </tr>\n",
              "    <tr>\n",
              "      <th>1</th>\n",
              "      <td>1948-01-02</td>\n",
              "      <td>0.59</td>\n",
              "      <td>45</td>\n",
              "      <td>36</td>\n",
              "      <td>True</td>\n",
              "    </tr>\n",
              "    <tr>\n",
              "      <th>2</th>\n",
              "      <td>1948-01-03</td>\n",
              "      <td>0.42</td>\n",
              "      <td>45</td>\n",
              "      <td>35</td>\n",
              "      <td>True</td>\n",
              "    </tr>\n",
              "    <tr>\n",
              "      <th>3</th>\n",
              "      <td>1948-01-04</td>\n",
              "      <td>0.31</td>\n",
              "      <td>45</td>\n",
              "      <td>34</td>\n",
              "      <td>True</td>\n",
              "    </tr>\n",
              "    <tr>\n",
              "      <th>4</th>\n",
              "      <td>1948-01-05</td>\n",
              "      <td>0.17</td>\n",
              "      <td>45</td>\n",
              "      <td>32</td>\n",
              "      <td>True</td>\n",
              "    </tr>\n",
              "  </tbody>\n",
              "</table>\n",
              "</div>"
            ],
            "text/plain": [
              "         DATE  PRCP  TMAX  TMIN  RAIN\n",
              "0  1948-01-01  0.47    51    42  True\n",
              "1  1948-01-02  0.59    45    36  True\n",
              "2  1948-01-03  0.42    45    35  True\n",
              "3  1948-01-04  0.31    45    34  True\n",
              "4  1948-01-05  0.17    45    32  True"
            ]
          },
          "metadata": {
            "tags": []
          },
          "execution_count": 64
        }
      ]
    },
    {
      "cell_type": "code",
      "metadata": {
        "id": "422EU2QFRYjD"
      },
      "source": [
        "def RAIN_INSERTION(cols):\n",
        "    \"\"\"\n",
        "    Impute False where NaN values are present\n",
        "    \"\"\"\n",
        "    \n",
        "    RAIN=cols[0]\n",
        "    if pd.isnull(RAIN):\n",
        "        return False\n",
        "    else:\n",
        "        return RAIN\n",
        "    \n",
        "\n",
        "def PRCP_INSERTION(col):\n",
        "    \"\"\"\n",
        "    Insert the Mean of PRCP where NaN values are present\n",
        "    \"\"\"\n",
        "    PRCP=col[0]\n",
        "    if pd.isnull(PRCP):\n",
        "        return df['PRCP'].mean()\n",
        "    else:\n",
        "        return PRCP"
      ],
      "execution_count": null,
      "outputs": []
    },
    {
      "cell_type": "code",
      "metadata": {
        "id": "R8a-TPwjRcLB"
      },
      "source": [
        "# Apply the Functions\n",
        "df[\"RAIN\"] = df[[\"RAIN\"]].apply(RAIN_INSERTION, axis=1) # axis =1 means apply to columns \n",
        "df['PRCP']=df[['PRCP']].apply(PRCP_INSERTION,axis=1)\n"
      ],
      "execution_count": null,
      "outputs": []
    },
    {
      "cell_type": "code",
      "metadata": {
        "id": "-k4fA8pvRsvn"
      },
      "source": [
        "def heuristic(df):\n",
        "    \"\"\"\n",
        "    Simple heuristic:\n",
        "    \n",
        "    If it rained the past two days then predict rain else predict no rain\n",
        "    \n",
        "    Frist two rows are predicted false be default\n",
        "    \"\"\"\n",
        "    \n",
        "    preds = []\n",
        "    \n",
        "    for x in range(len(df)):\n",
        "        # If first two rows then predict false\n",
        "        if x<2:\n",
        "            preds.append(False)\n",
        "        else:\n",
        "            # If either of last two days == True then predict True\n",
        "            condation_1 = (df.iloc[x-1][\"RAIN\"] == True) | (df.iloc[x-2][\"RAIN\"] == True) \n",
        "            condation_2 = (df.iloc[x-1][\"PRCP\"] > 0.001) | (df.iloc[x-2][\"PRCP\"]  > 0.001) \n",
        "            condation_3 = ((df.iloc[x-1][\"TMAX\"] > 30) & (df.iloc[x-1][\"TMAX\"] <= 70 )) | ((df.iloc[x-2][\"TMAX\"] > 30) & (df.iloc[x-2][\"TMAX\"] <= 70 ))\n",
        "            condation_4 = ((df.iloc[x-1][\"TMIN\"] > 25) & (df.iloc[x-1][\"TMIN\"] < 50 )) | ((df.iloc[x-2][\"TMIN\"] > 25) & (df.iloc[x-2][\"TMIN\"] < 50 ))\n",
        "\n",
        "            if condation_1  & condation_2 & condation_3 & condation_4:\n",
        "                preds.append(True)\n",
        "            else:\n",
        "                preds.append(False)\n",
        "    return preds\n",
        "    "
      ],
      "execution_count": null,
      "outputs": []
    },
    {
      "cell_type": "code",
      "metadata": {
        "id": "dHgmgC8xSCEM"
      },
      "source": [
        "df[\"preds\"] = heuristic(df)\n"
      ],
      "execution_count": null,
      "outputs": []
    },
    {
      "cell_type": "code",
      "metadata": {
        "id": "onKY3K8rRueX"
      },
      "source": [
        "# Determine Accuracy\n",
        "\n",
        "# Create function to to find values\n",
        "\n",
        "def calc_confuse(df):\n",
        "    \n",
        "    \"Calculate all possible results of a confusion matrix\"\n",
        "\n",
        "    # Hold all possible values and set to zero\n",
        "    FP = np.zeros(len(df))\n",
        "    TP = np.zeros(len(df))\n",
        "    FN = np.zeros(len(df))\n",
        "    TN = np.zeros(len(df))\n",
        "    \n",
        "    for x in range(len(df)):\n",
        "        \n",
        "        # True Positive\n",
        "        if (df[\"RAIN\"].iloc[x] == True) & (df[\"preds\"].iloc[x] == True):\n",
        "            TP[x] = 1\n",
        "        # True Negative\n",
        "        elif (df[\"RAIN\"].iloc[x] == False) & (df[\"preds\"].iloc[x] == False):\n",
        "            TN[x] = 1\n",
        "        # False Negative\n",
        "        elif (df[\"RAIN\"].iloc[x] == True) & (df[\"preds\"].iloc[x] == False):\n",
        "            FN[x] = 1\n",
        "        # False Positive\n",
        "        else:\n",
        "            FP[x] = 1\n",
        "    \n",
        "    return FP, TP, FN, TN"
      ],
      "execution_count": null,
      "outputs": []
    },
    {
      "cell_type": "code",
      "metadata": {
        "colab": {
          "base_uri": "https://localhost:8080/",
          "height": 357
        },
        "id": "EseGynPwRwco",
        "outputId": "62f750eb-32bc-4fff-bfe8-690b744294f7"
      },
      "source": [
        "# Extract results and create columns for each\n",
        "w,x,y,z = calc_confuse(df)\n",
        "\n",
        "df[\"FP\"] = w\n",
        "df[\"TP\"] = x\n",
        "df[\"FN\"] = y\n",
        "df[\"TN\"] = z\n",
        "\n",
        "# Look at 10 random rows to determin accuracy\n",
        "df.sample(10)"
      ],
      "execution_count": null,
      "outputs": [
        {
          "output_type": "execute_result",
          "data": {
            "text/html": [
              "<div>\n",
              "<style scoped>\n",
              "    .dataframe tbody tr th:only-of-type {\n",
              "        vertical-align: middle;\n",
              "    }\n",
              "\n",
              "    .dataframe tbody tr th {\n",
              "        vertical-align: top;\n",
              "    }\n",
              "\n",
              "    .dataframe thead th {\n",
              "        text-align: right;\n",
              "    }\n",
              "</style>\n",
              "<table border=\"1\" class=\"dataframe\">\n",
              "  <thead>\n",
              "    <tr style=\"text-align: right;\">\n",
              "      <th></th>\n",
              "      <th>DATE</th>\n",
              "      <th>PRCP</th>\n",
              "      <th>TMAX</th>\n",
              "      <th>TMIN</th>\n",
              "      <th>RAIN</th>\n",
              "      <th>preds</th>\n",
              "      <th>FP</th>\n",
              "      <th>TP</th>\n",
              "      <th>FN</th>\n",
              "      <th>TN</th>\n",
              "    </tr>\n",
              "  </thead>\n",
              "  <tbody>\n",
              "    <tr>\n",
              "      <th>23441</th>\n",
              "      <td>2012-03-06</td>\n",
              "      <td>0.02</td>\n",
              "      <td>44</td>\n",
              "      <td>32</td>\n",
              "      <td>True</td>\n",
              "      <td>True</td>\n",
              "      <td>0.0</td>\n",
              "      <td>1.0</td>\n",
              "      <td>0.0</td>\n",
              "      <td>0.0</td>\n",
              "    </tr>\n",
              "    <tr>\n",
              "      <th>18510</th>\n",
              "      <td>1998-09-05</td>\n",
              "      <td>0.00</td>\n",
              "      <td>81</td>\n",
              "      <td>52</td>\n",
              "      <td>False</td>\n",
              "      <td>False</td>\n",
              "      <td>0.0</td>\n",
              "      <td>0.0</td>\n",
              "      <td>0.0</td>\n",
              "      <td>1.0</td>\n",
              "    </tr>\n",
              "    <tr>\n",
              "      <th>7379</th>\n",
              "      <td>1968-03-15</td>\n",
              "      <td>0.79</td>\n",
              "      <td>49</td>\n",
              "      <td>43</td>\n",
              "      <td>True</td>\n",
              "      <td>True</td>\n",
              "      <td>0.0</td>\n",
              "      <td>1.0</td>\n",
              "      <td>0.0</td>\n",
              "      <td>0.0</td>\n",
              "    </tr>\n",
              "    <tr>\n",
              "      <th>8557</th>\n",
              "      <td>1971-06-06</td>\n",
              "      <td>0.11</td>\n",
              "      <td>65</td>\n",
              "      <td>48</td>\n",
              "      <td>True</td>\n",
              "      <td>True</td>\n",
              "      <td>0.0</td>\n",
              "      <td>1.0</td>\n",
              "      <td>0.0</td>\n",
              "      <td>0.0</td>\n",
              "    </tr>\n",
              "    <tr>\n",
              "      <th>3939</th>\n",
              "      <td>1958-10-14</td>\n",
              "      <td>0.00</td>\n",
              "      <td>63</td>\n",
              "      <td>49</td>\n",
              "      <td>False</td>\n",
              "      <td>False</td>\n",
              "      <td>0.0</td>\n",
              "      <td>0.0</td>\n",
              "      <td>0.0</td>\n",
              "      <td>1.0</td>\n",
              "    </tr>\n",
              "    <tr>\n",
              "      <th>10951</th>\n",
              "      <td>1977-12-25</td>\n",
              "      <td>0.00</td>\n",
              "      <td>42</td>\n",
              "      <td>34</td>\n",
              "      <td>False</td>\n",
              "      <td>False</td>\n",
              "      <td>0.0</td>\n",
              "      <td>0.0</td>\n",
              "      <td>0.0</td>\n",
              "      <td>1.0</td>\n",
              "    </tr>\n",
              "    <tr>\n",
              "      <th>14178</th>\n",
              "      <td>1986-10-26</td>\n",
              "      <td>2.13</td>\n",
              "      <td>61</td>\n",
              "      <td>55</td>\n",
              "      <td>True</td>\n",
              "      <td>False</td>\n",
              "      <td>0.0</td>\n",
              "      <td>0.0</td>\n",
              "      <td>1.0</td>\n",
              "      <td>0.0</td>\n",
              "    </tr>\n",
              "    <tr>\n",
              "      <th>262</th>\n",
              "      <td>1948-09-19</td>\n",
              "      <td>0.00</td>\n",
              "      <td>70</td>\n",
              "      <td>47</td>\n",
              "      <td>False</td>\n",
              "      <td>False</td>\n",
              "      <td>0.0</td>\n",
              "      <td>0.0</td>\n",
              "      <td>0.0</td>\n",
              "      <td>1.0</td>\n",
              "    </tr>\n",
              "    <tr>\n",
              "      <th>20163</th>\n",
              "      <td>2003-03-16</td>\n",
              "      <td>0.14</td>\n",
              "      <td>54</td>\n",
              "      <td>39</td>\n",
              "      <td>True</td>\n",
              "      <td>True</td>\n",
              "      <td>0.0</td>\n",
              "      <td>1.0</td>\n",
              "      <td>0.0</td>\n",
              "      <td>0.0</td>\n",
              "    </tr>\n",
              "    <tr>\n",
              "      <th>12073</th>\n",
              "      <td>1981-01-20</td>\n",
              "      <td>0.13</td>\n",
              "      <td>64</td>\n",
              "      <td>45</td>\n",
              "      <td>True</td>\n",
              "      <td>True</td>\n",
              "      <td>0.0</td>\n",
              "      <td>1.0</td>\n",
              "      <td>0.0</td>\n",
              "      <td>0.0</td>\n",
              "    </tr>\n",
              "  </tbody>\n",
              "</table>\n",
              "</div>"
            ],
            "text/plain": [
              "             DATE  PRCP  TMAX  TMIN   RAIN  preds   FP   TP   FN   TN\n",
              "23441  2012-03-06  0.02    44    32   True   True  0.0  1.0  0.0  0.0\n",
              "18510  1998-09-05  0.00    81    52  False  False  0.0  0.0  0.0  1.0\n",
              "7379   1968-03-15  0.79    49    43   True   True  0.0  1.0  0.0  0.0\n",
              "8557   1971-06-06  0.11    65    48   True   True  0.0  1.0  0.0  0.0\n",
              "3939   1958-10-14  0.00    63    49  False  False  0.0  0.0  0.0  1.0\n",
              "10951  1977-12-25  0.00    42    34  False  False  0.0  0.0  0.0  1.0\n",
              "14178  1986-10-26  2.13    61    55   True  False  0.0  0.0  1.0  0.0\n",
              "262    1948-09-19  0.00    70    47  False  False  0.0  0.0  0.0  1.0\n",
              "20163  2003-03-16  0.14    54    39   True   True  0.0  1.0  0.0  0.0\n",
              "12073  1981-01-20  0.13    64    45   True   True  0.0  1.0  0.0  0.0"
            ]
          },
          "metadata": {
            "tags": []
          },
          "execution_count": 74
        }
      ]
    },
    {
      "cell_type": "code",
      "metadata": {
        "colab": {
          "base_uri": "https://localhost:8080/"
        },
        "id": "kIIGjHkxRyZ0",
        "outputId": "8da6acf3-80a6-49ad-8612-17c873de9a8e"
      },
      "source": [
        "# Heuristic Model\n",
        "print(\"Heuristic model for predict RAIN\")\n",
        "print(f\"Precision: {precision(df['TP'], df['FP'])}\")\n",
        "print(f\"recall: {recall(df['TP'], df['FN'])}\")\n",
        "print(f\"accuracy: {accuracy(df['TP'], df['FP'], df['TN'], df['FN'])}\")\n",
        "\n",
        "\n",
        "print(\"---------------------------------\")\n",
        "print(\"Heuristic model for predict RAIN Using sklearn\")\n",
        "print(f\"Precision: {precision_score(df['RAIN'], df['preds'])}\")\n",
        "print(f\"recall: {recall_score(df['RAIN'], df['preds'])}\")\n",
        "print(f\"accuracy: {accuracy_score(df['RAIN'], df['preds'])}\")"
      ],
      "execution_count": null,
      "outputs": [
        {
          "output_type": "stream",
          "text": [
            "Heuristic model for predict RAIN\n",
            "Precision: 0.6161667086799428\n",
            "recall: 0.6727522935779816\n",
            "accuracy: 0.6816171578411804\n",
            "---------------------------------\n",
            "Heuristic model for predict RAIN Using sklearn\n",
            "Precision: 0.6161667086799428\n",
            "recall: 0.6727522935779816\n",
            "accuracy: 0.6816171578411804\n"
          ],
          "name": "stdout"
        }
      ]
    },
    {
      "cell_type": "markdown",
      "metadata": {
        "id": "hWG_5-f7TpYh"
      },
      "source": [
        "### Predict PRCP\n",
        "\n",
        "Create a heuristic model to predict the PRCP column in the Seattle Weather data and calculate the **Mean Squared Error** from your predictions. Did you do better than predicting the mean value for the PRCP column?"
      ]
    },
    {
      "cell_type": "code",
      "metadata": {
        "colab": {
          "base_uri": "https://localhost:8080/",
          "height": 220
        },
        "id": "BkjtQsf8SuxI",
        "outputId": "0d29d056-4d59-4c9c-83fe-9318a114be75"
      },
      "source": [
        "# Crate random regression prediction to test regression cost functions\n",
        "\n",
        "print(f\"Regression Mean Baseline: {df['PRCP'].mean()}\")\n",
        "\n",
        "# Createing a random number generator\n",
        "rng = np.random.default_rng(42)\n",
        "\n",
        "# Assign random predictions to dataframe for demo purposes\n",
        "df[\"preds_r\"] = rng.uniform(0.01, 0.2, len(df))\n",
        "\n",
        "df[\"preds_norm\"] = np.random.normal(\n",
        "    loc = 0.106222, # mean\n",
        "    scale = 0.239031, # standard deviation\n",
        "    size = len(df)\n",
        ")\n",
        "\n",
        "# Predict mean baseline\n",
        "df[\"baseline\"] = df[\"PRCP\"].mean()\n",
        "\n",
        "df.head()"
      ],
      "execution_count": null,
      "outputs": [
        {
          "output_type": "stream",
          "text": [
            "Regression Mean Baseline: 0.10622162204477957\n"
          ],
          "name": "stdout"
        },
        {
          "output_type": "execute_result",
          "data": {
            "text/html": [
              "<div>\n",
              "<style scoped>\n",
              "    .dataframe tbody tr th:only-of-type {\n",
              "        vertical-align: middle;\n",
              "    }\n",
              "\n",
              "    .dataframe tbody tr th {\n",
              "        vertical-align: top;\n",
              "    }\n",
              "\n",
              "    .dataframe thead th {\n",
              "        text-align: right;\n",
              "    }\n",
              "</style>\n",
              "<table border=\"1\" class=\"dataframe\">\n",
              "  <thead>\n",
              "    <tr style=\"text-align: right;\">\n",
              "      <th></th>\n",
              "      <th>DATE</th>\n",
              "      <th>PRCP</th>\n",
              "      <th>TMAX</th>\n",
              "      <th>TMIN</th>\n",
              "      <th>RAIN</th>\n",
              "      <th>preds</th>\n",
              "      <th>FP</th>\n",
              "      <th>TP</th>\n",
              "      <th>FN</th>\n",
              "      <th>TN</th>\n",
              "      <th>preds_r</th>\n",
              "      <th>preds_norm</th>\n",
              "      <th>baseline</th>\n",
              "    </tr>\n",
              "  </thead>\n",
              "  <tbody>\n",
              "    <tr>\n",
              "      <th>0</th>\n",
              "      <td>1948-01-01</td>\n",
              "      <td>0.47</td>\n",
              "      <td>51</td>\n",
              "      <td>42</td>\n",
              "      <td>True</td>\n",
              "      <td>False</td>\n",
              "      <td>0.0</td>\n",
              "      <td>0.0</td>\n",
              "      <td>1.0</td>\n",
              "      <td>0.0</td>\n",
              "      <td>0.157052</td>\n",
              "      <td>0.109514</td>\n",
              "      <td>0.106222</td>\n",
              "    </tr>\n",
              "    <tr>\n",
              "      <th>1</th>\n",
              "      <td>1948-01-02</td>\n",
              "      <td>0.59</td>\n",
              "      <td>45</td>\n",
              "      <td>36</td>\n",
              "      <td>True</td>\n",
              "      <td>False</td>\n",
              "      <td>0.0</td>\n",
              "      <td>0.0</td>\n",
              "      <td>1.0</td>\n",
              "      <td>0.0</td>\n",
              "      <td>0.093387</td>\n",
              "      <td>-0.235939</td>\n",
              "      <td>0.106222</td>\n",
              "    </tr>\n",
              "    <tr>\n",
              "      <th>2</th>\n",
              "      <td>1948-01-03</td>\n",
              "      <td>0.42</td>\n",
              "      <td>45</td>\n",
              "      <td>35</td>\n",
              "      <td>True</td>\n",
              "      <td>True</td>\n",
              "      <td>0.0</td>\n",
              "      <td>1.0</td>\n",
              "      <td>0.0</td>\n",
              "      <td>0.0</td>\n",
              "      <td>0.173134</td>\n",
              "      <td>0.174444</td>\n",
              "      <td>0.106222</td>\n",
              "    </tr>\n",
              "    <tr>\n",
              "      <th>3</th>\n",
              "      <td>1948-01-04</td>\n",
              "      <td>0.31</td>\n",
              "      <td>45</td>\n",
              "      <td>34</td>\n",
              "      <td>True</td>\n",
              "      <td>True</td>\n",
              "      <td>0.0</td>\n",
              "      <td>1.0</td>\n",
              "      <td>0.0</td>\n",
              "      <td>0.0</td>\n",
              "      <td>0.142500</td>\n",
              "      <td>0.319832</td>\n",
              "      <td>0.106222</td>\n",
              "    </tr>\n",
              "    <tr>\n",
              "      <th>4</th>\n",
              "      <td>1948-01-05</td>\n",
              "      <td>0.17</td>\n",
              "      <td>45</td>\n",
              "      <td>32</td>\n",
              "      <td>True</td>\n",
              "      <td>True</td>\n",
              "      <td>0.0</td>\n",
              "      <td>1.0</td>\n",
              "      <td>0.0</td>\n",
              "      <td>0.0</td>\n",
              "      <td>0.027894</td>\n",
              "      <td>0.040347</td>\n",
              "      <td>0.106222</td>\n",
              "    </tr>\n",
              "  </tbody>\n",
              "</table>\n",
              "</div>"
            ],
            "text/plain": [
              "         DATE  PRCP  TMAX  TMIN  RAIN  ...   FN   TN   preds_r  preds_norm  baseline\n",
              "0  1948-01-01  0.47    51    42  True  ...  1.0  0.0  0.157052    0.109514  0.106222\n",
              "1  1948-01-02  0.59    45    36  True  ...  1.0  0.0  0.093387   -0.235939  0.106222\n",
              "2  1948-01-03  0.42    45    35  True  ...  0.0  0.0  0.173134    0.174444  0.106222\n",
              "3  1948-01-04  0.31    45    34  True  ...  0.0  0.0  0.142500    0.319832  0.106222\n",
              "4  1948-01-05  0.17    45    32  True  ...  0.0  0.0  0.027894    0.040347  0.106222\n",
              "\n",
              "[5 rows x 13 columns]"
            ]
          },
          "metadata": {
            "tags": []
          },
          "execution_count": 90
        }
      ]
    },
    {
      "cell_type": "code",
      "metadata": {
        "colab": {
          "base_uri": "https://localhost:8080/"
        },
        "id": "1DTX2hysTsw2",
        "outputId": "47ad4755-95de-46ce-d327-6e6147ebcf57"
      },
      "source": [
        "\n",
        "print(\"Heuristic model for predict PRCP\")\n",
        "print(f\"Mean Squared Error for uniform: {mse(df['preds_r'],df['PRCP'])}\")\n",
        "print(f\"Mean Squared Error for normal: {mse(df['preds_norm'],df['PRCP'])}\")\n",
        "print(f\"Mean Squared Error for baseline: {mse(df['baseline'],df['PRCP'])}\")\n",
        "\n",
        "\n",
        "print(\"---------------------------------\")\n",
        "print(\"Heuristic model for predict PRCP Using sklearn\")\n",
        "print(f\"Mean Squared Error for uniform: {mean_squared_error(df['preds_r'],df['PRCP'])}\")\n",
        "print(f\"Mean Squared Error for normal: {mean_squared_error(df['preds_norm'],df['PRCP'])}\")\n",
        "print(f\"Mean Squared Error for baseline: {mean_squared_error(df['baseline'],df['PRCP'])}\")\n",
        "\n"
      ],
      "execution_count": null,
      "outputs": [
        {
          "output_type": "stream",
          "text": [
            "Heuristic model for predict PRCP\n",
            "Mean Squared Error for uniform: 0.06035325053961652\n",
            "Mean Squared Error for normal: 0.11217269500121949\n",
            "Mean Squared Error for baseline: 0.057127093780136584\n",
            "---------------------------------\n",
            "Heuristic model for predict PRCP Using sklearn\n",
            "Mean Squared Error for uniform: 0.06035325053961639\n",
            "Mean Squared Error for normal: 0.11217269500121947\n",
            "Mean Squared Error for baseline: 0.05712709378012533\n"
          ],
          "name": "stdout"
        }
      ]
    },
    {
      "cell_type": "code",
      "metadata": {
        "id": "AVQdDonQUU-5"
      },
      "source": [
        ""
      ],
      "execution_count": null,
      "outputs": []
    }
  ]
}