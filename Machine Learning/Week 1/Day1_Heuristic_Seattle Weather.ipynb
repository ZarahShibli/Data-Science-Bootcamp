{
  "nbformat": 4,
  "nbformat_minor": 0,
  "metadata": {
    "colab": {
      "name": "Day1_ML_Heuristic.ipynb",
      "provenance": [],
      "collapsed_sections": []
    },
    "kernelspec": {
      "name": "python3",
      "display_name": "Python 3"
    },
    "language_info": {
      "name": "python"
    },
    "accelerator": "GPU"
  },
  "cells": [
    {
      "cell_type": "code",
      "metadata": {
        "id": "-zwF3fEXEfsv"
      },
      "source": [
        "import pandas as pd\n",
        "import seaborn as sns\n",
        "import numpy as np\n",
        "import matplotlib.pyplot as plt\n"
      ],
      "execution_count": 1,
      "outputs": []
    },
    {
      "cell_type": "code",
      "metadata": {
        "colab": {
          "base_uri": "https://localhost:8080/",
          "height": 203
        },
        "id": "AumHDsuBER9x",
        "outputId": "0fa918ec-591f-4aa9-f060-b52532af9cdb"
      },
      "source": [
        "# read data from the driver csv file\n",
        "URL = 'https://drive.google.com/file/d/16ZSKEHFlF0QVnrdUu3Zb2yJg1t95awkn/view?usp=sharing'\n",
        "path = 'https://drive.google.com/uc?export=download&id='+URL.split('/')[-2]\n",
        "df = pd.read_csv(path)\n",
        "df.head()"
      ],
      "execution_count": 2,
      "outputs": [
        {
          "output_type": "execute_result",
          "data": {
            "text/html": [
              "<div>\n",
              "<style scoped>\n",
              "    .dataframe tbody tr th:only-of-type {\n",
              "        vertical-align: middle;\n",
              "    }\n",
              "\n",
              "    .dataframe tbody tr th {\n",
              "        vertical-align: top;\n",
              "    }\n",
              "\n",
              "    .dataframe thead th {\n",
              "        text-align: right;\n",
              "    }\n",
              "</style>\n",
              "<table border=\"1\" class=\"dataframe\">\n",
              "  <thead>\n",
              "    <tr style=\"text-align: right;\">\n",
              "      <th></th>\n",
              "      <th>DATE</th>\n",
              "      <th>PRCP</th>\n",
              "      <th>TMAX</th>\n",
              "      <th>TMIN</th>\n",
              "      <th>RAIN</th>\n",
              "    </tr>\n",
              "  </thead>\n",
              "  <tbody>\n",
              "    <tr>\n",
              "      <th>0</th>\n",
              "      <td>1948-01-01</td>\n",
              "      <td>0.47</td>\n",
              "      <td>51</td>\n",
              "      <td>42</td>\n",
              "      <td>True</td>\n",
              "    </tr>\n",
              "    <tr>\n",
              "      <th>1</th>\n",
              "      <td>1948-01-02</td>\n",
              "      <td>0.59</td>\n",
              "      <td>45</td>\n",
              "      <td>36</td>\n",
              "      <td>True</td>\n",
              "    </tr>\n",
              "    <tr>\n",
              "      <th>2</th>\n",
              "      <td>1948-01-03</td>\n",
              "      <td>0.42</td>\n",
              "      <td>45</td>\n",
              "      <td>35</td>\n",
              "      <td>True</td>\n",
              "    </tr>\n",
              "    <tr>\n",
              "      <th>3</th>\n",
              "      <td>1948-01-04</td>\n",
              "      <td>0.31</td>\n",
              "      <td>45</td>\n",
              "      <td>34</td>\n",
              "      <td>True</td>\n",
              "    </tr>\n",
              "    <tr>\n",
              "      <th>4</th>\n",
              "      <td>1948-01-05</td>\n",
              "      <td>0.17</td>\n",
              "      <td>45</td>\n",
              "      <td>32</td>\n",
              "      <td>True</td>\n",
              "    </tr>\n",
              "  </tbody>\n",
              "</table>\n",
              "</div>"
            ],
            "text/plain": [
              "         DATE  PRCP  TMAX  TMIN  RAIN\n",
              "0  1948-01-01  0.47    51    42  True\n",
              "1  1948-01-02  0.59    45    36  True\n",
              "2  1948-01-03  0.42    45    35  True\n",
              "3  1948-01-04  0.31    45    34  True\n",
              "4  1948-01-05  0.17    45    32  True"
            ]
          },
          "metadata": {
            "tags": []
          },
          "execution_count": 2
        }
      ]
    },
    {
      "cell_type": "code",
      "metadata": {
        "colab": {
          "base_uri": "https://localhost:8080/",
          "height": 203
        },
        "id": "WrbyZJnsMrj8",
        "outputId": "98106e49-ffd2-4ca9-c113-22e93446d855"
      },
      "source": [
        "df.tail()"
      ],
      "execution_count": 3,
      "outputs": [
        {
          "output_type": "execute_result",
          "data": {
            "text/html": [
              "<div>\n",
              "<style scoped>\n",
              "    .dataframe tbody tr th:only-of-type {\n",
              "        vertical-align: middle;\n",
              "    }\n",
              "\n",
              "    .dataframe tbody tr th {\n",
              "        vertical-align: top;\n",
              "    }\n",
              "\n",
              "    .dataframe thead th {\n",
              "        text-align: right;\n",
              "    }\n",
              "</style>\n",
              "<table border=\"1\" class=\"dataframe\">\n",
              "  <thead>\n",
              "    <tr style=\"text-align: right;\">\n",
              "      <th></th>\n",
              "      <th>DATE</th>\n",
              "      <th>PRCP</th>\n",
              "      <th>TMAX</th>\n",
              "      <th>TMIN</th>\n",
              "      <th>RAIN</th>\n",
              "    </tr>\n",
              "  </thead>\n",
              "  <tbody>\n",
              "    <tr>\n",
              "      <th>25546</th>\n",
              "      <td>2017-12-10</td>\n",
              "      <td>0.0</td>\n",
              "      <td>49</td>\n",
              "      <td>34</td>\n",
              "      <td>False</td>\n",
              "    </tr>\n",
              "    <tr>\n",
              "      <th>25547</th>\n",
              "      <td>2017-12-11</td>\n",
              "      <td>0.0</td>\n",
              "      <td>49</td>\n",
              "      <td>29</td>\n",
              "      <td>False</td>\n",
              "    </tr>\n",
              "    <tr>\n",
              "      <th>25548</th>\n",
              "      <td>2017-12-12</td>\n",
              "      <td>0.0</td>\n",
              "      <td>46</td>\n",
              "      <td>32</td>\n",
              "      <td>False</td>\n",
              "    </tr>\n",
              "    <tr>\n",
              "      <th>25549</th>\n",
              "      <td>2017-12-13</td>\n",
              "      <td>0.0</td>\n",
              "      <td>48</td>\n",
              "      <td>34</td>\n",
              "      <td>False</td>\n",
              "    </tr>\n",
              "    <tr>\n",
              "      <th>25550</th>\n",
              "      <td>2017-12-14</td>\n",
              "      <td>0.0</td>\n",
              "      <td>50</td>\n",
              "      <td>36</td>\n",
              "      <td>False</td>\n",
              "    </tr>\n",
              "  </tbody>\n",
              "</table>\n",
              "</div>"
            ],
            "text/plain": [
              "             DATE  PRCP  TMAX  TMIN   RAIN\n",
              "25546  2017-12-10   0.0    49    34  False\n",
              "25547  2017-12-11   0.0    49    29  False\n",
              "25548  2017-12-12   0.0    46    32  False\n",
              "25549  2017-12-13   0.0    48    34  False\n",
              "25550  2017-12-14   0.0    50    36  False"
            ]
          },
          "metadata": {
            "tags": []
          },
          "execution_count": 3
        }
      ]
    },
    {
      "cell_type": "code",
      "metadata": {
        "colab": {
          "base_uri": "https://localhost:8080/"
        },
        "id": "zrJ8tpAHEkOy",
        "outputId": "856b25a5-8e15-4441-85d2-af4823b3c940"
      },
      "source": [
        "# Baseline model\n",
        "df[\"RAIN\"].value_counts(normalize=True)"
      ],
      "execution_count": 4,
      "outputs": [
        {
          "output_type": "execute_result",
          "data": {
            "text/plain": [
              "False    0.573352\n",
              "True     0.426648\n",
              "Name: RAIN, dtype: float64"
            ]
          },
          "metadata": {
            "tags": []
          },
          "execution_count": 4
        }
      ]
    },
    {
      "cell_type": "markdown",
      "metadata": {
        "id": "OEwZ-Bd6KzCF"
      },
      "source": [
        "### **Discovering the PRCP**"
      ]
    },
    {
      "cell_type": "code",
      "metadata": {
        "colab": {
          "base_uri": "https://localhost:8080/"
        },
        "id": "kXbKfbG7I_Mj",
        "outputId": "0773739c-fc48-4275-c20f-972ad096c5bb"
      },
      "source": [
        "df['PRCP'].describe()"
      ],
      "execution_count": 5,
      "outputs": [
        {
          "output_type": "execute_result",
          "data": {
            "text/plain": [
              "count    25548.000000\n",
              "mean         0.106222\n",
              "std          0.239031\n",
              "min          0.000000\n",
              "25%          0.000000\n",
              "50%          0.000000\n",
              "75%          0.100000\n",
              "max          5.020000\n",
              "Name: PRCP, dtype: float64"
            ]
          },
          "metadata": {
            "tags": []
          },
          "execution_count": 5
        }
      ]
    },
    {
      "cell_type": "code",
      "metadata": {
        "colab": {
          "base_uri": "https://localhost:8080/"
        },
        "id": "_oVW66gYJzIW",
        "outputId": "a0de4f34-1347-4902-d295-ec24ecf4d88a"
      },
      "source": [
        "df['PRCP'].value_counts()"
      ],
      "execution_count": 6,
      "outputs": [
        {
          "output_type": "execute_result",
          "data": {
            "text/plain": [
              "0.00    14648\n",
              "0.01      933\n",
              "0.02      707\n",
              "0.03      493\n",
              "0.04      428\n",
              "        ...  \n",
              "2.49        1\n",
              "2.18        1\n",
              "2.20        1\n",
              "2.70        1\n",
              "2.95        1\n",
              "Name: PRCP, Length: 207, dtype: int64"
            ]
          },
          "metadata": {
            "tags": []
          },
          "execution_count": 6
        }
      ]
    },
    {
      "cell_type": "code",
      "metadata": {
        "colab": {
          "base_uri": "https://localhost:8080/",
          "height": 282
        },
        "id": "IMKNAA2HJKrl",
        "outputId": "3b1d160b-f3e8-48b0-b292-eb44e75f138c"
      },
      "source": [
        "df[df['RAIN'] == False]['PRCP'].plot(kind='hist')"
      ],
      "execution_count": 7,
      "outputs": [
        {
          "output_type": "execute_result",
          "data": {
            "text/plain": [
              "<matplotlib.axes._subplots.AxesSubplot at 0x7f8f953fd510>"
            ]
          },
          "metadata": {
            "tags": []
          },
          "execution_count": 7
        },
        {
          "output_type": "display_data",
          "data": {
            "image/png": "[encoded data removed]",
            "text/plain": [
              "<Figure size 432x288 with 1 Axes>"
            ]
          },
          "metadata": {
            "tags": [],
            "needs_background": "light"
          }
        }
      ]
    },
    {
      "cell_type": "markdown",
      "metadata": {
        "id": "znTQ8n_eK_zC"
      },
      "source": [
        "### **Discovering the TMax**"
      ]
    },
    {
      "cell_type": "code",
      "metadata": {
        "colab": {
          "base_uri": "https://localhost:8080/",
          "height": 282
        },
        "id": "Fc5kAOvMLDpN",
        "outputId": "b68c4a93-11e0-485a-8dcf-822e423587fb"
      },
      "source": [
        "df[df['RAIN'] == True]['TMAX'].plot(kind='hist')"
      ],
      "execution_count": 8,
      "outputs": [
        {
          "output_type": "execute_result",
          "data": {
            "text/plain": [
              "<matplotlib.axes._subplots.AxesSubplot at 0x7f8f952efa50>"
            ]
          },
          "metadata": {
            "tags": []
          },
          "execution_count": 8
        },
        {
          "output_type": "display_data",
          "data": {
            "image/png": "[encoded data removed]",
            "text/plain": [
              "<Figure size 432x288 with 1 Axes>"
            ]
          },
          "metadata": {
            "tags": [],
            "needs_background": "light"
          }
        }
      ]
    },
    {
      "cell_type": "code",
      "metadata": {
        "colab": {
          "base_uri": "https://localhost:8080/",
          "height": 282
        },
        "id": "v-EK8mjnLDkW",
        "outputId": "371efbda-11db-4665-c632-c761f2ae950d"
      },
      "source": [
        "df[df['RAIN'] == False]['TMAX'].plot(kind='hist')"
      ],
      "execution_count": 9,
      "outputs": [
        {
          "output_type": "execute_result",
          "data": {
            "text/plain": [
              "<matplotlib.axes._subplots.AxesSubplot at 0x7f8f94e2b4d0>"
            ]
          },
          "metadata": {
            "tags": []
          },
          "execution_count": 9
        },
        {
          "output_type": "display_data",
          "data": {
            "image/png": "[encoded data removed]",
            "text/plain": [
              "<Figure size 432x288 with 1 Axes>"
            ]
          },
          "metadata": {
            "tags": [],
            "needs_background": "light"
          }
        }
      ]
    },
    {
      "cell_type": "markdown",
      "metadata": {
        "id": "0hRFr8bvMRsV"
      },
      "source": [
        "### TMin"
      ]
    },
    {
      "cell_type": "code",
      "metadata": {
        "colab": {
          "base_uri": "https://localhost:8080/",
          "height": 282
        },
        "id": "hV6lqSvtMUbr",
        "outputId": "5e9db97d-37f2-4a46-8a41-b7aeff2be72d"
      },
      "source": [
        "df[df['RAIN'] == True]['TMIN'].plot(kind='hist')"
      ],
      "execution_count": 10,
      "outputs": [
        {
          "output_type": "execute_result",
          "data": {
            "text/plain": [
              "<matplotlib.axes._subplots.AxesSubplot at 0x7f8f94d4df10>"
            ]
          },
          "metadata": {
            "tags": []
          },
          "execution_count": 10
        },
        {
          "output_type": "display_data",
          "data": {
            "image/png": "[encoded data removed]",
            "text/plain": [
              "<Figure size 432x288 with 1 Axes>"
            ]
          },
          "metadata": {
            "tags": [],
            "needs_background": "light"
          }
        }
      ]
    },
    {
      "cell_type": "code",
      "metadata": {
        "colab": {
          "base_uri": "https://localhost:8080/",
          "height": 282
        },
        "id": "ah0RWakiMaai",
        "outputId": "0295f9b4-bc09-465b-91ff-93783caca607"
      },
      "source": [
        "df[df['RAIN'] == False]['TMIN'].plot(kind='hist')"
      ],
      "execution_count": 11,
      "outputs": [
        {
          "output_type": "execute_result",
          "data": {
            "text/plain": [
              "<matplotlib.axes._subplots.AxesSubplot at 0x7f8f94ccf3d0>"
            ]
          },
          "metadata": {
            "tags": []
          },
          "execution_count": 11
        },
        {
          "output_type": "display_data",
          "data": {
            "image/png": "[encoded data removed]",
            "text/plain": [
              "<Figure size 432x288 with 1 Axes>"
            ]
          },
          "metadata": {
            "tags": [],
            "needs_background": "light"
          }
        }
      ]
    },
    {
      "cell_type": "code",
      "metadata": {
        "colab": {
          "base_uri": "https://localhost:8080/",
          "height": 613
        },
        "id": "A-Z71pN3FEI-",
        "outputId": "d8dd12d8-904d-4a15-903f-dfe98bc8be3e"
      },
      "source": [
        "plt.figure(figsize=(10,10))\n",
        "sns.heatmap(pd.isnull(df), yticklabels=False)"
      ],
      "execution_count": 12,
      "outputs": [
        {
          "output_type": "execute_result",
          "data": {
            "text/plain": [
              "<matplotlib.axes._subplots.AxesSubplot at 0x7f8f94da8b50>"
            ]
          },
          "metadata": {
            "tags": []
          },
          "execution_count": 12
        },
        {
          "output_type": "display_data",
          "data": {
            "image/png": "[encoded data removed]",
            "text/plain": [
              "<Figure size 720x720 with 2 Axes>"
            ]
          },
          "metadata": {
            "tags": [],
            "needs_background": "light"
          }
        }
      ]
    },
    {
      "cell_type": "code",
      "metadata": {
        "colab": {
          "base_uri": "https://localhost:8080/",
          "height": 142
        },
        "id": "XTTu25yJFEGV",
        "outputId": "eb7dae1e-0e51-4d31-bc19-38d7f0cb71bc"
      },
      "source": [
        "# Find the null values in PRCP column\n",
        "df[pd.isnull(df[\"PRCP\"])]"
      ],
      "execution_count": 13,
      "outputs": [
        {
          "output_type": "execute_result",
          "data": {
            "text/html": [
              "<div>\n",
              "<style scoped>\n",
              "    .dataframe tbody tr th:only-of-type {\n",
              "        vertical-align: middle;\n",
              "    }\n",
              "\n",
              "    .dataframe tbody tr th {\n",
              "        vertical-align: top;\n",
              "    }\n",
              "\n",
              "    .dataframe thead th {\n",
              "        text-align: right;\n",
              "    }\n",
              "</style>\n",
              "<table border=\"1\" class=\"dataframe\">\n",
              "  <thead>\n",
              "    <tr style=\"text-align: right;\">\n",
              "      <th></th>\n",
              "      <th>DATE</th>\n",
              "      <th>PRCP</th>\n",
              "      <th>TMAX</th>\n",
              "      <th>TMIN</th>\n",
              "      <th>RAIN</th>\n",
              "    </tr>\n",
              "  </thead>\n",
              "  <tbody>\n",
              "    <tr>\n",
              "      <th>18415</th>\n",
              "      <td>1998-06-02</td>\n",
              "      <td>NaN</td>\n",
              "      <td>72</td>\n",
              "      <td>52</td>\n",
              "      <td>NaN</td>\n",
              "    </tr>\n",
              "    <tr>\n",
              "      <th>18416</th>\n",
              "      <td>1998-06-03</td>\n",
              "      <td>NaN</td>\n",
              "      <td>66</td>\n",
              "      <td>51</td>\n",
              "      <td>NaN</td>\n",
              "    </tr>\n",
              "    <tr>\n",
              "      <th>21067</th>\n",
              "      <td>2005-09-05</td>\n",
              "      <td>NaN</td>\n",
              "      <td>70</td>\n",
              "      <td>52</td>\n",
              "      <td>NaN</td>\n",
              "    </tr>\n",
              "  </tbody>\n",
              "</table>\n",
              "</div>"
            ],
            "text/plain": [
              "             DATE  PRCP  TMAX  TMIN RAIN\n",
              "18415  1998-06-02   NaN    72    52  NaN\n",
              "18416  1998-06-03   NaN    66    51  NaN\n",
              "21067  2005-09-05   NaN    70    52  NaN"
            ]
          },
          "metadata": {
            "tags": []
          },
          "execution_count": 13
        }
      ]
    },
    {
      "cell_type": "code",
      "metadata": {
        "colab": {
          "base_uri": "https://localhost:8080/",
          "height": 142
        },
        "id": "eYOCnu4zFEDv",
        "outputId": "bcf0195d-302d-40d1-af37-345a96c98200"
      },
      "source": [
        "# Find nulls in the rain column\n",
        "\n",
        "df[pd.isnull(df[\"RAIN\"])]"
      ],
      "execution_count": 14,
      "outputs": [
        {
          "output_type": "execute_result",
          "data": {
            "text/html": [
              "<div>\n",
              "<style scoped>\n",
              "    .dataframe tbody tr th:only-of-type {\n",
              "        vertical-align: middle;\n",
              "    }\n",
              "\n",
              "    .dataframe tbody tr th {\n",
              "        vertical-align: top;\n",
              "    }\n",
              "\n",
              "    .dataframe thead th {\n",
              "        text-align: right;\n",
              "    }\n",
              "</style>\n",
              "<table border=\"1\" class=\"dataframe\">\n",
              "  <thead>\n",
              "    <tr style=\"text-align: right;\">\n",
              "      <th></th>\n",
              "      <th>DATE</th>\n",
              "      <th>PRCP</th>\n",
              "      <th>TMAX</th>\n",
              "      <th>TMIN</th>\n",
              "      <th>RAIN</th>\n",
              "    </tr>\n",
              "  </thead>\n",
              "  <tbody>\n",
              "    <tr>\n",
              "      <th>18415</th>\n",
              "      <td>1998-06-02</td>\n",
              "      <td>NaN</td>\n",
              "      <td>72</td>\n",
              "      <td>52</td>\n",
              "      <td>NaN</td>\n",
              "    </tr>\n",
              "    <tr>\n",
              "      <th>18416</th>\n",
              "      <td>1998-06-03</td>\n",
              "      <td>NaN</td>\n",
              "      <td>66</td>\n",
              "      <td>51</td>\n",
              "      <td>NaN</td>\n",
              "    </tr>\n",
              "    <tr>\n",
              "      <th>21067</th>\n",
              "      <td>2005-09-05</td>\n",
              "      <td>NaN</td>\n",
              "      <td>70</td>\n",
              "      <td>52</td>\n",
              "      <td>NaN</td>\n",
              "    </tr>\n",
              "  </tbody>\n",
              "</table>\n",
              "</div>"
            ],
            "text/plain": [
              "             DATE  PRCP  TMAX  TMIN RAIN\n",
              "18415  1998-06-02   NaN    72    52  NaN\n",
              "18416  1998-06-03   NaN    66    51  NaN\n",
              "21067  2005-09-05   NaN    70    52  NaN"
            ]
          },
          "metadata": {
            "tags": []
          },
          "execution_count": 14
        }
      ]
    },
    {
      "cell_type": "code",
      "metadata": {
        "colab": {
          "base_uri": "https://localhost:8080/",
          "height": 282
        },
        "id": "rvkA9yOpFEBV",
        "outputId": "633b1a7c-d23e-4d9b-c804-cd6613a3cb84"
      },
      "source": [
        "# Look at target class distribution\n",
        "df[\"RAIN\"].value_counts(normalize=True).plot(kind=\"barh\")"
      ],
      "execution_count": 15,
      "outputs": [
        {
          "output_type": "execute_result",
          "data": {
            "text/plain": [
              "<matplotlib.axes._subplots.AxesSubplot at 0x7f8f8c3f7650>"
            ]
          },
          "metadata": {
            "tags": []
          },
          "execution_count": 15
        },
        {
          "output_type": "display_data",
          "data": {
            "image/png": "[encoded data removed]",
            "text/plain": [
              "<Figure size 432x288 with 1 Axes>"
            ]
          },
          "metadata": {
            "tags": [],
            "needs_background": "light"
          }
        }
      ]
    },
    {
      "cell_type": "code",
      "metadata": {
        "id": "1EL8jH_XFD4Y"
      },
      "source": [
        "def RAIN_INSERTION(cols):\n",
        "    \"\"\"\n",
        "    Impute False where NaN values are present\n",
        "    \"\"\"\n",
        "    \n",
        "    RAIN=cols[0]\n",
        "    if pd.isnull(RAIN):\n",
        "        return False\n",
        "    else:\n",
        "        return RAIN\n",
        "    \n",
        "\n",
        "def PRCP_INSERTION(col):\n",
        "    \"\"\"\n",
        "    Insert the Mean of PRCP where NaN values are present\n",
        "    \"\"\"\n",
        "    PRCP=col[0]\n",
        "    if pd.isnull(PRCP):\n",
        "        return df['PRCP'].mean()\n",
        "    else:\n",
        "        return PRCP"
      ],
      "execution_count": 16,
      "outputs": []
    },
    {
      "cell_type": "code",
      "metadata": {
        "id": "u3KJZzMbHLfp"
      },
      "source": [
        "# Apply the Functions\n",
        "df[\"RAIN\"] = df[[\"RAIN\"]].apply(RAIN_INSERTION, axis=1) # axis =1 means apply to columns \n",
        "df['PRCP']=df[['PRCP']].apply(PRCP_INSERTION,axis=1)\n"
      ],
      "execution_count": 17,
      "outputs": []
    },
    {
      "cell_type": "markdown",
      "metadata": {
        "id": "6v1VPTFXH1um"
      },
      "source": [
        "### Coding a Heuristic by hand and evaluating\n",
        "\n",
        "- If it rained yesterday or the day before then it will rain today and Precipitation grater than "
      ]
    },
    {
      "cell_type": "code",
      "metadata": {
        "id": "d4SC7E1PHRiy"
      },
      "source": [
        "def heuristic(df):\n",
        "    \"\"\"\n",
        "    Simple heuristic:\n",
        "    \n",
        "    If it rained the past two days then predict rain else predict no rain\n",
        "    \n",
        "    Frist two rows are predicted false be default\n",
        "    \"\"\"\n",
        "    \n",
        "    preds = []\n",
        "    \n",
        "    for x in range(len(df)):\n",
        "        # If first two rows then predict false\n",
        "        if x<2:\n",
        "            preds.append(False)\n",
        "        else:\n",
        "            # If either of last two days == True then predict True\n",
        "            condation_1 = (df.iloc[x-1][\"RAIN\"] == True) | (df.iloc[x-2][\"RAIN\"] == True) \n",
        "            condation_2 = (df.iloc[x-1][\"PRCP\"] > 0.001) | (df.iloc[x-2][\"PRCP\"]  > 0.001) \n",
        "            condation_3 = ((df.iloc[x-1][\"TMAX\"] > 30) & (df.iloc[x-1][\"TMAX\"] <= 70 )) | ((df.iloc[x-2][\"TMAX\"] > 30) & (df.iloc[x-2][\"TMAX\"] <= 70 ))\n",
        "            condation_4 = ((df.iloc[x-1][\"TMIN\"] > 25) & (df.iloc[x-1][\"TMIN\"] < 50 )) | ((df.iloc[x-2][\"TMIN\"] > 25) & (df.iloc[x-2][\"TMIN\"] < 50 ))\n",
        "\n",
        "            if condation_1  & condation_2 & condation_3 & condation_4:\n",
        "                preds.append(True)\n",
        "            else:\n",
        "                preds.append(False)\n",
        "    return preds\n",
        "    "
      ],
      "execution_count": 18,
      "outputs": []
    },
    {
      "cell_type": "code",
      "metadata": {
        "id": "Jrp7-N6UHR6k"
      },
      "source": [
        "df[\"preds\"] = heuristic(df)\n"
      ],
      "execution_count": 19,
      "outputs": []
    },
    {
      "cell_type": "code",
      "metadata": {
        "id": "xpzC_RB4HUPS"
      },
      "source": [
        "# Determine Accuracy\n",
        "\n",
        "# Create function to to find values\n",
        "\n",
        "def calc_confuse(df):\n",
        "    \n",
        "    \"Calculate all possible results of a confusion matrix\"\n",
        "\n",
        "    # Hold all possible values and set to zero\n",
        "    FP = np.zeros(len(df))\n",
        "    TP = np.zeros(len(df))\n",
        "    FN = np.zeros(len(df))\n",
        "    TN = np.zeros(len(df))\n",
        "    \n",
        "    for x in range(len(df)):\n",
        "        \n",
        "        # True Positive\n",
        "        if (df[\"RAIN\"].iloc[x] == True) & (df[\"preds\"].iloc[x] == True):\n",
        "            TP[x] = 1\n",
        "        # True Negative\n",
        "        elif (df[\"RAIN\"].iloc[x] == False) & (df[\"preds\"].iloc[x] == False):\n",
        "            TN[x] = 1\n",
        "        # False Negative\n",
        "        elif (df[\"RAIN\"].iloc[x] == True) & (df[\"preds\"].iloc[x] == False):\n",
        "            FN[x] = 1\n",
        "        # False Positive\n",
        "        else:\n",
        "            FP[x] = 1\n",
        "    \n",
        "    return FP, TP, FN, TN"
      ],
      "execution_count": 20,
      "outputs": []
    },
    {
      "cell_type": "code",
      "metadata": {
        "colab": {
          "base_uri": "https://localhost:8080/",
          "height": 357
        },
        "id": "mTNf6eA0HXZd",
        "outputId": "f347b5d3-6265-4265-c9ee-5db539fb936c"
      },
      "source": [
        "# Extract results and create columns for each\n",
        "w,x,y,z = calc_confuse(df)\n",
        "\n",
        "df[\"FP\"] = w\n",
        "df[\"TP\"] = x\n",
        "df[\"FN\"] = y\n",
        "df[\"TN\"] = z\n",
        "\n",
        "# Look at 10 random rows to determin accuracy\n",
        "df.sample(10)"
      ],
      "execution_count": 21,
      "outputs": [
        {
          "output_type": "execute_result",
          "data": {
            "text/html": [
              "<div>\n",
              "<style scoped>\n",
              "    .dataframe tbody tr th:only-of-type {\n",
              "        vertical-align: middle;\n",
              "    }\n",
              "\n",
              "    .dataframe tbody tr th {\n",
              "        vertical-align: top;\n",
              "    }\n",
              "\n",
              "    .dataframe thead th {\n",
              "        text-align: right;\n",
              "    }\n",
              "</style>\n",
              "<table border=\"1\" class=\"dataframe\">\n",
              "  <thead>\n",
              "    <tr style=\"text-align: right;\">\n",
              "      <th></th>\n",
              "      <th>DATE</th>\n",
              "      <th>PRCP</th>\n",
              "      <th>TMAX</th>\n",
              "      <th>TMIN</th>\n",
              "      <th>RAIN</th>\n",
              "      <th>preds</th>\n",
              "      <th>FP</th>\n",
              "      <th>TP</th>\n",
              "      <th>FN</th>\n",
              "      <th>TN</th>\n",
              "    </tr>\n",
              "  </thead>\n",
              "  <tbody>\n",
              "    <tr>\n",
              "      <th>4163</th>\n",
              "      <td>1959-05-26</td>\n",
              "      <td>0.03</td>\n",
              "      <td>59</td>\n",
              "      <td>47</td>\n",
              "      <td>True</td>\n",
              "      <td>True</td>\n",
              "      <td>0.0</td>\n",
              "      <td>1.0</td>\n",
              "      <td>0.0</td>\n",
              "      <td>0.0</td>\n",
              "    </tr>\n",
              "    <tr>\n",
              "      <th>687</th>\n",
              "      <td>1949-11-18</td>\n",
              "      <td>0.06</td>\n",
              "      <td>53</td>\n",
              "      <td>45</td>\n",
              "      <td>True</td>\n",
              "      <td>False</td>\n",
              "      <td>0.0</td>\n",
              "      <td>0.0</td>\n",
              "      <td>1.0</td>\n",
              "      <td>0.0</td>\n",
              "    </tr>\n",
              "    <tr>\n",
              "      <th>24600</th>\n",
              "      <td>2015-05-09</td>\n",
              "      <td>0.00</td>\n",
              "      <td>80</td>\n",
              "      <td>49</td>\n",
              "      <td>False</td>\n",
              "      <td>False</td>\n",
              "      <td>0.0</td>\n",
              "      <td>0.0</td>\n",
              "      <td>0.0</td>\n",
              "      <td>1.0</td>\n",
              "    </tr>\n",
              "    <tr>\n",
              "      <th>11649</th>\n",
              "      <td>1979-11-23</td>\n",
              "      <td>0.00</td>\n",
              "      <td>48</td>\n",
              "      <td>38</td>\n",
              "      <td>False</td>\n",
              "      <td>True</td>\n",
              "      <td>1.0</td>\n",
              "      <td>0.0</td>\n",
              "      <td>0.0</td>\n",
              "      <td>0.0</td>\n",
              "    </tr>\n",
              "    <tr>\n",
              "      <th>2470</th>\n",
              "      <td>1954-10-06</td>\n",
              "      <td>0.00</td>\n",
              "      <td>70</td>\n",
              "      <td>48</td>\n",
              "      <td>False</td>\n",
              "      <td>False</td>\n",
              "      <td>0.0</td>\n",
              "      <td>0.0</td>\n",
              "      <td>0.0</td>\n",
              "      <td>1.0</td>\n",
              "    </tr>\n",
              "    <tr>\n",
              "      <th>4897</th>\n",
              "      <td>1961-05-29</td>\n",
              "      <td>0.03</td>\n",
              "      <td>68</td>\n",
              "      <td>51</td>\n",
              "      <td>True</td>\n",
              "      <td>True</td>\n",
              "      <td>0.0</td>\n",
              "      <td>1.0</td>\n",
              "      <td>0.0</td>\n",
              "      <td>0.0</td>\n",
              "    </tr>\n",
              "    <tr>\n",
              "      <th>23881</th>\n",
              "      <td>2013-05-20</td>\n",
              "      <td>0.00</td>\n",
              "      <td>67</td>\n",
              "      <td>49</td>\n",
              "      <td>False</td>\n",
              "      <td>False</td>\n",
              "      <td>0.0</td>\n",
              "      <td>0.0</td>\n",
              "      <td>0.0</td>\n",
              "      <td>1.0</td>\n",
              "    </tr>\n",
              "    <tr>\n",
              "      <th>20425</th>\n",
              "      <td>2003-12-03</td>\n",
              "      <td>0.05</td>\n",
              "      <td>47</td>\n",
              "      <td>36</td>\n",
              "      <td>True</td>\n",
              "      <td>True</td>\n",
              "      <td>0.0</td>\n",
              "      <td>1.0</td>\n",
              "      <td>0.0</td>\n",
              "      <td>0.0</td>\n",
              "    </tr>\n",
              "    <tr>\n",
              "      <th>19403</th>\n",
              "      <td>2001-02-14</td>\n",
              "      <td>0.00</td>\n",
              "      <td>44</td>\n",
              "      <td>30</td>\n",
              "      <td>False</td>\n",
              "      <td>False</td>\n",
              "      <td>0.0</td>\n",
              "      <td>0.0</td>\n",
              "      <td>0.0</td>\n",
              "      <td>1.0</td>\n",
              "    </tr>\n",
              "    <tr>\n",
              "      <th>3697</th>\n",
              "      <td>1958-02-14</td>\n",
              "      <td>0.03</td>\n",
              "      <td>47</td>\n",
              "      <td>41</td>\n",
              "      <td>True</td>\n",
              "      <td>True</td>\n",
              "      <td>0.0</td>\n",
              "      <td>1.0</td>\n",
              "      <td>0.0</td>\n",
              "      <td>0.0</td>\n",
              "    </tr>\n",
              "  </tbody>\n",
              "</table>\n",
              "</div>"
            ],
            "text/plain": [
              "             DATE  PRCP  TMAX  TMIN   RAIN  preds   FP   TP   FN   TN\n",
              "4163   1959-05-26  0.03    59    47   True   True  0.0  1.0  0.0  0.0\n",
              "687    1949-11-18  0.06    53    45   True  False  0.0  0.0  1.0  0.0\n",
              "24600  2015-05-09  0.00    80    49  False  False  0.0  0.0  0.0  1.0\n",
              "11649  1979-11-23  0.00    48    38  False   True  1.0  0.0  0.0  0.0\n",
              "2470   1954-10-06  0.00    70    48  False  False  0.0  0.0  0.0  1.0\n",
              "4897   1961-05-29  0.03    68    51   True   True  0.0  1.0  0.0  0.0\n",
              "23881  2013-05-20  0.00    67    49  False  False  0.0  0.0  0.0  1.0\n",
              "20425  2003-12-03  0.05    47    36   True   True  0.0  1.0  0.0  0.0\n",
              "19403  2001-02-14  0.00    44    30  False  False  0.0  0.0  0.0  1.0\n",
              "3697   1958-02-14  0.03    47    41   True   True  0.0  1.0  0.0  0.0"
            ]
          },
          "metadata": {
            "tags": []
          },
          "execution_count": 21
        }
      ]
    },
    {
      "cell_type": "code",
      "metadata": {
        "colab": {
          "base_uri": "https://localhost:8080/"
        },
        "id": "HIMROsIIHa-W",
        "outputId": "644e1717-5893-4c14-a0c8-0f6b2442daf8"
      },
      "source": [
        "# Heuristic Model\n",
        "# the accuracy is improve .\n",
        "(sum(df[\"TP\"]) + sum(df[\"TN\"]))/ len(df)"
      ],
      "execution_count": 22,
      "outputs": [
        {
          "output_type": "execute_result",
          "data": {
            "text/plain": [
              "0.6816171578411804"
            ]
          },
          "metadata": {
            "tags": []
          },
          "execution_count": 22
        }
      ]
    },
    {
      "cell_type": "markdown",
      "metadata": {
        "id": "wcm2OZBPTMzH"
      },
      "source": [
        "### Predict PRCP\n",
        "\n",
        "Create a heuristic model to predict the PRCP column in the Seattle Weather data and calculate the **Mean Squared Error** from your predictions. Did you do better than predicting the mean value for the PRCP column?"
      ]
    },
    {
      "cell_type": "code",
      "metadata": {
        "id": "DnaRS78JHja5",
        "colab": {
          "base_uri": "https://localhost:8080/",
          "height": 220
        },
        "outputId": "04d080e3-f07e-4874-87b5-8b4c4e6c44db"
      },
      "source": [
        "# Crate random regression prediction to test regression cost functions\n",
        "\n",
        "print(f\"Regression Mean Baseline: {df['PRCP'].mean()}\")\n",
        "\n",
        "# Createing a random number generator\n",
        "rng = np.random.default_rng(42)\n",
        "\n",
        "# Assign random predictions to dataframe for demo purposes\n",
        "df[\"preds_r\"] = rng.uniform(0.01, 0.5, len(df))\n",
        "\n",
        "# Predict mean baseline\n",
        "df[\"baseline\"] = df[\"PRCP\"].mean()\n",
        "\n",
        "df.head()"
      ],
      "execution_count": 24,
      "outputs": [
        {
          "output_type": "stream",
          "text": [
            "Regression Mean Baseline: 0.10622162204477957\n"
          ],
          "name": "stdout"
        },
        {
          "output_type": "execute_result",
          "data": {
            "text/html": [
              "<div>\n",
              "<style scoped>\n",
              "    .dataframe tbody tr th:only-of-type {\n",
              "        vertical-align: middle;\n",
              "    }\n",
              "\n",
              "    .dataframe tbody tr th {\n",
              "        vertical-align: top;\n",
              "    }\n",
              "\n",
              "    .dataframe thead th {\n",
              "        text-align: right;\n",
              "    }\n",
              "</style>\n",
              "<table border=\"1\" class=\"dataframe\">\n",
              "  <thead>\n",
              "    <tr style=\"text-align: right;\">\n",
              "      <th></th>\n",
              "      <th>DATE</th>\n",
              "      <th>PRCP</th>\n",
              "      <th>TMAX</th>\n",
              "      <th>TMIN</th>\n",
              "      <th>RAIN</th>\n",
              "      <th>preds</th>\n",
              "      <th>FP</th>\n",
              "      <th>TP</th>\n",
              "      <th>FN</th>\n",
              "      <th>TN</th>\n",
              "      <th>preds_r</th>\n",
              "      <th>baseline</th>\n",
              "    </tr>\n",
              "  </thead>\n",
              "  <tbody>\n",
              "    <tr>\n",
              "      <th>0</th>\n",
              "      <td>1948-01-01</td>\n",
              "      <td>0.47</td>\n",
              "      <td>51</td>\n",
              "      <td>42</td>\n",
              "      <td>True</td>\n",
              "      <td>False</td>\n",
              "      <td>0.0</td>\n",
              "      <td>0.0</td>\n",
              "      <td>1.0</td>\n",
              "      <td>0.0</td>\n",
              "      <td>0.389238</td>\n",
              "      <td>0.106222</td>\n",
              "    </tr>\n",
              "    <tr>\n",
              "      <th>1</th>\n",
              "      <td>1948-01-02</td>\n",
              "      <td>0.59</td>\n",
              "      <td>45</td>\n",
              "      <td>36</td>\n",
              "      <td>True</td>\n",
              "      <td>False</td>\n",
              "      <td>0.0</td>\n",
              "      <td>0.0</td>\n",
              "      <td>1.0</td>\n",
              "      <td>0.0</td>\n",
              "      <td>0.225050</td>\n",
              "      <td>0.106222</td>\n",
              "    </tr>\n",
              "    <tr>\n",
              "      <th>2</th>\n",
              "      <td>1948-01-03</td>\n",
              "      <td>0.42</td>\n",
              "      <td>45</td>\n",
              "      <td>35</td>\n",
              "      <td>True</td>\n",
              "      <td>True</td>\n",
              "      <td>0.0</td>\n",
              "      <td>1.0</td>\n",
              "      <td>0.0</td>\n",
              "      <td>0.0</td>\n",
              "      <td>0.430713</td>\n",
              "      <td>0.106222</td>\n",
              "    </tr>\n",
              "    <tr>\n",
              "      <th>3</th>\n",
              "      <td>1948-01-04</td>\n",
              "      <td>0.31</td>\n",
              "      <td>45</td>\n",
              "      <td>34</td>\n",
              "      <td>True</td>\n",
              "      <td>True</td>\n",
              "      <td>0.0</td>\n",
              "      <td>1.0</td>\n",
              "      <td>0.0</td>\n",
              "      <td>0.0</td>\n",
              "      <td>0.351710</td>\n",
              "      <td>0.106222</td>\n",
              "    </tr>\n",
              "    <tr>\n",
              "      <th>4</th>\n",
              "      <td>1948-01-05</td>\n",
              "      <td>0.17</td>\n",
              "      <td>45</td>\n",
              "      <td>32</td>\n",
              "      <td>True</td>\n",
              "      <td>True</td>\n",
              "      <td>0.0</td>\n",
              "      <td>1.0</td>\n",
              "      <td>0.0</td>\n",
              "      <td>0.0</td>\n",
              "      <td>0.056147</td>\n",
              "      <td>0.106222</td>\n",
              "    </tr>\n",
              "  </tbody>\n",
              "</table>\n",
              "</div>"
            ],
            "text/plain": [
              "         DATE  PRCP  TMAX  TMIN  RAIN  ...   TP   FN   TN   preds_r  baseline\n",
              "0  1948-01-01  0.47    51    42  True  ...  0.0  1.0  0.0  0.389238  0.106222\n",
              "1  1948-01-02  0.59    45    36  True  ...  0.0  1.0  0.0  0.225050  0.106222\n",
              "2  1948-01-03  0.42    45    35  True  ...  1.0  0.0  0.0  0.430713  0.106222\n",
              "3  1948-01-04  0.31    45    34  True  ...  1.0  0.0  0.0  0.351710  0.106222\n",
              "4  1948-01-05  0.17    45    32  True  ...  1.0  0.0  0.0  0.056147  0.106222\n",
              "\n",
              "[5 rows x 12 columns]"
            ]
          },
          "metadata": {
            "tags": []
          },
          "execution_count": 24
        }
      ]
    },
    {
      "cell_type": "code",
      "metadata": {
        "id": "boH7M9mhTe72"
      },
      "source": [
        ""
      ],
      "execution_count": null,
      "outputs": []
    }
  ]
}