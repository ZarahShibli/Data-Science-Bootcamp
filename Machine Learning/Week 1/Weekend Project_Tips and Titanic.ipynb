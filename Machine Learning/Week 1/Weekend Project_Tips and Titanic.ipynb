{
  "nbformat": 4,
  "nbformat_minor": 0,
  "metadata": {
    "colab": {
      "name": "Weekend Project 10.ipynb",
      "provenance": [],
      "collapsed_sections": []
    },
    "kernelspec": {
      "name": "python3",
      "display_name": "Python 3"
    }
  },
  "cells": [
    {
      "cell_type": "markdown",
      "metadata": {
        "id": "eE0iBDO1JUy_"
      },
      "source": [
        "## **Group-7**\n",
        "\n",
        "- Wajd Alturki\n",
        "- Lama Alzahrani\n",
        "- Mashael Alhussan\n",
        "- Zarah Shibli\n",
        "\n"
      ]
    },
    {
      "cell_type": "markdown",
      "metadata": {
        "id": "view-in-github"
      },
      "source": [
        "<a href=\"https://colab.research.google.com/github/gumdropsteve/intro_to_machine_learning/blob/main/day_02/02_assignment_cost.ipynb\" target=\"_parent\"><img src=\"https://colab.research.google.com/assets/colab-badge.svg\" alt=\"Open In Colab\"/></a>"
      ]
    },
    {
      "cell_type": "code",
      "metadata": {
        "id": "0DBsWMnDfWJN"
      },
      "source": [
        "%%capture\n",
        "# STARTER CODE - RUN THIS CELL - DO NOT CHANGE\n",
        "!pip install category_encoders\n",
        "import seaborn as sns\n",
        "import pandas as pd\n",
        "import numpy as np\n",
        "import matplotlib.pyplot as plt\n",
        "import category_encoders as ce\n",
        "from sklearn.linear_model import LinearRegression, LogisticRegression\n",
        "from sklearn.preprocessing import StandardScaler\n",
        "from sklearn.model_selection import train_test_split\n",
        "from sklearn.pipeline import make_pipeline\n",
        "from sklearn.metrics import mean_squared_error, mean_absolute_error, accuracy_score, accuracy_score, recall_score, precision_score\n",
        "df_r = sns.load_dataset(\"tips\").dropna()\n",
        "df_c = sns.load_dataset(\"titanic\").dropna()\n",
        "model_r = LinearRegression()\n",
        "model_c = LogisticRegression()\n",
        "x_train_r, x_test_r, y_train_r, y_test_r = train_test_split(df_r.drop(\"total_bill\", axis=1), df_r[\"total_bill\"])\n",
        "x_train_c, x_test_c, y_train_c, y_test_c = train_test_split(df_c.drop([\"survived\", \"alive\", \"adult_male\"], axis=1), df_c[\"survived\"])\n",
        "pipe_r = make_pipeline(ce.OrdinalEncoder(), StandardScaler(), LinearRegression()).fit(x_train_r, y_train_r)\n",
        "pipe_c = make_pipeline(ce.OrdinalEncoder(), StandardScaler(), LogisticRegression()).fit(x_train_c, y_train_c)\n",
        "y_pred_r = pipe_r.predict(x_test_r)\n",
        "y_pred_c = pipe_c.predict(x_test_c)"
      ],
      "execution_count": null,
      "outputs": []
    },
    {
      "cell_type": "code",
      "metadata": {
        "id": "Hn9apg99QHm3"
      },
      "source": [
        "# to change text style \n",
        "class style:\n",
        "   BOLD = '\\033[1m'\n",
        "   UNDERLINE = '\\033[4m'\n",
        "   END = '\\033[0m'"
      ],
      "execution_count": null,
      "outputs": []
    },
    {
      "cell_type": "markdown",
      "metadata": {
        "id": "JA6ub2bZemNP"
      },
      "source": [
        "# Weekend Project 10\n",
        "\n",
        "For this weekend project you will will create 2 heuristic models.\n",
        "- 1 for the Titanic data (Classification)\n",
        "  - Predict whether a person will survive or not survive.\n",
        "- 1 for the Tips dataset (Regression)\n",
        "  - Predict the total bill for each customer\n",
        "\n",
        "You do not have to include all the columns in your feature set. \n",
        "\n",
        "## Steps to follow for training and testing your model:\n",
        "\n",
        "1. Split your dataset to train and test.\n",
        "\n",
        "    - This is a general split \"no need to identify the traget and the feature sets. <br /> <br />\n",
        "1. Use the training to build and tune \"adjust\" your heuristic model. \n",
        "    - This is the dataset the you with EDA to come up with a algorthim for your model.\n",
        "       <br /> <br /> **Note: The test set should be completely hidden to you at this point.** <br /> <br />\n",
        "    - The adjustment happens by chaning the condition inside your function \"if statements and otherwise\".\n",
        "    \n",
        "    - Once you are happy with the performance of you heuristic model, then you can test it. <br /> <br />\n",
        "\n",
        "1. Test your HM using the test split from your dataset. \n",
        "1. Report the baseline model for each HR.\n",
        "  - Classification (Majority Class)\n",
        "  - Regression (Mean of target)\n",
        "1. Compare your model with the Logistic Regression (Titanic) and Linear Regression (Tips)\n",
        "\n",
        "**Note:** You do not need to beat the accuracy of the models, but you are encouraged to try your best.\n",
        "\n",
        "**Note:** You do not have to create your own cost functions. Your will use the Scikit-learn cost functions to evaluate your model.\n",
        "\n",
        "---\n",
        "\n",
        "#### Resources\n",
        "- [Mean Squared Error](https://en.wikipedia.org/wiki/Mean_squared_error)\n",
        "- [Mean Absolute Error](https://en.wikipedia.org/wiki/Mean_absolute_error)\n",
        "- [Root Mean Squared Error](https://en.wikipedia.org/wiki/Root-mean-square_deviation)\n",
        "- [Residual Sum of Squares](https://en.wikipedia.org/wiki/Residual_sum_of_squares)\n",
        "- [Precision, Recall, Accuracy](https://en.wikipedia.org/wiki/Confusion_matrix)\n",
        "- [Scikit-Learn](https://scikit-learn.org/stable/index.html)"
      ]
    },
    {
      "cell_type": "markdown",
      "metadata": {
        "id": "N0gtvZ0xk50L"
      },
      "source": [
        "# Heuristic Model for Tips Dataset"
      ]
    },
    {
      "cell_type": "markdown",
      "metadata": {
        "id": "39_TltPpf60I"
      },
      "source": [
        "#### Regression Cost Functions\n",
        "\n",
        "- Use `y_test_r` as your true labels\n",
        "- Use `y_pred_r` as your predicted labels"
      ]
    },
    {
      "cell_type": "markdown",
      "metadata": {
        "id": "QfJH30zhT7Au"
      },
      "source": [
        "### **Exploratory Data Analysis (EDA)**"
      ]
    },
    {
      "cell_type": "code",
      "metadata": {
        "colab": {
          "base_uri": "https://localhost:8080/"
        },
        "id": "-huG8KN3T6iN",
        "outputId": "d6df703d-477e-47a7-ab79-c9b02e0c805e"
      },
      "source": [
        "df_train_r = x_train_r.copy() # make a copy from x_train data\n",
        "df_train_r['total_bill'] = y_train_r # add y_train as column in the dataset\n",
        "\n",
        "# convert 'total bill' and 'tip' to int, to make visualization plot simple and easy to read\n",
        "df_train_r['total_bill'] = df_train_r['total_bill'].astype('int') \n",
        "df_train_r['tip'] = df_train_r['tip'].astype('int')\n",
        "\n",
        "df_train_r.info()"
      ],
      "execution_count": null,
      "outputs": [
        {
          "output_type": "stream",
          "text": [
            "<class 'pandas.core.frame.DataFrame'>\n",
            "Int64Index: 183 entries, 160 to 214\n",
            "Data columns (total 7 columns):\n",
            " #   Column      Non-Null Count  Dtype   \n",
            "---  ------      --------------  -----   \n",
            " 0   tip         183 non-null    int64   \n",
            " 1   sex         183 non-null    category\n",
            " 2   smoker      183 non-null    category\n",
            " 3   day         183 non-null    category\n",
            " 4   time        183 non-null    category\n",
            " 5   size        183 non-null    int64   \n",
            " 6   total_bill  183 non-null    int64   \n",
            "dtypes: category(4), int64(3)\n",
            "memory usage: 6.9 KB\n"
          ],
          "name": "stdout"
        }
      ]
    },
    {
      "cell_type": "code",
      "metadata": {
        "colab": {
          "base_uri": "https://localhost:8080/",
          "height": 225
        },
        "id": "5r8N_WfbL0ko",
        "outputId": "76cd4e3e-a109-42bd-e44a-d17535a7bb90"
      },
      "source": [
        "# plot the distribuaation of the total bill based on size \n",
        "sns.FacetGrid(df_train_r, col='size').map_dataframe(sns.histplot, x=\"total_bill\");"
      ],
      "execution_count": null,
      "outputs": [
        {
          "output_type": "display_data",
          "data": {
            "image/png": "[encoded data removed]",
            "text/plain": [
              "<Figure size 1296x216 with 6 Axes>"
            ]
          },
          "metadata": {
            "tags": [],
            "needs_background": "light"
          }
        }
      ]
    },
    {
      "cell_type": "code",
      "metadata": {
        "colab": {
          "base_uri": "https://localhost:8080/",
          "height": 441
        },
        "id": "p_YPEYwKsc8q",
        "outputId": "18661ed3-4051-40c0-a05e-458fa455fb6f"
      },
      "source": [
        "# plot the distribuaation of the total bill based on time and day\n",
        "sns.FacetGrid(df_train_r, row=\"time\", col='day').map_dataframe(sns.histplot, x=\"total_bill\");"
      ],
      "execution_count": null,
      "outputs": [
        {
          "output_type": "display_data",
          "data": {
            "image/png": "[encoded data removed]",
            "text/plain": [
              "<Figure size 864x432 with 8 Axes>"
            ]
          },
          "metadata": {
            "tags": [],
            "needs_background": "light"
          }
        }
      ]
    },
    {
      "cell_type": "markdown",
      "metadata": {
        "id": "TFHXKl4QNHFZ"
      },
      "source": [
        "### **2. Use the training to build and tune \"adjust\" your heuristic model.**"
      ]
    },
    {
      "cell_type": "code",
      "metadata": {
        "id": "CVsRKC0ckxcg"
      },
      "source": [
        "# Build your Heuristic model here\n",
        "\n",
        "def Heuristic(row):\n",
        "  \"\"\"\n",
        "  This function to predict total bill:\n",
        "  The mean of total bill for samples with same day and time and size\n",
        "\n",
        "\n",
        "  Input:\n",
        "    row: data frame contains one row\n",
        "\n",
        "  Output:\n",
        "    bill: the prediction of total bill\n",
        "  \"\"\"\n",
        "\n",
        "  # filter data based on the condations, select the matched rows with current row values\n",
        "  #  then group data by size\n",
        "  data = df_train_r[(df_train_r['day']== row['day']) & (df_train_r['time']== row['time'])].groupby('size')\n",
        "\n",
        "  # check if the 'size' of the current row exiting in the grouped data or not \n",
        "  if (row['size'] in (data.mean().index)):\n",
        "     # return the mean of toal bill for row's size\n",
        "    bill = data.mean().total_bill[row['size']]\n",
        "  else:\n",
        "    # return the mean of total bill\n",
        "    bill = df_train_r.total_bill.mean()\n",
        "  return bill\n"
      ],
      "execution_count": null,
      "outputs": []
    },
    {
      "cell_type": "code",
      "metadata": {
        "colab": {
          "base_uri": "https://localhost:8080/"
        },
        "id": "RprUXmc1MjLi",
        "outputId": "7fb90441-4856-4295-8849-08f4be9e9bc6"
      },
      "source": [
        "# apply function on all rows in train data\n",
        "y_pred_r_h_train = [Heuristic(x_train_r.iloc[i]) for i in range(len(x_train_r)) ]\n",
        "\n",
        "print(\"Cost functions for Heuristic Model - Training data\\n\")\n",
        "print(\"MSE: \", mean_squared_error(y_train_r, y_pred_r_h_train))\n",
        "print(\"MAE: \",mean_absolute_error(y_train_r, y_pred_r_h_train))\n",
        "print(\"RMSE: \",mean_squared_error(y_train_r, y_pred_r_h_train, squared=False))"
      ],
      "execution_count": null,
      "outputs": [
        {
          "output_type": "stream",
          "text": [
            "Cost functions for Heuristic Model - Training data\n",
            "\n",
            "MSE:  47.345023226024814\n",
            "MAE:  5.099553766639965\n",
            "RMSE:  6.880771993463002\n"
          ],
          "name": "stdout"
        }
      ]
    },
    {
      "cell_type": "markdown",
      "metadata": {
        "id": "MqubyFOXNPMF"
      },
      "source": [
        "### **3.Test your HM using the test split from your dataset.**"
      ]
    },
    {
      "cell_type": "code",
      "metadata": {
        "id": "quWJVDjYMxkV"
      },
      "source": [
        "# apply function on all rows in test data\n",
        "y_pred_r_h = [Heuristic(x_test_r.iloc[i]) for i in range(len(x_test_r)) ]"
      ],
      "execution_count": null,
      "outputs": []
    },
    {
      "cell_type": "markdown",
      "metadata": {
        "id": "YGHHXwvxNdl0"
      },
      "source": [
        "### **4. Report the baseline model for each HR.**"
      ]
    },
    {
      "cell_type": "code",
      "metadata": {
        "id": "J-FZ9U-EmIZ8",
        "colab": {
          "base_uri": "https://localhost:8080/"
        },
        "outputId": "3ae8186e-e13a-464b-8826-f68d202163a8"
      },
      "source": [
        "# Report your baseline model here (Mean of target)\n",
        "baseline_r = np.full(len(y_test_r), y_train_r.mean()) \n",
        "print(\"Baseline value: \",y_train_r.mean())"
      ],
      "execution_count": null,
      "outputs": [
        {
          "output_type": "stream",
          "text": [
            "Baseline value:  20.108251366120232\n"
          ],
          "name": "stdout"
        }
      ]
    },
    {
      "cell_type": "markdown",
      "metadata": {
        "id": "ciqMvML4NoC0"
      },
      "source": [
        "### **5. Compare your model with the Linear Regression (Tips)**"
      ]
    },
    {
      "cell_type": "code",
      "metadata": {
        "id": "V101fkFskrHj",
        "colab": {
          "base_uri": "https://localhost:8080/"
        },
        "outputId": "11f97c11-91d6-4a47-ef2c-f785b24c94c0"
      },
      "source": [
        "# cost functions for Heuristic Model \n",
        "print(\"-----------------------------------------------\")\n",
        "print(style.BOLD+\"Cost functions for Heuristic Model \"+style.END)\n",
        "print(\"MSE: \", mean_squared_error(y_test_r, y_pred_r_h))\n",
        "print(\"MAE: \",mean_absolute_error(y_test_r, y_pred_r_h))\n",
        "print(\"RMSE: \",mean_squared_error(y_test_r, y_pred_r_h, squared=False))\n",
        "\n",
        "\n",
        "# cost functions for Baseline Model\n",
        "print(\"-----------------------------------------------\")\n",
        "print('')\n",
        "print(style.BOLD+\"Cost functions for Baseline\"+style.END)\n",
        "print(\"MSE: \", mean_squared_error(y_test_r, baseline_r))\n",
        "print(\"MAE: \",mean_absolute_error(y_test_r, baseline_r))\n",
        "print(\"RMSE: \",mean_squared_error(y_test_r, baseline_r, squared=False))\n",
        "\n",
        "\n",
        "# Cost Functions for the Linear Regression (Tips)\n",
        "print(\"-----------------------------------------------\")\n",
        "print('')\n",
        "print(style.BOLD+\"Cost functions for Linear Regression\"+style.END)\n",
        "print(\"MSE: \", mean_squared_error(y_test_r, y_pred_r))\n",
        "print(\"MAE: \",mean_absolute_error(y_test_r, y_pred_r))\n",
        "print(\"RMSE: \",mean_squared_error(y_test_r, y_pred_r, squared=False))\n"
      ],
      "execution_count": null,
      "outputs": [
        {
          "output_type": "stream",
          "text": [
            "-----------------------------------------------\n",
            "\u001b[1mCost functions for Heuristic Model \u001b[0m\n",
            "MSE:  50.061613202146034\n",
            "MAE:  5.3734650929891545\n",
            "RMSE:  7.07542318184192\n",
            "-----------------------------------------------\n",
            "\n",
            "\u001b[1mCost functions for Baseline\u001b[0m\n",
            "MSE:  60.774820929260386\n",
            "MAE:  6.356012720594827\n",
            "RMSE:  7.795820734807874\n",
            "-----------------------------------------------\n",
            "\n",
            "\u001b[1mCost functions for Linear Regression\u001b[0m\n",
            "MSE:  25.19134187192932\n",
            "MAE:  3.781842159680995\n",
            "RMSE:  5.01909771492141\n"
          ],
          "name": "stdout"
        }
      ]
    },
    {
      "cell_type": "markdown",
      "metadata": {
        "id": "lapMA-xTlHcS"
      },
      "source": [
        "# Heuristic Model for Titanic Dataset"
      ]
    },
    {
      "cell_type": "markdown",
      "metadata": {
        "id": "fYpJ2jdYf-Et"
      },
      "source": [
        "#### Classification Cost Functions\n",
        "\n",
        "- Use `y_test_c` as your true labels\n",
        "- Use `y_pred_c` as your predicted labels"
      ]
    },
    {
      "cell_type": "markdown",
      "metadata": {
        "id": "ovyOyQYTswiL"
      },
      "source": [
        "### EDA"
      ]
    },
    {
      "cell_type": "code",
      "metadata": {
        "colab": {
          "base_uri": "https://localhost:8080/",
          "height": 225
        },
        "id": "eC9Jqw8Jsv9Y",
        "outputId": "a738c333-c924-47d0-945f-a979f758b6e1"
      },
      "source": [
        "sns.FacetGrid(df_c, col=\"survived\").map_dataframe(sns.histplot, x=\"fare\");"
      ],
      "execution_count": null,
      "outputs": [
        {
          "output_type": "display_data",
          "data": {
            "image/png": "[encoded data removed]",
            "text/plain": [
              "<Figure size 432x216 with 2 Axes>"
            ]
          },
          "metadata": {
            "tags": [],
            "needs_background": "light"
          }
        }
      ]
    },
    {
      "cell_type": "code",
      "metadata": {
        "colab": {
          "base_uri": "https://localhost:8080/",
          "height": 225
        },
        "id": "McDTiWWLtl9i",
        "outputId": "579f9791-3436-49c6-f296-c6a994251632"
      },
      "source": [
        "sns.FacetGrid(df_c, col=\"survived\").map_dataframe(sns.histplot, x=\"sibsp\");"
      ],
      "execution_count": null,
      "outputs": [
        {
          "output_type": "display_data",
          "data": {
            "image/png": "[encoded data removed]",
            "text/plain": [
              "<Figure size 432x216 with 2 Axes>"
            ]
          },
          "metadata": {
            "tags": [],
            "needs_background": "light"
          }
        }
      ]
    },
    {
      "cell_type": "code",
      "metadata": {
        "colab": {
          "base_uri": "https://localhost:8080/",
          "height": 225
        },
        "id": "p95nFacZuHNB",
        "outputId": "31a3faf3-bd95-46c3-a488-351ecd37d54a"
      },
      "source": [
        "sns.FacetGrid(df_c, col=\"survived\").map_dataframe(sns.histplot, x=\"parch\");"
      ],
      "execution_count": null,
      "outputs": [
        {
          "output_type": "display_data",
          "data": {
            "image/png": "[encoded data removed]",
            "text/plain": [
              "<Figure size 432x216 with 2 Axes>"
            ]
          },
          "metadata": {
            "tags": [],
            "needs_background": "light"
          }
        }
      ]
    },
    {
      "cell_type": "code",
      "metadata": {
        "colab": {
          "base_uri": "https://localhost:8080/",
          "height": 225
        },
        "id": "PCmj3XJ_tqv2",
        "outputId": "e629a2b4-b42b-4445-dedf-e378bfed53a0"
      },
      "source": [
        "sns.FacetGrid(df_c, col=\"survived\").map_dataframe(sns.histplot, x=\"who\");"
      ],
      "execution_count": null,
      "outputs": [
        {
          "output_type": "display_data",
          "data": {
            "image/png": "[encoded data removed]",
            "text/plain": [
              "<Figure size 432x216 with 2 Axes>"
            ]
          },
          "metadata": {
            "tags": [],
            "needs_background": "light"
          }
        }
      ]
    },
    {
      "cell_type": "code",
      "metadata": {
        "colab": {
          "base_uri": "https://localhost:8080/",
          "height": 225
        },
        "id": "WSrPyV1atwBx",
        "outputId": "ace7984e-1026-470f-fa6c-1a679f404495"
      },
      "source": [
        "sns.FacetGrid(df_c, col=\"survived\").map_dataframe(sns.histplot, x=\"age\");"
      ],
      "execution_count": null,
      "outputs": [
        {
          "output_type": "display_data",
          "data": {
            "image/png": "[encoded data removed]",
            "text/plain": [
              "<Figure size 432x216 with 2 Axes>"
            ]
          },
          "metadata": {
            "tags": [],
            "needs_background": "light"
          }
        }
      ]
    },
    {
      "cell_type": "code",
      "metadata": {
        "colab": {
          "base_uri": "https://localhost:8080/",
          "height": 225
        },
        "id": "60QcZ8UHt0U0",
        "outputId": "d1a63419-bd63-48e5-e534-ab1b28812c6f"
      },
      "source": [
        "sns.FacetGrid(df_c, col=\"survived\").map_dataframe(sns.histplot, x=\"sex\");"
      ],
      "execution_count": null,
      "outputs": [
        {
          "output_type": "display_data",
          "data": {
            "image/png": "[encoded data removed]",
            "text/plain": [
              "<Figure size 432x216 with 2 Axes>"
            ]
          },
          "metadata": {
            "tags": [],
            "needs_background": "light"
          }
        }
      ]
    },
    {
      "cell_type": "markdown",
      "metadata": {
        "id": "L-fJXryzQVox"
      },
      "source": [
        "### **2. Use the training to build and tune \"adjust\" your heuristic model.**"
      ]
    },
    {
      "cell_type": "code",
      "metadata": {
        "id": "AWTUxTaMluPE"
      },
      "source": [
        "# Build your Heuristic model here\n",
        "\n",
        "def heuristic_titanic(df):\n",
        "  \"\"\"\n",
        "  This function to predict if survived or not:\n",
        "\n",
        "\n",
        "  Input:\n",
        "    dt: data frame contains all records\n",
        "\n",
        "  Output:\n",
        "    preds: the prediction of survived\n",
        "  \"\"\"\n",
        "  preds = []\n",
        "  \n",
        "  for x in range(len(df)):\n",
        "      condation_1 = df.iloc[x]['age'] < 50 \n",
        "      condation_2 = df.iloc[x]['who'] == 'woman'\n",
        "      condation_3 = df.iloc[x]['fare'] <300 \n",
        "      condation_4 = df.iloc[x]['sex'] == 'female'\n",
        "\n",
        "      if condation_1  & condation_3 & condation_4:\n",
        "          preds.append(True)\n",
        "      else:\n",
        "          preds.append(False)\n",
        "  return preds\n"
      ],
      "execution_count": null,
      "outputs": []
    },
    {
      "cell_type": "code",
      "metadata": {
        "colab": {
          "base_uri": "https://localhost:8080/"
        },
        "id": "P_jO7bzERDMg",
        "outputId": "1806985d-6076-4b39-a302-9e8badbcb5ec"
      },
      "source": [
        "# return the prediction for train \n",
        "y_pred_c_h_train = heuristic_titanic(x_train_c)\n",
        "\n",
        "print(\"-----------------------------------------------\")\n",
        "print(style.BOLD+\"Cost functions for Heuristic Model - Train\"+style.END)\n",
        "print(\"Recall Score: \",recall_score(y_train_c, y_pred_c_h_train))\n",
        "print(\"Precision Score: \",precision_score(y_train_c, y_pred_c_h_train))\n",
        "print(\"Accuracy Score: \",accuracy_score(y_train_c, y_pred_c_h_train))"
      ],
      "execution_count": null,
      "outputs": [
        {
          "output_type": "stream",
          "text": [
            "-----------------------------------------------\n",
            "\u001b[1mCost functions for Heuristic Model - Train\u001b[0m\n",
            "Recall Score:  0.5714285714285714\n",
            "Precision Score:  0.9285714285714286\n",
            "Accuracy Score:  0.6838235294117647\n"
          ],
          "name": "stdout"
        }
      ]
    },
    {
      "cell_type": "markdown",
      "metadata": {
        "id": "a0rG8fuiQVlm"
      },
      "source": [
        "### **3.Test your HM using the test split from your dataset.**"
      ]
    },
    {
      "cell_type": "code",
      "metadata": {
        "id": "DcqN5TLUROtx"
      },
      "source": [
        "# return the prediction for test \n",
        "y_pred_c_h = heuristic_titanic(x_test_c)"
      ],
      "execution_count": null,
      "outputs": []
    },
    {
      "cell_type": "markdown",
      "metadata": {
        "id": "AW15_XoDQVek"
      },
      "source": [
        "### **4. Report the baseline model for each HR.**"
      ]
    },
    {
      "cell_type": "code",
      "metadata": {
        "id": "EiUhvDL9l9Ka",
        "colab": {
          "base_uri": "https://localhost:8080/"
        },
        "outputId": "5ad878af-c0ed-4fc2-b022-2cba8f3f6b55"
      },
      "source": [
        "# Report your baseline model here (Majority Class)\n",
        "baseline_c_majority = y_train_c.value_counts(normalize=True).index[0]\n",
        "baseline_c = np.full(len(y_test_c), baseline_c_majority )  # fill this value by baseline_c_majority with length of test data  :(y_test_c)\n",
        "print(\"Baseline: \",baseline_c_majority)"
      ],
      "execution_count": null,
      "outputs": [
        {
          "output_type": "stream",
          "text": [
            "Baseline:  1\n"
          ],
          "name": "stdout"
        }
      ]
    },
    {
      "cell_type": "markdown",
      "metadata": {
        "id": "9L5w25QrQnA1"
      },
      "source": [
        "### **5. Compare your model with the Logistic Regression (Titanic)**"
      ]
    },
    {
      "cell_type": "code",
      "metadata": {
        "id": "zd2iMnKAmBcP",
        "colab": {
          "base_uri": "https://localhost:8080/"
        },
        "outputId": "bdaf1416-9ee5-4e5a-cd71-9b41a8cb6f21"
      },
      "source": [
        "# Cost Functions for Heuristic Model\n",
        "print(\"-----------------------------------------------\")\n",
        "print('')\n",
        "print(style.BOLD+\"Cost functions for Heuristic Model\"+style.END)\n",
        "print(\"Recall Score: \",recall_score(y_test_c, y_pred_c_h))\n",
        "print(\"Precision Score: \",precision_score(y_test_c, y_pred_c_h))\n",
        "print(\"Accuracy Score: \",accuracy_score(y_test_c, y_pred_c_h))\n",
        "\n",
        "\n",
        "# Cost Functions for Baseline Model\n",
        "print(\"-----------------------------------------------\")\n",
        "print('')\n",
        "print(style.BOLD+\"Cost functions for Baseline\"+style.END)\n",
        "print(\"Recall Score: \",recall_score(y_test_c, baseline_c))\n",
        "print(\"Precision Score: \",precision_score(y_test_c, baseline_c))\n",
        "print(\"Accuracy Score: \",accuracy_score(y_test_c, baseline_c))\n",
        "\n",
        "\n",
        "# Cost Functions for Logistic Regression (Titanic)\n",
        "print(\"-----------------------------------------------\")\n",
        "print('')\n",
        "print(style.BOLD+\"Cost functions for Logistic Regression (Titanic)\"+style.END)\n",
        "print(\"Recall Score: \",recall_score(y_test_c, y_pred_c))\n",
        "print(\"Precision Score: \",precision_score(y_test_c, y_pred_c))\n",
        "print(\"Accuracy Score: \",accuracy_score(y_test_c, y_pred_c))\n"
      ],
      "execution_count": null,
      "outputs": [
        {
          "output_type": "stream",
          "text": [
            "-----------------------------------------------\n",
            "\n",
            "\u001b[1mCost functions for Heuristic Model\u001b[0m\n",
            "Recall Score:  0.6\n",
            "Precision Score:  0.9\n",
            "Accuracy Score:  0.6956521739130435\n",
            "-----------------------------------------------\n",
            "\n",
            "\u001b[1mCost functions for Baseline\u001b[0m\n",
            "Recall Score:  1.0\n",
            "Precision Score:  0.6521739130434783\n",
            "Accuracy Score:  0.6521739130434783\n",
            "-----------------------------------------------\n",
            "\n",
            "\u001b[1mCost functions for Logistic Regression (Titanic)\u001b[0m\n",
            "Recall Score:  0.8\n",
            "Precision Score:  0.8275862068965517\n",
            "Accuracy Score:  0.7608695652173914\n"
          ],
          "name": "stdout"
        }
      ]
    },
    {
      "cell_type": "code",
      "metadata": {
        "id": "k1YsQgCfSUCv"
      },
      "source": [
        ""
      ],
      "execution_count": null,
      "outputs": []
    }
  ]
}