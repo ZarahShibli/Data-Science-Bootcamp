{
  "nbformat": 4,
  "nbformat_minor": 0,
  "metadata": {
    "colab": {
      "name": "Day3_seattle_weather.ipynb",
      "provenance": [],
      "collapsed_sections": []
    },
    "kernelspec": {
      "name": "python3",
      "display_name": "Python 3"
    },
    "language_info": {
      "name": "python"
    }
  },
  "cells": [
    {
      "cell_type": "markdown",
      "metadata": {
        "id": "6-bBHFudJ7sC"
      },
      "source": [
        "## **The aim of this project is to build a classifier model to predict rain in Seattle**"
      ]
    },
    {
      "cell_type": "code",
      "metadata": {
        "id": "1RJsekyS0FvC"
      },
      "source": [
        "# import libraries\n",
        "import numpy as np\n",
        "import pandas as pd\n",
        "import seaborn as sns\n",
        "import matplotlib.pyplot as plt\n",
        "sns.set_style('white')\n",
        "sns.set_palette('rocket')\n",
        "\n",
        "from sklearn.model_selection import train_test_split, cross_val_score, GridSearchCV\n",
        "\n",
        "from sklearn.impute import SimpleImputer # Impute the missing values\n",
        "\n",
        "from sklearn.ensemble import RandomForestClassifier, StackingClassifier, StackingRegressor, RandomForestRegressor\n",
        "from sklearn.svm import LinearSVC , SVR\n",
        "from sklearn.linear_model import LogisticRegression, LinearRegression\n",
        "from sklearn.tree import DecisionTreeClassifier\n",
        "from sklearn.metrics import accuracy_score, recall_score, precision_score, plot_confusion_matrix , classification_report # metrics functions for catigorical data\n",
        "\n",
        "from sklearn.metrics import mean_squared_error, mean_absolute_error, r2_score # metrics functions for continuous data\n"
      ],
      "execution_count": null,
      "outputs": []
    },
    {
      "cell_type": "markdown",
      "metadata": {
        "id": "9SEIKiWS0cR4"
      },
      "source": [
        "## Load Data"
      ]
    },
    {
      "cell_type": "code",
      "metadata": {
        "colab": {
          "base_uri": "https://localhost:8080/",
          "height": 223
        },
        "id": "10A6dGid0Trq",
        "outputId": "5cabdba8-f34d-4640-ffdb-374692f17a54"
      },
      "source": [
        "# read data from the driver csv file\n",
        "URL = 'https://drive.google.com/file/d/16ZSKEHFlF0QVnrdUu3Zb2yJg1t95awkn/view?usp=sharing'\n",
        "path = 'https://drive.google.com/uc?export=download&id='+URL.split('/')[-2]\n",
        "print(path)\n",
        "df = pd.read_csv(path)\n",
        "df.head()"
      ],
      "execution_count": null,
      "outputs": [
        {
          "output_type": "stream",
          "text": [
            "https://drive.google.com/uc?export=download&id=16ZSKEHFlF0QVnrdUu3Zb2yJg1t95awkn\n"
          ],
          "name": "stdout"
        },
        {
          "output_type": "execute_result",
          "data": {
            "text/html": [
              "<div>\n",
              "<style scoped>\n",
              "    .dataframe tbody tr th:only-of-type {\n",
              "        vertical-align: middle;\n",
              "    }\n",
              "\n",
              "    .dataframe tbody tr th {\n",
              "        vertical-align: top;\n",
              "    }\n",
              "\n",
              "    .dataframe thead th {\n",
              "        text-align: right;\n",
              "    }\n",
              "</style>\n",
              "<table border=\"1\" class=\"dataframe\">\n",
              "  <thead>\n",
              "    <tr style=\"text-align: right;\">\n",
              "      <th></th>\n",
              "      <th>DATE</th>\n",
              "      <th>PRCP</th>\n",
              "      <th>TMAX</th>\n",
              "      <th>TMIN</th>\n",
              "      <th>RAIN</th>\n",
              "    </tr>\n",
              "  </thead>\n",
              "  <tbody>\n",
              "    <tr>\n",
              "      <th>0</th>\n",
              "      <td>1948-01-01</td>\n",
              "      <td>0.47</td>\n",
              "      <td>51</td>\n",
              "      <td>42</td>\n",
              "      <td>True</td>\n",
              "    </tr>\n",
              "    <tr>\n",
              "      <th>1</th>\n",
              "      <td>1948-01-02</td>\n",
              "      <td>0.59</td>\n",
              "      <td>45</td>\n",
              "      <td>36</td>\n",
              "      <td>True</td>\n",
              "    </tr>\n",
              "    <tr>\n",
              "      <th>2</th>\n",
              "      <td>1948-01-03</td>\n",
              "      <td>0.42</td>\n",
              "      <td>45</td>\n",
              "      <td>35</td>\n",
              "      <td>True</td>\n",
              "    </tr>\n",
              "    <tr>\n",
              "      <th>3</th>\n",
              "      <td>1948-01-04</td>\n",
              "      <td>0.31</td>\n",
              "      <td>45</td>\n",
              "      <td>34</td>\n",
              "      <td>True</td>\n",
              "    </tr>\n",
              "    <tr>\n",
              "      <th>4</th>\n",
              "      <td>1948-01-05</td>\n",
              "      <td>0.17</td>\n",
              "      <td>45</td>\n",
              "      <td>32</td>\n",
              "      <td>True</td>\n",
              "    </tr>\n",
              "  </tbody>\n",
              "</table>\n",
              "</div>"
            ],
            "text/plain": [
              "         DATE  PRCP  TMAX  TMIN  RAIN\n",
              "0  1948-01-01  0.47    51    42  True\n",
              "1  1948-01-02  0.59    45    36  True\n",
              "2  1948-01-03  0.42    45    35  True\n",
              "3  1948-01-04  0.31    45    34  True\n",
              "4  1948-01-05  0.17    45    32  True"
            ]
          },
          "metadata": {
            "tags": []
          },
          "execution_count": 2
        }
      ]
    },
    {
      "cell_type": "code",
      "metadata": {
        "colab": {
          "base_uri": "https://localhost:8080/"
        },
        "id": "OLjnc-NElHoU",
        "outputId": "ede1846e-c109-44da-90ea-148990e38964"
      },
      "source": [
        "df.info()"
      ],
      "execution_count": null,
      "outputs": [
        {
          "output_type": "stream",
          "text": [
            "<class 'pandas.core.frame.DataFrame'>\n",
            "RangeIndex: 25551 entries, 0 to 25550\n",
            "Data columns (total 5 columns):\n",
            " #   Column  Non-Null Count  Dtype  \n",
            "---  ------  --------------  -----  \n",
            " 0   DATE    25551 non-null  object \n",
            " 1   PRCP    25548 non-null  float64\n",
            " 2   TMAX    25551 non-null  int64  \n",
            " 3   TMIN    25551 non-null  int64  \n",
            " 4   RAIN    25548 non-null  object \n",
            "dtypes: float64(1), int64(2), object(2)\n",
            "memory usage: 998.2+ KB\n"
          ],
          "name": "stdout"
        }
      ]
    },
    {
      "cell_type": "code",
      "metadata": {
        "colab": {
          "base_uri": "https://localhost:8080/"
        },
        "id": "gNjRjB0Tiqtf",
        "outputId": "00714bde-5eba-44bf-b379-2bca53585e11"
      },
      "source": [
        "# check missing values\n",
        "df.isna().sum()"
      ],
      "execution_count": null,
      "outputs": [
        {
          "output_type": "execute_result",
          "data": {
            "text/plain": [
              "DATE    0\n",
              "PRCP    3\n",
              "TMAX    0\n",
              "TMIN    0\n",
              "RAIN    3\n",
              "dtype: int64"
            ]
          },
          "metadata": {
            "tags": []
          },
          "execution_count": 4
        }
      ]
    },
    {
      "cell_type": "code",
      "metadata": {
        "colab": {
          "base_uri": "https://localhost:8080/",
          "height": 142
        },
        "id": "oo0MfZfvkban",
        "outputId": "5aa11471-068f-48cd-b880-0422b2dde5c0"
      },
      "source": [
        "# show missing rows\n",
        "df[df['PRCP'].isna()]"
      ],
      "execution_count": null,
      "outputs": [
        {
          "output_type": "execute_result",
          "data": {
            "text/html": [
              "<div>\n",
              "<style scoped>\n",
              "    .dataframe tbody tr th:only-of-type {\n",
              "        vertical-align: middle;\n",
              "    }\n",
              "\n",
              "    .dataframe tbody tr th {\n",
              "        vertical-align: top;\n",
              "    }\n",
              "\n",
              "    .dataframe thead th {\n",
              "        text-align: right;\n",
              "    }\n",
              "</style>\n",
              "<table border=\"1\" class=\"dataframe\">\n",
              "  <thead>\n",
              "    <tr style=\"text-align: right;\">\n",
              "      <th></th>\n",
              "      <th>DATE</th>\n",
              "      <th>PRCP</th>\n",
              "      <th>TMAX</th>\n",
              "      <th>TMIN</th>\n",
              "      <th>RAIN</th>\n",
              "    </tr>\n",
              "  </thead>\n",
              "  <tbody>\n",
              "    <tr>\n",
              "      <th>18415</th>\n",
              "      <td>1998-06-02</td>\n",
              "      <td>NaN</td>\n",
              "      <td>72</td>\n",
              "      <td>52</td>\n",
              "      <td>NaN</td>\n",
              "    </tr>\n",
              "    <tr>\n",
              "      <th>18416</th>\n",
              "      <td>1998-06-03</td>\n",
              "      <td>NaN</td>\n",
              "      <td>66</td>\n",
              "      <td>51</td>\n",
              "      <td>NaN</td>\n",
              "    </tr>\n",
              "    <tr>\n",
              "      <th>21067</th>\n",
              "      <td>2005-09-05</td>\n",
              "      <td>NaN</td>\n",
              "      <td>70</td>\n",
              "      <td>52</td>\n",
              "      <td>NaN</td>\n",
              "    </tr>\n",
              "  </tbody>\n",
              "</table>\n",
              "</div>"
            ],
            "text/plain": [
              "             DATE  PRCP  TMAX  TMIN RAIN\n",
              "18415  1998-06-02   NaN    72    52  NaN\n",
              "18416  1998-06-03   NaN    66    51  NaN\n",
              "21067  2005-09-05   NaN    70    52  NaN"
            ]
          },
          "metadata": {
            "tags": []
          },
          "execution_count": 5
        }
      ]
    },
    {
      "cell_type": "markdown",
      "metadata": {
        "id": "htUWOlqCad20"
      },
      "source": [
        "### Pre-porcessing data"
      ]
    },
    {
      "cell_type": "code",
      "metadata": {
        "id": "4QjJG7LcinIG"
      },
      "source": [
        "# fill the missing value in PRCP with mean\n",
        "imputer_mean = SimpleImputer(missing_values=np.NaN, strategy='mean')\n",
        "imputer_mean.fit(df[['PRCP']]) # train the \n",
        "df['PRCP'] = imputer_mean.transform(df[['PRCP']])"
      ],
      "execution_count": null,
      "outputs": []
    },
    {
      "cell_type": "code",
      "metadata": {
        "id": "H09I2Qbvk7Lr"
      },
      "source": [
        "# fill the missing values in RAIN with mode (False)\n",
        "imputer_mode = SimpleImputer(missing_values=np.NaN, strategy='most_frequent')\n",
        "imputer_mode.fit(df[['RAIN']])\n",
        "df['RAIN'] = imputer_mode.transform(df[['RAIN']])"
      ],
      "execution_count": null,
      "outputs": []
    },
    {
      "cell_type": "code",
      "metadata": {
        "id": "SV3VGy3kpenu"
      },
      "source": [
        "# convert datatype to boolean\n",
        "df[\"RAIN\"] = df[\"RAIN\"].astype(bool)"
      ],
      "execution_count": null,
      "outputs": []
    },
    {
      "cell_type": "code",
      "metadata": {
        "colab": {
          "base_uri": "https://localhost:8080/"
        },
        "id": "tTT1ZfQPkI37",
        "outputId": "c9f69dfc-6082-44c0-ac6b-7551064aaa83"
      },
      "source": [
        "# check the result after impute step\n",
        "df.iloc[18415]"
      ],
      "execution_count": null,
      "outputs": [
        {
          "output_type": "execute_result",
          "data": {
            "text/plain": [
              "DATE    1998-06-02\n",
              "PRCP      0.106222\n",
              "TMAX            72\n",
              "TMIN            52\n",
              "RAIN         False\n",
              "Name: 18415, dtype: object"
            ]
          },
          "metadata": {
            "tags": []
          },
          "execution_count": 9
        }
      ]
    },
    {
      "cell_type": "markdown",
      "metadata": {
        "id": "mO9GGg0A3s7D"
      },
      "source": [
        "#### 1. Separate your data set into training and testing. (80/20 split)"
      ]
    },
    {
      "cell_type": "code",
      "metadata": {
        "id": "tfj2y-NS0jt3"
      },
      "source": [
        "# split data to training and testing with ratio 80/20\n",
        "X_train, X_test, y_train , y_test = train_test_split(\n",
        "    df.drop(['DATE','PRCP','RAIN'], axis=1),\n",
        "    df['RAIN'],\n",
        "    train_size = 0.8,\n",
        "    test_size = 0.2,\n",
        "    random_state = 42\n",
        ")"
      ],
      "execution_count": null,
      "outputs": []
    },
    {
      "cell_type": "code",
      "metadata": {
        "colab": {
          "base_uri": "https://localhost:8080/"
        },
        "id": "NZySopb84BI_",
        "outputId": "631389ad-0a70-4f72-fb39-462ab928ed8d"
      },
      "source": [
        "# shape of data\n",
        "X_train.shape, y_train.shape, X_test.shape, y_test.shape"
      ],
      "execution_count": null,
      "outputs": [
        {
          "output_type": "execute_result",
          "data": {
            "text/plain": [
              "((20440, 2), (20440,), (5111, 2), (5111,))"
            ]
          },
          "metadata": {
            "tags": []
          },
          "execution_count": 11
        }
      ]
    },
    {
      "cell_type": "markdown",
      "metadata": {
        "id": "5p7b4loR4Qha"
      },
      "source": [
        "### 2. Calculate the Precision and Recall for the classification (Predict RAIN)"
      ]
    },
    {
      "cell_type": "markdown",
      "metadata": {
        "id": "5SqWMLYZamr7"
      },
      "source": [
        "### Build model"
      ]
    },
    {
      "cell_type": "markdown",
      "metadata": {
        "id": "nWIBgJfXPPyV"
      },
      "source": [
        "#### **Baseline model**"
      ]
    },
    {
      "cell_type": "code",
      "metadata": {
        "colab": {
          "base_uri": "https://localhost:8080/"
        },
        "id": "Xq4npNLyPNjz",
        "outputId": "1c700f0e-5ce9-4fd9-c6a3-e2f585e0661d"
      },
      "source": [
        "# Baseline (0.575978)\n",
        "y_train.value_counts(normalize=True)"
      ],
      "execution_count": null,
      "outputs": [
        {
          "output_type": "execute_result",
          "data": {
            "text/plain": [
              "False    0.572114\n",
              "True     0.427886\n",
              "Name: RAIN, dtype: float64"
            ]
          },
          "metadata": {
            "tags": []
          },
          "execution_count": 13
        }
      ]
    },
    {
      "cell_type": "markdown",
      "metadata": {
        "id": "Spr5r3Hd5Yp5"
      },
      "source": [
        "##### **Logistic Regression model**\n",
        "\n",
        "<p align=\"center\">\n",
        "  <img src=\"https://www.tibco.com/sites/tibco/files/media_entity/2020-09/logistic-regression-diagram.svg\">\n",
        "</p>\n",
        "\n"
      ]
    },
    {
      "cell_type": "code",
      "metadata": {
        "colab": {
          "base_uri": "https://localhost:8080/"
        },
        "id": "jWtb4eGZrbcd",
        "outputId": "48b2aaf1-40d0-42d0-8b0b-e2b944ee42bc"
      },
      "source": [
        "# Logistic Regression model\n",
        "lr = LogisticRegression()\n",
        "lr.fit(X_train, y_train) # train model\n",
        "preds_lr = lr.predict(X_test) # predict results \n",
        "\n",
        "print(\"----------------------------------------------------------\")\n",
        "print('Logistic Regression')\n",
        "print(classification_report(y_test, preds_lr))"
      ],
      "execution_count": null,
      "outputs": [
        {
          "output_type": "stream",
          "text": [
            "----------------------------------------------------------\n",
            "Logistic Regression\n",
            "              precision    recall  f1-score   support\n",
            "\n",
            "       False       0.78      0.77      0.78      2957\n",
            "        True       0.69      0.70      0.70      2154\n",
            "\n",
            "    accuracy                           0.74      5111\n",
            "   macro avg       0.74      0.74      0.74      5111\n",
            "weighted avg       0.74      0.74      0.74      5111\n",
            "\n"
          ],
          "name": "stdout"
        }
      ]
    },
    {
      "cell_type": "markdown",
      "metadata": {
        "id": "korWIlqyOUAx"
      },
      "source": [
        "**Random Forest Classifier**\n",
        "<p align=\"center\">\n",
        "  <img src=\"https://static.javatpoint.com/tutorial/machine-learning/images/random-forest-algorithm2.png\">\n",
        "</p>"
      ]
    },
    {
      "cell_type": "code",
      "metadata": {
        "colab": {
          "base_uri": "https://localhost:8080/"
        },
        "id": "tTrw0FnuUO1A",
        "outputId": "f57586ca-6d9b-447e-86b8-d78230e78c76"
      },
      "source": [
        "# create Random Forest Classifer\n",
        "rf = RandomForestClassifier() \n",
        "rf.fit(X_train, y_train) # train model\n",
        "preds_rf = rf.predict(X_test) # predict results \n",
        "\n",
        "print(\"----------------------------------------------------------\")\n",
        "print('Random Forest Classifier')\n",
        "print(classification_report(y_test, preds_rf))"
      ],
      "execution_count": null,
      "outputs": [
        {
          "output_type": "stream",
          "text": [
            "----------------------------------------------------------\n",
            "Random Forest Classifier\n",
            "              precision    recall  f1-score   support\n",
            "\n",
            "       False       0.80      0.77      0.78      2957\n",
            "        True       0.70      0.74      0.72      2154\n",
            "\n",
            "    accuracy                           0.76      5111\n",
            "   macro avg       0.75      0.75      0.75      5111\n",
            "weighted avg       0.76      0.76      0.76      5111\n",
            "\n"
          ],
          "name": "stdout"
        }
      ]
    },
    {
      "cell_type": "code",
      "metadata": {
        "colab": {
          "base_uri": "https://localhost:8080/"
        },
        "id": "qkhydQKlS_k5",
        "outputId": "06135c90-5219-426c-8577-fe75f1695f1a"
      },
      "source": [
        "parameters = {\n",
        "    'n_estimators':[50,100,150,200],\n",
        "    'max_depth': [20,40,60,80,100]\n",
        "    } # The number of trees in the forest.\n",
        "\n",
        "\n",
        "clf = GridSearchCV(rf, parameters, cv=5) # pass random forest classifer model, parameters and number of cross validation\n",
        "clf.fit(X_train, y_train) # trian model\n",
        "preds_clf = clf.predict(X_test) # predict result\n",
        "\n",
        "print(\"----------------------------------------------------------\")\n",
        "print('The best model of Random Forest Classifier')\n",
        "print(classification_report(y_test, preds_clf))"
      ],
      "execution_count": null,
      "outputs": [
        {
          "output_type": "stream",
          "text": [
            "----------------------------------------------------------\n",
            "The best model of Random Forest Classifier\n",
            "              precision    recall  f1-score   support\n",
            "\n",
            "       False       0.80      0.76      0.78      2957\n",
            "        True       0.69      0.74      0.72      2154\n",
            "\n",
            "    accuracy                           0.75      5111\n",
            "   macro avg       0.75      0.75      0.75      5111\n",
            "weighted avg       0.76      0.75      0.75      5111\n",
            "\n"
          ],
          "name": "stdout"
        }
      ]
    },
    {
      "cell_type": "markdown",
      "metadata": {
        "id": "ZVXPs3kI2phl"
      },
      "source": [
        "**For classifcation, the Random Forest classifier model achieved a high accuracy of around 76% .**"
      ]
    },
    {
      "cell_type": "code",
      "metadata": {
        "colab": {
          "base_uri": "https://localhost:8080/"
        },
        "id": "gAssJSRcTVzt",
        "outputId": "639fca66-d03c-4904-e6e2-57f477ed0d43"
      },
      "source": [
        "preds = clf.predict(X_test)\n",
        "\n",
        "print(classification_report(y_test, preds))"
      ],
      "execution_count": null,
      "outputs": [
        {
          "output_type": "stream",
          "text": [
            "              precision    recall  f1-score   support\n",
            "\n",
            "       False       0.80      0.76      0.78      2957\n",
            "        True       0.69      0.74      0.72      2154\n",
            "\n",
            "    accuracy                           0.75      5111\n",
            "   macro avg       0.75      0.75      0.75      5111\n",
            "weighted avg       0.76      0.75      0.75      5111\n",
            "\n"
          ],
          "name": "stdout"
        }
      ]
    },
    {
      "cell_type": "markdown",
      "metadata": {
        "id": "bUchKvtgVwH4"
      },
      "source": [
        "### **3. Calculate the MSE, MAE, or SSE for the regression heuristic you made yesterday.**"
      ]
    },
    {
      "cell_type": "code",
      "metadata": {
        "id": "DfP2mYBfeNmx"
      },
      "source": [
        "# split data to training and testing with ratio 80/20\n",
        "X_train, X_test, y_train , y_test = train_test_split(\n",
        "    df.drop(['DATE','PRCP'], axis=1),\n",
        "    df['PRCP'],\n",
        "    train_size = 0.8, \n",
        "    test_size = 0.2,\n",
        "    random_state = 42\n",
        ")"
      ],
      "execution_count": null,
      "outputs": []
    },
    {
      "cell_type": "code",
      "metadata": {
        "colab": {
          "base_uri": "https://localhost:8080/"
        },
        "id": "pim_e8hczxdG",
        "outputId": "705bb876-0df1-4211-d077-b13d40fb9aeb"
      },
      "source": [
        "# Baseline (0.10706861268317278)\n",
        "y_train.mean()"
      ],
      "execution_count": null,
      "outputs": [
        {
          "output_type": "execute_result",
          "data": {
            "text/plain": [
              "0.10706861268317278"
            ]
          },
          "metadata": {
            "tags": []
          },
          "execution_count": 21
        }
      ]
    },
    {
      "cell_type": "code",
      "metadata": {
        "colab": {
          "base_uri": "https://localhost:8080/",
          "height": 279
        },
        "id": "d4vCcMpukrij",
        "outputId": "0dd46db7-aca4-49f9-cb33-dd646916ce51"
      },
      "source": [
        "# there is strong positive relaiton between TMAX and TMIN\n",
        "sns.scatterplot(data = df, x= 'TMAX', y ='TMIN',hue = 'RAIN')\n",
        "\n",
        "plt.xlabel(\"TMAX\")\n",
        "plt.ylabel(\"TMIN\");"
      ],
      "execution_count": null,
      "outputs": [
        {
          "output_type": "display_data",
          "data": {
            "image/png": "[encoded data removed]",
            "text/plain": [
              "<Figure size 432x288 with 1 Axes>"
            ]
          },
          "metadata": {
            "tags": [],
            "needs_background": "light"
          }
        }
      ]
    },
    {
      "cell_type": "code",
      "metadata": {
        "id": "9vnlfH_QmgH2"
      },
      "source": [
        "# Create a sum of squared error Function\n",
        "def sse(y_true, y_pred):\n",
        "  sse = sum(np.square(y_true - y_pred))\n",
        "  return sse"
      ],
      "execution_count": null,
      "outputs": []
    },
    {
      "cell_type": "markdown",
      "metadata": {
        "id": "g4jF1cLn1jCh"
      },
      "source": [
        "**Support Vector Regresion**\n",
        "\n",
        "<p align=\"center\">\n",
        "  <img src=\"\n",
        "https://miro.medium.com/max/600/1*Fjj7EblDs2J88GgJmyKL8w.png\">\n",
        "</p>\n"
      ]
    },
    {
      "cell_type": "code",
      "metadata": {
        "colab": {
          "base_uri": "https://localhost:8080/"
        },
        "id": "UIT_UhTpXMAH",
        "outputId": "24a062e3-95c2-4b6a-9ba2-b63a17a642ee"
      },
      "source": [
        "# create a Support vector regresion model\n",
        "svr = SVR()\n",
        "svr.fit(X_train,y_train) # train model\n",
        "\n",
        "pred_svr = svr.predict(X_test) # predict results\n",
        "\n",
        "print(\"----------------------------------------------------------\")\n",
        "print(\"Support vector regresion model\")\n",
        "print(\"Mean squared error: \",mean_squared_error(y_test, pred_svr))\n",
        "print(\"Mean squared error: \",mean_absolute_error(y_test, pred_svr))\n",
        "print(\"Sum squared error: \",sse(y_test, pred_svr))\n",
        "print(\"R2 score: \",r2_score(y_test, pred_svr))\n",
        "print(\"----------------------------------------------------------\")"
      ],
      "execution_count": null,
      "outputs": [
        {
          "output_type": "stream",
          "text": [
            "----------------------------------------------------------\n",
            "Support vector regresion model\n",
            "Mean squared error:  0.039095209912116825\n",
            "Mean squared error:  0.09494662776756596\n",
            "Sum squared error:  199.8156178608291\n",
            "R2 score:  0.25173501972628687\n",
            "----------------------------------------------------------\n"
          ],
          "name": "stdout"
        }
      ]
    },
    {
      "cell_type": "markdown",
      "metadata": {
        "id": "47SgXhAd2Cg4"
      },
      "source": [
        "**Random Forest Regressor**"
      ]
    },
    {
      "cell_type": "code",
      "metadata": {
        "colab": {
          "base_uri": "https://localhost:8080/"
        },
        "id": "bWiDHJldkNrG",
        "outputId": "29f88857-f4d0-4f31-d809-329ef2fcb3c3"
      },
      "source": [
        "# create a Random Forest Regressor model\n",
        "rr = RandomForestRegressor()\n",
        "rr.fit(X_train,y_train) # train model\n",
        "\n",
        "pred_rr = rr.predict(X_test) # predict results\n",
        "\n",
        "print(\"----------------------------------------------------------\")\n",
        "print(\"Random Forest Regressor model\")\n",
        "print(\"Mean squared error: \",mean_squared_error(y_test, pred_rr))\n",
        "print(\"Mean squared error: \",mean_absolute_error(y_test, pred_rr))\n",
        "print(\"Sum squared error: \",sse(y_test, pred_rr))\n",
        "print(\"R2 score: \",r2_score(y_test, pred_rr))\n",
        "print(\"----------------------------------------------------------\")"
      ],
      "execution_count": null,
      "outputs": [
        {
          "output_type": "stream",
          "text": [
            "----------------------------------------------------------\n",
            "Random Forest Regressor model\n",
            "Mean squared error:  0.03781289292898408\n",
            "Mean squared error:  0.0883557914929049\n",
            "Sum squared error:  193.26169576003716\n",
            "R2 score:  0.2762779981178951\n",
            "----------------------------------------------------------\n"
          ],
          "name": "stdout"
        }
      ]
    },
    {
      "cell_type": "markdown",
      "metadata": {
        "id": "3ZYy9UF-1-lv"
      },
      "source": [
        "**Stacking Regressor**"
      ]
    },
    {
      "cell_type": "code",
      "metadata": {
        "colab": {
          "base_uri": "https://localhost:8080/"
        },
        "id": "O70sI-roWQqL",
        "outputId": "88b87e47-4979-434d-f8e2-8c748b03a821"
      },
      "source": [
        "# Stacking Regressor \n",
        "stack_list = [(\"svr\",SVR()),\n",
        "            (\"lr\",LinearRegression())]\n",
        "\n",
        "# Create Stacked Regressor\n",
        "stack_model = StackingRegressor(stack_list, cv=5) # pass stack models, and number of cross validation\n",
        "stack_model\n",
        "\n",
        "stack_model.fit(X_train,y_train)\n",
        "\n",
        "pred_stack = stack_model.predict(X_test)\n",
        "\n",
        "print(\"----------------------------------------------------------\")\n",
        "print(\"Stacking Regressor  model\")\n",
        "print(\"Mean squared error: \",mean_squared_error(y_test, pred_stack))\n",
        "print(\"Mean squared error: \",mean_absolute_error(y_test, pred_stack))\n",
        "print(\"Sum squared error: \",sse(y_test, pred_stack))\n",
        "print(\"R2 score: \",r2_score(y_test, pred_stack))\n",
        "print(\"----------------------------------------------------------\")\n"
      ],
      "execution_count": null,
      "outputs": [
        {
          "output_type": "stream",
          "text": [
            "----------------------------------------------------------\n",
            "Stacking Regressor  model\n",
            "Mean squared error:  0.036641767797583484\n",
            "Mean squared error:  0.10206678560075738\n",
            "Sum squared error:  187.2760752134494\n",
            "R2 score:  0.29869281377729173\n",
            "----------------------------------------------------------\n"
          ],
          "name": "stdout"
        }
      ]
    },
    {
      "cell_type": "markdown",
      "metadata": {
        "id": "kJSIGpmS0A8L"
      },
      "source": [
        "**For regression, the stack model achieved a high R2 score of around 30% .**"
      ]
    },
    {
      "cell_type": "code",
      "metadata": {
        "id": "cV_Q1Ixwx3Hx"
      },
      "source": [
        ""
      ],
      "execution_count": null,
      "outputs": []
    }
  ]
}