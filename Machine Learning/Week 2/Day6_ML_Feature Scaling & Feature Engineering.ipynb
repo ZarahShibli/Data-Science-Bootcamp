{
  "nbformat": 4,
  "nbformat_minor": 0,
  "metadata": {
    "kernelspec": {
      "display_name": "Python 3",
      "language": "python",
      "name": "python3"
    },
    "language_info": {
      "codemirror_mode": {
        "name": "ipython",
        "version": 3
      },
      "file_extension": ".py",
      "mimetype": "text/x-python",
      "name": "python",
      "nbconvert_exporter": "python",
      "pygments_lexer": "ipython3",
      "version": "3.8.2"
    },
    "colab": {
      "name": "Day6_ML.ipynb",
      "provenance": [],
      "collapsed_sections": [
        "FN6PFABCGmVr"
      ]
    }
  },
  "cells": [
    {
      "cell_type": "markdown",
      "metadata": {
        "id": "DWyQ9DKlGmVd"
      },
      "source": [
        "#  Feature Scaling & Feature Engineering\n",
        "\n",
        "![](https://static01.nyt.com/images/2020/11/29/fashion/24DIAMONDREPLICA2/24DIAMONDREPLICA2-superJumbo.jpg)\n",
        "\n",
        "Feature scaling is a method used to normalize the range of independent variables or features of data. In data processing, it is also known as data normalization and is generally performed during the data preprocessing step.\n",
        "\n",
        "Since the range of values of raw data varies widely, in some machine learning algorithms, objective functions will not work properly without normalization. For example, many classifiers calculate the distance between two points by the Euclidean distance. If one of the features has a broad range of values, the distance will be governed by this particular feature. Therefore, the range of all features should be normalized so that each feature contributes approximately proportionately to the final distance.\n",
        "\n",
        "Another reason why feature scaling is applied is that gradient descent converges much faster with feature scaling than without it.\n",
        "\n",
        "The idea with gradient descent is to take repeated steps in the opposite direction of the gradient (or approximate gradient) of the function at the current point, because this is the direction of steepest descent. Conversely, stepping in the direction of the gradient will lead to a local maximum of that function; the procedure is then known as gradient ascent.\n",
        "\n",
        "![](https://kevinbinz.files.wordpress.com/2019/05/gradient_descent_line_graph.gif)\n",
        "\n",
        "- [Feature Scaling Reference](https://en.wikipedia.org/wiki/Feature_scaling#:~:text=a%20distance%20measure.-,Application,scaling%20changes%20the%20SVM%20result.)\n",
        "- [Gradient Descent Reference](https://en.wikipedia.org/wiki/Gradient_descent)\n",
        "\n",
        "### Assignment (Day 1 & Day 2)\n",
        "\n",
        "Repeat the steps for the test data and report your results at the bottom of this notebook.\n",
        "\n",
        "**Requirements:**\n",
        "- Show the results (MSE, MAE, RMSE) for all models finished during the lecture using the test data.\n",
        "- Make sure to follow the steps and all additional preprocessing code\n",
        "- Your results should be displayed at the bottom of this notebook in a single code cell output or markdown cell\n",
        "- Only progress as far as we progressed in class\n",
        "- **(Day 2 Task):** Complete all tasks listed above\n",
        "- **(Day 2 Task):** Create a plot displaying the results of the test set on each of the models\n",
        "- **(Day 2 Task):** Show the results (MSE, MAE, RMSE) for all models (yesterday and today). You should be reporting on the results of 7 models.\n",
        "- **(Day 2 Task):** Try to refactor the code. The notebook is purposely written for teaching out of. Can you refactor the lecture code by reducing the amount of lines of code or writing a function to combine a couple tasks together? Explain how you tried to refactor the code in a markdown cell."
      ]
    },
    {
      "cell_type": "code",
      "metadata": {
        "id": "sygyUWIAGmVg"
      },
      "source": [
        "import pandas as pd\n",
        "import numpy as np\n",
        "import matplotlib.pyplot as plt\n",
        "import seaborn as sns\n",
        "\n",
        "from sklearn.model_selection import train_test_split\n",
        "from sklearn.linear_model import LinearRegression\n",
        "\n",
        "# Cost Functions\n",
        "from sklearn.metrics import mean_squared_error\n",
        "from sklearn.metrics import mean_absolute_error\n",
        "\n",
        "# Scalers\n",
        "from sklearn.preprocessing import StandardScaler\n",
        "from sklearn.preprocessing import RobustScaler\n",
        "from sklearn.preprocessing import MinMaxScaler\n",
        "\n",
        "# Feature Engineering\n",
        "from sklearn.preprocessing import OneHotEncoder\n",
        "from sklearn.preprocessing import OrdinalEncoder\n",
        "\n",
        "# Plot style\n",
        "plt.style.use(\"seaborn-whitegrid\")"
      ],
      "execution_count": null,
      "outputs": []
    },
    {
      "cell_type": "code",
      "metadata": {
        "id": "4xekBK2MGmVh"
      },
      "source": [
        "# Load Data\n",
        "df = sns.load_dataset(\"diamonds\")\n",
        "\n",
        "# Split Data\n",
        "train, test = train_test_split(\n",
        "    df, \n",
        "    train_size = .80,\n",
        "    test_size =.20,\n",
        "    random_state=42\n",
        ")\n",
        "\n",
        "train, val = train_test_split(\n",
        "    train,\n",
        "    train_size = .80,\n",
        "    test_size = .20,\n",
        "    random_state=42\n",
        ")"
      ],
      "execution_count": null,
      "outputs": []
    },
    {
      "cell_type": "code",
      "metadata": {
        "collapsed": true,
        "jupyter": {
          "outputs_hidden": true
        },
        "id": "fR7p2vzhGmVi",
        "colab": {
          "base_uri": "https://localhost:8080/"
        },
        "outputId": "e281846f-1e68-421c-b8c3-d98819a6cea8"
      },
      "source": [
        "df.info()"
      ],
      "execution_count": null,
      "outputs": [
        {
          "output_type": "stream",
          "text": [
            "<class 'pandas.core.frame.DataFrame'>\n",
            "RangeIndex: 53940 entries, 0 to 53939\n",
            "Data columns (total 10 columns):\n",
            " #   Column   Non-Null Count  Dtype   \n",
            "---  ------   --------------  -----   \n",
            " 0   carat    53940 non-null  float64 \n",
            " 1   cut      53940 non-null  category\n",
            " 2   color    53940 non-null  category\n",
            " 3   clarity  53940 non-null  category\n",
            " 4   depth    53940 non-null  float64 \n",
            " 5   table    53940 non-null  float64 \n",
            " 6   price    53940 non-null  int64   \n",
            " 7   x        53940 non-null  float64 \n",
            " 8   y        53940 non-null  float64 \n",
            " 9   z        53940 non-null  float64 \n",
            "dtypes: category(3), float64(6), int64(1)\n",
            "memory usage: 3.0 MB\n"
          ],
          "name": "stdout"
        }
      ]
    },
    {
      "cell_type": "code",
      "metadata": {
        "collapsed": true,
        "jupyter": {
          "outputs_hidden": true
        },
        "id": "BM5PkcBaGmVj",
        "colab": {
          "base_uri": "https://localhost:8080/",
          "height": 203
        },
        "outputId": "76606c26-bea5-451c-eb23-283af9ac1e92"
      },
      "source": [
        "df.head()"
      ],
      "execution_count": null,
      "outputs": [
        {
          "output_type": "execute_result",
          "data": {
            "text/html": [
              "<div>\n",
              "<style scoped>\n",
              "    .dataframe tbody tr th:only-of-type {\n",
              "        vertical-align: middle;\n",
              "    }\n",
              "\n",
              "    .dataframe tbody tr th {\n",
              "        vertical-align: top;\n",
              "    }\n",
              "\n",
              "    .dataframe thead th {\n",
              "        text-align: right;\n",
              "    }\n",
              "</style>\n",
              "<table border=\"1\" class=\"dataframe\">\n",
              "  <thead>\n",
              "    <tr style=\"text-align: right;\">\n",
              "      <th></th>\n",
              "      <th>carat</th>\n",
              "      <th>cut</th>\n",
              "      <th>color</th>\n",
              "      <th>clarity</th>\n",
              "      <th>depth</th>\n",
              "      <th>table</th>\n",
              "      <th>price</th>\n",
              "      <th>x</th>\n",
              "      <th>y</th>\n",
              "      <th>z</th>\n",
              "    </tr>\n",
              "  </thead>\n",
              "  <tbody>\n",
              "    <tr>\n",
              "      <th>0</th>\n",
              "      <td>0.23</td>\n",
              "      <td>Ideal</td>\n",
              "      <td>E</td>\n",
              "      <td>SI2</td>\n",
              "      <td>61.5</td>\n",
              "      <td>55.0</td>\n",
              "      <td>326</td>\n",
              "      <td>3.95</td>\n",
              "      <td>3.98</td>\n",
              "      <td>2.43</td>\n",
              "    </tr>\n",
              "    <tr>\n",
              "      <th>1</th>\n",
              "      <td>0.21</td>\n",
              "      <td>Premium</td>\n",
              "      <td>E</td>\n",
              "      <td>SI1</td>\n",
              "      <td>59.8</td>\n",
              "      <td>61.0</td>\n",
              "      <td>326</td>\n",
              "      <td>3.89</td>\n",
              "      <td>3.84</td>\n",
              "      <td>2.31</td>\n",
              "    </tr>\n",
              "    <tr>\n",
              "      <th>2</th>\n",
              "      <td>0.23</td>\n",
              "      <td>Good</td>\n",
              "      <td>E</td>\n",
              "      <td>VS1</td>\n",
              "      <td>56.9</td>\n",
              "      <td>65.0</td>\n",
              "      <td>327</td>\n",
              "      <td>4.05</td>\n",
              "      <td>4.07</td>\n",
              "      <td>2.31</td>\n",
              "    </tr>\n",
              "    <tr>\n",
              "      <th>3</th>\n",
              "      <td>0.29</td>\n",
              "      <td>Premium</td>\n",
              "      <td>I</td>\n",
              "      <td>VS2</td>\n",
              "      <td>62.4</td>\n",
              "      <td>58.0</td>\n",
              "      <td>334</td>\n",
              "      <td>4.20</td>\n",
              "      <td>4.23</td>\n",
              "      <td>2.63</td>\n",
              "    </tr>\n",
              "    <tr>\n",
              "      <th>4</th>\n",
              "      <td>0.31</td>\n",
              "      <td>Good</td>\n",
              "      <td>J</td>\n",
              "      <td>SI2</td>\n",
              "      <td>63.3</td>\n",
              "      <td>58.0</td>\n",
              "      <td>335</td>\n",
              "      <td>4.34</td>\n",
              "      <td>4.35</td>\n",
              "      <td>2.75</td>\n",
              "    </tr>\n",
              "  </tbody>\n",
              "</table>\n",
              "</div>"
            ],
            "text/plain": [
              "   carat      cut color clarity  depth  table  price     x     y     z\n",
              "0   0.23    Ideal     E     SI2   61.5   55.0    326  3.95  3.98  2.43\n",
              "1   0.21  Premium     E     SI1   59.8   61.0    326  3.89  3.84  2.31\n",
              "2   0.23     Good     E     VS1   56.9   65.0    327  4.05  4.07  2.31\n",
              "3   0.29  Premium     I     VS2   62.4   58.0    334  4.20  4.23  2.63\n",
              "4   0.31     Good     J     SI2   63.3   58.0    335  4.34  4.35  2.75"
            ]
          },
          "metadata": {
            "tags": []
          },
          "execution_count": 45
        }
      ]
    },
    {
      "cell_type": "code",
      "metadata": {
        "collapsed": true,
        "jupyter": {
          "outputs_hidden": true
        },
        "id": "cmBYxz6-GmVj",
        "colab": {
          "base_uri": "https://localhost:8080/"
        },
        "outputId": "26cd9693-a90b-4c75-9c08-f8ccf84e4a16"
      },
      "source": [
        "# Model with only numeric features\n",
        "train.dtypes"
      ],
      "execution_count": null,
      "outputs": [
        {
          "output_type": "execute_result",
          "data": {
            "text/plain": [
              "carat       float64\n",
              "cut        category\n",
              "color      category\n",
              "clarity    category\n",
              "depth       float64\n",
              "table       float64\n",
              "price         int64\n",
              "x           float64\n",
              "y           float64\n",
              "z           float64\n",
              "dtype: object"
            ]
          },
          "metadata": {
            "tags": []
          },
          "execution_count": 46
        }
      ]
    },
    {
      "cell_type": "code",
      "metadata": {
        "id": "RE42ZmfVGmVj",
        "colab": {
          "base_uri": "https://localhost:8080/"
        },
        "outputId": "492b2c65-5f72-4467-f611-95baab6011cd"
      },
      "source": [
        "(df.dtypes != \"category\").values"
      ],
      "execution_count": null,
      "outputs": [
        {
          "output_type": "execute_result",
          "data": {
            "text/plain": [
              "array([ True, False, False, False,  True,  True,  True,  True,  True,\n",
              "        True])"
            ]
          },
          "metadata": {
            "tags": []
          },
          "execution_count": 47
        }
      ]
    },
    {
      "cell_type": "code",
      "metadata": {
        "id": "Cn8gmnoqGmVk",
        "colab": {
          "base_uri": "https://localhost:8080/"
        },
        "outputId": "4eb905a6-0c13-407c-80c5-055599f06a19"
      },
      "source": [
        "df.dtypes != \"category\""
      ],
      "execution_count": null,
      "outputs": [
        {
          "output_type": "execute_result",
          "data": {
            "text/plain": [
              "carat       True\n",
              "cut        False\n",
              "color      False\n",
              "clarity    False\n",
              "depth       True\n",
              "table       True\n",
              "price       True\n",
              "x           True\n",
              "y           True\n",
              "z           True\n",
              "dtype: bool"
            ]
          },
          "metadata": {
            "tags": []
          },
          "execution_count": 48
        }
      ]
    },
    {
      "cell_type": "code",
      "metadata": {
        "id": "PenLb6IHGmVk"
      },
      "source": [
        "def cleaner(df):\n",
        "    \"Return Only Numeric Features\"\n",
        "    \n",
        "    # Create boolean array with only columns that are float64\n",
        "    columns_bool = (df.dtypes != \"category\").values\n",
        "\n",
        "    # Return only numeric columns\n",
        "    df = df.iloc[:, columns_bool].dropna()\n",
        "\n",
        "    return df\n",
        "\n",
        "train_numeric = cleaner(train)\n",
        "val_numeric = cleaner(val)\n"
      ],
      "execution_count": null,
      "outputs": []
    },
    {
      "cell_type": "code",
      "metadata": {
        "id": "doWeirLdGmVl",
        "colab": {
          "base_uri": "https://localhost:8080/",
          "height": 417
        },
        "outputId": "efd62700-37ad-439a-93bd-efcf8582a480"
      },
      "source": [
        "train_numeric"
      ],
      "execution_count": null,
      "outputs": [
        {
          "output_type": "execute_result",
          "data": {
            "text/html": [
              "<div>\n",
              "<style scoped>\n",
              "    .dataframe tbody tr th:only-of-type {\n",
              "        vertical-align: middle;\n",
              "    }\n",
              "\n",
              "    .dataframe tbody tr th {\n",
              "        vertical-align: top;\n",
              "    }\n",
              "\n",
              "    .dataframe thead th {\n",
              "        text-align: right;\n",
              "    }\n",
              "</style>\n",
              "<table border=\"1\" class=\"dataframe\">\n",
              "  <thead>\n",
              "    <tr style=\"text-align: right;\">\n",
              "      <th></th>\n",
              "      <th>carat</th>\n",
              "      <th>depth</th>\n",
              "      <th>table</th>\n",
              "      <th>price</th>\n",
              "      <th>x</th>\n",
              "      <th>y</th>\n",
              "      <th>z</th>\n",
              "    </tr>\n",
              "  </thead>\n",
              "  <tbody>\n",
              "    <tr>\n",
              "      <th>6881</th>\n",
              "      <td>1.16</td>\n",
              "      <td>60.8</td>\n",
              "      <td>65.0</td>\n",
              "      <td>4131</td>\n",
              "      <td>6.78</td>\n",
              "      <td>6.75</td>\n",
              "      <td>4.11</td>\n",
              "    </tr>\n",
              "    <tr>\n",
              "      <th>15412</th>\n",
              "      <td>1.51</td>\n",
              "      <td>61.3</td>\n",
              "      <td>55.0</td>\n",
              "      <td>6173</td>\n",
              "      <td>7.41</td>\n",
              "      <td>7.36</td>\n",
              "      <td>4.53</td>\n",
              "    </tr>\n",
              "    <tr>\n",
              "      <th>3782</th>\n",
              "      <td>1.01</td>\n",
              "      <td>64.0</td>\n",
              "      <td>59.0</td>\n",
              "      <td>3461</td>\n",
              "      <td>6.34</td>\n",
              "      <td>6.31</td>\n",
              "      <td>4.05</td>\n",
              "    </tr>\n",
              "    <tr>\n",
              "      <th>34635</th>\n",
              "      <td>0.31</td>\n",
              "      <td>61.9</td>\n",
              "      <td>55.0</td>\n",
              "      <td>872</td>\n",
              "      <td>4.39</td>\n",
              "      <td>4.36</td>\n",
              "      <td>2.71</td>\n",
              "    </tr>\n",
              "    <tr>\n",
              "      <th>37155</th>\n",
              "      <td>0.32</td>\n",
              "      <td>61.0</td>\n",
              "      <td>57.0</td>\n",
              "      <td>972</td>\n",
              "      <td>4.46</td>\n",
              "      <td>4.42</td>\n",
              "      <td>2.71</td>\n",
              "    </tr>\n",
              "    <tr>\n",
              "      <th>...</th>\n",
              "      <td>...</td>\n",
              "      <td>...</td>\n",
              "      <td>...</td>\n",
              "      <td>...</td>\n",
              "      <td>...</td>\n",
              "      <td>...</td>\n",
              "      <td>...</td>\n",
              "    </tr>\n",
              "    <tr>\n",
              "      <th>15653</th>\n",
              "      <td>1.54</td>\n",
              "      <td>61.5</td>\n",
              "      <td>61.0</td>\n",
              "      <td>6278</td>\n",
              "      <td>7.41</td>\n",
              "      <td>7.31</td>\n",
              "      <td>4.53</td>\n",
              "    </tr>\n",
              "    <tr>\n",
              "      <th>30039</th>\n",
              "      <td>0.32</td>\n",
              "      <td>61.3</td>\n",
              "      <td>56.0</td>\n",
              "      <td>719</td>\n",
              "      <td>4.40</td>\n",
              "      <td>4.44</td>\n",
              "      <td>2.71</td>\n",
              "    </tr>\n",
              "    <tr>\n",
              "      <th>47963</th>\n",
              "      <td>0.52</td>\n",
              "      <td>61.2</td>\n",
              "      <td>58.0</td>\n",
              "      <td>1919</td>\n",
              "      <td>5.20</td>\n",
              "      <td>5.16</td>\n",
              "      <td>3.17</td>\n",
              "    </tr>\n",
              "    <tr>\n",
              "      <th>48105</th>\n",
              "      <td>0.50</td>\n",
              "      <td>60.7</td>\n",
              "      <td>57.0</td>\n",
              "      <td>1935</td>\n",
              "      <td>5.14</td>\n",
              "      <td>5.10</td>\n",
              "      <td>3.11</td>\n",
              "    </tr>\n",
              "    <tr>\n",
              "      <th>49854</th>\n",
              "      <td>0.63</td>\n",
              "      <td>60.4</td>\n",
              "      <td>58.0</td>\n",
              "      <td>2171</td>\n",
              "      <td>5.59</td>\n",
              "      <td>5.64</td>\n",
              "      <td>3.39</td>\n",
              "    </tr>\n",
              "  </tbody>\n",
              "</table>\n",
              "<p>34521 rows × 7 columns</p>\n",
              "</div>"
            ],
            "text/plain": [
              "       carat  depth  table  price     x     y     z\n",
              "6881    1.16   60.8   65.0   4131  6.78  6.75  4.11\n",
              "15412   1.51   61.3   55.0   6173  7.41  7.36  4.53\n",
              "3782    1.01   64.0   59.0   3461  6.34  6.31  4.05\n",
              "34635   0.31   61.9   55.0    872  4.39  4.36  2.71\n",
              "37155   0.32   61.0   57.0    972  4.46  4.42  2.71\n",
              "...      ...    ...    ...    ...   ...   ...   ...\n",
              "15653   1.54   61.5   61.0   6278  7.41  7.31  4.53\n",
              "30039   0.32   61.3   56.0    719  4.40  4.44  2.71\n",
              "47963   0.52   61.2   58.0   1919  5.20  5.16  3.17\n",
              "48105   0.50   60.7   57.0   1935  5.14  5.10  3.11\n",
              "49854   0.63   60.4   58.0   2171  5.59  5.64  3.39\n",
              "\n",
              "[34521 rows x 7 columns]"
            ]
          },
          "metadata": {
            "tags": []
          },
          "execution_count": 50
        }
      ]
    },
    {
      "cell_type": "code",
      "metadata": {
        "id": "qYrZW1vfGmVl"
      },
      "source": [
        "# Create X, y train and validation sets\n",
        "\n",
        "target = \"price\"\n",
        "\n",
        "X_train = train_numeric.drop(target, axis=1)\n",
        "y_train = train_numeric[target]\n",
        "\n",
        "X_val = val_numeric.drop(target, axis=1)\n",
        "y_val = val_numeric[target]\n"
      ],
      "execution_count": null,
      "outputs": []
    },
    {
      "cell_type": "code",
      "metadata": {
        "id": "hHKLJHWJGmVm",
        "colab": {
          "base_uri": "https://localhost:8080/"
        },
        "outputId": "de92b01c-4c94-4528-e5e3-59ed0bed9656"
      },
      "source": [
        "y_train"
      ],
      "execution_count": null,
      "outputs": [
        {
          "output_type": "execute_result",
          "data": {
            "text/plain": [
              "6881     4131\n",
              "15412    6173\n",
              "3782     3461\n",
              "34635     872\n",
              "37155     972\n",
              "         ... \n",
              "15653    6278\n",
              "30039     719\n",
              "47963    1919\n",
              "48105    1935\n",
              "49854    2171\n",
              "Name: price, Length: 34521, dtype: int64"
            ]
          },
          "metadata": {
            "tags": []
          },
          "execution_count": 52
        }
      ]
    },
    {
      "cell_type": "code",
      "metadata": {
        "id": "Fe24PL3DGmVm",
        "colab": {
          "base_uri": "https://localhost:8080/",
          "height": 417
        },
        "outputId": "f454e79c-fdc0-4596-808a-52f268419e5d"
      },
      "source": [
        "X_train"
      ],
      "execution_count": null,
      "outputs": [
        {
          "output_type": "execute_result",
          "data": {
            "text/html": [
              "<div>\n",
              "<style scoped>\n",
              "    .dataframe tbody tr th:only-of-type {\n",
              "        vertical-align: middle;\n",
              "    }\n",
              "\n",
              "    .dataframe tbody tr th {\n",
              "        vertical-align: top;\n",
              "    }\n",
              "\n",
              "    .dataframe thead th {\n",
              "        text-align: right;\n",
              "    }\n",
              "</style>\n",
              "<table border=\"1\" class=\"dataframe\">\n",
              "  <thead>\n",
              "    <tr style=\"text-align: right;\">\n",
              "      <th></th>\n",
              "      <th>carat</th>\n",
              "      <th>depth</th>\n",
              "      <th>table</th>\n",
              "      <th>x</th>\n",
              "      <th>y</th>\n",
              "      <th>z</th>\n",
              "    </tr>\n",
              "  </thead>\n",
              "  <tbody>\n",
              "    <tr>\n",
              "      <th>6881</th>\n",
              "      <td>1.16</td>\n",
              "      <td>60.8</td>\n",
              "      <td>65.0</td>\n",
              "      <td>6.78</td>\n",
              "      <td>6.75</td>\n",
              "      <td>4.11</td>\n",
              "    </tr>\n",
              "    <tr>\n",
              "      <th>15412</th>\n",
              "      <td>1.51</td>\n",
              "      <td>61.3</td>\n",
              "      <td>55.0</td>\n",
              "      <td>7.41</td>\n",
              "      <td>7.36</td>\n",
              "      <td>4.53</td>\n",
              "    </tr>\n",
              "    <tr>\n",
              "      <th>3782</th>\n",
              "      <td>1.01</td>\n",
              "      <td>64.0</td>\n",
              "      <td>59.0</td>\n",
              "      <td>6.34</td>\n",
              "      <td>6.31</td>\n",
              "      <td>4.05</td>\n",
              "    </tr>\n",
              "    <tr>\n",
              "      <th>34635</th>\n",
              "      <td>0.31</td>\n",
              "      <td>61.9</td>\n",
              "      <td>55.0</td>\n",
              "      <td>4.39</td>\n",
              "      <td>4.36</td>\n",
              "      <td>2.71</td>\n",
              "    </tr>\n",
              "    <tr>\n",
              "      <th>37155</th>\n",
              "      <td>0.32</td>\n",
              "      <td>61.0</td>\n",
              "      <td>57.0</td>\n",
              "      <td>4.46</td>\n",
              "      <td>4.42</td>\n",
              "      <td>2.71</td>\n",
              "    </tr>\n",
              "    <tr>\n",
              "      <th>...</th>\n",
              "      <td>...</td>\n",
              "      <td>...</td>\n",
              "      <td>...</td>\n",
              "      <td>...</td>\n",
              "      <td>...</td>\n",
              "      <td>...</td>\n",
              "    </tr>\n",
              "    <tr>\n",
              "      <th>15653</th>\n",
              "      <td>1.54</td>\n",
              "      <td>61.5</td>\n",
              "      <td>61.0</td>\n",
              "      <td>7.41</td>\n",
              "      <td>7.31</td>\n",
              "      <td>4.53</td>\n",
              "    </tr>\n",
              "    <tr>\n",
              "      <th>30039</th>\n",
              "      <td>0.32</td>\n",
              "      <td>61.3</td>\n",
              "      <td>56.0</td>\n",
              "      <td>4.40</td>\n",
              "      <td>4.44</td>\n",
              "      <td>2.71</td>\n",
              "    </tr>\n",
              "    <tr>\n",
              "      <th>47963</th>\n",
              "      <td>0.52</td>\n",
              "      <td>61.2</td>\n",
              "      <td>58.0</td>\n",
              "      <td>5.20</td>\n",
              "      <td>5.16</td>\n",
              "      <td>3.17</td>\n",
              "    </tr>\n",
              "    <tr>\n",
              "      <th>48105</th>\n",
              "      <td>0.50</td>\n",
              "      <td>60.7</td>\n",
              "      <td>57.0</td>\n",
              "      <td>5.14</td>\n",
              "      <td>5.10</td>\n",
              "      <td>3.11</td>\n",
              "    </tr>\n",
              "    <tr>\n",
              "      <th>49854</th>\n",
              "      <td>0.63</td>\n",
              "      <td>60.4</td>\n",
              "      <td>58.0</td>\n",
              "      <td>5.59</td>\n",
              "      <td>5.64</td>\n",
              "      <td>3.39</td>\n",
              "    </tr>\n",
              "  </tbody>\n",
              "</table>\n",
              "<p>34521 rows × 6 columns</p>\n",
              "</div>"
            ],
            "text/plain": [
              "       carat  depth  table     x     y     z\n",
              "6881    1.16   60.8   65.0  6.78  6.75  4.11\n",
              "15412   1.51   61.3   55.0  7.41  7.36  4.53\n",
              "3782    1.01   64.0   59.0  6.34  6.31  4.05\n",
              "34635   0.31   61.9   55.0  4.39  4.36  2.71\n",
              "37155   0.32   61.0   57.0  4.46  4.42  2.71\n",
              "...      ...    ...    ...   ...   ...   ...\n",
              "15653   1.54   61.5   61.0  7.41  7.31  4.53\n",
              "30039   0.32   61.3   56.0  4.40  4.44  2.71\n",
              "47963   0.52   61.2   58.0  5.20  5.16  3.17\n",
              "48105   0.50   60.7   57.0  5.14  5.10  3.11\n",
              "49854   0.63   60.4   58.0  5.59  5.64  3.39\n",
              "\n",
              "[34521 rows x 6 columns]"
            ]
          },
          "metadata": {
            "tags": []
          },
          "execution_count": 53
        }
      ]
    },
    {
      "cell_type": "code",
      "metadata": {
        "id": "2vex_6mSGmVm",
        "colab": {
          "base_uri": "https://localhost:8080/",
          "height": 295
        },
        "outputId": "682fa004-16a8-47a8-d96f-1762d1e51651"
      },
      "source": [
        "X_train.describe()"
      ],
      "execution_count": null,
      "outputs": [
        {
          "output_type": "execute_result",
          "data": {
            "text/html": [
              "<div>\n",
              "<style scoped>\n",
              "    .dataframe tbody tr th:only-of-type {\n",
              "        vertical-align: middle;\n",
              "    }\n",
              "\n",
              "    .dataframe tbody tr th {\n",
              "        vertical-align: top;\n",
              "    }\n",
              "\n",
              "    .dataframe thead th {\n",
              "        text-align: right;\n",
              "    }\n",
              "</style>\n",
              "<table border=\"1\" class=\"dataframe\">\n",
              "  <thead>\n",
              "    <tr style=\"text-align: right;\">\n",
              "      <th></th>\n",
              "      <th>carat</th>\n",
              "      <th>depth</th>\n",
              "      <th>table</th>\n",
              "      <th>x</th>\n",
              "      <th>y</th>\n",
              "      <th>z</th>\n",
              "    </tr>\n",
              "  </thead>\n",
              "  <tbody>\n",
              "    <tr>\n",
              "      <th>count</th>\n",
              "      <td>34521.000000</td>\n",
              "      <td>34521.000000</td>\n",
              "      <td>34521.000000</td>\n",
              "      <td>34521.000000</td>\n",
              "      <td>34521.000000</td>\n",
              "      <td>34521.000000</td>\n",
              "    </tr>\n",
              "    <tr>\n",
              "      <th>mean</th>\n",
              "      <td>0.799955</td>\n",
              "      <td>61.745442</td>\n",
              "      <td>57.457409</td>\n",
              "      <td>5.737033</td>\n",
              "      <td>5.740898</td>\n",
              "      <td>3.541986</td>\n",
              "    </tr>\n",
              "    <tr>\n",
              "      <th>std</th>\n",
              "      <td>0.473342</td>\n",
              "      <td>1.433882</td>\n",
              "      <td>2.231511</td>\n",
              "      <td>1.120339</td>\n",
              "      <td>1.156860</td>\n",
              "      <td>0.711898</td>\n",
              "    </tr>\n",
              "    <tr>\n",
              "      <th>min</th>\n",
              "      <td>0.200000</td>\n",
              "      <td>43.000000</td>\n",
              "      <td>49.000000</td>\n",
              "      <td>0.000000</td>\n",
              "      <td>0.000000</td>\n",
              "      <td>0.000000</td>\n",
              "    </tr>\n",
              "    <tr>\n",
              "      <th>25%</th>\n",
              "      <td>0.400000</td>\n",
              "      <td>61.000000</td>\n",
              "      <td>56.000000</td>\n",
              "      <td>4.720000</td>\n",
              "      <td>4.730000</td>\n",
              "      <td>2.910000</td>\n",
              "    </tr>\n",
              "    <tr>\n",
              "      <th>50%</th>\n",
              "      <td>0.700000</td>\n",
              "      <td>61.800000</td>\n",
              "      <td>57.000000</td>\n",
              "      <td>5.700000</td>\n",
              "      <td>5.710000</td>\n",
              "      <td>3.530000</td>\n",
              "    </tr>\n",
              "    <tr>\n",
              "      <th>75%</th>\n",
              "      <td>1.050000</td>\n",
              "      <td>62.500000</td>\n",
              "      <td>59.000000</td>\n",
              "      <td>6.550000</td>\n",
              "      <td>6.540000</td>\n",
              "      <td>4.040000</td>\n",
              "    </tr>\n",
              "    <tr>\n",
              "      <th>max</th>\n",
              "      <td>5.010000</td>\n",
              "      <td>79.000000</td>\n",
              "      <td>95.000000</td>\n",
              "      <td>10.740000</td>\n",
              "      <td>58.900000</td>\n",
              "      <td>31.800000</td>\n",
              "    </tr>\n",
              "  </tbody>\n",
              "</table>\n",
              "</div>"
            ],
            "text/plain": [
              "              carat         depth  ...             y             z\n",
              "count  34521.000000  34521.000000  ...  34521.000000  34521.000000\n",
              "mean       0.799955     61.745442  ...      5.740898      3.541986\n",
              "std        0.473342      1.433882  ...      1.156860      0.711898\n",
              "min        0.200000     43.000000  ...      0.000000      0.000000\n",
              "25%        0.400000     61.000000  ...      4.730000      2.910000\n",
              "50%        0.700000     61.800000  ...      5.710000      3.530000\n",
              "75%        1.050000     62.500000  ...      6.540000      4.040000\n",
              "max        5.010000     79.000000  ...     58.900000     31.800000\n",
              "\n",
              "[8 rows x 6 columns]"
            ]
          },
          "metadata": {
            "tags": []
          },
          "execution_count": 54
        }
      ]
    },
    {
      "cell_type": "code",
      "metadata": {
        "id": "LlFZvWpLGmVn",
        "colab": {
          "base_uri": "https://localhost:8080/"
        },
        "outputId": "1691f660-1ec9-401c-cdce-c9bf9aeac4a0"
      },
      "source": [
        "lr = LinearRegression()\n",
        "lr.fit(X_train, y_train)\n",
        "lr.score(X_val, y_val)"
      ],
      "execution_count": null,
      "outputs": [
        {
          "output_type": "execute_result",
          "data": {
            "text/plain": [
              "0.8661014078099777"
            ]
          },
          "metadata": {
            "tags": []
          },
          "execution_count": 55
        }
      ]
    },
    {
      "cell_type": "code",
      "metadata": {
        "id": "sjsV3FcQGmVn",
        "colab": {
          "base_uri": "https://localhost:8080/"
        },
        "outputId": "d1f13a45-d4b7-40cc-9401-8615cba86565"
      },
      "source": [
        "# Same order as columns passed into the model\n",
        "lr.coef_"
      ],
      "execution_count": null,
      "outputs": [
        {
          "output_type": "execute_result",
          "data": {
            "text/plain": [
              "array([10648.67477587,  -200.44764091,  -105.60923409, -1273.05445187,\n",
              "          38.36164601,    54.22385327])"
            ]
          },
          "metadata": {
            "tags": []
          },
          "execution_count": 56
        }
      ]
    },
    {
      "cell_type": "code",
      "metadata": {
        "id": "7Mf-CMGeGmVn",
        "colab": {
          "base_uri": "https://localhost:8080/"
        },
        "outputId": "12ebba0b-25b2-4feb-d526-3e57c2b04e0a"
      },
      "source": [
        "def calc_cost(y_true, y_predict):\n",
        "    \n",
        "    \"Calculate Cost Functions and print output\"\n",
        "    \n",
        "    result_dict = {}\n",
        "    \n",
        "    mse = mean_squared_error(y_true, y_predict)\n",
        "    mae = mean_absolute_error(y_true, y_predict)\n",
        "    rmse = mean_squared_error(y_true, y_predict, squared=False)\n",
        "    \n",
        "    ls = [mse, mae, rmse]\n",
        "    ls2 = [\"MSE\", \"MAE\", \"RMSE\"]\n",
        "    \n",
        "    for x in range(len(ls)):\n",
        "        print(f\"{ls2[x]}: {ls[x]}\")\n",
        "        result_dict[ls2[x]] = ls[x]\n",
        "    \n",
        "    return result_dict\n",
        "\n",
        "# Save results to object and print results\n",
        "print(\"Baseline\")\n",
        "b_preds = [y_train.mean() for x in range(len(y_train))]\n",
        "res0 = calc_cost(y_train, b_preds)\n",
        "print(\"\\nLinear Regression\")\n",
        "res1 = calc_cost(y_train, lr.predict(X_train))"
      ],
      "execution_count": null,
      "outputs": [
        {
          "output_type": "stream",
          "text": [
            "Baseline\n",
            "MSE: 15959446.675367089\n",
            "MAE: 3040.771604515672\n",
            "RMSE: 3994.927618288858\n",
            "\n",
            "Linear Regression\n",
            "MSE: 2273010.7496576365\n",
            "MAE: 897.1133312353476\n",
            "RMSE: 1507.6507386187413\n"
          ],
          "name": "stdout"
        }
      ]
    },
    {
      "cell_type": "markdown",
      "metadata": {
        "id": "BSPhnDdTGmVo"
      },
      "source": [
        "## Feature Scaling\n",
        "\n",
        "![](https://miro.medium.com/max/2625/1*yR54MSI1jjnf2QeGtt57PA.png)\n",
        "\n",
        "The `sklearn.preprocessing` package provides several common utility functions and transformer classes to change raw feature vectors into a representation that is more suitable for the downstream estimators.\n",
        "\n",
        "In general, learning algorithms benefit from standardization of the data set. If some outliers are present in the set, robust scalers or transformers are more appropriate. The behaviors of the different scalers, transformers, and normalizers on a dataset containing marginal outliers is highlighted in [Compare the effect of different scalers on data with outliers](https://scikit-learn.org/stable/auto_examples/preprocessing/plot_all_scaling.html#sphx-glr-auto-examples-preprocessing-plot-all-scaling-py).\n",
        "\n",
        "Standardization of datasets is a common requirement for many machine learning estimators implemented in scikit-learn; they might behave badly if the individual features do not more or less look like standard normally distributed data: Gaussian with zero mean and unit variance.\n",
        "\n",
        "In practice we often ignore the shape of the distribution and just transform the data to center it by removing the mean value of each feature, then scale it by dividing non-constant features by their standard deviation.\n",
        "\n",
        "For instance, many elements used in the objective function of a learning algorithm (such as the RBF kernel of Support Vector Machines or the l1 and l2 regularizers of linear models) assume that all features are centered around zero and have variance in the same order. If a feature has a variance that is orders of magnitude larger than others, it might dominate the objective function and make the estimator unable to learn from other features correctly as expected.\n",
        "\n",
        "Here is a list of ML algorithms that require feature scaling and some that dont.\n",
        "![](https://miro.medium.com/max/1184/1*5N0SXyZVXUV-MZuxb1mZ2g.png)"
      ]
    },
    {
      "cell_type": "markdown",
      "metadata": {
        "id": "96jmmmjwGmVo"
      },
      "source": [
        "#### Standard Scaler\n",
        "\n",
        "![](https://cdn-images-1.medium.com/max/800/0*vQEjz0mvylP--30Q.GIF)\n",
        "\n",
        "StandardScaler removes the mean and scales the data to unit variance. The scaling shrinks the range of the feature values as shown in the left figure below. However, the outliers have an influence when computing the empirical mean and standard deviation. Note in particular that because the outliers on each feature have different magnitudes, the spread of the transformed data on each feature is very different: most of the data lie in the [-2, 4] range for the transformed median income feature while the same data is squeezed in the smaller [-0.2, 0.2] range for the transformed number of households.\n",
        "\n",
        "StandardScaler therefore cannot guarantee balanced feature scales in the presence of outliers.\n",
        "\n",
        "![](https://scikit-learn.org/stable/_images/sphx_glr_plot_all_scaling_001.png)\n",
        "![](https://scikit-learn.org/stable/_images/sphx_glr_plot_all_scaling_002.png)\n",
        "\n",
        "The preprocessing module provides the StandardScaler utility class, which is a quick and easy way to perform the following operation on an array-like dataset:\n",
        "\n",
        "```python\n",
        ">>> from sklearn import preprocessing\n",
        ">>> import numpy as np\n",
        ">>> X_train = np.array([[ 1., -1.,  2.],\n",
        "...                     [ 2.,  0.,  0.],\n",
        "...                     [ 0.,  1., -1.]])\n",
        ">>> scaler = preprocessing.StandardScaler().fit(X_train)\n",
        ">>> scaler\n",
        "StandardScaler()\n",
        "\n",
        ">>> scaler.mean_\n",
        "array([1. ..., 0. ..., 0.33...])\n",
        "\n",
        ">>> scaler.scale_\n",
        "array([0.81..., 0.81..., 1.24...])\n",
        "\n",
        ">>> X_scaled = scaler.transform(X_train)\n",
        ">>> X_scaled\n",
        "array([[ 0.  ..., -1.22...,  1.33...],\n",
        "       [ 1.22...,  0.  ..., -0.26...],\n",
        "       [-1.22...,  1.22..., -1.06...]])\n",
        "```\n",
        "\n",
        "[Standard Scaler Docs](https://scikit-learn.org/stable/modules/generated/sklearn.preprocessing.StandardScaler.html)"
      ]
    },
    {
      "cell_type": "code",
      "metadata": {
        "id": "d8_FXI3RGmVp",
        "colab": {
          "base_uri": "https://localhost:8080/"
        },
        "outputId": "b586c941-9efa-4869-fcc6-039c7ee478ae"
      },
      "source": [
        "# Instantiate Scaler Object\n",
        "scaler = StandardScaler()\n",
        "\n",
        "# Apply to X data\n",
        "X_train_scaled = scaler.fit_transform(X_train)\n",
        "X_val_scaled = scaler.transform(X_val)\n",
        "\n",
        "# Look at the transformed data\n",
        "X_train_scaled[:5]"
      ],
      "execution_count": null,
      "outputs": [
        {
          "output_type": "execute_result",
          "data": {
            "text/plain": [
              "array([[ 0.76065523, -0.65936779,  3.38008664,  0.93095265,  0.87228948,\n",
              "         0.79789836],\n",
              "       [ 1.50008953, -0.31065901, -1.10124667,  1.49329074,  1.39958645,\n",
              "         1.38787882],\n",
              "       [ 0.44375482,  1.57236842,  0.69128665,  0.53820859,  0.49194412,\n",
              "         0.71361543],\n",
              "       [-1.03511376,  0.10779153, -1.10124667, -1.20236168, -1.19367736,\n",
              "        -1.16870318],\n",
              "       [-1.01398707, -0.51988428, -0.20498001, -1.13987967, -1.14181208,\n",
              "        -1.16870318]])"
            ]
          },
          "metadata": {
            "tags": []
          },
          "execution_count": 58
        }
      ]
    },
    {
      "cell_type": "code",
      "metadata": {
        "id": "Q3DpFeowGmVp",
        "colab": {
          "base_uri": "https://localhost:8080/"
        },
        "outputId": "d1db97f0-06d5-4ee1-807b-ac9726a51328"
      },
      "source": [
        "# Train the model\n",
        "lr2 = LinearRegression()\n",
        "lr2.fit(X_train_scaled, y_train)\n",
        "lr2.score(X_val_scaled, y_val)"
      ],
      "execution_count": null,
      "outputs": [
        {
          "output_type": "execute_result",
          "data": {
            "text/plain": [
              "0.8661014078099777"
            ]
          },
          "metadata": {
            "tags": []
          },
          "execution_count": 78
        }
      ]
    },
    {
      "cell_type": "code",
      "metadata": {
        "id": "EcbPobPcGmVq",
        "colab": {
          "base_uri": "https://localhost:8080/"
        },
        "outputId": "df22fb80-ea03-49e3-ea92-768b8babecca"
      },
      "source": [
        "res2 = calc_cost(y_val, lr2.predict(X_val_scaled))"
      ],
      "execution_count": null,
      "outputs": [
        {
          "output_type": "stream",
          "text": [
            "MSE: 2109905.5491603212\n",
            "MAE: 874.8336552092416\n",
            "RMSE: 1452.5513929497715\n"
          ],
          "name": "stdout"
        }
      ]
    },
    {
      "cell_type": "code",
      "metadata": {
        "id": "UChQAS65GmVq",
        "colab": {
          "base_uri": "https://localhost:8080/"
        },
        "outputId": "a06982b0-6e9b-41b5-ef17-5b61c3549d4b"
      },
      "source": [
        "lr2.coef_"
      ],
      "execution_count": null,
      "outputs": [
        {
          "output_type": "execute_result",
          "data": {
            "text/plain": [
              "array([ 5040.38858449,  -287.41409738,  -235.66476004, -1426.23152   ,\n",
              "          44.37841515,    38.60130958])"
            ]
          },
          "metadata": {
            "tags": []
          },
          "execution_count": 61
        }
      ]
    },
    {
      "cell_type": "code",
      "metadata": {
        "id": "MwWHGB4PGmVq",
        "colab": {
          "base_uri": "https://localhost:8080/",
          "height": 295
        },
        "outputId": "cf1940c5-9ef1-40af-f466-b04c0ddd2882"
      },
      "source": [
        "pd.DataFrame(X_train_scaled).describe()"
      ],
      "execution_count": null,
      "outputs": [
        {
          "output_type": "execute_result",
          "data": {
            "text/html": [
              "<div>\n",
              "<style scoped>\n",
              "    .dataframe tbody tr th:only-of-type {\n",
              "        vertical-align: middle;\n",
              "    }\n",
              "\n",
              "    .dataframe tbody tr th {\n",
              "        vertical-align: top;\n",
              "    }\n",
              "\n",
              "    .dataframe thead th {\n",
              "        text-align: right;\n",
              "    }\n",
              "</style>\n",
              "<table border=\"1\" class=\"dataframe\">\n",
              "  <thead>\n",
              "    <tr style=\"text-align: right;\">\n",
              "      <th></th>\n",
              "      <th>0</th>\n",
              "      <th>1</th>\n",
              "      <th>2</th>\n",
              "      <th>3</th>\n",
              "      <th>4</th>\n",
              "      <th>5</th>\n",
              "    </tr>\n",
              "  </thead>\n",
              "  <tbody>\n",
              "    <tr>\n",
              "      <th>count</th>\n",
              "      <td>3.452100e+04</td>\n",
              "      <td>3.452100e+04</td>\n",
              "      <td>3.452100e+04</td>\n",
              "      <td>3.452100e+04</td>\n",
              "      <td>3.452100e+04</td>\n",
              "      <td>3.452100e+04</td>\n",
              "    </tr>\n",
              "    <tr>\n",
              "      <th>mean</th>\n",
              "      <td>-3.980414e-16</td>\n",
              "      <td>-7.158949e-15</td>\n",
              "      <td>1.496753e-15</td>\n",
              "      <td>5.003208e-16</td>\n",
              "      <td>-2.210605e-16</td>\n",
              "      <td>-6.655051e-16</td>\n",
              "    </tr>\n",
              "    <tr>\n",
              "      <th>std</th>\n",
              "      <td>1.000014e+00</td>\n",
              "      <td>1.000014e+00</td>\n",
              "      <td>1.000014e+00</td>\n",
              "      <td>1.000014e+00</td>\n",
              "      <td>1.000014e+00</td>\n",
              "      <td>1.000014e+00</td>\n",
              "    </tr>\n",
              "    <tr>\n",
              "      <th>min</th>\n",
              "      <td>-1.267507e+00</td>\n",
              "      <td>-1.307340e+01</td>\n",
              "      <td>-3.790047e+00</td>\n",
              "      <td>-5.120876e+00</td>\n",
              "      <td>-4.962554e+00</td>\n",
              "      <td>-4.975482e+00</td>\n",
              "    </tr>\n",
              "    <tr>\n",
              "      <th>25%</th>\n",
              "      <td>-8.449735e-01</td>\n",
              "      <td>-5.198843e-01</td>\n",
              "      <td>-6.531133e-01</td>\n",
              "      <td>-9.078036e-01</td>\n",
              "      <td>-8.738415e-01</td>\n",
              "      <td>-8.877601e-01</td>\n",
              "    </tr>\n",
              "    <tr>\n",
              "      <th>50%</th>\n",
              "      <td>-2.111727e-01</td>\n",
              "      <td>3.804977e-02</td>\n",
              "      <td>-2.049800e-01</td>\n",
              "      <td>-3.305550e-02</td>\n",
              "      <td>-2.670864e-02</td>\n",
              "      <td>-1.683656e-02</td>\n",
              "    </tr>\n",
              "    <tr>\n",
              "      <th>75%</th>\n",
              "      <td>5.282616e-01</td>\n",
              "      <td>5.262421e-01</td>\n",
              "      <td>6.912867e-01</td>\n",
              "      <td>7.256546e-01</td>\n",
              "      <td>6.907610e-01</td>\n",
              "      <td>6.995683e-01</td>\n",
              "    </tr>\n",
              "    <tr>\n",
              "      <th>max</th>\n",
              "      <td>8.894432e+00</td>\n",
              "      <td>1.203363e+01</td>\n",
              "      <td>1.682409e+01</td>\n",
              "      <td>4.465649e+00</td>\n",
              "      <td>4.595186e+01</td>\n",
              "      <td>3.969447e+01</td>\n",
              "    </tr>\n",
              "  </tbody>\n",
              "</table>\n",
              "</div>"
            ],
            "text/plain": [
              "                  0             1  ...             4             5\n",
              "count  3.452100e+04  3.452100e+04  ...  3.452100e+04  3.452100e+04\n",
              "mean  -3.980414e-16 -7.158949e-15  ... -2.210605e-16 -6.655051e-16\n",
              "std    1.000014e+00  1.000014e+00  ...  1.000014e+00  1.000014e+00\n",
              "min   -1.267507e+00 -1.307340e+01  ... -4.962554e+00 -4.975482e+00\n",
              "25%   -8.449735e-01 -5.198843e-01  ... -8.738415e-01 -8.877601e-01\n",
              "50%   -2.111727e-01  3.804977e-02  ... -2.670864e-02 -1.683656e-02\n",
              "75%    5.282616e-01  5.262421e-01  ...  6.907610e-01  6.995683e-01\n",
              "max    8.894432e+00  1.203363e+01  ...  4.595186e+01  3.969447e+01\n",
              "\n",
              "[8 rows x 6 columns]"
            ]
          },
          "metadata": {
            "tags": []
          },
          "execution_count": 62
        }
      ]
    },
    {
      "cell_type": "markdown",
      "metadata": {
        "id": "FN6PFABCGmVr"
      },
      "source": [
        "#### Looking at the Parameters of the Model (Weights)\n",
        "\n",
        "We can look at calculated parameters of the model side by side and notice the scales have changed. Looking at the parameters of the model can help us understand which features or more important. "
      ]
    },
    {
      "cell_type": "code",
      "metadata": {
        "id": "cduq9tkrGmVr",
        "colab": {
          "base_uri": "https://localhost:8080/"
        },
        "outputId": "8b8f2f9e-241e-4819-f2cd-d2f5d443a2e7"
      },
      "source": [
        "fig, ax = plt.subplots(1,2)\n",
        "\n",
        "pd.Series(lr.coef_).plot(kind=\"bar\", title=\"Coefficients Lr1\", ax=ax[0])\n",
        "pd.Series(lr2.coef_).plot(kind=\"bar\", title=\"Coefficients Lr2\", ax=ax[1]);"
      ],
      "execution_count": null,
      "outputs": [
        {
          "output_type": "display_data",
          "data": {
            "image/png": "[encoded data removed]",
            "text/plain": [
              "<Figure size 432x288 with 2 Axes>"
            ]
          },
          "metadata": {
            "tags": []
          }
        }
      ]
    },
    {
      "cell_type": "markdown",
      "metadata": {
        "id": "9J04xpbNGmVr"
      },
      "source": [
        "#### Robust Scaler\n",
        "\n",
        "Scale features using statistics that are robust to outliers.\n",
        "\n",
        "This Scaler removes the median and scales the data according to the quantile range (defaults to IQR: Interquartile Range). The IQR is the range between the 1st quartile (25th quantile) and the 3rd quartile (75th quantile).\n",
        "\n",
        "Centering and scaling happen independently on each feature by computing the relevant statistics on the samples in the training set. Median and interquartile range are then stored to be used on later data using the transform method.\n",
        "\n",
        "Standardization of a dataset is a common requirement for many machine learning estimators. Typically this is done by removing the mean and scaling to unit variance. However, outliers can often influence the sample mean / variance in a negative way. In such cases, the median and the interquartile range often give better results.\n",
        "\n",
        "[Robust Scaler Docs](https://scikit-learn.org/stable/modules/generated/sklearn.preprocessing.RobustScaler.html)"
      ]
    },
    {
      "cell_type": "code",
      "metadata": {
        "id": "uPqH-JxSGmVr",
        "colab": {
          "base_uri": "https://localhost:8080/"
        },
        "outputId": "506475d7-27bc-4564-ad7f-610ebce4c363"
      },
      "source": [
        "df.columns"
      ],
      "execution_count": null,
      "outputs": [
        {
          "output_type": "execute_result",
          "data": {
            "text/plain": [
              "Index(['carat', 'cut', 'color', 'clarity', 'depth', 'table', 'price', 'x', 'y',\n",
              "       'z'],\n",
              "      dtype='object')"
            ]
          },
          "metadata": {
            "tags": []
          },
          "execution_count": 64
        }
      ]
    },
    {
      "cell_type": "code",
      "metadata": {
        "id": "Db8XAc45GmVs",
        "colab": {
          "base_uri": "https://localhost:8080/",
          "height": 279
        },
        "outputId": "f10fe4b6-4bc9-4e21-c28b-aa9eb7a44151"
      },
      "source": [
        "df[[\"carat\"]].plot(kind=\"box\")"
      ],
      "execution_count": null,
      "outputs": [
        {
          "output_type": "execute_result",
          "data": {
            "text/plain": [
              "<matplotlib.axes._subplots.AxesSubplot at 0x7ff44f490e90>"
            ]
          },
          "metadata": {
            "tags": []
          },
          "execution_count": 65
        },
        {
          "output_type": "display_data",
          "data": {
            "image/png": "[encoded data removed]",
            "text/plain": [
              "<Figure size 432x288 with 1 Axes>"
            ]
          },
          "metadata": {
            "tags": []
          }
        }
      ]
    },
    {
      "cell_type": "code",
      "metadata": {
        "id": "NUlS8DGDGmVs",
        "colab": {
          "base_uri": "https://localhost:8080/"
        },
        "outputId": "4f359cc6-7ce6-4847-aef6-0e553e6010a5"
      },
      "source": [
        "# Instantiate Scaler Object\n",
        "scaler2 = RobustScaler()\n",
        "\n",
        "# Apply to X data\n",
        "X_train_robust = scaler2.fit_transform(X_train)\n",
        "X_val_robust = scaler2.transform(X_val)\n",
        "\n",
        "# Look at the transformed data\n",
        "X_train_robust[:5]"
      ],
      "execution_count": null,
      "outputs": [
        {
          "output_type": "execute_result",
          "data": {
            "text/plain": [
              "array([[ 0.70769231, -0.66666667,  2.66666667,  0.59016393,  0.57458564,\n",
              "         0.51327434],\n",
              "       [ 1.24615385, -0.33333333, -0.66666667,  0.93442623,  0.91160221,\n",
              "         0.88495575],\n",
              "       [ 0.47692308,  1.46666667,  0.66666667,  0.34972678,  0.33149171,\n",
              "         0.46017699],\n",
              "       [-0.6       ,  0.06666667, -0.66666667, -0.71584699, -0.74585635,\n",
              "        -0.72566372],\n",
              "       [-0.58461538, -0.53333333,  0.        , -0.67759563, -0.71270718,\n",
              "        -0.72566372]])"
            ]
          },
          "metadata": {
            "tags": []
          },
          "execution_count": 66
        }
      ]
    },
    {
      "cell_type": "code",
      "metadata": {
        "id": "T_UIwhKfGmVt",
        "colab": {
          "base_uri": "https://localhost:8080/"
        },
        "outputId": "23c01960-419f-439a-98db-5781ee85c91c"
      },
      "source": [
        "# Train the model\n",
        "lr3 = LinearRegression()\n",
        "lr3.fit(X_train_robust, y_train)\n",
        "lr3.score(X_val_robust, y_val)"
      ],
      "execution_count": null,
      "outputs": [
        {
          "output_type": "execute_result",
          "data": {
            "text/plain": [
              "0.8661014078099777"
            ]
          },
          "metadata": {
            "tags": []
          },
          "execution_count": 67
        }
      ]
    },
    {
      "cell_type": "code",
      "metadata": {
        "id": "pnLWTFW2GmVt",
        "colab": {
          "base_uri": "https://localhost:8080/"
        },
        "outputId": "ae99e487-60ac-490c-c7d9-9506e8d1cf32"
      },
      "source": [
        "res3 = calc_cost(y_val, lr3.predict(X_val_robust))"
      ],
      "execution_count": null,
      "outputs": [
        {
          "output_type": "stream",
          "text": [
            "MSE: 2109905.5491603212\n",
            "MAE: 874.8336552092413\n",
            "RMSE: 1452.5513929497715\n"
          ],
          "name": "stdout"
        }
      ]
    },
    {
      "cell_type": "code",
      "metadata": {
        "id": "Et_D4K4nGmVt",
        "colab": {
          "base_uri": "https://localhost:8080/"
        },
        "outputId": "6ddffaf8-cc2a-4561-a8c1-0cb638dad360"
      },
      "source": [
        "lr2.coef_"
      ],
      "execution_count": null,
      "outputs": [
        {
          "output_type": "execute_result",
          "data": {
            "text/plain": [
              "array([ 5040.38858449,  -287.41409738,  -235.66476004, -1426.23152   ,\n",
              "          44.37841515,    38.60130958])"
            ]
          },
          "metadata": {
            "tags": []
          },
          "execution_count": 69
        }
      ]
    },
    {
      "cell_type": "code",
      "metadata": {
        "id": "rcp-QveKGmVu",
        "colab": {
          "base_uri": "https://localhost:8080/",
          "height": 369
        },
        "outputId": "d2989eb7-0f74-4b63-ee80-ca672c8e5800"
      },
      "source": [
        "fig, ax = plt.subplots(1,3)\n",
        "\n",
        "pd.Series(lr.coef_).plot(kind=\"bar\", title=\"Coefficients Lr\", ax=ax[0])\n",
        "pd.Series(lr2.coef_).plot(kind=\"bar\", title=\"Coefficients Lr2\", ax=ax[1])\n",
        "pd.Series(lr3.coef_).plot(kind=\"bar\", title=\"Coefficients Lr3\", ax=ax[2], figsize=(10,5))\n",
        "plt.tight_layout();"
      ],
      "execution_count": null,
      "outputs": [
        {
          "output_type": "display_data",
          "data": {
            "image/png": "[encoded data removed]",
            "text/plain": [
              "<Figure size 720x360 with 3 Axes>"
            ]
          },
          "metadata": {
            "tags": []
          }
        }
      ]
    },
    {
      "cell_type": "markdown",
      "metadata": {
        "id": "sFWqcQHvGmVu"
      },
      "source": [
        "#### Min Max Scaler\n",
        "\n",
        "Transform features by scaling each feature to a given range.\n",
        "\n",
        "This estimator scales and translates each feature individually such that it is in the given range on the training set, e.g. between zero and one.\n",
        "\n",
        "The transformation is given by:\n",
        "\n",
        "```python\n",
        "X_std = (X - X.min(axis=0)) / (X.max(axis=0) - X.min(axis=0))\n",
        "X_scaled = X_std * (max - min) + min\n",
        "```\n",
        "\n",
        "where min, max = feature_range.\n",
        "\n",
        "This transformation is often used as an alternative to zero mean, unit variance scaling.\n",
        "\n",
        "[Min Max Scaler Docs](https://scikit-learn.org/stable/modules/generated/sklearn.preprocessing.MinMaxScaler.html)"
      ]
    },
    {
      "cell_type": "code",
      "metadata": {
        "id": "gkeoaU0zGmVu",
        "colab": {
          "base_uri": "https://localhost:8080/"
        },
        "outputId": "41aa6f6d-c88c-43cc-eb26-24205369a14f"
      },
      "source": [
        "# Instantiate Scaler Object\n",
        "scaler3 = MinMaxScaler()\n",
        "\n",
        "# Apply to X data\n",
        "X_train_mm = scaler3.fit_transform(X_train)\n",
        "X_val_mm = scaler3.transform(X_val)\n",
        "\n",
        "# Look at the transformed data\n",
        "X_train_mm[:5]"
      ],
      "execution_count": null,
      "outputs": [
        {
          "output_type": "execute_result",
          "data": {
            "text/plain": [
              "array([[0.1995842 , 0.49444444, 0.34782609, 0.63128492, 0.11460102,\n",
              "        0.12924528],\n",
              "       [0.27234927, 0.50833333, 0.13043478, 0.68994413, 0.12495756,\n",
              "        0.14245283],\n",
              "       [0.16839917, 0.58333333, 0.2173913 , 0.59031657, 0.10713073,\n",
              "        0.12735849],\n",
              "       [0.02286902, 0.525     , 0.13043478, 0.40875233, 0.07402377,\n",
              "        0.08522013],\n",
              "       [0.02494802, 0.5       , 0.17391304, 0.41527002, 0.07504244,\n",
              "        0.08522013]])"
            ]
          },
          "metadata": {
            "tags": []
          },
          "execution_count": 79
        }
      ]
    },
    {
      "cell_type": "code",
      "metadata": {
        "id": "vyH2NWZrGmVv",
        "colab": {
          "base_uri": "https://localhost:8080/"
        },
        "outputId": "976b2f30-53e8-4656-c2c8-d1ea3b6e911f"
      },
      "source": [
        "# Train the model\n",
        "lr4 = LinearRegression()\n",
        "lr4.fit(X_train_mm, y_train)\n",
        "lr4.score(X_val_mm, y_val)"
      ],
      "execution_count": null,
      "outputs": [
        {
          "output_type": "execute_result",
          "data": {
            "text/plain": [
              "0.8661014078099777"
            ]
          },
          "metadata": {
            "tags": []
          },
          "execution_count": 80
        }
      ]
    },
    {
      "cell_type": "code",
      "metadata": {
        "id": "NoklTYpXGmVv",
        "colab": {
          "base_uri": "https://localhost:8080/"
        },
        "outputId": "c15ce275-12ea-485e-a16d-019a98489301"
      },
      "source": [
        "res4 = calc_cost(y_val, lr4.predict(X_val_mm))\n"
      ],
      "execution_count": null,
      "outputs": [
        {
          "output_type": "stream",
          "text": [
            "MSE: 2109905.5491603217\n",
            "MAE: 874.8336552092409\n",
            "RMSE: 1452.5513929497715\n"
          ],
          "name": "stdout"
        }
      ]
    },
    {
      "cell_type": "code",
      "metadata": {
        "id": "-2LVj98mGmVw",
        "colab": {
          "base_uri": "https://localhost:8080/"
        },
        "outputId": "64a4b979-812d-4f84-f25c-607e103d23b4"
      },
      "source": [
        "lr4.coef_"
      ],
      "execution_count": null,
      "outputs": [
        {
          "output_type": "execute_result",
          "data": {
            "text/plain": [
              "array([ 51220.12567193,  -7216.11507285,  -4858.02476812, -13672.60481307,\n",
              "         2259.50094986,   1724.31853409])"
            ]
          },
          "metadata": {
            "tags": []
          },
          "execution_count": 74
        }
      ]
    },
    {
      "cell_type": "code",
      "metadata": {
        "id": "3OdcHVVTGmVw",
        "colab": {
          "base_uri": "https://localhost:8080/",
          "height": 369
        },
        "outputId": "9c77da88-d3ca-403a-f891-5f319ef7d23b"
      },
      "source": [
        "fig, ax = plt.subplots(2,2)\n",
        "\n",
        "pd.Series(lr.coef_).plot(kind=\"bar\", title=\"Coefficients Lr1, No Scaler\", ax=ax[0,0])\n",
        "pd.Series(lr2.coef_).plot(kind=\"bar\", title=\"Coefficients Lr2, Standard Scaler\", ax=ax[0,1])\n",
        "pd.Series(lr3.coef_).plot(kind=\"bar\", title=\"Coefficients Lr3, Robust Scaler\", ax=ax[1,0])\n",
        "pd.Series(lr4.coef_).plot(kind=\"bar\", title=\"Coefficients Lr4, Min Max Scaler\", ax=ax[1,1], figsize=(10,5))\n",
        "\n",
        "plt.tight_layout();"
      ],
      "execution_count": null,
      "outputs": [
        {
          "output_type": "display_data",
          "data": {
            "image/png": "[encoded data removed]",
            "text/plain": [
              "<Figure size 720x360 with 4 Axes>"
            ]
          },
          "metadata": {
            "tags": []
          }
        }
      ]
    },
    {
      "cell_type": "code",
      "metadata": {
        "id": "Q1dyQP_8GmVw"
      },
      "source": [
        ""
      ],
      "execution_count": null,
      "outputs": []
    },
    {
      "cell_type": "markdown",
      "metadata": {
        "id": "dUn-qU43Qo3Z"
      },
      "source": [
        "### **Test Model**"
      ]
    },
    {
      "cell_type": "code",
      "metadata": {
        "id": "l-Zyp0rrga8U",
        "colab": {
          "base_uri": "https://localhost:8080/"
        },
        "outputId": "1293aa0b-7713-484c-b430-a6cd99172ab1"
      },
      "source": [
        "X_test.shape"
      ],
      "execution_count": null,
      "outputs": [
        {
          "output_type": "execute_result",
          "data": {
            "text/plain": [
              "(10788, 6)"
            ]
          },
          "metadata": {
            "tags": []
          },
          "execution_count": 85
        }
      ]
    },
    {
      "cell_type": "code",
      "metadata": {
        "colab": {
          "base_uri": "https://localhost:8080/"
        },
        "id": "mQe88hF1Qwr-",
        "outputId": "7cd5d2ce-460b-4afb-f94f-8cfa8d17146f"
      },
      "source": [
        "# clear test data\n",
        "test_numeric = cleaner(test)\n",
        "\n",
        "# split features and target \n",
        "X_test = test_numeric.drop(target, axis=1)\n",
        "y_test = test_numeric[target]\n",
        "\n",
        "# The Linear Regression model\n",
        "print(\"\")\n",
        "print(\"--------------------------------------\")\n",
        "print(\"Linear Regression\")\n",
        "res1_test = calc_cost(y_test, lr.predict(X_test))\n",
        "\n",
        "\n",
        "# The Linear Regression model - using standard scaler\n",
        "X_test_scaled = scaler.transform(X_test) # scale data\n",
        "print(\"\")\n",
        "print(\"--------------------------------------\")\n",
        "print(\"Cost functions (Standard Scaler) - test\")\n",
        "res2_test = calc_cost(y_test, lr2.predict(X_test_scaled)) # calculate the cost function\n",
        "\n",
        "# The Linear Regression model - using Robust scaler\n",
        "X_test_robust = scaler2.transform(X_test) # scale data\n",
        "print(\"\")\n",
        "print(\"--------------------------------------\")\n",
        "print(\"Cost functions (Robust Scaler) - test\")\n",
        "res3_test = calc_cost(y_test, lr3.predict(X_test_robust)) # calculate the cost function\n",
        "\n",
        "# The Linear Regression model - using MinMax scaler\n",
        "X_test_mm = scaler3.transform(X_test) # scale data\n",
        "print(\"\")\n",
        "print(\"--------------------------------------\")\n",
        "print(\"Cost functions (MinMax Scaler) - test\")\n",
        "res4_test = calc_cost(y_test, lr4.predict(X_test_mm)) # calculate the cost function"
      ],
      "execution_count": null,
      "outputs": [
        {
          "output_type": "stream",
          "text": [
            "\n",
            "--------------------------------------\n",
            "Linear Regression\n",
            "MSE: 2242411.878050298\n",
            "MAE: 889.421807810603\n",
            "RMSE: 1497.4684898355283\n",
            "\n",
            "--------------------------------------\n",
            "Cost functions (Standard Scaler) - test\n",
            "MSE: 2242411.878050298\n",
            "MAE: 889.4218078106036\n",
            "RMSE: 1497.4684898355283\n",
            "\n",
            "--------------------------------------\n",
            "Cost functions (Robust Scaler) - test\n",
            "MSE: 2242411.878050298\n",
            "MAE: 889.4218078106034\n",
            "RMSE: 1497.4684898355283\n",
            "\n",
            "--------------------------------------\n",
            "Cost functions (MinMax Scaler) - test\n",
            "MSE: 2242411.878050298\n",
            "MAE: 889.4218078106027\n",
            "RMSE: 1497.4684898355283\n"
          ],
          "name": "stdout"
        }
      ]
    },
    {
      "cell_type": "code",
      "metadata": {
        "id": "aFn6mmOLXT-C"
      },
      "source": [
        ""
      ],
      "execution_count": null,
      "outputs": []
    }
  ]
}