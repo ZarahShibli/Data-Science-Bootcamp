{
  "nbformat": 4,
  "nbformat_minor": 0,
  "metadata": {
    "colab": {
      "name": "Day7_ML.ipynb",
      "provenance": [],
      "collapsed_sections": []
    },
    "kernelspec": {
      "name": "python3",
      "display_name": "Python 3"
    },
    "language_info": {
      "name": "python"
    }
  },
  "cells": [
    {
      "cell_type": "markdown",
      "metadata": {
        "id": "fNf4Lk8JszbE"
      },
      "source": [
        "### **Assingment requirment**\n",
        "\n",
        "- Create a Logistic Regression using the titanic dataset\n",
        "-  by making a model that only uses numerical features first and predicts the \"survived\" column.\n",
        "- Make different models utilizing the feature engineering techniques learned in class\n",
        "- Compare your results between validation and test cost functions and report the percent difference between them.\n",
        "- Save your model using Joblib."
      ]
    },
    {
      "cell_type": "markdown",
      "metadata": {
        "id": "zu8EanMc5q-h"
      },
      "source": [
        "### **Group Member**\n",
        "- Wajd Alturki\n",
        "- Lama Alzahrani\n",
        "- Mashael Alhussan\n",
        "- Zarah Shibli\n"
      ]
    },
    {
      "cell_type": "code",
      "metadata": {
        "id": "tAjLWK6blCor"
      },
      "source": [
        "import seaborn as sns\n",
        "import pandas as pd\n",
        "\n",
        "from sklearn.linear_model import LogisticRegression\n",
        "from sklearn.model_selection import train_test_split\n",
        "from sklearn.metrics import accuracy_score, recall_score, precision_score\n",
        "\n",
        "# Feature Engineering\n",
        "from sklearn.preprocessing import OneHotEncoder"
      ],
      "execution_count": null,
      "outputs": []
    },
    {
      "cell_type": "markdown",
      "metadata": {
        "id": "HcNpjWLwmRXr"
      },
      "source": [
        "### Load data"
      ]
    },
    {
      "cell_type": "code",
      "metadata": {
        "id": "WyDUzwiglJ0x"
      },
      "source": [
        "df = sns.load_dataset('titanic')\n"
      ],
      "execution_count": null,
      "outputs": []
    },
    {
      "cell_type": "code",
      "metadata": {
        "colab": {
          "base_uri": "https://localhost:8080/",
          "height": 142
        },
        "id": "2aOe1WS6lN7d",
        "outputId": "fe672964-327d-4959-b7bc-c87a2e427df2"
      },
      "source": [
        "df.sample(3)"
      ],
      "execution_count": null,
      "outputs": [
        {
          "output_type": "execute_result",
          "data": {
            "text/html": [
              "<div>\n",
              "<style scoped>\n",
              "    .dataframe tbody tr th:only-of-type {\n",
              "        vertical-align: middle;\n",
              "    }\n",
              "\n",
              "    .dataframe tbody tr th {\n",
              "        vertical-align: top;\n",
              "    }\n",
              "\n",
              "    .dataframe thead th {\n",
              "        text-align: right;\n",
              "    }\n",
              "</style>\n",
              "<table border=\"1\" class=\"dataframe\">\n",
              "  <thead>\n",
              "    <tr style=\"text-align: right;\">\n",
              "      <th></th>\n",
              "      <th>survived</th>\n",
              "      <th>pclass</th>\n",
              "      <th>sex</th>\n",
              "      <th>age</th>\n",
              "      <th>sibsp</th>\n",
              "      <th>parch</th>\n",
              "      <th>fare</th>\n",
              "      <th>embarked</th>\n",
              "      <th>class</th>\n",
              "      <th>who</th>\n",
              "      <th>adult_male</th>\n",
              "      <th>deck</th>\n",
              "      <th>embark_town</th>\n",
              "      <th>alive</th>\n",
              "      <th>alone</th>\n",
              "    </tr>\n",
              "  </thead>\n",
              "  <tbody>\n",
              "    <tr>\n",
              "      <th>490</th>\n",
              "      <td>0</td>\n",
              "      <td>3</td>\n",
              "      <td>male</td>\n",
              "      <td>NaN</td>\n",
              "      <td>1</td>\n",
              "      <td>0</td>\n",
              "      <td>19.9667</td>\n",
              "      <td>S</td>\n",
              "      <td>Third</td>\n",
              "      <td>man</td>\n",
              "      <td>True</td>\n",
              "      <td>NaN</td>\n",
              "      <td>Southampton</td>\n",
              "      <td>no</td>\n",
              "      <td>False</td>\n",
              "    </tr>\n",
              "    <tr>\n",
              "      <th>114</th>\n",
              "      <td>0</td>\n",
              "      <td>3</td>\n",
              "      <td>female</td>\n",
              "      <td>17.00</td>\n",
              "      <td>0</td>\n",
              "      <td>0</td>\n",
              "      <td>14.4583</td>\n",
              "      <td>C</td>\n",
              "      <td>Third</td>\n",
              "      <td>woman</td>\n",
              "      <td>False</td>\n",
              "      <td>NaN</td>\n",
              "      <td>Cherbourg</td>\n",
              "      <td>no</td>\n",
              "      <td>True</td>\n",
              "    </tr>\n",
              "    <tr>\n",
              "      <th>644</th>\n",
              "      <td>1</td>\n",
              "      <td>3</td>\n",
              "      <td>female</td>\n",
              "      <td>0.75</td>\n",
              "      <td>2</td>\n",
              "      <td>1</td>\n",
              "      <td>19.2583</td>\n",
              "      <td>C</td>\n",
              "      <td>Third</td>\n",
              "      <td>child</td>\n",
              "      <td>False</td>\n",
              "      <td>NaN</td>\n",
              "      <td>Cherbourg</td>\n",
              "      <td>yes</td>\n",
              "      <td>False</td>\n",
              "    </tr>\n",
              "  </tbody>\n",
              "</table>\n",
              "</div>"
            ],
            "text/plain": [
              "     survived  pclass     sex    age  ...  deck  embark_town  alive  alone\n",
              "490         0       3    male    NaN  ...   NaN  Southampton     no  False\n",
              "114         0       3  female  17.00  ...   NaN    Cherbourg     no   True\n",
              "644         1       3  female   0.75  ...   NaN    Cherbourg    yes  False\n",
              "\n",
              "[3 rows x 15 columns]"
            ]
          },
          "metadata": {
            "tags": []
          },
          "execution_count": 63
        }
      ]
    },
    {
      "cell_type": "code",
      "metadata": {
        "id": "TkIGYO9Ex1qI"
      },
      "source": [
        "df = df.dropna()"
      ],
      "execution_count": null,
      "outputs": []
    },
    {
      "cell_type": "markdown",
      "metadata": {
        "id": "XE_0mkbWmYb8"
      },
      "source": [
        "### Split data"
      ]
    },
    {
      "cell_type": "code",
      "metadata": {
        "id": "h1z_GLU9mYO4"
      },
      "source": [
        "# Split Data to train and test \n",
        "train, test = train_test_split(\n",
        "    df, \n",
        "    train_size = .80,\n",
        "    test_size =.20,\n",
        "    random_state=42\n",
        ")\n",
        "\n",
        "# Split train data to train and val\n",
        "train, val = train_test_split(\n",
        "    train,\n",
        "    train_size = .80,\n",
        "    test_size = .20,\n",
        "    random_state=42\n",
        ")"
      ],
      "execution_count": null,
      "outputs": []
    },
    {
      "cell_type": "code",
      "metadata": {
        "colab": {
          "base_uri": "https://localhost:8080/"
        },
        "id": "Vdy6_N86nPFK",
        "outputId": "9a88335d-a2d7-456f-eee8-527e4be8ee6b"
      },
      "source": [
        "train.dtypes"
      ],
      "execution_count": null,
      "outputs": [
        {
          "output_type": "execute_result",
          "data": {
            "text/plain": [
              "survived          int64\n",
              "pclass            int64\n",
              "sex              object\n",
              "age             float64\n",
              "sibsp             int64\n",
              "parch             int64\n",
              "fare            float64\n",
              "embarked         object\n",
              "class          category\n",
              "who              object\n",
              "adult_male         bool\n",
              "deck           category\n",
              "embark_town      object\n",
              "alive            object\n",
              "alone              bool\n",
              "dtype: object"
            ]
          },
          "metadata": {
            "tags": []
          },
          "execution_count": 66
        }
      ]
    },
    {
      "cell_type": "code",
      "metadata": {
        "colab": {
          "base_uri": "https://localhost:8080/"
        },
        "id": "hHPP070orra1",
        "outputId": "6540545f-b8ec-4db3-f957-64ae0e9b9a3e"
      },
      "source": [
        "train.who.value_counts()"
      ],
      "execution_count": null,
      "outputs": [
        {
          "output_type": "execute_result",
          "data": {
            "text/plain": [
              "man      56\n",
              "woman    51\n",
              "child     9\n",
              "Name: who, dtype: int64"
            ]
          },
          "metadata": {
            "tags": []
          },
          "execution_count": 67
        }
      ]
    },
    {
      "cell_type": "code",
      "metadata": {
        "id": "N83nCI6BxzLJ"
      },
      "source": [
        ""
      ],
      "execution_count": null,
      "outputs": []
    },
    {
      "cell_type": "markdown",
      "metadata": {
        "id": "68D9d0gBmMjn"
      },
      "source": [
        "### Features Selection (Numerical features)"
      ]
    },
    {
      "cell_type": "code",
      "metadata": {
        "id": "MrlPwqh8lQQ0"
      },
      "source": [
        "def cleaner(df):\n",
        "    \"Return Only Numeric Features\"\n",
        "    \n",
        "    # Create boolean array with only columns that are float64\n",
        "    columns_bool = ((df.dtypes != \"category\")).values\n",
        "    # Return only numeric columns\n",
        "    df = df.iloc[:, columns_bool].dropna()\n",
        "\n",
        "    # object columns \n",
        "    columns_obj = ['alive', 'alone', 'embark_town', 'who', 'adult_male','embarked', 'sex']\n",
        "\n",
        "    #drop columns \n",
        "    df = df.drop(columns_obj,axis=1)\n",
        "\n",
        "\n",
        "    return df\n",
        "\n",
        "train_numeric = cleaner(train)\n",
        "val_numeric = cleaner(val)"
      ],
      "execution_count": null,
      "outputs": []
    },
    {
      "cell_type": "code",
      "metadata": {
        "colab": {
          "base_uri": "https://localhost:8080/",
          "height": 142
        },
        "id": "wBE9s4ehmzsf",
        "outputId": "afdea23d-8178-4900-c404-5246f4a71241"
      },
      "source": [
        "train_numeric.sample(3)"
      ],
      "execution_count": null,
      "outputs": [
        {
          "output_type": "execute_result",
          "data": {
            "text/html": [
              "<div>\n",
              "<style scoped>\n",
              "    .dataframe tbody tr th:only-of-type {\n",
              "        vertical-align: middle;\n",
              "    }\n",
              "\n",
              "    .dataframe tbody tr th {\n",
              "        vertical-align: top;\n",
              "    }\n",
              "\n",
              "    .dataframe thead th {\n",
              "        text-align: right;\n",
              "    }\n",
              "</style>\n",
              "<table border=\"1\" class=\"dataframe\">\n",
              "  <thead>\n",
              "    <tr style=\"text-align: right;\">\n",
              "      <th></th>\n",
              "      <th>survived</th>\n",
              "      <th>pclass</th>\n",
              "      <th>age</th>\n",
              "      <th>sibsp</th>\n",
              "      <th>parch</th>\n",
              "      <th>fare</th>\n",
              "    </tr>\n",
              "  </thead>\n",
              "  <tbody>\n",
              "    <tr>\n",
              "      <th>772</th>\n",
              "      <td>0</td>\n",
              "      <td>2</td>\n",
              "      <td>57.0</td>\n",
              "      <td>0</td>\n",
              "      <td>0</td>\n",
              "      <td>10.5000</td>\n",
              "    </tr>\n",
              "    <tr>\n",
              "      <th>311</th>\n",
              "      <td>1</td>\n",
              "      <td>1</td>\n",
              "      <td>18.0</td>\n",
              "      <td>2</td>\n",
              "      <td>2</td>\n",
              "      <td>262.3750</td>\n",
              "    </tr>\n",
              "    <tr>\n",
              "      <th>681</th>\n",
              "      <td>1</td>\n",
              "      <td>1</td>\n",
              "      <td>27.0</td>\n",
              "      <td>0</td>\n",
              "      <td>0</td>\n",
              "      <td>76.7292</td>\n",
              "    </tr>\n",
              "  </tbody>\n",
              "</table>\n",
              "</div>"
            ],
            "text/plain": [
              "     survived  pclass   age  sibsp  parch      fare\n",
              "772         0       2  57.0      0      0   10.5000\n",
              "311         1       1  18.0      2      2  262.3750\n",
              "681         1       1  27.0      0      0   76.7292"
            ]
          },
          "metadata": {
            "tags": []
          },
          "execution_count": 69
        }
      ]
    },
    {
      "cell_type": "markdown",
      "metadata": {
        "id": "5zSuevSkvQsN"
      },
      "source": [
        "### split data to X, y"
      ]
    },
    {
      "cell_type": "code",
      "metadata": {
        "id": "hnilla2dvVEi"
      },
      "source": [
        "# Create X, y train and validation sets\n",
        "\n",
        "target = \"survived\"\n",
        "\n",
        "X_train = train_numeric.drop(target, axis=1)\n",
        "y_train = train_numeric[target]\n",
        "\n",
        "X_val = val_numeric.drop(target, axis=1)\n",
        "y_val = val_numeric[target]"
      ],
      "execution_count": null,
      "outputs": []
    },
    {
      "cell_type": "markdown",
      "metadata": {
        "id": "ngkedM1XuFuW"
      },
      "source": [
        "### Model (Numaric features)"
      ]
    },
    {
      "cell_type": "code",
      "metadata": {
        "colab": {
          "base_uri": "https://localhost:8080/"
        },
        "id": "w12dwsZ-nHos",
        "outputId": "9ca9949d-d6a1-4f1c-b317-7170fd7f5775"
      },
      "source": [
        "lr = LogisticRegression()\n",
        "lr.fit(X_train,y_train)\n",
        "lr.score(X_train,y_train)"
      ],
      "execution_count": null,
      "outputs": [
        {
          "output_type": "execute_result",
          "data": {
            "text/plain": [
              "0.6724137931034483"
            ]
          },
          "metadata": {
            "tags": []
          },
          "execution_count": 71
        }
      ]
    },
    {
      "cell_type": "code",
      "metadata": {
        "id": "nWneBpJTv7Iv"
      },
      "source": [
        "pred_val = lr.predict(X_val)\n"
      ],
      "execution_count": null,
      "outputs": []
    },
    {
      "cell_type": "code",
      "metadata": {
        "colab": {
          "base_uri": "https://localhost:8080/"
        },
        "id": "gQroh8ZzwQZc",
        "outputId": "26806a5e-b678-446b-c9af-492111af05a8"
      },
      "source": [
        "print(\"Results for val\")\n",
        "print(\"Accuracy: \",accuracy_score(y_val, pred_val))\n",
        "print(\"Recall: \",recall_score(y_val, pred_val))\n",
        "print(\"Precision: \",precision_score(y_val, pred_val))"
      ],
      "execution_count": null,
      "outputs": [
        {
          "output_type": "stream",
          "text": [
            "Results for val\n",
            "Accuracy:  0.7241379310344828\n",
            "Recall:  1.0\n",
            "Precision:  0.7142857142857143\n"
          ],
          "name": "stdout"
        }
      ]
    },
    {
      "cell_type": "markdown",
      "metadata": {
        "id": "Lnu9625i0PaR"
      },
      "source": [
        "### Test model"
      ]
    },
    {
      "cell_type": "code",
      "metadata": {
        "colab": {
          "base_uri": "https://localhost:8080/"
        },
        "id": "REnwLX1D0Oa2",
        "outputId": "c9983064-4e91-47a1-caf7-ba3091eb517e"
      },
      "source": [
        "test_numeric = cleaner(test)\n",
        "\n",
        "X_test = test_numeric.drop(target, axis=1)\n",
        "y_test = test_numeric[target]\n",
        "\n",
        "pred_test = lr.predict(X_test)\n",
        "\n",
        "print(\"Results for Test\")\n",
        "print(\"Accuracy: \",accuracy_score(y_test, pred_test))\n",
        "print(\"Recall: \",recall_score(y_test, pred_test))\n",
        "print(\"Precision: \",precision_score(y_test, pred_test))"
      ],
      "execution_count": null,
      "outputs": [
        {
          "output_type": "stream",
          "text": [
            "Results for val\n",
            "Accuracy:  0.7567567567567568\n",
            "Recall:  1.0\n",
            "Precision:  0.7272727272727273\n"
          ],
          "name": "stdout"
        }
      ]
    },
    {
      "cell_type": "markdown",
      "metadata": {
        "id": "a2Bbd3z1ww2q"
      },
      "source": [
        "### Features Enginering"
      ]
    },
    {
      "cell_type": "code",
      "metadata": {
        "id": "jYQpa-XMwkPL"
      },
      "source": [
        "# Create our One Hot Encoder object\n",
        "one_hot = OneHotEncoder()\n",
        "\n",
        "col_names = [\"who\", \"embark_town\"]\n",
        "\n",
        "# One Hot encode the column\n",
        "one_hot_df = one_hot.fit_transform(train[col_names]).toarray()\n",
        "one_hot_df_val = one_hot.transform(val[col_names]).toarray()\n",
        "\n",
        "one_hot_df_test = one_hot.transform(test[col_names]).toarray()"
      ],
      "execution_count": null,
      "outputs": []
    },
    {
      "cell_type": "code",
      "metadata": {
        "colab": {
          "base_uri": "https://localhost:8080/"
        },
        "id": "_LQwPsGIxt9k",
        "outputId": "e34f460d-2748-4c06-cde6-f0ba8d108aa1"
      },
      "source": [
        "# look at categories\n",
        "one_hot.categories_"
      ],
      "execution_count": null,
      "outputs": [
        {
          "output_type": "execute_result",
          "data": {
            "text/plain": [
              "[array(['child', 'man', 'woman'], dtype=object),\n",
              " array(['Cherbourg', 'Queenstown', 'Southampton'], dtype=object)]"
            ]
          },
          "metadata": {
            "tags": []
          },
          "execution_count": 75
        }
      ]
    },
    {
      "cell_type": "code",
      "metadata": {
        "colab": {
          "base_uri": "https://localhost:8080/"
        },
        "id": "AulZy3fdx9af",
        "outputId": "817237f7-f7c4-49fd-890b-4155832c2a87"
      },
      "source": [
        "# Create column names list for one hot encoded features\n",
        "column_names = []\n",
        "\n",
        "for y in range(len(one_hot.categories_)):\n",
        "    for z in range(len(one_hot.categories_[y])):\n",
        "        column_names.append(col_names[y]+\"_\"+one_hot.categories_[y][z])\n",
        "\n",
        "\n",
        "column_names"
      ],
      "execution_count": null,
      "outputs": [
        {
          "output_type": "execute_result",
          "data": {
            "text/plain": [
              "['who_child',\n",
              " 'who_man',\n",
              " 'who_woman',\n",
              " 'embark_town_Cherbourg',\n",
              " 'embark_town_Queenstown',\n",
              " 'embark_town_Southampton']"
            ]
          },
          "metadata": {
            "tags": []
          },
          "execution_count": 76
        }
      ]
    },
    {
      "cell_type": "code",
      "metadata": {
        "id": "gSbvog2CyEgr"
      },
      "source": [
        "# create dataframe for oneHot \n",
        "oh_df = pd.DataFrame(\n",
        "    one_hot_df,\n",
        "    index=train.index,\n",
        "    columns = column_names\n",
        ")\n",
        "\n",
        "oh_df_val = pd.DataFrame(\n",
        "    one_hot_df_val,\n",
        "    index=val.index,\n",
        "    columns = column_names\n",
        ")\n",
        "\n",
        "\n",
        "oh_df_test = pd.DataFrame(\n",
        "    one_hot_df_test,\n",
        "    index=test.index,\n",
        "    columns = column_names\n",
        ")"
      ],
      "execution_count": null,
      "outputs": []
    },
    {
      "cell_type": "code",
      "metadata": {
        "id": "4IXAdNxCyUhH"
      },
      "source": [
        "train_new = X_train.merge(\n",
        "    oh_df, # Dataframe to merge with train\n",
        "    on=X_train.index # column to use to merge on\n",
        ").set_index(\"key_0\")\n",
        "\n",
        "# Doing the same thing as above but to the validation data\n",
        "val_new = X_val.merge(oh_df_val, on=X_val.index).set_index(\"key_0\")\n",
        "\n",
        "test_new = X_test.merge(oh_df_test, on=X_test.index).set_index(\"key_0\")\n"
      ],
      "execution_count": null,
      "outputs": []
    },
    {
      "cell_type": "code",
      "metadata": {
        "colab": {
          "base_uri": "https://localhost:8080/",
          "height": 447
        },
        "id": "AQ2bVZZMyZ2E",
        "outputId": "891c5bfb-3468-44f4-b433-272c30a99033"
      },
      "source": [
        "train_new"
      ],
      "execution_count": null,
      "outputs": [
        {
          "output_type": "execute_result",
          "data": {
            "text/html": [
              "<div>\n",
              "<style scoped>\n",
              "    .dataframe tbody tr th:only-of-type {\n",
              "        vertical-align: middle;\n",
              "    }\n",
              "\n",
              "    .dataframe tbody tr th {\n",
              "        vertical-align: top;\n",
              "    }\n",
              "\n",
              "    .dataframe thead th {\n",
              "        text-align: right;\n",
              "    }\n",
              "</style>\n",
              "<table border=\"1\" class=\"dataframe\">\n",
              "  <thead>\n",
              "    <tr style=\"text-align: right;\">\n",
              "      <th></th>\n",
              "      <th>pclass</th>\n",
              "      <th>age</th>\n",
              "      <th>sibsp</th>\n",
              "      <th>parch</th>\n",
              "      <th>fare</th>\n",
              "      <th>who_child</th>\n",
              "      <th>who_man</th>\n",
              "      <th>who_woman</th>\n",
              "      <th>embark_town_Cherbourg</th>\n",
              "      <th>embark_town_Queenstown</th>\n",
              "      <th>embark_town_Southampton</th>\n",
              "    </tr>\n",
              "    <tr>\n",
              "      <th>key_0</th>\n",
              "      <th></th>\n",
              "      <th></th>\n",
              "      <th></th>\n",
              "      <th></th>\n",
              "      <th></th>\n",
              "      <th></th>\n",
              "      <th></th>\n",
              "      <th></th>\n",
              "      <th></th>\n",
              "      <th></th>\n",
              "      <th></th>\n",
              "    </tr>\n",
              "  </thead>\n",
              "  <tbody>\n",
              "    <tr>\n",
              "      <th>581</th>\n",
              "      <td>1</td>\n",
              "      <td>39.0</td>\n",
              "      <td>1</td>\n",
              "      <td>1</td>\n",
              "      <td>110.8833</td>\n",
              "      <td>0.0</td>\n",
              "      <td>0.0</td>\n",
              "      <td>1.0</td>\n",
              "      <td>1.0</td>\n",
              "      <td>0.0</td>\n",
              "      <td>0.0</td>\n",
              "    </tr>\n",
              "    <tr>\n",
              "      <th>248</th>\n",
              "      <td>1</td>\n",
              "      <td>37.0</td>\n",
              "      <td>1</td>\n",
              "      <td>1</td>\n",
              "      <td>52.5542</td>\n",
              "      <td>0.0</td>\n",
              "      <td>1.0</td>\n",
              "      <td>0.0</td>\n",
              "      <td>0.0</td>\n",
              "      <td>0.0</td>\n",
              "      <td>1.0</td>\n",
              "    </tr>\n",
              "    <tr>\n",
              "      <th>621</th>\n",
              "      <td>1</td>\n",
              "      <td>42.0</td>\n",
              "      <td>1</td>\n",
              "      <td>0</td>\n",
              "      <td>52.5542</td>\n",
              "      <td>0.0</td>\n",
              "      <td>1.0</td>\n",
              "      <td>0.0</td>\n",
              "      <td>0.0</td>\n",
              "      <td>0.0</td>\n",
              "      <td>1.0</td>\n",
              "    </tr>\n",
              "    <tr>\n",
              "      <th>309</th>\n",
              "      <td>1</td>\n",
              "      <td>30.0</td>\n",
              "      <td>0</td>\n",
              "      <td>0</td>\n",
              "      <td>56.9292</td>\n",
              "      <td>0.0</td>\n",
              "      <td>0.0</td>\n",
              "      <td>1.0</td>\n",
              "      <td>1.0</td>\n",
              "      <td>0.0</td>\n",
              "      <td>0.0</td>\n",
              "    </tr>\n",
              "    <tr>\n",
              "      <th>823</th>\n",
              "      <td>3</td>\n",
              "      <td>27.0</td>\n",
              "      <td>0</td>\n",
              "      <td>1</td>\n",
              "      <td>12.4750</td>\n",
              "      <td>0.0</td>\n",
              "      <td>0.0</td>\n",
              "      <td>1.0</td>\n",
              "      <td>0.0</td>\n",
              "      <td>0.0</td>\n",
              "      <td>1.0</td>\n",
              "    </tr>\n",
              "    <tr>\n",
              "      <th>...</th>\n",
              "      <td>...</td>\n",
              "      <td>...</td>\n",
              "      <td>...</td>\n",
              "      <td>...</td>\n",
              "      <td>...</td>\n",
              "      <td>...</td>\n",
              "      <td>...</td>\n",
              "      <td>...</td>\n",
              "      <td>...</td>\n",
              "      <td>...</td>\n",
              "      <td>...</td>\n",
              "    </tr>\n",
              "    <tr>\n",
              "      <th>689</th>\n",
              "      <td>1</td>\n",
              "      <td>15.0</td>\n",
              "      <td>0</td>\n",
              "      <td>1</td>\n",
              "      <td>211.3375</td>\n",
              "      <td>1.0</td>\n",
              "      <td>0.0</td>\n",
              "      <td>0.0</td>\n",
              "      <td>0.0</td>\n",
              "      <td>0.0</td>\n",
              "      <td>1.0</td>\n",
              "    </tr>\n",
              "    <tr>\n",
              "      <th>356</th>\n",
              "      <td>1</td>\n",
              "      <td>22.0</td>\n",
              "      <td>0</td>\n",
              "      <td>1</td>\n",
              "      <td>55.0000</td>\n",
              "      <td>0.0</td>\n",
              "      <td>0.0</td>\n",
              "      <td>1.0</td>\n",
              "      <td>0.0</td>\n",
              "      <td>0.0</td>\n",
              "      <td>1.0</td>\n",
              "    </tr>\n",
              "    <tr>\n",
              "      <th>772</th>\n",
              "      <td>2</td>\n",
              "      <td>57.0</td>\n",
              "      <td>0</td>\n",
              "      <td>0</td>\n",
              "      <td>10.5000</td>\n",
              "      <td>0.0</td>\n",
              "      <td>0.0</td>\n",
              "      <td>1.0</td>\n",
              "      <td>0.0</td>\n",
              "      <td>0.0</td>\n",
              "      <td>1.0</td>\n",
              "    </tr>\n",
              "    <tr>\n",
              "      <th>205</th>\n",
              "      <td>3</td>\n",
              "      <td>2.0</td>\n",
              "      <td>0</td>\n",
              "      <td>1</td>\n",
              "      <td>10.4625</td>\n",
              "      <td>1.0</td>\n",
              "      <td>0.0</td>\n",
              "      <td>0.0</td>\n",
              "      <td>0.0</td>\n",
              "      <td>0.0</td>\n",
              "      <td>1.0</td>\n",
              "    </tr>\n",
              "    <tr>\n",
              "      <th>311</th>\n",
              "      <td>1</td>\n",
              "      <td>18.0</td>\n",
              "      <td>2</td>\n",
              "      <td>2</td>\n",
              "      <td>262.3750</td>\n",
              "      <td>0.0</td>\n",
              "      <td>0.0</td>\n",
              "      <td>1.0</td>\n",
              "      <td>1.0</td>\n",
              "      <td>0.0</td>\n",
              "      <td>0.0</td>\n",
              "    </tr>\n",
              "  </tbody>\n",
              "</table>\n",
              "<p>116 rows × 11 columns</p>\n",
              "</div>"
            ],
            "text/plain": [
              "       pclass   age  ...  embark_town_Queenstown  embark_town_Southampton\n",
              "key_0                ...                                                 \n",
              "581         1  39.0  ...                     0.0                      0.0\n",
              "248         1  37.0  ...                     0.0                      1.0\n",
              "621         1  42.0  ...                     0.0                      1.0\n",
              "309         1  30.0  ...                     0.0                      0.0\n",
              "823         3  27.0  ...                     0.0                      1.0\n",
              "...       ...   ...  ...                     ...                      ...\n",
              "689         1  15.0  ...                     0.0                      1.0\n",
              "356         1  22.0  ...                     0.0                      1.0\n",
              "772         2  57.0  ...                     0.0                      1.0\n",
              "205         3   2.0  ...                     0.0                      1.0\n",
              "311         1  18.0  ...                     0.0                      0.0\n",
              "\n",
              "[116 rows x 11 columns]"
            ]
          },
          "metadata": {
            "tags": []
          },
          "execution_count": 85
        }
      ]
    },
    {
      "cell_type": "code",
      "metadata": {
        "colab": {
          "base_uri": "https://localhost:8080/"
        },
        "id": "r7MBO_gcyg14",
        "outputId": "01f4a92c-c813-456f-8a15-abf52369f785"
      },
      "source": [
        "lr2 = LogisticRegression()\n",
        "lr2.fit(train_new, y_train)\n",
        "lr2.score(train_new, y_train)"
      ],
      "execution_count": null,
      "outputs": [
        {
          "output_type": "stream",
          "text": [
            "/usr/local/lib/python3.7/dist-packages/sklearn/linear_model/_logistic.py:940: ConvergenceWarning: lbfgs failed to converge (status=1):\n",
            "STOP: TOTAL NO. of ITERATIONS REACHED LIMIT.\n",
            "\n",
            "Increase the number of iterations (max_iter) or scale the data as shown in:\n",
            "    https://scikit-learn.org/stable/modules/preprocessing.html\n",
            "Please also refer to the documentation for alternative solver options:\n",
            "    https://scikit-learn.org/stable/modules/linear_model.html#logistic-regression\n",
            "  extra_warning_msg=_LOGISTIC_SOLVER_CONVERGENCE_MSG)\n"
          ],
          "name": "stderr"
        },
        {
          "output_type": "execute_result",
          "data": {
            "text/plain": [
              "0.8275862068965517"
            ]
          },
          "metadata": {
            "tags": []
          },
          "execution_count": 86
        }
      ]
    },
    {
      "cell_type": "markdown",
      "metadata": {
        "id": "v6lRDk4m1ndW"
      },
      "source": [
        "### Predict"
      ]
    },
    {
      "cell_type": "code",
      "metadata": {
        "colab": {
          "base_uri": "https://localhost:8080/"
        },
        "id": "mMTkkbeUzmTC",
        "outputId": "9d5783a1-08c6-4f29-c8ef-c0e4637162a2"
      },
      "source": [
        "pre_val_2 = lr2.predict(val_new)\n",
        "print(\"Results for val - Features Enginering\")\n",
        "print(\"Accuracy: \",accuracy_score(y_val, pre_val_2))\n",
        "print(\"Recall: \",recall_score(y_val, pre_val_2))\n",
        "print(\"Precision: \",precision_score(y_val, pre_val_2))"
      ],
      "execution_count": null,
      "outputs": [
        {
          "output_type": "stream",
          "text": [
            "Results for val - Features Enginering\n",
            "Accuracy:  0.7586206896551724\n",
            "Recall:  0.85\n",
            "Precision:  0.8095238095238095\n"
          ],
          "name": "stdout"
        }
      ]
    },
    {
      "cell_type": "markdown",
      "metadata": {
        "id": "DBNwGbcA1p52"
      },
      "source": [
        "### Testing"
      ]
    },
    {
      "cell_type": "code",
      "metadata": {
        "colab": {
          "base_uri": "https://localhost:8080/"
        },
        "id": "h6yKNJT50A9d",
        "outputId": "75571f5c-87ce-44e8-a20e-abfd034c673c"
      },
      "source": [
        "pre_test_2 = lr2.predict(test_new)\n",
        "print(\"Results for Test - Features Enginering\")\n",
        "print(\"Accuracy: \",accuracy_score(y_test, pre_test_2))\n",
        "print(\"Recall: \",recall_score(y_test, pre_test_2))\n",
        "print(\"Precision: \",precision_score(y_test, pre_test_2))"
      ],
      "execution_count": null,
      "outputs": [
        {
          "output_type": "stream",
          "text": [
            "Results for Test - Features Enginering\n",
            "Accuracy:  0.6486486486486487\n",
            "Recall:  0.75\n",
            "Precision:  0.72\n"
          ],
          "name": "stdout"
        }
      ]
    },
    {
      "cell_type": "markdown",
      "metadata": {
        "id": "OZ9ee1Qo4Z-5"
      },
      "source": [
        "### Compare results "
      ]
    },
    {
      "cell_type": "code",
      "metadata": {
        "colab": {
          "base_uri": "https://localhost:8080/"
        },
        "id": "EghNzJmE4dPq",
        "outputId": "a244ce07-3959-489e-ece9-976a8f0b6ea7"
      },
      "source": [
        "print(\"Compare results for val\")\n",
        "compare_val = 1 - (accuracy_score(y_val, pre_val_2)/accuracy_score(y_val, pred_val))\n",
        "print(compare_val)\n",
        "print(\" \")\n",
        "print(\"Compare results for Test\")\n",
        "compare_test = 1 - (accuracy_score(y_test, pre_test_2)/accuracy_score(y_test, pred_test))\n",
        "print(compare_test)"
      ],
      "execution_count": null,
      "outputs": [
        {
          "output_type": "stream",
          "text": [
            "Compare results for val\n",
            "-0.04761904761904745\n",
            " \n",
            "Compare results for Test\n",
            "0.1428571428571429\n"
          ],
          "name": "stdout"
        }
      ]
    },
    {
      "cell_type": "markdown",
      "metadata": {
        "id": "QK1yJvTp2C4Y"
      },
      "source": [
        "### Save models"
      ]
    },
    {
      "cell_type": "code",
      "metadata": {
        "id": "weHZpxBi1zNH"
      },
      "source": [
        "# Used for saving out models\n",
        "import joblib\n",
        "import datetime"
      ],
      "execution_count": null,
      "outputs": []
    },
    {
      "cell_type": "code",
      "metadata": {
        "colab": {
          "base_uri": "https://localhost:8080/"
        },
        "id": "w0IvJC6b3qRp",
        "outputId": "637899bc-9e52-4c79-9973-76818c28ac6c"
      },
      "source": [
        "# Todays date as string\n",
        "today = str(datetime.datetime.today())[:10].replace(\"-\", \"_\")\n",
        "\n",
        "joblib.dump(one_hot, f\"./models/one_hot_{today}\")\n",
        "joblib.dump(lr, f\"./models/model_1_{today}\")\n",
        "joblib.dump(lr2, f\"./models/model_2_{today}\")"
      ],
      "execution_count": null,
      "outputs": [
        {
          "output_type": "execute_result",
          "data": {
            "text/plain": [
              "['./models/model_2_2021_06_21']"
            ]
          },
          "metadata": {
            "tags": []
          },
          "execution_count": 99
        }
      ]
    },
    {
      "cell_type": "code",
      "metadata": {
        "id": "fW2EgNJY4HaP"
      },
      "source": [
        "jl_one_hot = joblib.load(f\"./models/one_hot_{today}\")\n",
        "jl_model_1 = joblib.load(f\"./models/model_1_{today}\")\n",
        "jl_model_2 = joblib.load(f\"./models/model_2_{today}\")"
      ],
      "execution_count": null,
      "outputs": []
    },
    {
      "cell_type": "code",
      "metadata": {
        "id": "o3RdAjKk4WjM"
      },
      "source": [
        ""
      ],
      "execution_count": null,
      "outputs": []
    }
  ]
}