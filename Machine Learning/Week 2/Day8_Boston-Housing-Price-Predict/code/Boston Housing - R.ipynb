{
 "cells": [
  {
   "cell_type": "markdown",
   "metadata": {},
   "source": [
    "# Boston Housing "
   ]
  },
  {
   "cell_type": "markdown",
   "metadata": {},
   "source": [
    "### load data"
   ]
  },
  {
   "cell_type": "code",
   "execution_count": 37,
   "metadata": {},
   "outputs": [],
   "source": [
    "# load data\n",
    "dataset = read.csv('Boston_Housing.csv')\n",
    "dataset <- dataset[ -c(1) ] # drop the first column (index)\n"
   ]
  },
  {
   "cell_type": "code",
   "execution_count": 38,
   "metadata": {},
   "outputs": [],
   "source": [
    "# import library \n",
    "#install.packages('MLmetrics')\n",
    "library(caTools)\n",
    "library(MLmetrics) # to calculate cost function for models\n"
   ]
  },
  {
   "cell_type": "markdown",
   "metadata": {},
   "source": [
    "### Split dataset"
   ]
  },
  {
   "cell_type": "code",
   "execution_count": 39,
   "metadata": {},
   "outputs": [
    {
     "data": {
      "text/html": [
       "<table>\n",
       "<thead><tr><th scope=col>CRIM</th><th scope=col>ZN</th><th scope=col>INDUS</th><th scope=col>CHAS</th><th scope=col>NOX</th><th scope=col>RM</th><th scope=col>AGE</th><th scope=col>DIS</th><th scope=col>RAD</th><th scope=col>TAX</th><th scope=col>PTRATIO</th><th scope=col>B</th><th scope=col>LSTAT</th><th scope=col>target</th></tr></thead>\n",
       "<tbody>\n",
       "\t<tr><td>0.00632</td><td>18     </td><td>2.31   </td><td>0      </td><td>0.538  </td><td>6.575  </td><td>65.2   </td><td>4.0900 </td><td>1      </td><td>296    </td><td>15.3   </td><td>396.90 </td><td>4.98   </td><td>24.0   </td></tr>\n",
       "\t<tr><td>0.02731</td><td> 0     </td><td>7.07   </td><td>0      </td><td>0.469  </td><td>6.421  </td><td>78.9   </td><td>4.9671 </td><td>2      </td><td>242    </td><td>17.8   </td><td>396.90 </td><td>9.14   </td><td>21.6   </td></tr>\n",
       "\t<tr><td>0.02729</td><td> 0     </td><td>7.07   </td><td>0      </td><td>0.469  </td><td>7.185  </td><td>61.1   </td><td>4.9671 </td><td>2      </td><td>242    </td><td>17.8   </td><td>392.83 </td><td>4.03   </td><td>34.7   </td></tr>\n",
       "\t<tr><td>0.03237</td><td> 0     </td><td>2.18   </td><td>0      </td><td>0.458  </td><td>6.998  </td><td>45.8   </td><td>6.0622 </td><td>3      </td><td>222    </td><td>18.7   </td><td>394.63 </td><td>2.94   </td><td>33.4   </td></tr>\n",
       "\t<tr><td>0.06905</td><td> 0     </td><td>2.18   </td><td>0      </td><td>0.458  </td><td>7.147  </td><td>54.2   </td><td>6.0622 </td><td>3      </td><td>222    </td><td>18.7   </td><td>396.90 </td><td>5.33   </td><td>36.2   </td></tr>\n",
       "\t<tr><td>0.02985</td><td> 0     </td><td>2.18   </td><td>0      </td><td>0.458  </td><td>6.430  </td><td>58.7   </td><td>6.0622 </td><td>3      </td><td>222    </td><td>18.7   </td><td>394.12 </td><td>5.21   </td><td>28.7   </td></tr>\n",
       "</tbody>\n",
       "</table>\n"
      ],
      "text/latex": [
       "\\begin{tabular}{r|llllllllllllll}\n",
       " CRIM & ZN & INDUS & CHAS & NOX & RM & AGE & DIS & RAD & TAX & PTRATIO & B & LSTAT & target\\\\\n",
       "\\hline\n",
       "\t 0.00632 & 18      & 2.31    & 0       & 0.538   & 6.575   & 65.2    & 4.0900  & 1       & 296     & 15.3    & 396.90  & 4.98    & 24.0   \\\\\n",
       "\t 0.02731 &  0      & 7.07    & 0       & 0.469   & 6.421   & 78.9    & 4.9671  & 2       & 242     & 17.8    & 396.90  & 9.14    & 21.6   \\\\\n",
       "\t 0.02729 &  0      & 7.07    & 0       & 0.469   & 7.185   & 61.1    & 4.9671  & 2       & 242     & 17.8    & 392.83  & 4.03    & 34.7   \\\\\n",
       "\t 0.03237 &  0      & 2.18    & 0       & 0.458   & 6.998   & 45.8    & 6.0622  & 3       & 222     & 18.7    & 394.63  & 2.94    & 33.4   \\\\\n",
       "\t 0.06905 &  0      & 2.18    & 0       & 0.458   & 7.147   & 54.2    & 6.0622  & 3       & 222     & 18.7    & 396.90  & 5.33    & 36.2   \\\\\n",
       "\t 0.02985 &  0      & 2.18    & 0       & 0.458   & 6.430   & 58.7    & 6.0622  & 3       & 222     & 18.7    & 394.12  & 5.21    & 28.7   \\\\\n",
       "\\end{tabular}\n"
      ],
      "text/markdown": [
       "\n",
       "| CRIM | ZN | INDUS | CHAS | NOX | RM | AGE | DIS | RAD | TAX | PTRATIO | B | LSTAT | target |\n",
       "|---|---|---|---|---|---|---|---|---|---|---|---|---|---|\n",
       "| 0.00632 | 18      | 2.31    | 0       | 0.538   | 6.575   | 65.2    | 4.0900  | 1       | 296     | 15.3    | 396.90  | 4.98    | 24.0    |\n",
       "| 0.02731 |  0      | 7.07    | 0       | 0.469   | 6.421   | 78.9    | 4.9671  | 2       | 242     | 17.8    | 396.90  | 9.14    | 21.6    |\n",
       "| 0.02729 |  0      | 7.07    | 0       | 0.469   | 7.185   | 61.1    | 4.9671  | 2       | 242     | 17.8    | 392.83  | 4.03    | 34.7    |\n",
       "| 0.03237 |  0      | 2.18    | 0       | 0.458   | 6.998   | 45.8    | 6.0622  | 3       | 222     | 18.7    | 394.63  | 2.94    | 33.4    |\n",
       "| 0.06905 |  0      | 2.18    | 0       | 0.458   | 7.147   | 54.2    | 6.0622  | 3       | 222     | 18.7    | 396.90  | 5.33    | 36.2    |\n",
       "| 0.02985 |  0      | 2.18    | 0       | 0.458   | 6.430   | 58.7    | 6.0622  | 3       | 222     | 18.7    | 394.12  | 5.21    | 28.7    |\n",
       "\n"
      ],
      "text/plain": [
       "  CRIM    ZN INDUS CHAS NOX   RM    AGE  DIS    RAD TAX PTRATIO B      LSTAT\n",
       "1 0.00632 18 2.31  0    0.538 6.575 65.2 4.0900 1   296 15.3    396.90 4.98 \n",
       "2 0.02731  0 7.07  0    0.469 6.421 78.9 4.9671 2   242 17.8    396.90 9.14 \n",
       "3 0.02729  0 7.07  0    0.469 7.185 61.1 4.9671 2   242 17.8    392.83 4.03 \n",
       "4 0.03237  0 2.18  0    0.458 6.998 45.8 6.0622 3   222 18.7    394.63 2.94 \n",
       "5 0.06905  0 2.18  0    0.458 7.147 54.2 6.0622 3   222 18.7    396.90 5.33 \n",
       "6 0.02985  0 2.18  0    0.458 6.430 58.7 6.0622 3   222 18.7    394.12 5.21 \n",
       "  target\n",
       "1 24.0  \n",
       "2 21.6  \n",
       "3 34.7  \n",
       "4 33.4  \n",
       "5 36.2  \n",
       "6 28.7  "
      ]
     },
     "metadata": {},
     "output_type": "display_data"
    }
   ],
   "source": [
    "set.seed(2)\n",
    "\n",
    "# split data with ratio 75/25\n",
    "split = sample.split(dataset$target, SplitRatio = 0.75)\n",
    "training_set = subset(dataset, split == TRUE) # Set True for train set\n",
    "test_set = subset(dataset, split == FALSE) # Set false for Test set\n",
    "\n",
    "head(training_set)"
   ]
  },
  {
   "cell_type": "markdown",
   "metadata": {},
   "source": [
    "### Create linear model using all features"
   ]
  },
  {
   "cell_type": "code",
   "execution_count": 40,
   "metadata": {},
   "outputs": [
    {
     "name": "stdout",
     "output_type": "stream",
     "text": [
      "--------------------------------------------------\n"
     ]
    },
    {
     "data": {
      "text/plain": [
       "\n",
       "Call:\n",
       "lm(formula = target ~ ., data = training_set)\n",
       "\n",
       "Residuals:\n",
       "     Min       1Q   Median       3Q      Max \n",
       "-14.0924  -2.8010  -0.6469   1.8781  25.8189 \n",
       "\n",
       "Coefficients:\n",
       "              Estimate Std. Error t value Pr(>|t|)    \n",
       "(Intercept)  40.266776   5.619595   7.165 3.58e-12 ***\n",
       "CRIM         -0.104269   0.033893  -3.076 0.002234 ** \n",
       "ZN            0.051647   0.015199   3.398 0.000744 ***\n",
       "INDUS        -0.014955   0.068736  -0.218 0.827872    \n",
       "CHAS          1.964905   0.955527   2.056 0.040374 *  \n",
       "NOX         -18.429207   4.200852  -4.387 1.46e-05 ***\n",
       "RM            3.523838   0.450074   7.829 4.15e-14 ***\n",
       "AGE          -0.003865   0.014514  -0.266 0.790165    \n",
       "DIS          -1.622514   0.220702  -7.352 1.06e-12 ***\n",
       "RAD           0.317138   0.072294   4.387 1.46e-05 ***\n",
       "TAX          -0.012796   0.004073  -3.141 0.001802 ** \n",
       "PTRATIO      -0.962455   0.147129  -6.542 1.80e-10 ***\n",
       "B             0.009137   0.002820   3.241 0.001289 ** \n",
       "LSTAT        -0.527369   0.054671  -9.646  < 2e-16 ***\n",
       "---\n",
       "Signif. codes:  0 '***' 0.001 '**' 0.01 '*' 0.05 '.' 0.1 ' ' 1\n",
       "\n",
       "Residual standard error: 4.819 on 414 degrees of freedom\n",
       "Multiple R-squared:  0.7457,\tAdjusted R-squared:  0.7378 \n",
       "F-statistic: 93.41 on 13 and 414 DF,  p-value: < 2.2e-16\n"
      ]
     },
     "metadata": {},
     "output_type": "display_data"
    },
    {
     "name": "stdout",
     "output_type": "stream",
     "text": [
      "--------------------------------------------------\n"
     ]
    },
    {
     "data": {
      "text/html": [
       "<dl class=dl-horizontal>\n",
       "\t<dt>(Intercept)</dt>\n",
       "\t\t<dd>40.2667759902867</dd>\n",
       "\t<dt>CRIM</dt>\n",
       "\t\t<dd>-0.104268859429183</dd>\n",
       "\t<dt>ZN</dt>\n",
       "\t\t<dd>0.0516468997895088</dd>\n",
       "\t<dt>INDUS</dt>\n",
       "\t\t<dd>-0.0149547671312343</dd>\n",
       "\t<dt>CHAS</dt>\n",
       "\t\t<dd>1.96490540127247</dd>\n",
       "\t<dt>NOX</dt>\n",
       "\t\t<dd>-18.4292069779296</dd>\n",
       "\t<dt>RM</dt>\n",
       "\t\t<dd>3.52383802581534</dd>\n",
       "\t<dt>AGE</dt>\n",
       "\t\t<dd>-0.00386452252373583</dd>\n",
       "\t<dt>DIS</dt>\n",
       "\t\t<dd>-1.62251362469578</dd>\n",
       "\t<dt>RAD</dt>\n",
       "\t\t<dd>0.31713820007633</dd>\n",
       "\t<dt>TAX</dt>\n",
       "\t\t<dd>-0.0127960275612914</dd>\n",
       "\t<dt>PTRATIO</dt>\n",
       "\t\t<dd>-0.962455313746822</dd>\n",
       "\t<dt>B</dt>\n",
       "\t\t<dd>0.00913711624723771</dd>\n",
       "\t<dt>LSTAT</dt>\n",
       "\t\t<dd>-0.527368762465867</dd>\n",
       "</dl>\n"
      ],
      "text/latex": [
       "\\begin{description*}\n",
       "\\item[(Intercept)] 40.2667759902867\n",
       "\\item[CRIM] -0.104268859429183\n",
       "\\item[ZN] 0.0516468997895088\n",
       "\\item[INDUS] -0.0149547671312343\n",
       "\\item[CHAS] 1.96490540127247\n",
       "\\item[NOX] -18.4292069779296\n",
       "\\item[RM] 3.52383802581534\n",
       "\\item[AGE] -0.00386452252373583\n",
       "\\item[DIS] -1.62251362469578\n",
       "\\item[RAD] 0.31713820007633\n",
       "\\item[TAX] -0.0127960275612914\n",
       "\\item[PTRATIO] -0.962455313746822\n",
       "\\item[B] 0.00913711624723771\n",
       "\\item[LSTAT] -0.527368762465867\n",
       "\\end{description*}\n"
      ],
      "text/markdown": [
       "(Intercept)\n",
       ":   40.2667759902867CRIM\n",
       ":   -0.104268859429183ZN\n",
       ":   0.0516468997895088INDUS\n",
       ":   -0.0149547671312343CHAS\n",
       ":   1.96490540127247NOX\n",
       ":   -18.4292069779296RM\n",
       ":   3.52383802581534AGE\n",
       ":   -0.00386452252373583DIS\n",
       ":   -1.62251362469578RAD\n",
       ":   0.31713820007633TAX\n",
       ":   -0.0127960275612914PTRATIO\n",
       ":   -0.962455313746822B\n",
       ":   0.00913711624723771LSTAT\n",
       ":   -0.527368762465867\n",
       "\n"
      ],
      "text/plain": [
       "  (Intercept)          CRIM            ZN         INDUS          CHAS \n",
       " 40.266775990  -0.104268859   0.051646900  -0.014954767   1.964905401 \n",
       "          NOX            RM           AGE           DIS           RAD \n",
       "-18.429206978   3.523838026  -0.003864523  -1.622513625   0.317138200 \n",
       "          TAX       PTRATIO             B         LSTAT \n",
       " -0.012796028  -0.962455314   0.009137116  -0.527368762 "
      ]
     },
     "metadata": {},
     "output_type": "display_data"
    },
    {
     "name": "stdout",
     "output_type": "stream",
     "text": [
      "--------------------------------------------------\n",
      "Linear Regression model using all features \n",
      "The results for MAE:  3.141123 \n",
      "The results for MSE:  19.52406 \n"
     ]
    }
   ],
   "source": [
    "# create regressor using all features \n",
    "regressor = lm(formula = target ~ .,\n",
    "               data = training_set)\n",
    "\n",
    "# show the summary and coefficients for regressor\n",
    "cat(\"--------------------------------------------------\\n\")\n",
    "summary(regressor)\n",
    "cat(\"--------------------------------------------------\\n\")\n",
    "regressor$coefficients\n",
    "\n",
    "# use model to predict the y_test\n",
    "y_pred <- predict(regressor, newdata = test_set)\n",
    "y_actual <- test_set$target \n",
    "cat(\"--------------------------------------------------\\n\")\n",
    "cat(\"Linear Regression model using all features \\nThe results for MAE: \",MAE(y_actual, y_pred),\n",
    "    \"\\nThe results for MSE: \",MSE(y_actual, y_pred),\"\\n\")\n",
    "\n"
   ]
  },
  {
   "cell_type": "markdown",
   "metadata": {},
   "source": [
    "### Create linear model using the most affected features"
   ]
  },
  {
   "cell_type": "code",
   "execution_count": 41,
   "metadata": {},
   "outputs": [
    {
     "name": "stdout",
     "output_type": "stream",
     "text": [
      "--------------------------------------------------\n"
     ]
    },
    {
     "data": {
      "text/plain": [
       "\n",
       "Call:\n",
       "lm(formula = target ~ ZN + RM + DIS, data = training_set)\n",
       "\n",
       "Residuals:\n",
       "    Min      1Q  Median      3Q     Max \n",
       "-19.987  -3.337   0.257   2.771  39.150 \n",
       "\n",
       "Coefficients:\n",
       "             Estimate Std. Error t value Pr(>|t|)    \n",
       "(Intercept) -29.72023    3.04296  -9.767  < 2e-16 ***\n",
       "ZN            0.06617    0.01893   3.495 0.000523 ***\n",
       "RM            8.12511    0.48137  16.879  < 2e-16 ***\n",
       "DIS           0.14113    0.20644   0.684 0.494579    \n",
       "---\n",
       "Signif. codes:  0 '***' 0.001 '**' 0.01 '*' 0.05 '.' 0.1 ' ' 1\n",
       "\n",
       "Residual standard error: 6.661 on 424 degrees of freedom\n",
       "Multiple R-squared:  0.5026,\tAdjusted R-squared:  0.499 \n",
       "F-statistic: 142.8 on 3 and 424 DF,  p-value: < 2.2e-16\n"
      ]
     },
     "metadata": {},
     "output_type": "display_data"
    },
    {
     "name": "stdout",
     "output_type": "stream",
     "text": [
      "--------------------------------------------------\n"
     ]
    },
    {
     "data": {
      "text/html": [
       "<dl class=dl-horizontal>\n",
       "\t<dt>(Intercept)</dt>\n",
       "\t\t<dd>-29.7202276417179</dd>\n",
       "\t<dt>ZN</dt>\n",
       "\t\t<dd>0.0661677861407063</dd>\n",
       "\t<dt>RM</dt>\n",
       "\t\t<dd>8.1251073494327</dd>\n",
       "\t<dt>DIS</dt>\n",
       "\t\t<dd>0.141132496251673</dd>\n",
       "</dl>\n"
      ],
      "text/latex": [
       "\\begin{description*}\n",
       "\\item[(Intercept)] -29.7202276417179\n",
       "\\item[ZN] 0.0661677861407063\n",
       "\\item[RM] 8.1251073494327\n",
       "\\item[DIS] 0.141132496251673\n",
       "\\end{description*}\n"
      ],
      "text/markdown": [
       "(Intercept)\n",
       ":   -29.7202276417179ZN\n",
       ":   0.0661677861407063RM\n",
       ":   8.1251073494327DIS\n",
       ":   0.141132496251673\n",
       "\n"
      ],
      "text/plain": [
       " (Intercept)           ZN           RM          DIS \n",
       "-29.72022764   0.06616779   8.12510735   0.14113250 "
      ]
     },
     "metadata": {},
     "output_type": "display_data"
    },
    {
     "name": "stdout",
     "output_type": "stream",
     "text": [
      "--------------------------------------------------\n",
      "Linear Regression model using the most affected features\n",
      "The results for MAE:  3.658271 \n",
      "The results for MSE:  29.71482 \n"
     ]
    }
   ],
   "source": [
    "regressor2 = lm(formula = target ~ ZN + RM +DIS ,data = training_set)\n",
    "\n",
    "# show the summary and coefficients for regressor\n",
    "cat(\"--------------------------------------------------\\n\")\n",
    "summary(regressor2)\n",
    "cat(\"--------------------------------------------------\\n\")\n",
    "regressor2$coefficients\n",
    "\n",
    "# use model to predict the y_test\n",
    "y_pred_2 <- predict(regressor2, newdata = test_set)\n",
    "cat(\"--------------------------------------------------\\n\")\n",
    "cat(\"Linear Regression model using the most affected features\\nThe results for MAE: \"\n",
    "    ,MAE(y_actual, y_pred_2),\n",
    "    \"\\nThe results for MSE: \",MSE(y_actual, y_pred_2),\"\\n\")\n"
   ]
  },
  {
   "cell_type": "markdown",
   "metadata": {},
   "source": [
    "## Finally,\n",
    "\n",
    "Based on the results from the first model the following features are important:\n",
    "**ZN, NOX, RM, DIS, RAD, PTRATIO, LSTAT**\n",
    "\n",
    "\n",
    "The first model achieve the low amount of error. So, we can said the first model better than second."
   ]
  },
  {
   "cell_type": "code",
   "execution_count": null,
   "metadata": {},
   "outputs": [],
   "source": []
  }
 ],
 "metadata": {
  "kernelspec": {
   "display_name": "R",
   "language": "R",
   "name": "ir"
  },
  "language_info": {
   "codemirror_mode": "r",
   "file_extension": ".r",
   "mimetype": "text/x-r-source",
   "name": "R",
   "pygments_lexer": "r",
   "version": "3.6.1"
  }
 },
 "nbformat": 4,
 "nbformat_minor": 4
}
