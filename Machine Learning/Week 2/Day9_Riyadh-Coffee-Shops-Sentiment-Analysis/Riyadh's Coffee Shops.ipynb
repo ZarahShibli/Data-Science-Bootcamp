{
 "cells": [
  {
   "cell_type": "markdown",
   "metadata": {
    "id": "BHNqtADFZ6__"
   },
   "source": [
    "# **Riyadh's Coffee Shops**\n",
    "\n",
    "In this project, built a classifier model to predict the quality of coffee shops **'Overall'** based on the reviews and another features.\n",
    "\n",
    "\n",
    "The dataset include details about [Riyadh's coffee shops](https://www.kaggle.com/mohammedhalosaimi/riyadh-coffee-shops), like address, number of rating, rating, price, ..etc.\n",
    "\n",
    "\n",
    "**This project include two model:**\n",
    "- In first model used reviews to predict 'Overall'. \n",
    "- In second model used another features to predict 'Overall'.\n",
    "\n"
   ]
  },
  {
   "cell_type": "code",
   "execution_count": 423,
   "metadata": {
    "colab": {
     "base_uri": "https://localhost:8080/"
    },
    "id": "uYIEwVhQtITA",
    "outputId": "df6f6c8e-438a-4c7b-b477-ec1153b46bcb"
   },
   "outputs": [
    {
     "name": "stdout",
     "output_type": "stream",
     "text": [
      "[nltk_data] Downloading package punkt to /root/nltk_data...\n",
      "[nltk_data]   Package punkt is already up-to-date!\n",
      "[nltk_data] Downloading package stopwords to /root/nltk_data...\n",
      "[nltk_data]   Package stopwords is already up-to-date!\n",
      "[nltk_data] Downloading package wordnet to /root/nltk_data...\n",
      "[nltk_data]   Package wordnet is already up-to-date!\n"
     ]
    },
    {
     "data": {
      "text/plain": [
       "True"
      ]
     },
     "execution_count": 423,
     "metadata": {
      "tags": []
     },
     "output_type": "execute_result"
    }
   ],
   "source": [
    "import pandas as pd\n",
    "\n",
    "# Machine Learning packages\n",
    "from sklearn.feature_extraction.text import CountVectorizer # to create Bag of words\n",
    "from sklearn.model_selection import train_test_split  # for splitting data\n",
    "from sklearn.linear_model import LogisticRegression # to bulid classifier model\n",
    "from sklearn.preprocessing import LabelEncoder # to convert classes to number \n",
    "from sklearn.metrics import accuracy_score, classification_report, plot_confusion_matrix # to calculate accuracy and classification report\n",
    "\n",
    "# NLP libraries\n",
    "import re # for preprocessing text\n",
    "import string # for preprocessing text\n",
    "import nltk # for processing texts\n",
    "from nltk.stem import PorterStemmer\n",
    "from nltk.corpus import stopwords # list of stop words\n",
    "nltk.download('punkt')\n",
    "nltk.download('stopwords')\n",
    "nltk.download('wordnet')"
   ]
  },
  {
   "cell_type": "code",
   "execution_count": 417,
   "metadata": {
    "id": "A1k-dMj0jHv6"
   },
   "outputs": [],
   "source": [
    "# to change text style \n",
    "class style:\n",
    "   BOLD = '\\033[1m'\n",
    "   UNDERLINE = '\\033[4m'\n",
    "   END = '\\033[0m'"
   ]
  },
  {
   "cell_type": "markdown",
   "metadata": {
    "id": "wkIYJkk-tXOk"
   },
   "source": [
    "### **Load dataset**"
   ]
  },
  {
   "cell_type": "code",
   "execution_count": 375,
   "metadata": {
    "id": "Vo-WaQEMtZc3"
   },
   "outputs": [],
   "source": [
    "df = pd.read_csv('riyad_coffee_shops_clean.csv')"
   ]
  },
  {
   "cell_type": "code",
   "execution_count": 376,
   "metadata": {
    "colab": {
     "base_uri": "https://localhost:8080/",
     "height": 321
    },
    "id": "QiRTGhU7traL",
    "outputId": "fd9c2551-42e0-42b5-cb28-3fbdf4df0175"
   },
   "outputs": [
    {
     "data": {
      "text/html": [
       "<div>\n",
       "<style scoped>\n",
       "    .dataframe tbody tr th:only-of-type {\n",
       "        vertical-align: middle;\n",
       "    }\n",
       "\n",
       "    .dataframe tbody tr th {\n",
       "        vertical-align: top;\n",
       "    }\n",
       "\n",
       "    .dataframe thead th {\n",
       "        text-align: right;\n",
       "    }\n",
       "</style>\n",
       "<table border=\"1\" class=\"dataframe\">\n",
       "  <thead>\n",
       "    <tr style=\"text-align: right;\">\n",
       "      <th></th>\n",
       "      <th>Unnamed: 0</th>\n",
       "      <th>shop_name</th>\n",
       "      <th>rating</th>\n",
       "      <th>numbers_of_rating</th>\n",
       "      <th>price</th>\n",
       "      <th>shop_type</th>\n",
       "      <th>key_words</th>\n",
       "      <th>address</th>\n",
       "      <th>reviews</th>\n",
       "    </tr>\n",
       "  </thead>\n",
       "  <tbody>\n",
       "    <tr>\n",
       "      <th>0</th>\n",
       "      <td>0</td>\n",
       "      <td>Elixir Bunn Coffee</td>\n",
       "      <td>4.3</td>\n",
       "      <td>218</td>\n",
       "      <td>0</td>\n",
       "      <td>cafe</td>\n",
       "      <td>none</td>\n",
       "      <td>King Abdullah Rd, حي الحمراء، Riyadh 13215</td>\n",
       "      <td>['Amazing new branch for my favorite coffee ho...</td>\n",
       "    </tr>\n",
       "    <tr>\n",
       "      <th>1</th>\n",
       "      <td>1</td>\n",
       "      <td>Chamonix Cafe</td>\n",
       "      <td>4.0</td>\n",
       "      <td>563</td>\n",
       "      <td>3</td>\n",
       "      <td>coffee shop</td>\n",
       "      <td>Late-night food, Breakfast, Outdoor seating</td>\n",
       "      <td>9259 Wadi Al Awsat, Al nbsp;2430, Riyadh</td>\n",
       "      <td>['Its really romantic and lovely place with go...</td>\n",
       "    </tr>\n",
       "    <tr>\n",
       "      <th>2</th>\n",
       "      <td>2</td>\n",
       "      <td>dr.CAFE COFFEE</td>\n",
       "      <td>4.1</td>\n",
       "      <td>1571</td>\n",
       "      <td>2</td>\n",
       "      <td>coffee shop</td>\n",
       "      <td>Cosy, Casual, Vegetarian options</td>\n",
       "      <td>As Sulimaniyah, Khurais Road Abi Al Arab Stree...</td>\n",
       "      <td>[\"Sandwich wasn't tasty and it was expensive. ...</td>\n",
       "    </tr>\n",
       "    <tr>\n",
       "      <th>3</th>\n",
       "      <td>3</td>\n",
       "      <td>The Shaky</td>\n",
       "      <td>3.9</td>\n",
       "      <td>52</td>\n",
       "      <td>0</td>\n",
       "      <td>coffee shop</td>\n",
       "      <td>Cosy, Casual, Groups</td>\n",
       "      <td>لوكاليزر مول بوابة رقم 7 طريق الأمير محمد بن ع...</td>\n",
       "      <td>['Nice place', \"It's delicious you can build y...</td>\n",
       "    </tr>\n",
       "    <tr>\n",
       "      <th>4</th>\n",
       "      <td>4</td>\n",
       "      <td>قرمز كافيه - قهوة مختصة</td>\n",
       "      <td>4.1</td>\n",
       "      <td>956</td>\n",
       "      <td>2</td>\n",
       "      <td>coffee shop</td>\n",
       "      <td>Cosy, Casual, Groups</td>\n",
       "      <td>2659 Dammam Branch Road Al Yarmuk Riyadh 13243...</td>\n",
       "      <td>['This coffee shop is a two story shop with a ...</td>\n",
       "    </tr>\n",
       "  </tbody>\n",
       "</table>\n",
       "</div>"
      ],
      "text/plain": [
       "   Unnamed: 0  ...                                            reviews\n",
       "0           0  ...  ['Amazing new branch for my favorite coffee ho...\n",
       "1           1  ...  ['Its really romantic and lovely place with go...\n",
       "2           2  ...  [\"Sandwich wasn't tasty and it was expensive. ...\n",
       "3           3  ...  ['Nice place', \"It's delicious you can build y...\n",
       "4           4  ...  ['This coffee shop is a two story shop with a ...\n",
       "\n",
       "[5 rows x 9 columns]"
      ]
     },
     "execution_count": 376,
     "metadata": {
      "tags": []
     },
     "output_type": "execute_result"
    }
   ],
   "source": [
    "df.head()"
   ]
  },
  {
   "cell_type": "code",
   "execution_count": 377,
   "metadata": {
    "colab": {
     "base_uri": "https://localhost:8080/"
    },
    "id": "eV9jny4gWaZd",
    "outputId": "f7781362-fdcd-48fa-e301-ca15641a44cd"
   },
   "outputs": [
    {
     "data": {
      "text/plain": [
       "(198, 9)"
      ]
     },
     "execution_count": 377,
     "metadata": {
      "tags": []
     },
     "output_type": "execute_result"
    }
   ],
   "source": [
    "df.shape"
   ]
  },
  {
   "cell_type": "markdown",
   "metadata": {
    "id": "q0RGIZ3mdCuz"
   },
   "source": [
    "### **Explore data**"
   ]
  },
  {
   "cell_type": "markdown",
   "metadata": {
    "id": "Jzl4Gm8odGqB"
   },
   "source": [
    "#### **Split key_words**"
   ]
  },
  {
   "cell_type": "code",
   "execution_count": 378,
   "metadata": {
    "id": "0hFGEu2jPgXV"
   },
   "outputs": [],
   "source": [
    "# find unique key words from dataset\n",
    "keys = [i.split(', ') for i in df.key_words]\n",
    "keys = list({x for l in keys for x in l})[1:] # remove 'None' key word"
   ]
  },
  {
   "cell_type": "code",
   "execution_count": 379,
   "metadata": {
    "id": "7huzp0CRXI5Y"
   },
   "outputs": [],
   "source": [
    "# split key_words to many columns\n",
    "\n",
    "dic_keys = dict((key, []) for key in keys) # add unique key words as key for dict\n",
    "\n",
    "# itrate through key_words column \n",
    "for i in df.key_words:\n",
    "  for k in keys:\n",
    "    # store 1 if key existing in the cureent key_word row, otherwise, store 0\n",
    "    matched_keys = [dic_keys[k].append(1) if k in i.split(', ')  else dic_keys[k].append(0)]"
   ]
  },
  {
   "cell_type": "code",
   "execution_count": 380,
   "metadata": {
    "colab": {
     "base_uri": "https://localhost:8080/",
     "height": 643
    },
    "id": "AARvkRdyT-CI",
    "outputId": "b861f25c-240e-4313-970a-e7c1bb286cf4"
   },
   "outputs": [
    {
     "data": {
      "text/html": [
       "<div>\n",
       "<style scoped>\n",
       "    .dataframe tbody tr th:only-of-type {\n",
       "        vertical-align: middle;\n",
       "    }\n",
       "\n",
       "    .dataframe tbody tr th {\n",
       "        vertical-align: top;\n",
       "    }\n",
       "\n",
       "    .dataframe thead th {\n",
       "        text-align: right;\n",
       "    }\n",
       "</style>\n",
       "<table border=\"1\" class=\"dataframe\">\n",
       "  <thead>\n",
       "    <tr style=\"text-align: right;\">\n",
       "      <th></th>\n",
       "      <th>Unnamed: 0</th>\n",
       "      <th>shop_name</th>\n",
       "      <th>rating</th>\n",
       "      <th>numbers_of_rating</th>\n",
       "      <th>price</th>\n",
       "      <th>shop_type</th>\n",
       "      <th>key_words</th>\n",
       "      <th>address</th>\n",
       "      <th>reviews</th>\n",
       "      <th>Breakfast</th>\n",
       "      <th>Cash only</th>\n",
       "      <th>Vegetarian options</th>\n",
       "      <th>Cosy</th>\n",
       "      <th>Late-night food</th>\n",
       "      <th>Casual</th>\n",
       "      <th>Outdoor seating</th>\n",
       "      <th>Groups</th>\n",
       "      <th>Happy hour food</th>\n",
       "      <th>Good for kids</th>\n",
       "    </tr>\n",
       "  </thead>\n",
       "  <tbody>\n",
       "    <tr>\n",
       "      <th>0</th>\n",
       "      <td>0</td>\n",
       "      <td>Elixir Bunn Coffee</td>\n",
       "      <td>4.3</td>\n",
       "      <td>218</td>\n",
       "      <td>0</td>\n",
       "      <td>cafe</td>\n",
       "      <td>none</td>\n",
       "      <td>King Abdullah Rd, حي الحمراء، Riyadh 13215</td>\n",
       "      <td>['Amazing new branch for my favorite coffee ho...</td>\n",
       "      <td>0</td>\n",
       "      <td>0</td>\n",
       "      <td>0</td>\n",
       "      <td>0</td>\n",
       "      <td>0</td>\n",
       "      <td>0</td>\n",
       "      <td>0</td>\n",
       "      <td>0</td>\n",
       "      <td>0</td>\n",
       "      <td>0</td>\n",
       "    </tr>\n",
       "    <tr>\n",
       "      <th>1</th>\n",
       "      <td>1</td>\n",
       "      <td>Chamonix Cafe</td>\n",
       "      <td>4.0</td>\n",
       "      <td>563</td>\n",
       "      <td>3</td>\n",
       "      <td>coffee shop</td>\n",
       "      <td>Late-night food, Breakfast, Outdoor seating</td>\n",
       "      <td>9259 Wadi Al Awsat, Al nbsp;2430, Riyadh</td>\n",
       "      <td>['Its really romantic and lovely place with go...</td>\n",
       "      <td>1</td>\n",
       "      <td>0</td>\n",
       "      <td>0</td>\n",
       "      <td>0</td>\n",
       "      <td>1</td>\n",
       "      <td>0</td>\n",
       "      <td>1</td>\n",
       "      <td>0</td>\n",
       "      <td>0</td>\n",
       "      <td>0</td>\n",
       "    </tr>\n",
       "    <tr>\n",
       "      <th>2</th>\n",
       "      <td>2</td>\n",
       "      <td>dr.CAFE COFFEE</td>\n",
       "      <td>4.1</td>\n",
       "      <td>1571</td>\n",
       "      <td>2</td>\n",
       "      <td>coffee shop</td>\n",
       "      <td>Cosy, Casual, Vegetarian options</td>\n",
       "      <td>As Sulimaniyah, Khurais Road Abi Al Arab Stree...</td>\n",
       "      <td>[\"Sandwich wasn't tasty and it was expensive. ...</td>\n",
       "      <td>0</td>\n",
       "      <td>0</td>\n",
       "      <td>1</td>\n",
       "      <td>1</td>\n",
       "      <td>0</td>\n",
       "      <td>1</td>\n",
       "      <td>0</td>\n",
       "      <td>0</td>\n",
       "      <td>0</td>\n",
       "      <td>0</td>\n",
       "    </tr>\n",
       "    <tr>\n",
       "      <th>3</th>\n",
       "      <td>3</td>\n",
       "      <td>The Shaky</td>\n",
       "      <td>3.9</td>\n",
       "      <td>52</td>\n",
       "      <td>0</td>\n",
       "      <td>coffee shop</td>\n",
       "      <td>Cosy, Casual, Groups</td>\n",
       "      <td>لوكاليزر مول بوابة رقم 7 طريق الأمير محمد بن ع...</td>\n",
       "      <td>['Nice place', \"It's delicious you can build y...</td>\n",
       "      <td>0</td>\n",
       "      <td>0</td>\n",
       "      <td>0</td>\n",
       "      <td>1</td>\n",
       "      <td>0</td>\n",
       "      <td>1</td>\n",
       "      <td>0</td>\n",
       "      <td>1</td>\n",
       "      <td>0</td>\n",
       "      <td>0</td>\n",
       "    </tr>\n",
       "    <tr>\n",
       "      <th>4</th>\n",
       "      <td>4</td>\n",
       "      <td>قرمز كافيه - قهوة مختصة</td>\n",
       "      <td>4.1</td>\n",
       "      <td>956</td>\n",
       "      <td>2</td>\n",
       "      <td>coffee shop</td>\n",
       "      <td>Cosy, Casual, Groups</td>\n",
       "      <td>2659 Dammam Branch Road Al Yarmuk Riyadh 13243...</td>\n",
       "      <td>['This coffee shop is a two story shop with a ...</td>\n",
       "      <td>0</td>\n",
       "      <td>0</td>\n",
       "      <td>0</td>\n",
       "      <td>1</td>\n",
       "      <td>0</td>\n",
       "      <td>1</td>\n",
       "      <td>0</td>\n",
       "      <td>1</td>\n",
       "      <td>0</td>\n",
       "      <td>0</td>\n",
       "    </tr>\n",
       "  </tbody>\n",
       "</table>\n",
       "</div>"
      ],
      "text/plain": [
       "   Unnamed: 0                shop_name  ...  Happy hour food  Good for kids\n",
       "0           0      Elixir Bunn Coffee   ...                0              0\n",
       "1           1            Chamonix Cafe  ...                0              0\n",
       "2           2           dr.CAFE COFFEE  ...                0              0\n",
       "3           3                The Shaky  ...                0              0\n",
       "4           4  قرمز كافيه - قهوة مختصة  ...                0              0\n",
       "\n",
       "[5 rows x 19 columns]"
      ]
     },
     "execution_count": 380,
     "metadata": {
      "tags": []
     },
     "output_type": "execute_result"
    }
   ],
   "source": [
    "# join new columns in the data\n",
    "df = df.join(pd.DataFrame(dic_keys))\n",
    "df.head()"
   ]
  },
  {
   "cell_type": "code",
   "execution_count": 381,
   "metadata": {
    "id": "BepFUKHEtxBc"
   },
   "outputs": [],
   "source": [
    "# convert shop_type to numeric \n",
    "# 'cafe' = 0 , 'coffee shop' =1\n",
    "df.shop_type = [0 if i == 'cafe' else 1 for i in df.shop_type]"
   ]
  },
  {
   "cell_type": "markdown",
   "metadata": {
    "id": "c0nujUXHdPDu"
   },
   "source": [
    "#### **Create Target** "
   ]
  },
  {
   "cell_type": "code",
   "execution_count": 382,
   "metadata": {
    "id": "VCaMyQ5ruDS7"
   },
   "outputs": [],
   "source": [
    "## Add target column\n",
    "df['overall'] = ['Good' if i > 4 else 'Bad' for i in df.rating]"
   ]
  },
  {
   "cell_type": "code",
   "execution_count": 383,
   "metadata": {
    "id": "IInDYF65wrTF"
   },
   "outputs": [],
   "source": [
    "# split reviews for the same coffee shop\n",
    "reviews = []\n",
    "for i in range(len(df)):\n",
    "  reviews_per_coffee_shop = str(df.loc[i].reviews).replace('\"',\"'\").split(\"', '\")\n",
    "  for j in range(len(reviews_per_coffee_shop)):\n",
    "    # add review and overall to the reviews list\n",
    "    reviews.append([reviews_per_coffee_shop[j],df.loc[i].overall]) "
   ]
  },
  {
   "cell_type": "code",
   "execution_count": 384,
   "metadata": {
    "colab": {
     "base_uri": "https://localhost:8080/",
     "height": 142
    },
    "id": "yJAXZJqsu-c5",
    "outputId": "3ae3574e-96d8-45d0-ffe1-8162be617ee5"
   },
   "outputs": [
    {
     "data": {
      "text/html": [
       "<div>\n",
       "<style scoped>\n",
       "    .dataframe tbody tr th:only-of-type {\n",
       "        vertical-align: middle;\n",
       "    }\n",
       "\n",
       "    .dataframe tbody tr th {\n",
       "        vertical-align: top;\n",
       "    }\n",
       "\n",
       "    .dataframe thead th {\n",
       "        text-align: right;\n",
       "    }\n",
       "</style>\n",
       "<table border=\"1\" class=\"dataframe\">\n",
       "  <thead>\n",
       "    <tr style=\"text-align: right;\">\n",
       "      <th></th>\n",
       "      <th>Review</th>\n",
       "      <th>Class</th>\n",
       "    </tr>\n",
       "  </thead>\n",
       "  <tbody>\n",
       "    <tr>\n",
       "      <th>468</th>\n",
       "      <td>['I've only tried the hot chocolate and it's g...</td>\n",
       "      <td>Good</td>\n",
       "    </tr>\n",
       "    <tr>\n",
       "      <th>167</th>\n",
       "      <td>Best place to have coffee..best ever Coffee Latte</td>\n",
       "      <td>Bad</td>\n",
       "    </tr>\n",
       "    <tr>\n",
       "      <th>491</th>\n",
       "      <td>['(Translated by Google) The place is better t...</td>\n",
       "      <td>Good</td>\n",
       "    </tr>\n",
       "  </tbody>\n",
       "</table>\n",
       "</div>"
      ],
      "text/plain": [
       "                                                Review Class\n",
       "468  ['I've only tried the hot chocolate and it's g...  Good\n",
       "167  Best place to have coffee..best ever Coffee Latte   Bad\n",
       "491  ['(Translated by Google) The place is better t...  Good"
      ]
     },
     "execution_count": 384,
     "metadata": {
      "tags": []
     },
     "output_type": "execute_result"
    }
   ],
   "source": [
    "# create new dataframe for reviews \n",
    "reviews_df = pd.DataFrame.from_records(reviews, columns=['Review','Class'])\n",
    "reviews_df.sample(3)"
   ]
  },
  {
   "cell_type": "code",
   "execution_count": 385,
   "metadata": {
    "colab": {
     "base_uri": "https://localhost:8080/"
    },
    "id": "ZfTGshTRx7FW",
    "outputId": "99615db2-29c4-44cd-8a1a-7f1c81b026a5"
   },
   "outputs": [
    {
     "data": {
      "text/plain": [
       "(562, 2)"
      ]
     },
     "execution_count": 385,
     "metadata": {
      "tags": []
     },
     "output_type": "execute_result"
    }
   ],
   "source": [
    "reviews_df.shape"
   ]
  },
  {
   "cell_type": "markdown",
   "metadata": {
    "id": "PAvYNBypy13Q"
   },
   "source": [
    "#### **Clean data**"
   ]
  },
  {
   "cell_type": "code",
   "execution_count": 386,
   "metadata": {
    "id": "AODKBWFWyxhM"
   },
   "outputs": [],
   "source": [
    "def clean_text(text):\n",
    "  '''\n",
    "  DESCRIPTION:\n",
    "  This function to preproccesing text \n",
    "\n",
    "  INPUT: \n",
    "  text: string\n",
    "\n",
    "  OUTPUT: \n",
    "  text: string after clean it\n",
    "\n",
    "  ''' \n",
    "  text = text.lower() # convert letters to lower case\n",
    "  text = re.sub(\"[^a-zA-Z]\", \" \", text) # remove non-letters\n",
    "  text = re.sub(r'\\d+', '', text) # remove number\n",
    "  text = re.sub(r'http\\S+', '', text) # remove links\n",
    "  text = text.translate(str.maketrans('','', string.punctuation)) # remove punctuation\n",
    "  text = re.sub(' +', ' ',text) # remove extra space\n",
    "  text = text.strip() # remove whitespaces\n",
    "\n",
    "  text = ' '.join([word for word in text.split() if word not in stopwords.words(\"english\")]) # remove stop words\n",
    "\n",
    "  # lemmatization returns an actual word of the language\n",
    "  lemma = nltk.WordNetLemmatizer() # define lemmatizer\n",
    "  text = ' '.join([lemma.lemmatize(word) for word in text.split()]) \n",
    "\n",
    "  #ps = PorterStemmer() # define stemmer\n",
    "  #text = ' '.join([ps.stem(word) for word in text.split()]) \n",
    "\n",
    "  \n",
    "  return text"
   ]
  },
  {
   "cell_type": "code",
   "execution_count": 387,
   "metadata": {
    "id": "EH6lD37hzMCl"
   },
   "outputs": [],
   "source": [
    "# The cleaning function applied in all reviews\n",
    "reviews_df['Cleaned_Review'] = reviews_df['Review'].apply(clean_text)"
   ]
  },
  {
   "cell_type": "code",
   "execution_count": 388,
   "metadata": {
    "colab": {
     "base_uri": "https://localhost:8080/"
    },
    "id": "nj_F4EZjzWlh",
    "outputId": "4f3b4399-67ad-4c5f-a02a-3b9bf3624a40"
   },
   "outputs": [
    {
     "name": "stdout",
     "output_type": "stream",
     "text": [
      "There are  7  empty reviews in the data.\n"
     ]
    }
   ],
   "source": [
    "# get the empty reviews after cleaning procces \n",
    "empty_reviews_index = reviews_df[reviews_df.Cleaned_Review == ''].index\n",
    "print(\"There are \",len(empty_reviews_index),' empty reviews in the data.')\n",
    "\n",
    "# drop these rows \n",
    "reviews_df.drop(empty_reviews_index, inplace= True)"
   ]
  },
  {
   "cell_type": "markdown",
   "metadata": {
    "id": "qkgNlkFyd1dM"
   },
   "source": [
    "## **Baseline**"
   ]
  },
  {
   "cell_type": "code",
   "execution_count": 389,
   "metadata": {
    "colab": {
     "base_uri": "https://localhost:8080/"
    },
    "id": "zEFQ3UWIOtFG",
    "outputId": "98baa220-3131-4cd3-a8c8-11c13b017805"
   },
   "outputs": [
    {
     "data": {
      "text/plain": [
       "Bad     0.556757\n",
       "Good    0.443243\n",
       "Name: Class, dtype: float64"
      ]
     },
     "execution_count": 389,
     "metadata": {
      "tags": []
     },
     "output_type": "execute_result"
    }
   ],
   "source": [
    "# baseline model\n",
    "reviews_df.Class.value_counts(normalize=True)"
   ]
  },
  {
   "cell_type": "markdown",
   "metadata": {
    "id": "13NEildvdt53"
   },
   "source": [
    "## **Text Classifiction model**"
   ]
  },
  {
   "cell_type": "markdown",
   "metadata": {
    "id": "bbFVGqngeH30"
   },
   "source": [
    "### **Data prepration**"
   ]
  },
  {
   "cell_type": "markdown",
   "metadata": {
    "id": "TjwJPhrB5sl8"
   },
   "source": [
    "#### **Create a bag of words (CountVectorizer)**\n",
    "\n",
    "[CountVectorizer](https://scikit-learn.org/stable/modules/generated/sklearn.feature_extraction.text.CountVectorizer.html) use to convert a collection of text documents to a matrix of token counts.\n"
   ]
  },
  {
   "cell_type": "code",
   "execution_count": 390,
   "metadata": {
    "colab": {
     "base_uri": "https://localhost:8080/"
    },
    "id": "wKfOFMpn40nj",
    "outputId": "36b6371e-47ee-44a2-eaa5-6f851d456c27"
   },
   "outputs": [
    {
     "data": {
      "text/plain": [
       "array([[0, 0, 1, ..., 0, 0, 0],\n",
       "       [1, 0, 0, ..., 0, 0, 0],\n",
       "       [0, 0, 0, ..., 0, 1, 0],\n",
       "       ...,\n",
       "       [0, 0, 0, ..., 0, 0, 0],\n",
       "       [0, 0, 0, ..., 0, 0, 0],\n",
       "       [0, 0, 0, ..., 0, 0, 0]])"
      ]
     },
     "execution_count": 390,
     "metadata": {
      "tags": []
     },
     "output_type": "execute_result"
    }
   ],
   "source": [
    "max_features = 100 # maximum number of features \n",
    "count_vector = CountVectorizer(max_features = max_features)  # create Count Vectorizer\n",
    "X = count_vector.fit_transform(reviews_df['Cleaned_Review']).toarray() # fit the CountVectorizer using reviews data\n",
    "X"
   ]
  },
  {
   "cell_type": "code",
   "execution_count": 391,
   "metadata": {
    "colab": {
     "base_uri": "https://localhost:8080/"
    },
    "id": "2Q-UoDz552pq",
    "outputId": "c97d11d1-1a23-4e78-c13d-86b414ee4290"
   },
   "outputs": [
    {
     "name": "stdout",
     "output_type": "stream",
     "text": [
      "most using 100 words: ['also', 'always', 'amazing', 'area', 'atmosphere', 'available', 'average', 'bad', 'beautiful', 'best', 'branch', 'cafe', 'cake', 'chair', 'chocolate', 'clean', 'coffee', 'cold', 'come', 'comfortable', 'cozy', 'cup', 'customer', 'day', 'decoration', 'definitely', 'delicious', 'dessert', 'drink', 'enjoy', 'espresso', 'ever', 'excellent', 'family', 'favorite', 'food', 'friend', 'friendly', 'get', 'go', 'good', 'google', 'great', 'high', 'hot', 'however', 'inside', 'latte', 'like', 'little', 'location', 'lot', 'love', 'make', 'many', 'meeting', 'menu', 'morning', 'music', 'need', 'new', 'nice', 'one', 'option', 'order', 'ordered', 'original', 'outdoor', 'perfect', 'place', 'price', 'quality', 'quiet', 'quite', 'really', 'recommend', 'riyadh', 'seating', 'service', 'shop', 'sit', 'small', 'staff', 'starbucks', 'sweet', 'table', 'taste', 'tasty', 'time', 'translated', 'tried', 'try', 'two', 'variety', 'visit', 'way', 'well', 'white', 'work', 'would'] \n"
     ]
    }
   ],
   "source": [
    "print(\"Most using {} words: {} \".format(max_features, count_vector.get_feature_names()))"
   ]
  },
  {
   "cell_type": "code",
   "execution_count": 392,
   "metadata": {
    "colab": {
     "base_uri": "https://localhost:8080/"
    },
    "id": "tAvk4USa55bZ",
    "outputId": "72077d9d-5442-42a2-d30c-a86878f2b93a"
   },
   "outputs": [
    {
     "name": "stdout",
     "output_type": "stream",
     "text": [
      "{'amazing': 2, 'new': 60, 'branch': 10, 'favorite': 34, 'coffee': 16, 'like': 48, 'cafe': 11, 'drink': 28, 'cold': 17, 'good': 40, 'nice': 61, 'staff': 82, 'also': 0, 'work': 98, 'excellent': 32, 'cup': 21, 'morning': 57, 'really': 74, 'place': 69, 'food': 35, 'enjoy': 29, 'little': 49, 'friendly': 37, 'price': 70, 'come': 18, 'great': 42, 'service': 78, 'tasty': 87, 'friend': 36, 'comfortable': 19, 'decoration': 24, 'one': 62, 'shop': 79, 'riyadh': 76, 'variety': 93, 'hot': 44, 'cake': 12, 'delicious': 26, 'translated': 89, 'google': 41, 'small': 81, 'original': 66, 'two': 92, 'area': 3, 'family': 33, 'ordered': 65, 'time': 88, 'go': 39, 'atmosphere': 4, 'best': 9, 'bad': 7, 'beautiful': 8, 'latte': 47, 'dessert': 27, 'white': 97, 'option': 63, 'get': 38, 'try': 91, 'sweet': 84, 'many': 54, 'customer': 22, 'taste': 86, 'espresso': 30, 'tried': 90, 'seating': 77, 'visit': 94, 'day': 23, 'need': 59, 'quiet': 72, 'well': 96, 'music': 58, 'quite': 73, 'location': 50, 'lot': 51, 'clean': 15, 'perfect': 68, 'chocolate': 14, 'always': 1, 'inside': 46, 'love': 52, 'would': 99, 'make': 53, 'order': 64, 'definitely': 25, 'recommend': 75, 'average': 6, 'menu': 56, 'available': 5, 'ever': 31, 'meeting': 55, 'table': 85, 'outdoor': 67, 'however': 45, 'quality': 71, 'starbucks': 83, 'sit': 80, 'chair': 13, 'high': 43, 'cozy': 20, 'way': 95}\n"
     ]
    }
   ],
   "source": [
    "# counts for each word in count_vector\n",
    "print(count_vector.vocabulary_)"
   ]
  },
  {
   "cell_type": "code",
   "execution_count": 393,
   "metadata": {
    "colab": {
     "base_uri": "https://localhost:8080/",
     "height": 437
    },
    "id": "oECD9HTU8brI",
    "outputId": "8a6162d4-4b4d-41f9-9a4a-2b7116935666"
   },
   "outputs": [
    {
     "data": {
      "text/html": [
       "<div>\n",
       "<style scoped>\n",
       "    .dataframe tbody tr th:only-of-type {\n",
       "        vertical-align: middle;\n",
       "    }\n",
       "\n",
       "    .dataframe tbody tr th {\n",
       "        vertical-align: top;\n",
       "    }\n",
       "\n",
       "    .dataframe thead th {\n",
       "        text-align: right;\n",
       "    }\n",
       "</style>\n",
       "<table border=\"1\" class=\"dataframe\">\n",
       "  <thead>\n",
       "    <tr style=\"text-align: right;\">\n",
       "      <th></th>\n",
       "      <th>also</th>\n",
       "      <th>always</th>\n",
       "      <th>amazing</th>\n",
       "      <th>area</th>\n",
       "      <th>atmosphere</th>\n",
       "      <th>available</th>\n",
       "      <th>average</th>\n",
       "      <th>bad</th>\n",
       "      <th>beautiful</th>\n",
       "      <th>best</th>\n",
       "      <th>branch</th>\n",
       "      <th>cafe</th>\n",
       "      <th>cake</th>\n",
       "      <th>chair</th>\n",
       "      <th>chocolate</th>\n",
       "      <th>clean</th>\n",
       "      <th>coffee</th>\n",
       "      <th>cold</th>\n",
       "      <th>come</th>\n",
       "      <th>comfortable</th>\n",
       "      <th>cozy</th>\n",
       "      <th>cup</th>\n",
       "      <th>customer</th>\n",
       "      <th>day</th>\n",
       "      <th>decoration</th>\n",
       "      <th>definitely</th>\n",
       "      <th>delicious</th>\n",
       "      <th>dessert</th>\n",
       "      <th>drink</th>\n",
       "      <th>enjoy</th>\n",
       "      <th>espresso</th>\n",
       "      <th>ever</th>\n",
       "      <th>excellent</th>\n",
       "      <th>family</th>\n",
       "      <th>favorite</th>\n",
       "      <th>food</th>\n",
       "      <th>friend</th>\n",
       "      <th>friendly</th>\n",
       "      <th>get</th>\n",
       "      <th>go</th>\n",
       "      <th>...</th>\n",
       "      <th>new</th>\n",
       "      <th>nice</th>\n",
       "      <th>one</th>\n",
       "      <th>option</th>\n",
       "      <th>order</th>\n",
       "      <th>ordered</th>\n",
       "      <th>original</th>\n",
       "      <th>outdoor</th>\n",
       "      <th>perfect</th>\n",
       "      <th>place</th>\n",
       "      <th>price</th>\n",
       "      <th>quality</th>\n",
       "      <th>quiet</th>\n",
       "      <th>quite</th>\n",
       "      <th>really</th>\n",
       "      <th>recommend</th>\n",
       "      <th>riyadh</th>\n",
       "      <th>seating</th>\n",
       "      <th>service</th>\n",
       "      <th>shop</th>\n",
       "      <th>sit</th>\n",
       "      <th>small</th>\n",
       "      <th>staff</th>\n",
       "      <th>starbucks</th>\n",
       "      <th>sweet</th>\n",
       "      <th>table</th>\n",
       "      <th>taste</th>\n",
       "      <th>tasty</th>\n",
       "      <th>time</th>\n",
       "      <th>translated</th>\n",
       "      <th>tried</th>\n",
       "      <th>try</th>\n",
       "      <th>two</th>\n",
       "      <th>variety</th>\n",
       "      <th>visit</th>\n",
       "      <th>way</th>\n",
       "      <th>well</th>\n",
       "      <th>white</th>\n",
       "      <th>work</th>\n",
       "      <th>would</th>\n",
       "    </tr>\n",
       "  </thead>\n",
       "  <tbody>\n",
       "    <tr>\n",
       "      <th>0</th>\n",
       "      <td>0</td>\n",
       "      <td>0</td>\n",
       "      <td>1</td>\n",
       "      <td>0</td>\n",
       "      <td>0</td>\n",
       "      <td>0</td>\n",
       "      <td>0</td>\n",
       "      <td>0</td>\n",
       "      <td>0</td>\n",
       "      <td>0</td>\n",
       "      <td>1</td>\n",
       "      <td>0</td>\n",
       "      <td>0</td>\n",
       "      <td>0</td>\n",
       "      <td>0</td>\n",
       "      <td>0</td>\n",
       "      <td>2</td>\n",
       "      <td>0</td>\n",
       "      <td>0</td>\n",
       "      <td>0</td>\n",
       "      <td>0</td>\n",
       "      <td>0</td>\n",
       "      <td>0</td>\n",
       "      <td>0</td>\n",
       "      <td>0</td>\n",
       "      <td>0</td>\n",
       "      <td>0</td>\n",
       "      <td>0</td>\n",
       "      <td>0</td>\n",
       "      <td>0</td>\n",
       "      <td>0</td>\n",
       "      <td>0</td>\n",
       "      <td>0</td>\n",
       "      <td>0</td>\n",
       "      <td>1</td>\n",
       "      <td>0</td>\n",
       "      <td>0</td>\n",
       "      <td>0</td>\n",
       "      <td>0</td>\n",
       "      <td>0</td>\n",
       "      <td>...</td>\n",
       "      <td>1</td>\n",
       "      <td>0</td>\n",
       "      <td>0</td>\n",
       "      <td>0</td>\n",
       "      <td>0</td>\n",
       "      <td>0</td>\n",
       "      <td>0</td>\n",
       "      <td>0</td>\n",
       "      <td>0</td>\n",
       "      <td>0</td>\n",
       "      <td>0</td>\n",
       "      <td>0</td>\n",
       "      <td>0</td>\n",
       "      <td>0</td>\n",
       "      <td>0</td>\n",
       "      <td>0</td>\n",
       "      <td>0</td>\n",
       "      <td>0</td>\n",
       "      <td>0</td>\n",
       "      <td>0</td>\n",
       "      <td>0</td>\n",
       "      <td>0</td>\n",
       "      <td>0</td>\n",
       "      <td>0</td>\n",
       "      <td>0</td>\n",
       "      <td>0</td>\n",
       "      <td>0</td>\n",
       "      <td>0</td>\n",
       "      <td>0</td>\n",
       "      <td>0</td>\n",
       "      <td>0</td>\n",
       "      <td>0</td>\n",
       "      <td>0</td>\n",
       "      <td>0</td>\n",
       "      <td>0</td>\n",
       "      <td>0</td>\n",
       "      <td>0</td>\n",
       "      <td>0</td>\n",
       "      <td>0</td>\n",
       "      <td>0</td>\n",
       "    </tr>\n",
       "    <tr>\n",
       "      <th>1</th>\n",
       "      <td>1</td>\n",
       "      <td>0</td>\n",
       "      <td>0</td>\n",
       "      <td>0</td>\n",
       "      <td>0</td>\n",
       "      <td>0</td>\n",
       "      <td>0</td>\n",
       "      <td>0</td>\n",
       "      <td>0</td>\n",
       "      <td>0</td>\n",
       "      <td>0</td>\n",
       "      <td>1</td>\n",
       "      <td>0</td>\n",
       "      <td>0</td>\n",
       "      <td>0</td>\n",
       "      <td>0</td>\n",
       "      <td>2</td>\n",
       "      <td>1</td>\n",
       "      <td>0</td>\n",
       "      <td>0</td>\n",
       "      <td>0</td>\n",
       "      <td>0</td>\n",
       "      <td>0</td>\n",
       "      <td>0</td>\n",
       "      <td>0</td>\n",
       "      <td>0</td>\n",
       "      <td>0</td>\n",
       "      <td>0</td>\n",
       "      <td>2</td>\n",
       "      <td>0</td>\n",
       "      <td>0</td>\n",
       "      <td>0</td>\n",
       "      <td>0</td>\n",
       "      <td>0</td>\n",
       "      <td>0</td>\n",
       "      <td>0</td>\n",
       "      <td>0</td>\n",
       "      <td>0</td>\n",
       "      <td>0</td>\n",
       "      <td>0</td>\n",
       "      <td>...</td>\n",
       "      <td>0</td>\n",
       "      <td>2</td>\n",
       "      <td>0</td>\n",
       "      <td>0</td>\n",
       "      <td>0</td>\n",
       "      <td>0</td>\n",
       "      <td>0</td>\n",
       "      <td>0</td>\n",
       "      <td>0</td>\n",
       "      <td>0</td>\n",
       "      <td>0</td>\n",
       "      <td>0</td>\n",
       "      <td>0</td>\n",
       "      <td>0</td>\n",
       "      <td>0</td>\n",
       "      <td>0</td>\n",
       "      <td>0</td>\n",
       "      <td>0</td>\n",
       "      <td>0</td>\n",
       "      <td>0</td>\n",
       "      <td>0</td>\n",
       "      <td>0</td>\n",
       "      <td>1</td>\n",
       "      <td>0</td>\n",
       "      <td>0</td>\n",
       "      <td>0</td>\n",
       "      <td>0</td>\n",
       "      <td>0</td>\n",
       "      <td>0</td>\n",
       "      <td>0</td>\n",
       "      <td>0</td>\n",
       "      <td>0</td>\n",
       "      <td>0</td>\n",
       "      <td>0</td>\n",
       "      <td>0</td>\n",
       "      <td>0</td>\n",
       "      <td>0</td>\n",
       "      <td>0</td>\n",
       "      <td>0</td>\n",
       "      <td>0</td>\n",
       "    </tr>\n",
       "    <tr>\n",
       "      <th>2</th>\n",
       "      <td>0</td>\n",
       "      <td>0</td>\n",
       "      <td>0</td>\n",
       "      <td>0</td>\n",
       "      <td>0</td>\n",
       "      <td>0</td>\n",
       "      <td>0</td>\n",
       "      <td>0</td>\n",
       "      <td>0</td>\n",
       "      <td>0</td>\n",
       "      <td>0</td>\n",
       "      <td>0</td>\n",
       "      <td>0</td>\n",
       "      <td>0</td>\n",
       "      <td>0</td>\n",
       "      <td>0</td>\n",
       "      <td>1</td>\n",
       "      <td>0</td>\n",
       "      <td>0</td>\n",
       "      <td>0</td>\n",
       "      <td>0</td>\n",
       "      <td>1</td>\n",
       "      <td>0</td>\n",
       "      <td>0</td>\n",
       "      <td>0</td>\n",
       "      <td>0</td>\n",
       "      <td>0</td>\n",
       "      <td>0</td>\n",
       "      <td>0</td>\n",
       "      <td>0</td>\n",
       "      <td>0</td>\n",
       "      <td>0</td>\n",
       "      <td>1</td>\n",
       "      <td>0</td>\n",
       "      <td>0</td>\n",
       "      <td>0</td>\n",
       "      <td>0</td>\n",
       "      <td>0</td>\n",
       "      <td>0</td>\n",
       "      <td>0</td>\n",
       "      <td>...</td>\n",
       "      <td>0</td>\n",
       "      <td>0</td>\n",
       "      <td>0</td>\n",
       "      <td>0</td>\n",
       "      <td>0</td>\n",
       "      <td>0</td>\n",
       "      <td>0</td>\n",
       "      <td>0</td>\n",
       "      <td>0</td>\n",
       "      <td>0</td>\n",
       "      <td>0</td>\n",
       "      <td>0</td>\n",
       "      <td>0</td>\n",
       "      <td>0</td>\n",
       "      <td>0</td>\n",
       "      <td>0</td>\n",
       "      <td>0</td>\n",
       "      <td>0</td>\n",
       "      <td>0</td>\n",
       "      <td>0</td>\n",
       "      <td>0</td>\n",
       "      <td>0</td>\n",
       "      <td>0</td>\n",
       "      <td>0</td>\n",
       "      <td>0</td>\n",
       "      <td>0</td>\n",
       "      <td>0</td>\n",
       "      <td>0</td>\n",
       "      <td>0</td>\n",
       "      <td>0</td>\n",
       "      <td>0</td>\n",
       "      <td>0</td>\n",
       "      <td>0</td>\n",
       "      <td>0</td>\n",
       "      <td>0</td>\n",
       "      <td>0</td>\n",
       "      <td>0</td>\n",
       "      <td>0</td>\n",
       "      <td>1</td>\n",
       "      <td>0</td>\n",
       "    </tr>\n",
       "    <tr>\n",
       "      <th>3</th>\n",
       "      <td>0</td>\n",
       "      <td>0</td>\n",
       "      <td>1</td>\n",
       "      <td>0</td>\n",
       "      <td>0</td>\n",
       "      <td>0</td>\n",
       "      <td>0</td>\n",
       "      <td>0</td>\n",
       "      <td>0</td>\n",
       "      <td>0</td>\n",
       "      <td>0</td>\n",
       "      <td>1</td>\n",
       "      <td>0</td>\n",
       "      <td>0</td>\n",
       "      <td>0</td>\n",
       "      <td>0</td>\n",
       "      <td>0</td>\n",
       "      <td>0</td>\n",
       "      <td>0</td>\n",
       "      <td>0</td>\n",
       "      <td>0</td>\n",
       "      <td>0</td>\n",
       "      <td>0</td>\n",
       "      <td>0</td>\n",
       "      <td>0</td>\n",
       "      <td>0</td>\n",
       "      <td>0</td>\n",
       "      <td>0</td>\n",
       "      <td>1</td>\n",
       "      <td>1</td>\n",
       "      <td>0</td>\n",
       "      <td>0</td>\n",
       "      <td>0</td>\n",
       "      <td>0</td>\n",
       "      <td>0</td>\n",
       "      <td>1</td>\n",
       "      <td>0</td>\n",
       "      <td>0</td>\n",
       "      <td>0</td>\n",
       "      <td>0</td>\n",
       "      <td>...</td>\n",
       "      <td>0</td>\n",
       "      <td>0</td>\n",
       "      <td>0</td>\n",
       "      <td>0</td>\n",
       "      <td>0</td>\n",
       "      <td>0</td>\n",
       "      <td>0</td>\n",
       "      <td>0</td>\n",
       "      <td>0</td>\n",
       "      <td>1</td>\n",
       "      <td>0</td>\n",
       "      <td>0</td>\n",
       "      <td>0</td>\n",
       "      <td>0</td>\n",
       "      <td>2</td>\n",
       "      <td>0</td>\n",
       "      <td>0</td>\n",
       "      <td>0</td>\n",
       "      <td>0</td>\n",
       "      <td>0</td>\n",
       "      <td>0</td>\n",
       "      <td>0</td>\n",
       "      <td>0</td>\n",
       "      <td>0</td>\n",
       "      <td>0</td>\n",
       "      <td>0</td>\n",
       "      <td>0</td>\n",
       "      <td>0</td>\n",
       "      <td>0</td>\n",
       "      <td>0</td>\n",
       "      <td>0</td>\n",
       "      <td>0</td>\n",
       "      <td>0</td>\n",
       "      <td>0</td>\n",
       "      <td>0</td>\n",
       "      <td>0</td>\n",
       "      <td>0</td>\n",
       "      <td>0</td>\n",
       "      <td>0</td>\n",
       "      <td>0</td>\n",
       "    </tr>\n",
       "    <tr>\n",
       "      <th>4</th>\n",
       "      <td>0</td>\n",
       "      <td>0</td>\n",
       "      <td>0</td>\n",
       "      <td>0</td>\n",
       "      <td>0</td>\n",
       "      <td>0</td>\n",
       "      <td>0</td>\n",
       "      <td>0</td>\n",
       "      <td>0</td>\n",
       "      <td>0</td>\n",
       "      <td>0</td>\n",
       "      <td>0</td>\n",
       "      <td>0</td>\n",
       "      <td>0</td>\n",
       "      <td>0</td>\n",
       "      <td>0</td>\n",
       "      <td>1</td>\n",
       "      <td>0</td>\n",
       "      <td>0</td>\n",
       "      <td>0</td>\n",
       "      <td>0</td>\n",
       "      <td>0</td>\n",
       "      <td>0</td>\n",
       "      <td>0</td>\n",
       "      <td>0</td>\n",
       "      <td>0</td>\n",
       "      <td>0</td>\n",
       "      <td>0</td>\n",
       "      <td>0</td>\n",
       "      <td>0</td>\n",
       "      <td>0</td>\n",
       "      <td>0</td>\n",
       "      <td>0</td>\n",
       "      <td>0</td>\n",
       "      <td>0</td>\n",
       "      <td>1</td>\n",
       "      <td>0</td>\n",
       "      <td>1</td>\n",
       "      <td>0</td>\n",
       "      <td>0</td>\n",
       "      <td>...</td>\n",
       "      <td>0</td>\n",
       "      <td>1</td>\n",
       "      <td>0</td>\n",
       "      <td>0</td>\n",
       "      <td>0</td>\n",
       "      <td>0</td>\n",
       "      <td>0</td>\n",
       "      <td>0</td>\n",
       "      <td>0</td>\n",
       "      <td>0</td>\n",
       "      <td>1</td>\n",
       "      <td>0</td>\n",
       "      <td>0</td>\n",
       "      <td>0</td>\n",
       "      <td>0</td>\n",
       "      <td>0</td>\n",
       "      <td>0</td>\n",
       "      <td>0</td>\n",
       "      <td>0</td>\n",
       "      <td>0</td>\n",
       "      <td>0</td>\n",
       "      <td>0</td>\n",
       "      <td>1</td>\n",
       "      <td>0</td>\n",
       "      <td>0</td>\n",
       "      <td>0</td>\n",
       "      <td>0</td>\n",
       "      <td>0</td>\n",
       "      <td>0</td>\n",
       "      <td>0</td>\n",
       "      <td>0</td>\n",
       "      <td>0</td>\n",
       "      <td>0</td>\n",
       "      <td>0</td>\n",
       "      <td>0</td>\n",
       "      <td>0</td>\n",
       "      <td>0</td>\n",
       "      <td>0</td>\n",
       "      <td>0</td>\n",
       "      <td>0</td>\n",
       "    </tr>\n",
       "    <tr>\n",
       "      <th>...</th>\n",
       "      <td>...</td>\n",
       "      <td>...</td>\n",
       "      <td>...</td>\n",
       "      <td>...</td>\n",
       "      <td>...</td>\n",
       "      <td>...</td>\n",
       "      <td>...</td>\n",
       "      <td>...</td>\n",
       "      <td>...</td>\n",
       "      <td>...</td>\n",
       "      <td>...</td>\n",
       "      <td>...</td>\n",
       "      <td>...</td>\n",
       "      <td>...</td>\n",
       "      <td>...</td>\n",
       "      <td>...</td>\n",
       "      <td>...</td>\n",
       "      <td>...</td>\n",
       "      <td>...</td>\n",
       "      <td>...</td>\n",
       "      <td>...</td>\n",
       "      <td>...</td>\n",
       "      <td>...</td>\n",
       "      <td>...</td>\n",
       "      <td>...</td>\n",
       "      <td>...</td>\n",
       "      <td>...</td>\n",
       "      <td>...</td>\n",
       "      <td>...</td>\n",
       "      <td>...</td>\n",
       "      <td>...</td>\n",
       "      <td>...</td>\n",
       "      <td>...</td>\n",
       "      <td>...</td>\n",
       "      <td>...</td>\n",
       "      <td>...</td>\n",
       "      <td>...</td>\n",
       "      <td>...</td>\n",
       "      <td>...</td>\n",
       "      <td>...</td>\n",
       "      <td>...</td>\n",
       "      <td>...</td>\n",
       "      <td>...</td>\n",
       "      <td>...</td>\n",
       "      <td>...</td>\n",
       "      <td>...</td>\n",
       "      <td>...</td>\n",
       "      <td>...</td>\n",
       "      <td>...</td>\n",
       "      <td>...</td>\n",
       "      <td>...</td>\n",
       "      <td>...</td>\n",
       "      <td>...</td>\n",
       "      <td>...</td>\n",
       "      <td>...</td>\n",
       "      <td>...</td>\n",
       "      <td>...</td>\n",
       "      <td>...</td>\n",
       "      <td>...</td>\n",
       "      <td>...</td>\n",
       "      <td>...</td>\n",
       "      <td>...</td>\n",
       "      <td>...</td>\n",
       "      <td>...</td>\n",
       "      <td>...</td>\n",
       "      <td>...</td>\n",
       "      <td>...</td>\n",
       "      <td>...</td>\n",
       "      <td>...</td>\n",
       "      <td>...</td>\n",
       "      <td>...</td>\n",
       "      <td>...</td>\n",
       "      <td>...</td>\n",
       "      <td>...</td>\n",
       "      <td>...</td>\n",
       "      <td>...</td>\n",
       "      <td>...</td>\n",
       "      <td>...</td>\n",
       "      <td>...</td>\n",
       "      <td>...</td>\n",
       "      <td>...</td>\n",
       "    </tr>\n",
       "    <tr>\n",
       "      <th>550</th>\n",
       "      <td>0</td>\n",
       "      <td>0</td>\n",
       "      <td>0</td>\n",
       "      <td>0</td>\n",
       "      <td>0</td>\n",
       "      <td>0</td>\n",
       "      <td>0</td>\n",
       "      <td>0</td>\n",
       "      <td>0</td>\n",
       "      <td>0</td>\n",
       "      <td>0</td>\n",
       "      <td>0</td>\n",
       "      <td>0</td>\n",
       "      <td>0</td>\n",
       "      <td>0</td>\n",
       "      <td>0</td>\n",
       "      <td>1</td>\n",
       "      <td>0</td>\n",
       "      <td>1</td>\n",
       "      <td>0</td>\n",
       "      <td>0</td>\n",
       "      <td>0</td>\n",
       "      <td>0</td>\n",
       "      <td>0</td>\n",
       "      <td>0</td>\n",
       "      <td>1</td>\n",
       "      <td>0</td>\n",
       "      <td>0</td>\n",
       "      <td>0</td>\n",
       "      <td>0</td>\n",
       "      <td>0</td>\n",
       "      <td>0</td>\n",
       "      <td>0</td>\n",
       "      <td>0</td>\n",
       "      <td>0</td>\n",
       "      <td>0</td>\n",
       "      <td>0</td>\n",
       "      <td>0</td>\n",
       "      <td>0</td>\n",
       "      <td>0</td>\n",
       "      <td>...</td>\n",
       "      <td>0</td>\n",
       "      <td>0</td>\n",
       "      <td>0</td>\n",
       "      <td>0</td>\n",
       "      <td>0</td>\n",
       "      <td>0</td>\n",
       "      <td>0</td>\n",
       "      <td>0</td>\n",
       "      <td>0</td>\n",
       "      <td>0</td>\n",
       "      <td>0</td>\n",
       "      <td>0</td>\n",
       "      <td>0</td>\n",
       "      <td>0</td>\n",
       "      <td>0</td>\n",
       "      <td>0</td>\n",
       "      <td>0</td>\n",
       "      <td>0</td>\n",
       "      <td>0</td>\n",
       "      <td>0</td>\n",
       "      <td>0</td>\n",
       "      <td>0</td>\n",
       "      <td>0</td>\n",
       "      <td>0</td>\n",
       "      <td>1</td>\n",
       "      <td>0</td>\n",
       "      <td>0</td>\n",
       "      <td>0</td>\n",
       "      <td>0</td>\n",
       "      <td>0</td>\n",
       "      <td>0</td>\n",
       "      <td>1</td>\n",
       "      <td>0</td>\n",
       "      <td>0</td>\n",
       "      <td>0</td>\n",
       "      <td>0</td>\n",
       "      <td>1</td>\n",
       "      <td>0</td>\n",
       "      <td>0</td>\n",
       "      <td>0</td>\n",
       "    </tr>\n",
       "    <tr>\n",
       "      <th>551</th>\n",
       "      <td>2</td>\n",
       "      <td>0</td>\n",
       "      <td>0</td>\n",
       "      <td>0</td>\n",
       "      <td>0</td>\n",
       "      <td>0</td>\n",
       "      <td>0</td>\n",
       "      <td>1</td>\n",
       "      <td>0</td>\n",
       "      <td>2</td>\n",
       "      <td>0</td>\n",
       "      <td>0</td>\n",
       "      <td>0</td>\n",
       "      <td>0</td>\n",
       "      <td>0</td>\n",
       "      <td>0</td>\n",
       "      <td>0</td>\n",
       "      <td>0</td>\n",
       "      <td>0</td>\n",
       "      <td>0</td>\n",
       "      <td>0</td>\n",
       "      <td>0</td>\n",
       "      <td>0</td>\n",
       "      <td>0</td>\n",
       "      <td>0</td>\n",
       "      <td>0</td>\n",
       "      <td>0</td>\n",
       "      <td>0</td>\n",
       "      <td>0</td>\n",
       "      <td>0</td>\n",
       "      <td>0</td>\n",
       "      <td>0</td>\n",
       "      <td>0</td>\n",
       "      <td>0</td>\n",
       "      <td>0</td>\n",
       "      <td>0</td>\n",
       "      <td>1</td>\n",
       "      <td>0</td>\n",
       "      <td>0</td>\n",
       "      <td>0</td>\n",
       "      <td>...</td>\n",
       "      <td>0</td>\n",
       "      <td>0</td>\n",
       "      <td>0</td>\n",
       "      <td>0</td>\n",
       "      <td>4</td>\n",
       "      <td>0</td>\n",
       "      <td>0</td>\n",
       "      <td>0</td>\n",
       "      <td>0</td>\n",
       "      <td>4</td>\n",
       "      <td>0</td>\n",
       "      <td>0</td>\n",
       "      <td>0</td>\n",
       "      <td>0</td>\n",
       "      <td>0</td>\n",
       "      <td>0</td>\n",
       "      <td>0</td>\n",
       "      <td>0</td>\n",
       "      <td>0</td>\n",
       "      <td>0</td>\n",
       "      <td>0</td>\n",
       "      <td>0</td>\n",
       "      <td>0</td>\n",
       "      <td>0</td>\n",
       "      <td>0</td>\n",
       "      <td>0</td>\n",
       "      <td>3</td>\n",
       "      <td>0</td>\n",
       "      <td>4</td>\n",
       "      <td>0</td>\n",
       "      <td>0</td>\n",
       "      <td>0</td>\n",
       "      <td>0</td>\n",
       "      <td>0</td>\n",
       "      <td>0</td>\n",
       "      <td>0</td>\n",
       "      <td>0</td>\n",
       "      <td>0</td>\n",
       "      <td>0</td>\n",
       "      <td>0</td>\n",
       "    </tr>\n",
       "    <tr>\n",
       "      <th>552</th>\n",
       "      <td>0</td>\n",
       "      <td>0</td>\n",
       "      <td>0</td>\n",
       "      <td>0</td>\n",
       "      <td>0</td>\n",
       "      <td>0</td>\n",
       "      <td>0</td>\n",
       "      <td>0</td>\n",
       "      <td>0</td>\n",
       "      <td>0</td>\n",
       "      <td>0</td>\n",
       "      <td>0</td>\n",
       "      <td>0</td>\n",
       "      <td>0</td>\n",
       "      <td>0</td>\n",
       "      <td>0</td>\n",
       "      <td>0</td>\n",
       "      <td>0</td>\n",
       "      <td>0</td>\n",
       "      <td>0</td>\n",
       "      <td>0</td>\n",
       "      <td>0</td>\n",
       "      <td>0</td>\n",
       "      <td>0</td>\n",
       "      <td>0</td>\n",
       "      <td>0</td>\n",
       "      <td>0</td>\n",
       "      <td>0</td>\n",
       "      <td>0</td>\n",
       "      <td>0</td>\n",
       "      <td>0</td>\n",
       "      <td>0</td>\n",
       "      <td>0</td>\n",
       "      <td>0</td>\n",
       "      <td>0</td>\n",
       "      <td>0</td>\n",
       "      <td>0</td>\n",
       "      <td>1</td>\n",
       "      <td>0</td>\n",
       "      <td>0</td>\n",
       "      <td>...</td>\n",
       "      <td>0</td>\n",
       "      <td>1</td>\n",
       "      <td>0</td>\n",
       "      <td>0</td>\n",
       "      <td>0</td>\n",
       "      <td>0</td>\n",
       "      <td>0</td>\n",
       "      <td>0</td>\n",
       "      <td>0</td>\n",
       "      <td>1</td>\n",
       "      <td>0</td>\n",
       "      <td>0</td>\n",
       "      <td>0</td>\n",
       "      <td>0</td>\n",
       "      <td>0</td>\n",
       "      <td>0</td>\n",
       "      <td>0</td>\n",
       "      <td>0</td>\n",
       "      <td>1</td>\n",
       "      <td>0</td>\n",
       "      <td>0</td>\n",
       "      <td>0</td>\n",
       "      <td>1</td>\n",
       "      <td>0</td>\n",
       "      <td>0</td>\n",
       "      <td>0</td>\n",
       "      <td>0</td>\n",
       "      <td>0</td>\n",
       "      <td>0</td>\n",
       "      <td>0</td>\n",
       "      <td>0</td>\n",
       "      <td>0</td>\n",
       "      <td>0</td>\n",
       "      <td>0</td>\n",
       "      <td>0</td>\n",
       "      <td>0</td>\n",
       "      <td>0</td>\n",
       "      <td>0</td>\n",
       "      <td>0</td>\n",
       "      <td>0</td>\n",
       "    </tr>\n",
       "    <tr>\n",
       "      <th>553</th>\n",
       "      <td>0</td>\n",
       "      <td>0</td>\n",
       "      <td>0</td>\n",
       "      <td>0</td>\n",
       "      <td>0</td>\n",
       "      <td>0</td>\n",
       "      <td>0</td>\n",
       "      <td>0</td>\n",
       "      <td>0</td>\n",
       "      <td>0</td>\n",
       "      <td>0</td>\n",
       "      <td>0</td>\n",
       "      <td>0</td>\n",
       "      <td>0</td>\n",
       "      <td>0</td>\n",
       "      <td>0</td>\n",
       "      <td>1</td>\n",
       "      <td>0</td>\n",
       "      <td>0</td>\n",
       "      <td>0</td>\n",
       "      <td>0</td>\n",
       "      <td>0</td>\n",
       "      <td>0</td>\n",
       "      <td>0</td>\n",
       "      <td>0</td>\n",
       "      <td>0</td>\n",
       "      <td>0</td>\n",
       "      <td>0</td>\n",
       "      <td>0</td>\n",
       "      <td>0</td>\n",
       "      <td>0</td>\n",
       "      <td>0</td>\n",
       "      <td>0</td>\n",
       "      <td>0</td>\n",
       "      <td>0</td>\n",
       "      <td>0</td>\n",
       "      <td>0</td>\n",
       "      <td>0</td>\n",
       "      <td>0</td>\n",
       "      <td>0</td>\n",
       "      <td>...</td>\n",
       "      <td>0</td>\n",
       "      <td>1</td>\n",
       "      <td>0</td>\n",
       "      <td>0</td>\n",
       "      <td>0</td>\n",
       "      <td>0</td>\n",
       "      <td>0</td>\n",
       "      <td>0</td>\n",
       "      <td>0</td>\n",
       "      <td>1</td>\n",
       "      <td>0</td>\n",
       "      <td>0</td>\n",
       "      <td>0</td>\n",
       "      <td>0</td>\n",
       "      <td>0</td>\n",
       "      <td>0</td>\n",
       "      <td>0</td>\n",
       "      <td>0</td>\n",
       "      <td>0</td>\n",
       "      <td>0</td>\n",
       "      <td>0</td>\n",
       "      <td>0</td>\n",
       "      <td>0</td>\n",
       "      <td>0</td>\n",
       "      <td>0</td>\n",
       "      <td>0</td>\n",
       "      <td>0</td>\n",
       "      <td>0</td>\n",
       "      <td>0</td>\n",
       "      <td>0</td>\n",
       "      <td>0</td>\n",
       "      <td>0</td>\n",
       "      <td>0</td>\n",
       "      <td>0</td>\n",
       "      <td>0</td>\n",
       "      <td>0</td>\n",
       "      <td>0</td>\n",
       "      <td>0</td>\n",
       "      <td>0</td>\n",
       "      <td>0</td>\n",
       "    </tr>\n",
       "    <tr>\n",
       "      <th>554</th>\n",
       "      <td>0</td>\n",
       "      <td>0</td>\n",
       "      <td>0</td>\n",
       "      <td>0</td>\n",
       "      <td>0</td>\n",
       "      <td>0</td>\n",
       "      <td>0</td>\n",
       "      <td>0</td>\n",
       "      <td>0</td>\n",
       "      <td>0</td>\n",
       "      <td>0</td>\n",
       "      <td>0</td>\n",
       "      <td>0</td>\n",
       "      <td>0</td>\n",
       "      <td>0</td>\n",
       "      <td>0</td>\n",
       "      <td>0</td>\n",
       "      <td>0</td>\n",
       "      <td>0</td>\n",
       "      <td>0</td>\n",
       "      <td>0</td>\n",
       "      <td>0</td>\n",
       "      <td>0</td>\n",
       "      <td>0</td>\n",
       "      <td>0</td>\n",
       "      <td>0</td>\n",
       "      <td>0</td>\n",
       "      <td>0</td>\n",
       "      <td>0</td>\n",
       "      <td>0</td>\n",
       "      <td>0</td>\n",
       "      <td>0</td>\n",
       "      <td>0</td>\n",
       "      <td>0</td>\n",
       "      <td>0</td>\n",
       "      <td>0</td>\n",
       "      <td>0</td>\n",
       "      <td>0</td>\n",
       "      <td>0</td>\n",
       "      <td>0</td>\n",
       "      <td>...</td>\n",
       "      <td>0</td>\n",
       "      <td>0</td>\n",
       "      <td>0</td>\n",
       "      <td>0</td>\n",
       "      <td>0</td>\n",
       "      <td>0</td>\n",
       "      <td>0</td>\n",
       "      <td>0</td>\n",
       "      <td>0</td>\n",
       "      <td>0</td>\n",
       "      <td>1</td>\n",
       "      <td>0</td>\n",
       "      <td>0</td>\n",
       "      <td>0</td>\n",
       "      <td>0</td>\n",
       "      <td>0</td>\n",
       "      <td>0</td>\n",
       "      <td>0</td>\n",
       "      <td>1</td>\n",
       "      <td>0</td>\n",
       "      <td>0</td>\n",
       "      <td>0</td>\n",
       "      <td>1</td>\n",
       "      <td>0</td>\n",
       "      <td>0</td>\n",
       "      <td>0</td>\n",
       "      <td>0</td>\n",
       "      <td>0</td>\n",
       "      <td>0</td>\n",
       "      <td>0</td>\n",
       "      <td>0</td>\n",
       "      <td>0</td>\n",
       "      <td>0</td>\n",
       "      <td>0</td>\n",
       "      <td>0</td>\n",
       "      <td>0</td>\n",
       "      <td>0</td>\n",
       "      <td>0</td>\n",
       "      <td>0</td>\n",
       "      <td>0</td>\n",
       "    </tr>\n",
       "  </tbody>\n",
       "</table>\n",
       "<p>555 rows × 100 columns</p>\n",
       "</div>"
      ],
      "text/plain": [
       "     also  always  amazing  area  atmosphere  ...  way  well  white  work  would\n",
       "0       0       0        1     0           0  ...    0     0      0     0      0\n",
       "1       1       0        0     0           0  ...    0     0      0     0      0\n",
       "2       0       0        0     0           0  ...    0     0      0     1      0\n",
       "3       0       0        1     0           0  ...    0     0      0     0      0\n",
       "4       0       0        0     0           0  ...    0     0      0     0      0\n",
       "..    ...     ...      ...   ...         ...  ...  ...   ...    ...   ...    ...\n",
       "550     0       0        0     0           0  ...    0     1      0     0      0\n",
       "551     2       0        0     0           0  ...    0     0      0     0      0\n",
       "552     0       0        0     0           0  ...    0     0      0     0      0\n",
       "553     0       0        0     0           0  ...    0     0      0     0      0\n",
       "554     0       0        0     0           0  ...    0     0      0     0      0\n",
       "\n",
       "[555 rows x 100 columns]"
      ]
     },
     "execution_count": 393,
     "metadata": {
      "tags": []
     },
     "output_type": "execute_result"
    }
   ],
   "source": [
    "d = pd.DataFrame(X,columns=count_vector.get_feature_names())\n",
    "d"
   ]
  },
  {
   "cell_type": "markdown",
   "metadata": {
    "id": "qxruKDByhoSZ"
   },
   "source": [
    "#### **Split data to train and test**"
   ]
  },
  {
   "cell_type": "code",
   "execution_count": 408,
   "metadata": {
    "id": "P_XbW0198pvD"
   },
   "outputs": [],
   "source": [
    "X_train, X_test, y_train, y_test = train_test_split(X,reviews_df['Class'], test_size =0.2, random_state=42)"
   ]
  },
  {
   "cell_type": "markdown",
   "metadata": {
    "id": "5gsZfHwTd-1n"
   },
   "source": [
    "### **Logistic Regression**"
   ]
  },
  {
   "cell_type": "code",
   "execution_count": 409,
   "metadata": {
    "colab": {
     "base_uri": "https://localhost:8080/"
    },
    "id": "1AFc3sHv8sMf",
    "outputId": "658e3144-0fe0-47a0-8528-b6046f14b59c"
   },
   "outputs": [
    {
     "data": {
      "text/plain": [
       "LogisticRegression(C=1.0, class_weight=None, dual=False, fit_intercept=True,\n",
       "                   intercept_scaling=1, l1_ratio=None, max_iter=100,\n",
       "                   multi_class='auto', n_jobs=None, penalty='l2',\n",
       "                   random_state=None, solver='lbfgs', tol=0.0001, verbose=0,\n",
       "                   warm_start=False)"
      ]
     },
     "execution_count": 409,
     "metadata": {
      "tags": []
     },
     "output_type": "execute_result"
    }
   ],
   "source": [
    "# Define Logistic Regression\n",
    "model = LogisticRegression()\n",
    "\n",
    "# train model\n",
    "model.fit(X_train, y_train) "
   ]
  },
  {
   "cell_type": "markdown",
   "metadata": {
    "id": "ts7LrkYPlXcM"
   },
   "source": [
    "#### **Results**"
   ]
  },
  {
   "cell_type": "code",
   "execution_count": 430,
   "metadata": {
    "colab": {
     "base_uri": "https://localhost:8080/"
    },
    "id": "yIb7Bz3CmocI",
    "outputId": "ff2c01af-d9fe-4832-ff90-ebc3b4fe078e"
   },
   "outputs": [
    {
     "name": "stdout",
     "output_type": "stream",
     "text": [
      "Train model accuracy:  0.7094594594594594\n"
     ]
    }
   ],
   "source": [
    "# Predicting the Train set results \n",
    "print('Train model accuracy: ',accuracy_score(y_train, model.predict(X_train)))"
   ]
  },
  {
   "cell_type": "code",
   "execution_count": 410,
   "metadata": {
    "colab": {
     "base_uri": "https://localhost:8080/"
    },
    "id": "j6tbhHdi8zHz",
    "outputId": "025fd3f9-fc50-42f2-db12-cec5880c4cfe"
   },
   "outputs": [
    {
     "name": "stdout",
     "output_type": "stream",
     "text": [
      "Test model accuracy:  0.6396396396396397\n"
     ]
    }
   ],
   "source": [
    "# Predicting the Test set results \n",
    "y_pred = model.predict(X_test) \n",
    "print('Test model accuracy: ',accuracy_score(y_test, y_pred))"
   ]
  },
  {
   "cell_type": "code",
   "execution_count": 426,
   "metadata": {
    "colab": {
     "base_uri": "https://localhost:8080/",
     "height": 279
    },
    "id": "VQy1noUpmF_W",
    "outputId": "b9231d90-b57a-4e9b-fb59-2090fcfec7d8"
   },
   "outputs": [
    {
     "data": {
      "image/png": "[encoded data removed]",
      "text/plain": [
       "<Figure size 432x288 with 2 Axes>"
      ]
     },
     "metadata": {
      "needs_background": "light",
      "tags": []
     },
     "output_type": "display_data"
    }
   ],
   "source": [
    "plot_confusion_matrix(model, X=X_test, y_true=y_test, cmap='Blues');"
   ]
  },
  {
   "cell_type": "code",
   "execution_count": 422,
   "metadata": {
    "colab": {
     "base_uri": "https://localhost:8080/"
    },
    "id": "lfzC8ZI-83SV",
    "outputId": "5a234d24-8df6-4d61-8757-60ed8ae1f986"
   },
   "outputs": [
    {
     "name": "stdout",
     "output_type": "stream",
     "text": [
      "\u001b[1m Predict 'Overall'using reviews \u001b[0m\n",
      "The classification report for Logistic Regression model\n",
      "-------------------------------------------------------\n",
      "\n",
      "              precision    recall  f1-score   support\n",
      "\n",
      "         Bad       0.70      0.72      0.71        67\n",
      "        Good       0.55      0.52      0.53        44\n",
      "\n",
      "    accuracy                           0.64       111\n",
      "   macro avg       0.62      0.62      0.62       111\n",
      "weighted avg       0.64      0.64      0.64       111\n",
      "\n"
     ]
    }
   ],
   "source": [
    "print(style.BOLD,\"Predict 'Overall'using reviews\",style.END)\n",
    "print(\"The classification report for Logistic Regression model\")\n",
    "print('-------------------------------------------------------\\n')\n",
    "print(classification_report(y_test, y_pred))"
   ]
  },
  {
   "cell_type": "markdown",
   "metadata": {
    "id": "zJpGaHnDfNA5"
   },
   "source": [
    "## **Overall predict using features**"
   ]
  },
  {
   "cell_type": "markdown",
   "metadata": {
    "id": "5LIhM56ZhU10"
   },
   "source": [
    "#### **Split data to train and test**"
   ]
  },
  {
   "cell_type": "code",
   "execution_count": 400,
   "metadata": {
    "id": "N0IK0gBMMLcy"
   },
   "outputs": [],
   "source": [
    "X_ = df[['numbers_of_rating', 'price','shop_type','Breakfast',\n",
    "       'Cash only', 'Vegetarian options', 'Cosy', 'Late-night food', 'Casual',\n",
    "       'Outdoor seating', 'Groups', 'Happy hour food', 'Good for kids']]\n",
    "\n",
    "y_ = df['overall']"
   ]
  },
  {
   "cell_type": "code",
   "execution_count": 403,
   "metadata": {
    "id": "gXk8Dof_fXgU"
   },
   "outputs": [],
   "source": [
    "X_train_, X_test_, y_train_, y_test_ = train_test_split(X_,y_, test_size =0.2, random_state=42)\n"
   ]
  },
  {
   "cell_type": "markdown",
   "metadata": {
    "id": "fYqzZdoNj5m9"
   },
   "source": [
    "### **Logistic Regression**"
   ]
  },
  {
   "cell_type": "code",
   "execution_count": 405,
   "metadata": {
    "colab": {
     "base_uri": "https://localhost:8080/"
    },
    "id": "sriRZMebfYQb",
    "outputId": "9f0b4f06-7bdd-47cd-9c5e-67d2e4fafb22"
   },
   "outputs": [
    {
     "data": {
      "text/plain": [
       "LogisticRegression(C=1.0, class_weight=None, dual=False, fit_intercept=True,\n",
       "                   intercept_scaling=1, l1_ratio=None, max_iter=100,\n",
       "                   multi_class='auto', n_jobs=None, penalty='l2',\n",
       "                   random_state=None, solver='lbfgs', tol=0.0001, verbose=0,\n",
       "                   warm_start=False)"
      ]
     },
     "execution_count": 405,
     "metadata": {
      "tags": []
     },
     "output_type": "execute_result"
    }
   ],
   "source": [
    "# Define Logistic Regression\n",
    "model_ = LogisticRegression()\n",
    "\n",
    "# train model\n",
    "model_.fit(X_train_, y_train_) "
   ]
  },
  {
   "cell_type": "markdown",
   "metadata": {
    "id": "LLJMAZgvleD0"
   },
   "source": [
    "#### **Results**"
   ]
  },
  {
   "cell_type": "code",
   "execution_count": 432,
   "metadata": {
    "colab": {
     "base_uri": "https://localhost:8080/"
    },
    "id": "Xp1AMNqwm2KD",
    "outputId": "9ac755f0-96c7-4c56-b2ee-295501f03dca"
   },
   "outputs": [
    {
     "name": "stdout",
     "output_type": "stream",
     "text": [
      "Train model accuracy:  0.5949367088607594\n"
     ]
    }
   ],
   "source": [
    "# Predicting the Train set results \n",
    "print('Train model accuracy: ',accuracy_score(y_train_, model_.predict(X_train_)))"
   ]
  },
  {
   "cell_type": "code",
   "execution_count": 406,
   "metadata": {
    "colab": {
     "base_uri": "https://localhost:8080/"
    },
    "id": "4_G1XiBihGiA",
    "outputId": "4187af03-6ca2-4b06-a2ff-785f13cc17e7"
   },
   "outputs": [
    {
     "name": "stdout",
     "output_type": "stream",
     "text": [
      "Test model accuracy:  0.625\n"
     ]
    }
   ],
   "source": [
    "# Predicting the Test set results \n",
    "y_pred_ = model_.predict(X_test_) \n",
    "print('Test model accuracy: ',accuracy_score(y_test_, y_pred_))"
   ]
  },
  {
   "cell_type": "code",
   "execution_count": 425,
   "metadata": {
    "colab": {
     "base_uri": "https://localhost:8080/",
     "height": 283
    },
    "id": "t2wszhSYllnx",
    "outputId": "2299510a-0705-4060-e837-8478abaefa5d"
   },
   "outputs": [
    {
     "data": {
      "image/png": "[encoded data removed]",
      "text/plain": [
       "<Figure size 432x288 with 2 Axes>"
      ]
     },
     "metadata": {
      "needs_background": "light",
      "tags": []
     },
     "output_type": "display_data"
    }
   ],
   "source": [
    "plot_confusion_matrix(model_, X=X_test_, y_true=y_test_, cmap='Blues');"
   ]
  },
  {
   "cell_type": "code",
   "execution_count": 421,
   "metadata": {
    "colab": {
     "base_uri": "https://localhost:8080/"
    },
    "id": "d8i4105_hNLr",
    "outputId": "89ec5a7d-23c3-4fcd-a2f5-33a2a10e9e4b"
   },
   "outputs": [
    {
     "name": "stdout",
     "output_type": "stream",
     "text": [
      "\u001b[1m Predict 'Overall'using features \u001b[0m\n",
      "The classification report for Logistic Regression model\n",
      "-------------------------------------------------------\n",
      "\n",
      "              precision    recall  f1-score   support\n",
      "\n",
      "         Bad       0.67      0.70      0.68        23\n",
      "        Good       0.56      0.53      0.55        17\n",
      "\n",
      "    accuracy                           0.62        40\n",
      "   macro avg       0.61      0.61      0.61        40\n",
      "weighted avg       0.62      0.62      0.62        40\n",
      "\n"
     ]
    }
   ],
   "source": [
    "print(style.BOLD,\"Predict 'Overall'using features\",style.END)\n",
    "print(\"The classification report for Logistic Regression model\")\n",
    "print('-------------------------------------------------------\\n')\n",
    "print(classification_report(y_test_, y_pred_))"
   ]
  },
  {
   "cell_type": "markdown",
   "metadata": {
    "id": "AEDef5a_m_nH"
   },
   "source": [
    "## **Conclusion**\n",
    "\n",
    "As see in the above results, both model are classify the data well. There is many ways to improvement the results, such as:\n",
    "- Increase dataset.\n",
    "- Add more features.\n",
    "- Apply differant techniques for texts vectoriztion."
   ]
  },
  {
   "cell_type": "code",
   "execution_count": null,
   "metadata": {
    "id": "BNIDlZUPhQp5"
   },
   "outputs": [],
   "source": []
  }
 ],
 "metadata": {
  "colab": {
   "collapsed_sections": [],
   "name": "Day9_ML.ipynb",
   "provenance": [],
   "toc_visible": true
  },
  "kernelspec": {
   "display_name": "Python 3",
   "language": "python",
   "name": "python3"
  },
  "language_info": {
   "codemirror_mode": {
    "name": "ipython",
    "version": 3
   },
   "file_extension": ".py",
   "mimetype": "text/x-python",
   "name": "python",
   "nbconvert_exporter": "python",
   "pygments_lexer": "ipython3",
   "version": "3.7.5"
  }
 },
 "nbformat": 4,
 "nbformat_minor": 1
}
