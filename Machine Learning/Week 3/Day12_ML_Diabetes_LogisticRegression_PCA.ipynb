{
  "nbformat": 4,
  "nbformat_minor": 0,
  "metadata": {
    "colab": {
      "name": "Day12_ML_Diabetes.ipynb",
      "provenance": [],
      "collapsed_sections": []
    },
    "kernelspec": {
      "name": "python3",
      "display_name": "Python 3"
    }
  },
  "cells": [
    {
      "cell_type": "markdown",
      "metadata": {
        "id": "tbhulBfK2VBu"
      },
      "source": [
        "# **Diabetes**\n",
        "\n",
        "In this project, build a model to predict the onset of diabetes based on diagnostic measures."
      ]
    },
    {
      "cell_type": "code",
      "metadata": {
        "id": "KTUHqa5QpbKZ",
        "colab": {
          "base_uri": "https://localhost:8080/"
        },
        "outputId": "d161a6d9-e519-4219-8146-1ddb6ca7c04e"
      },
      "source": [
        "import pandas as pd\n",
        "import seaborn as sns\n",
        "sns.set_style('white')\n",
        "import matplotlib.pyplot as plt\n",
        "\n",
        "# Additional Imports here\n",
        "from sklearn.model_selection import train_test_split\n",
        "from sklearn.decomposition import PCA\n",
        "from sklearn.preprocessing import StandardScaler\n",
        "from sklearn.linear_model import LogisticRegression\n",
        "from sklearn.pipeline import make_pipeline\n",
        "from sklearn.model_selection import GridSearchCV\n",
        "from sklearn.metrics import plot_confusion_matrix\n",
        "\n",
        "from sklearn.utils import resample # for resample data\n",
        "!pip install imbalanced-learn\n",
        "from imblearn.over_sampling import SMOTE # for resample data\n",
        "from collections import Counter # for count values in the list\n",
        "\n"
      ],
      "execution_count": null,
      "outputs": [
        {
          "output_type": "stream",
          "text": [
            "Requirement already satisfied: imbalanced-learn in /usr/local/lib/python3.7/dist-packages (0.4.3)\n",
            "Requirement already satisfied: scikit-learn>=0.20 in /usr/local/lib/python3.7/dist-packages (from imbalanced-learn) (0.22.2.post1)\n",
            "Requirement already satisfied: numpy>=1.8.2 in /usr/local/lib/python3.7/dist-packages (from imbalanced-learn) (1.19.5)\n",
            "Requirement already satisfied: scipy>=0.13.3 in /usr/local/lib/python3.7/dist-packages (from imbalanced-learn) (1.4.1)\n",
            "Requirement already satisfied: joblib>=0.11 in /usr/local/lib/python3.7/dist-packages (from scikit-learn>=0.20->imbalanced-learn) (1.0.1)\n"
          ],
          "name": "stdout"
        }
      ]
    },
    {
      "cell_type": "markdown",
      "metadata": {
        "id": "J4JJUVjJtU7h"
      },
      "source": [
        "<center><H1>PCA With Diabetes Dataset</H1></center>\n",
        "\n",
        "<p align=\"center\">\n",
        "  <img width=\"500\" height=\"200\" src=\"https://i.gifer.com/H7zW.gif\">\n",
        "</p>\n",
        "\n",
        "\n",
        "👉🏼 [Data Dictionary](https://www.kaggle.com/uciml/pima-indians-diabetes-database) 👈🏼\n",
        "\n",
        "<center><H3>Steps (Must be performed in this order)</H></center>\n",
        "\n",
        "1. [Split Data](https://scikit-learn.org/stable/modules/generated/sklearn.model_selection.train_test_split.html)\n",
        "2. EDA (Show us your opinion of the 2 best plots explaining the most important insights int the data). \n",
        "    - **Plots Require**:\n",
        "        - Title\n",
        "        - Axis Labels\n",
        "        - Legend\n",
        "        - A short explanation why it is important as if you were explaining it to someone who has never seen the plot before and is unfamiliar with the data.\n",
        "3. Determine Baseline Model\n",
        "4. [Scale Data](https://scikit-learn.org/stable/modules/generated/sklearn.preprocessing.StandardScaler.html)\n",
        "5. [Create Logistic Regression Model](https://scikit-learn.org/stable/modules/generated/sklearn.linear_model.LogisticRegression.html)\n",
        "6. Compare Results to Baseline\n",
        "7. [Perform PCA](https://scikit-learn.org/stable/modules/generated/sklearn.decomposition.PCA.html)\n",
        "8. Use Your Principal Components for a Logistic Regression Model\n",
        "9. Compare Results to Baseline and previous Logistic Regression Model without PCA and provide an explanation of what the results mean and the point of PCA\n",
        "\n",
        "✨BONUS✨\n",
        " - Create a Scree Plot (You will probably have to research this)"
      ]
    },
    {
      "cell_type": "code",
      "metadata": {
        "colab": {
          "base_uri": "https://localhost:8080/",
          "height": 142
        },
        "id": "WxF0nLIsq3er",
        "outputId": "158c25f3-9f2f-4368-fb7d-a37d599092d9"
      },
      "source": [
        "df = pd.read_csv(\"https://raw.githubusercontent.com/mpHarm88/datasets/master/diabetes.csv\")\n",
        "df.sample(3)"
      ],
      "execution_count": null,
      "outputs": [
        {
          "output_type": "execute_result",
          "data": {
            "text/html": [
              "<div>\n",
              "<style scoped>\n",
              "    .dataframe tbody tr th:only-of-type {\n",
              "        vertical-align: middle;\n",
              "    }\n",
              "\n",
              "    .dataframe tbody tr th {\n",
              "        vertical-align: top;\n",
              "    }\n",
              "\n",
              "    .dataframe thead th {\n",
              "        text-align: right;\n",
              "    }\n",
              "</style>\n",
              "<table border=\"1\" class=\"dataframe\">\n",
              "  <thead>\n",
              "    <tr style=\"text-align: right;\">\n",
              "      <th></th>\n",
              "      <th>Pregnancies</th>\n",
              "      <th>Glucose</th>\n",
              "      <th>BloodPressure</th>\n",
              "      <th>SkinThickness</th>\n",
              "      <th>Insulin</th>\n",
              "      <th>BMI</th>\n",
              "      <th>DiabetesPedigreeFunction</th>\n",
              "      <th>Age</th>\n",
              "      <th>Outcome</th>\n",
              "    </tr>\n",
              "  </thead>\n",
              "  <tbody>\n",
              "    <tr>\n",
              "      <th>127</th>\n",
              "      <td>1</td>\n",
              "      <td>118</td>\n",
              "      <td>58</td>\n",
              "      <td>36</td>\n",
              "      <td>94</td>\n",
              "      <td>33.3</td>\n",
              "      <td>0.261</td>\n",
              "      <td>23</td>\n",
              "      <td>0</td>\n",
              "    </tr>\n",
              "    <tr>\n",
              "      <th>366</th>\n",
              "      <td>6</td>\n",
              "      <td>124</td>\n",
              "      <td>72</td>\n",
              "      <td>0</td>\n",
              "      <td>0</td>\n",
              "      <td>27.6</td>\n",
              "      <td>0.368</td>\n",
              "      <td>29</td>\n",
              "      <td>1</td>\n",
              "    </tr>\n",
              "    <tr>\n",
              "      <th>285</th>\n",
              "      <td>7</td>\n",
              "      <td>136</td>\n",
              "      <td>74</td>\n",
              "      <td>26</td>\n",
              "      <td>135</td>\n",
              "      <td>26.0</td>\n",
              "      <td>0.647</td>\n",
              "      <td>51</td>\n",
              "      <td>0</td>\n",
              "    </tr>\n",
              "  </tbody>\n",
              "</table>\n",
              "</div>"
            ],
            "text/plain": [
              "     Pregnancies  Glucose  ...  Age  Outcome\n",
              "127            1      118  ...   23        0\n",
              "366            6      124  ...   29        1\n",
              "285            7      136  ...   51        0\n",
              "\n",
              "[3 rows x 9 columns]"
            ]
          },
          "metadata": {
            "tags": []
          },
          "execution_count": 109
        }
      ]
    },
    {
      "cell_type": "markdown",
      "metadata": {
        "id": "7cU7ESoa2gOp"
      },
      "source": [
        "## **Diabetes data**"
      ]
    },
    {
      "cell_type": "markdown",
      "metadata": {
        "id": "FdnZZQLS5Zss"
      },
      "source": [
        "### 1. Split data"
      ]
    },
    {
      "cell_type": "code",
      "metadata": {
        "id": "BA1kZ7ppLtZt",
        "colab": {
          "base_uri": "https://localhost:8080/"
        },
        "outputId": "a520b2be-760b-4654-ab65-da53257f3803"
      },
      "source": [
        "X = df.drop('Outcome',axis=1)\n",
        "y = df['Outcome']\n",
        "X_train, X_test, y_train, y_test = train_test_split(X, y, test_size=0.33, random_state=42)\n",
        "X_train.shape, X_test.shape, y_train.shape, y_test.shape"
      ],
      "execution_count": null,
      "outputs": [
        {
          "output_type": "execute_result",
          "data": {
            "text/plain": [
              "((514, 8), (254, 8), (514,), (254,))"
            ]
          },
          "metadata": {
            "tags": []
          },
          "execution_count": 110
        }
      ]
    },
    {
      "cell_type": "markdown",
      "metadata": {
        "id": "2WFz4SrCYOlu"
      },
      "source": [
        "### 2. EDA"
      ]
    },
    {
      "cell_type": "markdown",
      "metadata": {
        "id": "xtkfcV0F7UCn"
      },
      "source": [
        "**What's the average amount of glucose for who has diabetes?**\n",
        "\n",
        "The average amount of glucose for who has diabetes between 100 and 200. And the around 100 for normal people."
      ]
    },
    {
      "cell_type": "code",
      "metadata": {
        "colab": {
          "base_uri": "https://localhost:8080/",
          "height": 385
        },
        "id": "k0BXJlhU7F0O",
        "outputId": "1d355927-87dc-4bb9-f025-6c8402a303f9"
      },
      "source": [
        "sns.displot(data = df, x = 'Glucose',hue='Outcome',kind='kde')\n",
        "plt.title(\"The distribution of Glucose based on the outcome\");"
      ],
      "execution_count": null,
      "outputs": [
        {
          "output_type": "display_data",
          "data": {
            "image/png": "[encoded data removed]",
            "text/plain": [
              "<Figure size 413.25x360 with 1 Axes>"
            ]
          },
          "metadata": {
            "tags": []
          }
        }
      ]
    },
    {
      "cell_type": "markdown",
      "metadata": {
        "id": "_1VwLcnx8Gd0"
      },
      "source": [
        "**Are people in their twenties more likely to have diabetes?**\n",
        "\n",
        "From the below figure, people in their twenties less likely to have diabetes."
      ]
    },
    {
      "cell_type": "code",
      "metadata": {
        "colab": {
          "base_uri": "https://localhost:8080/",
          "height": 385
        },
        "id": "Bq_7BZPT3qYN",
        "outputId": "d2a137ac-ccfa-45c7-d411-837f81d71b85"
      },
      "source": [
        "sns.displot(data= df, x='Age',hue='Outcome',kind='kde')\n",
        "plt.title(\"The distribution of ages based on the outcome\");"
      ],
      "execution_count": null,
      "outputs": [
        {
          "output_type": "display_data",
          "data": {
            "image/png": "[encoded data removed]",
            "text/plain": [
              "<Figure size 413.25x360 with 1 Axes>"
            ]
          },
          "metadata": {
            "tags": []
          }
        }
      ]
    },
    {
      "cell_type": "markdown",
      "metadata": {
        "id": "TOdWzGXf9Myk"
      },
      "source": [
        "**Is there a relationship between the amount of glucose and BMI?**\n",
        "\n",
        "The range of BMI for people between 20 and 50. There is bit relation between the amount of glucose and BMI, If the BMI increase then the amount of glucose is increased. Also, the probability of having diabetes is increased."
      ]
    },
    {
      "cell_type": "code",
      "metadata": {
        "colab": {
          "base_uri": "https://localhost:8080/",
          "height": 377
        },
        "id": "xUeu2BMB4k7J",
        "outputId": "ed4a9d8b-6fe1-4f2e-b5ca-da4d5940235a"
      },
      "source": [
        "sns.scatterplot(data = df, x = 'BMI', y = 'Glucose',hue='Outcome')\n",
        "plt.title(\"The relation between Glucose and BMI\");"
      ],
      "execution_count": null,
      "outputs": [
        {
          "output_type": "display_data",
          "data": {
            "image/png": "[encoded data removed]",
            "text/plain": [
              "<Figure size 576x396 with 1 Axes>"
            ]
          },
          "metadata": {
            "tags": []
          }
        }
      ]
    },
    {
      "cell_type": "markdown",
      "metadata": {
        "id": "tAM6tyl_YUMn"
      },
      "source": [
        "### 3. Determine Baseline Model"
      ]
    },
    {
      "cell_type": "code",
      "metadata": {
        "colab": {
          "base_uri": "https://localhost:8080/"
        },
        "id": "zSsguRXWWCQE",
        "outputId": "1211ae07-94d6-44fd-9cb7-d7f1b1c9473b"
      },
      "source": [
        "# Baseline model\n",
        "baseline = df.Outcome.value_counts(normalize=True)[0]\n",
        "df.Outcome.value_counts(normalize=True)"
      ],
      "execution_count": null,
      "outputs": [
        {
          "output_type": "execute_result",
          "data": {
            "text/plain": [
              "0    0.651042\n",
              "1    0.348958\n",
              "Name: Outcome, dtype: float64"
            ]
          },
          "metadata": {
            "tags": []
          },
          "execution_count": 113
        }
      ]
    },
    {
      "cell_type": "markdown",
      "metadata": {
        "id": "ZH-C64M9Yjlw"
      },
      "source": [
        "### 4. Scale data"
      ]
    },
    {
      "cell_type": "code",
      "metadata": {
        "id": "B2Kl6Ve--n3Y"
      },
      "source": [
        "# create Standard Scaler\n",
        "\n",
        "scaler = StandardScaler()\n",
        "\n",
        "X_train_scaled = scaler.fit_transform(X_train)\n",
        "X_test_scaled = scaler.transform(X_test)"
      ],
      "execution_count": null,
      "outputs": []
    },
    {
      "cell_type": "markdown",
      "metadata": {
        "id": "wWHznxeeZ68P"
      },
      "source": [
        "### 5. Create Logistic Regression Model"
      ]
    },
    {
      "cell_type": "code",
      "metadata": {
        "colab": {
          "base_uri": "https://localhost:8080/"
        },
        "id": "hjAaaxMDZDHb",
        "outputId": "64e7b05e-e751-4a44-a537-667669e84398"
      },
      "source": [
        "# create Logistic Regression model\n",
        "lr = LogisticRegression()\n",
        "lr.fit(X_train_scaled, y_train);\n",
        "lr"
      ],
      "execution_count": null,
      "outputs": [
        {
          "output_type": "execute_result",
          "data": {
            "text/plain": [
              "LogisticRegression(C=1.0, class_weight=None, dual=False, fit_intercept=True,\n",
              "                   intercept_scaling=1, l1_ratio=None, max_iter=100,\n",
              "                   multi_class='auto', n_jobs=None, penalty='l2',\n",
              "                   random_state=None, solver='lbfgs', tol=0.0001, verbose=0,\n",
              "                   warm_start=False)"
            ]
          },
          "metadata": {
            "tags": []
          },
          "execution_count": 115
        }
      ]
    },
    {
      "cell_type": "code",
      "metadata": {
        "colab": {
          "base_uri": "https://localhost:8080/",
          "height": 378
        },
        "id": "UIeHJt6g_1RW",
        "outputId": "c205ff94-40fd-41db-85db-97ab074f77c3"
      },
      "source": [
        "plot_confusion_matrix(lr,X_test_scaled,y_test,cmap='Blues')"
      ],
      "execution_count": null,
      "outputs": [
        {
          "output_type": "execute_result",
          "data": {
            "text/plain": [
              "<sklearn.metrics._plot.confusion_matrix.ConfusionMatrixDisplay at 0x7f4a7e4e1c10>"
            ]
          },
          "metadata": {
            "tags": []
          },
          "execution_count": 185
        },
        {
          "output_type": "display_data",
          "data": {
            "image/png": "[encoded data removed]",
            "text/plain": [
              "<Figure size 576x396 with 2 Axes>"
            ]
          },
          "metadata": {
            "tags": []
          }
        }
      ]
    },
    {
      "cell_type": "markdown",
      "metadata": {
        "id": "6GrGMcA9a5wX"
      },
      "source": [
        "### 6. Compare Results to Baseline"
      ]
    },
    {
      "cell_type": "code",
      "metadata": {
        "colab": {
          "base_uri": "https://localhost:8080/"
        },
        "id": "UCHfdACGaRzR",
        "outputId": "625bbc9f-a1ec-491a-8678-f62e4291e2ba"
      },
      "source": [
        "print(\"******************************\")\n",
        "print(\"Result for Logistic Regression\")\n",
        "print(\"******************************\")\n",
        "print(\"Baseline: {:.2f}\".format(baseline))\n",
        "print(\"Accuracy for train: {:.2f}\".format(lr.score(X_train_scaled, y_train)))\n",
        "print(\"Accuracy for test: {:.2f}\".format(lr.score(X_test_scaled, y_test)))\n"
      ],
      "execution_count": null,
      "outputs": [
        {
          "output_type": "stream",
          "text": [
            "******************************\n",
            "Result for Logistic Regression\n",
            "******************************\n",
            "Baseline: 0.65\n",
            "Accuracy for train: 0.78\n",
            "Accuracy for test: 0.74\n"
          ],
          "name": "stdout"
        }
      ]
    },
    {
      "cell_type": "markdown",
      "metadata": {
        "id": "ngBRxNsibxkg"
      },
      "source": [
        "### 7. Perform PCA"
      ]
    },
    {
      "cell_type": "code",
      "metadata": {
        "colab": {
          "base_uri": "https://localhost:8080/"
        },
        "id": "KnkBspxBd04y",
        "outputId": "8e326cec-0ffb-42e1-d061-9665846abdfb"
      },
      "source": [
        "pca = PCA()\n",
        "pca.fit(X_train_scaled)"
      ],
      "execution_count": null,
      "outputs": [
        {
          "output_type": "execute_result",
          "data": {
            "text/plain": [
              "PCA(copy=True, iterated_power='auto', n_components=None, random_state=None,\n",
              "    svd_solver='auto', tol=0.0, whiten=False)"
            ]
          },
          "metadata": {
            "tags": []
          },
          "execution_count": 138
        }
      ]
    },
    {
      "cell_type": "code",
      "metadata": {
        "colab": {
          "base_uri": "https://localhost:8080/",
          "height": 519
        },
        "id": "zS3LB0n-dvz4",
        "outputId": "cc4af309-6d1f-4d9c-e0d5-09e74a061f30"
      },
      "source": [
        "\n",
        "plt.style.use(\"seaborn\")\n",
        "plt.figure(figsize=(15,8))\n",
        "exp_var = pd.Series(pca.explained_variance_ratio_) \n",
        "exp_var.plot(kind=\"bar\", alpha=0.7) # plot bar chart\n",
        "\n",
        "# Calculate the amount of variance explained added by each additional component\n",
        "total = 0\n",
        "var_ls = []\n",
        "for x in exp_var:\n",
        "    total = total+x\n",
        "    var_ls.append(total)\n",
        "\n",
        "pd.Series(var_ls).plot(marker=\"o\", alpha=0.7) #plot line chart of increasing variances\n",
        "plt.xlabel(\"Principle Components\", fontsize=\"x-large\")\n",
        "plt.ylabel(\"Percentage Variance Explained\", fontsize=\"x-large\")\n",
        "plt.title(\"Diabetes Scree Plot\", fontsize=\"xx-large\")\n",
        "plt.show();"
      ],
      "execution_count": null,
      "outputs": [
        {
          "output_type": "display_data",
          "data": {
            "image/png": "[encoded data removed]",
            "text/plain": [
              "<Figure size 1080x576 with 1 Axes>"
            ]
          },
          "metadata": {
            "tags": []
          }
        }
      ]
    },
    {
      "cell_type": "code",
      "metadata": {
        "colab": {
          "base_uri": "https://localhost:8080/"
        },
        "id": "2Wq0EKlva2JJ",
        "outputId": "49d161d7-68e7-4ae3-e3aa-04dffea96f8e"
      },
      "source": [
        "# create PCA object\n",
        "pca = PCA(n_components=4)\n",
        "X_train_pca = pca.fit_transform(X_train_scaled)\n",
        "X_test_pca = pca.transform(X_test_scaled)\n",
        "print(\"Number of components : \",pca.n_components_)"
      ],
      "execution_count": null,
      "outputs": [
        {
          "output_type": "stream",
          "text": [
            "Number of components :  4\n"
          ],
          "name": "stdout"
        }
      ]
    },
    {
      "cell_type": "markdown",
      "metadata": {
        "id": "qoTJ4cOhcGJG"
      },
      "source": [
        "### 8. Use Your Principal Components for a Logistic Regression Model"
      ]
    },
    {
      "cell_type": "code",
      "metadata": {
        "colab": {
          "base_uri": "https://localhost:8080/"
        },
        "id": "HfJCkSzNb8vc",
        "outputId": "214d7b4c-28da-442c-bdae-4152f2c9beab"
      },
      "source": [
        "# create Logistic Regression model with PCA\n",
        "lr_pca = LogisticRegression()\n",
        "lr_pca.fit(X_train_pca, y_train);\n",
        "lr_pca"
      ],
      "execution_count": null,
      "outputs": [
        {
          "output_type": "execute_result",
          "data": {
            "text/plain": [
              "LogisticRegression(C=1.0, class_weight=None, dual=False, fit_intercept=True,\n",
              "                   intercept_scaling=1, l1_ratio=None, max_iter=100,\n",
              "                   multi_class='auto', n_jobs=None, penalty='l2',\n",
              "                   random_state=None, solver='lbfgs', tol=0.0001, verbose=0,\n",
              "                   warm_start=False)"
            ]
          },
          "metadata": {
            "tags": []
          },
          "execution_count": 141
        }
      ]
    },
    {
      "cell_type": "code",
      "metadata": {
        "colab": {
          "base_uri": "https://localhost:8080/",
          "height": 378
        },
        "id": "TObx17BkARLm",
        "outputId": "37c55eaa-6eaa-417c-d14b-04f787a041aa"
      },
      "source": [
        "plot_confusion_matrix(lr_pca,X_test_pca,y_test,cmap='Blues')"
      ],
      "execution_count": null,
      "outputs": [
        {
          "output_type": "execute_result",
          "data": {
            "text/plain": [
              "<sklearn.metrics._plot.confusion_matrix.ConfusionMatrixDisplay at 0x7f4a7e410150>"
            ]
          },
          "metadata": {
            "tags": []
          },
          "execution_count": 186
        },
        {
          "output_type": "display_data",
          "data": {
            "image/png": "[encoded data removed]",
            "text/plain": [
              "<Figure size 576x396 with 2 Axes>"
            ]
          },
          "metadata": {
            "tags": []
          }
        }
      ]
    },
    {
      "cell_type": "markdown",
      "metadata": {
        "id": "JNKmrtGHcWhz"
      },
      "source": [
        "### 9. Compare Results to Baseline and previous Logistic Regression Model without PCA and provide an explanation of what the results mean and the point of PCA"
      ]
    },
    {
      "cell_type": "code",
      "metadata": {
        "colab": {
          "base_uri": "https://localhost:8080/"
        },
        "id": "Dqa2h24Ac1VM",
        "outputId": "51b63e9a-f0fd-45aa-91a7-04e966ac8c01"
      },
      "source": [
        "print(\"******************************\")\n",
        "print(\"Result for Logistic Regression\")\n",
        "print(\"******************************\")\n",
        "print(\"Baseline: {:.2f}\".format(baseline))\n",
        "print(\"Accuracy for train: {:.10f}\".format(lr.score(X_train_scaled, y_train)))\n",
        "print(\"Accuracy for test: {:.10f}\".format(lr.score(X_test_scaled, y_test)))\n",
        "print(\"\\n\\n\")\n",
        "\n",
        "print(\"******************************\")\n",
        "print(\"Result for Logistic Regression \\nwith PCA\")\n",
        "print(\"******************************\")\n",
        "print(\"Accuracy for train: {:.10f}\".format(lr_pca.score(X_train_pca, y_train)))\n",
        "print(\"Accuracy for test: {:.10f}\".format(lr_pca.score(X_test_pca, y_test)))"
      ],
      "execution_count": null,
      "outputs": [
        {
          "output_type": "stream",
          "text": [
            "******************************\n",
            "Result for Logistic Regression\n",
            "******************************\n",
            "Baseline: 0.65\n",
            "Accuracy for train: 0.7801556420\n",
            "Accuracy for test: 0.7401574803\n",
            "\n",
            "\n",
            "\n",
            "******************************\n",
            "Result for Logistic Regression \n",
            "with PCA\n",
            "******************************\n",
            "Accuracy for train: 0.7354085603\n",
            "Accuracy for test: 0.6889763780\n"
          ],
          "name": "stdout"
        }
      ]
    },
    {
      "cell_type": "markdown",
      "metadata": {
        "id": "-7IVcMv8lYu0"
      },
      "source": [
        "### 10. Improve model (Pipeline - GridSearchCV)\n"
      ]
    },
    {
      "cell_type": "code",
      "metadata": {
        "id": "w2bdpButc6vZ"
      },
      "source": [
        "# create a pipeline \n",
        "pipe = make_pipeline(\n",
        "    StandardScaler(),\n",
        "    PCA(),\n",
        "    LogisticRegression()\n",
        ")"
      ],
      "execution_count": null,
      "outputs": []
    },
    {
      "cell_type": "code",
      "metadata": {
        "colab": {
          "base_uri": "https://localhost:8080/"
        },
        "id": "VFi4r21BllLu",
        "outputId": "ef89cddf-287b-4925-8be0-24ea0203038c"
      },
      "source": [
        "# add hyper prameters \n",
        "param_grid = {\n",
        "    \"standardscaler__with_mean\": [True, False], \n",
        "    \"standardscaler__with_std\": [True, False],\n",
        "    \"pca__n_components\": range(df.shape[1]), # number of features in the dataset\n",
        "    \"logisticregression__C\": [1, 0.9, 0.8, 0.7, 0.6],\n",
        "    \"logisticregression__max_iter\": [100, 500, 1000]\n",
        "}\n",
        "\n",
        "# create GridSearchCV model\n",
        "grid = GridSearchCV(\n",
        "    pipe, # pipeline\n",
        "    param_grid=param_grid, # dict of hyper pramters\n",
        "    cv=5, # number of cross validation\n",
        "    verbose=2, # Higher number means the training step show more output\n",
        "    n_jobs=-1 # Use all available cores on my computer (Thanks Ahmed, Zarah, Raghad)\n",
        ")\n",
        "\n",
        "grid.fit(X_train,y_train)"
      ],
      "execution_count": null,
      "outputs": [
        {
          "output_type": "stream",
          "text": [
            "Fitting 5 folds for each of 540 candidates, totalling 2700 fits\n"
          ],
          "name": "stdout"
        },
        {
          "output_type": "stream",
          "text": [
            "[Parallel(n_jobs=-1)]: Using backend LokyBackend with 2 concurrent workers.\n",
            "[Parallel(n_jobs=-1)]: Done 228 tasks      | elapsed:    2.4s\n",
            "[Parallel(n_jobs=-1)]: Done 1196 tasks      | elapsed:   12.3s\n",
            "[Parallel(n_jobs=-1)]: Done 2700 out of 2700 | elapsed:   27.8s finished\n"
          ],
          "name": "stderr"
        },
        {
          "output_type": "execute_result",
          "data": {
            "text/plain": [
              "GridSearchCV(cv=5, error_score=nan,\n",
              "             estimator=Pipeline(memory=None,\n",
              "                                steps=[('standardscaler',\n",
              "                                        StandardScaler(copy=True,\n",
              "                                                       with_mean=True,\n",
              "                                                       with_std=True)),\n",
              "                                       ('pca',\n",
              "                                        PCA(copy=True, iterated_power='auto',\n",
              "                                            n_components=None,\n",
              "                                            random_state=None,\n",
              "                                            svd_solver='auto', tol=0.0,\n",
              "                                            whiten=False)),\n",
              "                                       ('logisticregression',\n",
              "                                        LogisticRegression(C=1.0,\n",
              "                                                           class_weight=None,\n",
              "                                                           dual=False,\n",
              "                                                           fit_inte...\n",
              "                                                           warm_start=False))],\n",
              "                                verbose=False),\n",
              "             iid='deprecated', n_jobs=-1,\n",
              "             param_grid={'logisticregression__C': [1, 0.9, 0.8, 0.7, 0.6],\n",
              "                         'logisticregression__max_iter': [100, 500, 1000],\n",
              "                         'pca__n_components': range(0, 9),\n",
              "                         'standardscaler__with_mean': [True, False],\n",
              "                         'standardscaler__with_std': [True, False]},\n",
              "             pre_dispatch='2*n_jobs', refit=True, return_train_score=False,\n",
              "             scoring=None, verbose=2)"
            ]
          },
          "metadata": {
            "tags": []
          },
          "execution_count": 123
        }
      ]
    },
    {
      "cell_type": "code",
      "metadata": {
        "colab": {
          "base_uri": "https://localhost:8080/"
        },
        "id": "moTxqCdTl_Ya",
        "outputId": "703e7e52-d0c7-4cf0-9a8b-19d71e466fa5"
      },
      "source": [
        "grid.best_params_"
      ],
      "execution_count": null,
      "outputs": [
        {
          "output_type": "execute_result",
          "data": {
            "text/plain": [
              "{'logisticregression__C': 1,\n",
              " 'logisticregression__max_iter': 100,\n",
              " 'pca__n_components': 6,\n",
              " 'standardscaler__with_mean': True,\n",
              " 'standardscaler__with_std': False}"
            ]
          },
          "metadata": {
            "tags": []
          },
          "execution_count": 124
        }
      ]
    },
    {
      "cell_type": "code",
      "metadata": {
        "colab": {
          "base_uri": "https://localhost:8080/",
          "height": 378
        },
        "id": "609wXmrvAZKY",
        "outputId": "9c941ff4-cc57-466c-84fa-482c9affb02a"
      },
      "source": [
        "plot_confusion_matrix(grid.best_estimator_,X_test,y_test,cmap='Blues')"
      ],
      "execution_count": null,
      "outputs": [
        {
          "output_type": "execute_result",
          "data": {
            "text/plain": [
              "<sklearn.metrics._plot.confusion_matrix.ConfusionMatrixDisplay at 0x7f4a7e327150>"
            ]
          },
          "metadata": {
            "tags": []
          },
          "execution_count": 188
        },
        {
          "output_type": "display_data",
          "data": {
            "image/png": "[encoded data removed]",
            "text/plain": [
              "<Figure size 576x396 with 2 Axes>"
            ]
          },
          "metadata": {
            "tags": []
          }
        }
      ]
    },
    {
      "cell_type": "code",
      "metadata": {
        "colab": {
          "base_uri": "https://localhost:8080/"
        },
        "id": "9JS6wqslmYtB",
        "outputId": "ddbe4b5a-847c-423a-dba6-d38042a95cf5"
      },
      "source": [
        "print(\"******************************\")\n",
        "print(\"Result for Logistic Regression\")\n",
        "print(\"******************************\")\n",
        "print(\"Baseline: {:.2f}\".format(baseline))\n",
        "print(\"Accuracy for train: {:.10f}\".format(lr.score(X_train_scaled, y_train)))\n",
        "print(\"Accuracy for test: {:.10f}\".format(lr.score(X_test_scaled, y_test)))\n",
        "print(\"\\n\\n\")\n",
        "\n",
        "print(\"******************************\")\n",
        "print(\"Result for Logistic Regression \\nwith PCA\")\n",
        "print(\"******************************\")\n",
        "print(\"Accuracy for train: {:.10f}\".format(lr_pca.score(X_train_pca, y_train)))\n",
        "print(\"Accuracy for test: {:.10f}\".format(lr_pca.score(X_test_pca, y_test)))\n",
        "print(\"\\n\\n\")\n",
        "\n",
        "print(\"******************************\")\n",
        "print(\"Result for Logistic Regression \\nwith PCA, using GridSearchCV\")\n",
        "print(\"******************************\")\n",
        "print(\"Accuracy for train: {:.10f}\".format(grid.best_estimator_.score(X_train, y_train)))\n",
        "print(\"Accuracy for test: {:.10f}\".format(grid.best_estimator_.score(X_test, y_test)))"
      ],
      "execution_count": null,
      "outputs": [
        {
          "output_type": "stream",
          "text": [
            "******************************\n",
            "Result for Logistic Regression\n",
            "******************************\n",
            "Baseline: 0.65\n",
            "Accuracy for train: 0.7801556420\n",
            "Accuracy for test: 0.7401574803\n",
            "\n",
            "\n",
            "\n",
            "******************************\n",
            "Result for Logistic Regression \n",
            "with PCA\n",
            "******************************\n",
            "Accuracy for train: 0.7354085603\n",
            "Accuracy for test: 0.6889763780\n",
            "\n",
            "\n",
            "\n",
            "******************************\n",
            "Result for Logistic Regression \n",
            "with PCA, using GridSearchCV\n",
            "******************************\n",
            "Accuracy for train: 0.7859922179\n",
            "Accuracy for test: 0.7401574803\n"
          ],
          "name": "stdout"
        }
      ]
    },
    {
      "cell_type": "markdown",
      "metadata": {
        "id": "Ph7e1w4cpdqb"
      },
      "source": [
        "## **Resample Data**"
      ]
    },
    {
      "cell_type": "markdown",
      "metadata": {
        "id": "2P19H5Z-rBY5"
      },
      "source": [
        "### 1. Resample dataset"
      ]
    },
    {
      "cell_type": "code",
      "metadata": {
        "id": "K3Dk6Wd6mtzQ"
      },
      "source": [
        "# Separate majority and minority classes\n",
        "df_majority = df[df.Outcome == 0]\n",
        "df_minority = df[df.Outcome == 1]\n",
        " \n",
        "# Downsample majority class\n",
        "df_majority_downsampled = resample(df_majority, \n",
        "                                 replace=False,    \n",
        "                                 n_samples=500)\n",
        "#Upsample minority class\n",
        "df_minority_upsampled = resample(df_minority, \n",
        "                                 replace=True,     \n",
        "                                 n_samples=500)\n",
        "\n",
        "# Combine minority class with downsampled majority class\n",
        "df_up_down_sampled = pd.concat([df_majority_downsampled, df_minority_upsampled])"
      ],
      "execution_count": null,
      "outputs": []
    },
    {
      "cell_type": "markdown",
      "metadata": {
        "id": "iKMDUM71rF93"
      },
      "source": [
        "### 2. Split data"
      ]
    },
    {
      "cell_type": "code",
      "metadata": {
        "id": "0ssNWwwqqqUD"
      },
      "source": [
        "X_sample = df_up_down_sampled.drop('Outcome',axis=1)\n",
        "y_sample = df_up_down_sampled['Outcome']\n",
        "X_train_s, X_test_s, y_train_s, y_test_s = train_test_split(X_sample, y_sample, test_size=0.33, random_state=42)"
      ],
      "execution_count": null,
      "outputs": []
    },
    {
      "cell_type": "markdown",
      "metadata": {
        "id": "AwKXUIWergNL"
      },
      "source": [
        "### 3. Baseline model\n"
      ]
    },
    {
      "cell_type": "code",
      "metadata": {
        "colab": {
          "base_uri": "https://localhost:8080/"
        },
        "id": "CuXKgfN3pi2O",
        "outputId": "3d691e88-d7a7-484e-f8b5-8f372ddfd67d"
      },
      "source": [
        "# baseline model\n",
        "df_up_down_sampled.Outcome.value_counts(normalize=True)"
      ],
      "execution_count": null,
      "outputs": [
        {
          "output_type": "execute_result",
          "data": {
            "text/plain": [
              "1    0.5\n",
              "0    0.5\n",
              "Name: Outcome, dtype: float64"
            ]
          },
          "metadata": {
            "tags": []
          },
          "execution_count": 194
        }
      ]
    },
    {
      "cell_type": "markdown",
      "metadata": {
        "id": "9_V2f7i5rZhV"
      },
      "source": [
        "### 4. Create pipeline"
      ]
    },
    {
      "cell_type": "code",
      "metadata": {
        "id": "MALJY4OorSy0"
      },
      "source": [
        "# create a pipeline \n",
        "pipe_s = make_pipeline(\n",
        "    StandardScaler(),\n",
        "    PCA(),\n",
        "    LogisticRegression()\n",
        ")"
      ],
      "execution_count": null,
      "outputs": []
    },
    {
      "cell_type": "code",
      "metadata": {
        "colab": {
          "base_uri": "https://localhost:8080/"
        },
        "id": "tjRTNXjsrUBT",
        "outputId": "98ef9474-a39f-4e60-b7cf-7018c58c8ce1"
      },
      "source": [
        "# add hyper prameters \n",
        "param_grid_s = {\n",
        "    \"standardscaler__with_mean\": [True, False], \n",
        "    \"standardscaler__with_std\": [True, False],\n",
        "    \"pca__n_components\": range(df.shape[1]), # number of features in the dataset\n",
        "    \"logisticregression__C\": [1, 0.9, 0.8, 0.7, 0.6],\n",
        "    \"logisticregression__max_iter\": [100, 500, 1000]\n",
        "}\n",
        "\n",
        "# create GridSearchCV model\n",
        "grid_s = GridSearchCV(\n",
        "    pipe_s, # pipeline\n",
        "    param_grid=param_grid_s, # dict of hyper pramters\n",
        "    cv=5, # number of cross validation\n",
        "    verbose=2, # Higher number means the training step show more output\n",
        "    n_jobs=-1 # Use all available cores on my computer (Thanks Ahmed, Zarah, Raghad)\n",
        ")\n",
        "\n",
        "grid_s.fit(X_train_s,y_train_s)"
      ],
      "execution_count": null,
      "outputs": [
        {
          "output_type": "stream",
          "text": [
            "Fitting 5 folds for each of 540 candidates, totalling 2700 fits\n"
          ],
          "name": "stdout"
        },
        {
          "output_type": "stream",
          "text": [
            "[Parallel(n_jobs=-1)]: Using backend LokyBackend with 2 concurrent workers.\n",
            "[Parallel(n_jobs=-1)]: Done 216 tasks      | elapsed:    3.4s\n",
            "[Parallel(n_jobs=-1)]: Done 2152 tasks      | elapsed:   23.0s\n",
            "[Parallel(n_jobs=-1)]: Done 2700 out of 2700 | elapsed:   28.5s finished\n"
          ],
          "name": "stderr"
        },
        {
          "output_type": "execute_result",
          "data": {
            "text/plain": [
              "GridSearchCV(cv=5, error_score=nan,\n",
              "             estimator=Pipeline(memory=None,\n",
              "                                steps=[('standardscaler',\n",
              "                                        StandardScaler(copy=True,\n",
              "                                                       with_mean=True,\n",
              "                                                       with_std=True)),\n",
              "                                       ('pca',\n",
              "                                        PCA(copy=True, iterated_power='auto',\n",
              "                                            n_components=None,\n",
              "                                            random_state=None,\n",
              "                                            svd_solver='auto', tol=0.0,\n",
              "                                            whiten=False)),\n",
              "                                       ('logisticregression',\n",
              "                                        LogisticRegression(C=1.0,\n",
              "                                                           class_weight=None,\n",
              "                                                           dual=False,\n",
              "                                                           fit_inte...\n",
              "                                                           warm_start=False))],\n",
              "                                verbose=False),\n",
              "             iid='deprecated', n_jobs=-1,\n",
              "             param_grid={'logisticregression__C': [1, 0.9, 0.8, 0.7, 0.6],\n",
              "                         'logisticregression__max_iter': [100, 500, 1000],\n",
              "                         'pca__n_components': range(0, 9),\n",
              "                         'standardscaler__with_mean': [True, False],\n",
              "                         'standardscaler__with_std': [True, False]},\n",
              "             pre_dispatch='2*n_jobs', refit=True, return_train_score=False,\n",
              "             scoring=None, verbose=2)"
            ]
          },
          "metadata": {
            "tags": []
          },
          "execution_count": 196
        }
      ]
    },
    {
      "cell_type": "code",
      "metadata": {
        "colab": {
          "base_uri": "https://localhost:8080/",
          "height": 378
        },
        "id": "Csh2__aPAkZq",
        "outputId": "2b0a8f86-a635-44fb-a74f-6be05746c2d0"
      },
      "source": [
        "plot_confusion_matrix(grid_s.best_estimator_,X_test_s,y_test_s,cmap='Blues')"
      ],
      "execution_count": null,
      "outputs": [
        {
          "output_type": "execute_result",
          "data": {
            "text/plain": [
              "<sklearn.metrics._plot.confusion_matrix.ConfusionMatrixDisplay at 0x7f4a7e178390>"
            ]
          },
          "metadata": {
            "tags": []
          },
          "execution_count": 197
        },
        {
          "output_type": "display_data",
          "data": {
            "image/png": "[encoded data removed]",
            "text/plain": [
              "<Figure size 576x396 with 2 Axes>"
            ]
          },
          "metadata": {
            "tags": []
          }
        }
      ]
    },
    {
      "cell_type": "code",
      "metadata": {
        "colab": {
          "base_uri": "https://localhost:8080/"
        },
        "id": "1olR0oJvsPvK",
        "outputId": "96270eb7-f884-4568-b271-df0cd0d03f6e"
      },
      "source": [
        "print(\"******************************\")\n",
        "print(\"Result for Logistic Regression \\nwith PCA, using GridSearchCV \\nAfter Sample data\")\n",
        "print(\"******************************\")\n",
        "print(\"Accuracy for train: {:.10f}\".format(grid_s.best_estimator_.score(X_train_s, y_train_s)))\n",
        "print(\"Accuracy for test: {:.10f}\".format(grid_s.best_estimator_.score(X_test_s, y_test_s)))"
      ],
      "execution_count": null,
      "outputs": [
        {
          "output_type": "stream",
          "text": [
            "******************************\n",
            "Result for Logistic Regression \n",
            "with PCA, using GridSearchCV \n",
            "After Sample data\n",
            "******************************\n",
            "Accuracy for train: 0.7835820896\n",
            "Accuracy for test: 0.7212121212\n"
          ],
          "name": "stdout"
        }
      ]
    },
    {
      "cell_type": "markdown",
      "metadata": {
        "id": "CtgsOAWHtFbl"
      },
      "source": [
        "## **SMOTE**"
      ]
    },
    {
      "cell_type": "markdown",
      "metadata": {
        "id": "INz9N6W6vIUp"
      },
      "source": [
        "### 1. Resample data"
      ]
    },
    {
      "cell_type": "code",
      "metadata": {
        "colab": {
          "base_uri": "https://localhost:8080/"
        },
        "id": "i0eDSbOOsc9P",
        "outputId": "595d92e6-ada2-457d-c2b7-186d8c522611"
      },
      "source": [
        "# transform the dataset\n",
        "oversample = SMOTE()\n",
        "X_smote, y_smote = oversample.fit_resample(X, y)"
      ],
      "execution_count": null,
      "outputs": [
        {
          "output_type": "stream",
          "text": [
            "/usr/local/lib/python3.7/dist-packages/sklearn/utils/deprecation.py:87: FutureWarning: Function safe_indexing is deprecated; safe_indexing is deprecated in version 0.22 and will be removed in version 0.24.\n",
            "  warnings.warn(msg, category=FutureWarning)\n"
          ],
          "name": "stderr"
        }
      ]
    },
    {
      "cell_type": "code",
      "metadata": {
        "colab": {
          "base_uri": "https://localhost:8080/"
        },
        "id": "DZLGk4j0uiV6",
        "outputId": "d1cbe284-dd2e-47f2-b5ab-40c82056d7ab"
      },
      "source": [
        "# the counts of each target in the target list\n",
        "counter = Counter(y_smote)\n",
        "print(counter)"
      ],
      "execution_count": null,
      "outputs": [
        {
          "output_type": "stream",
          "text": [
            "Counter({1: 500, 0: 500})\n"
          ],
          "name": "stdout"
        }
      ]
    },
    {
      "cell_type": "markdown",
      "metadata": {
        "id": "g7mJHGMjvUda"
      },
      "source": [
        "### 3. Split data"
      ]
    },
    {
      "cell_type": "code",
      "metadata": {
        "id": "BEf3FKDrtP0s"
      },
      "source": [
        "X_train_smote, X_test_smote, y_train_smote, y_test_smote = train_test_split(X_smote, y_smote, test_size=0.33, random_state=42)"
      ],
      "execution_count": null,
      "outputs": []
    },
    {
      "cell_type": "markdown",
      "metadata": {
        "id": "W83YKbwhvXdz"
      },
      "source": [
        "### 4. Create model "
      ]
    },
    {
      "cell_type": "code",
      "metadata": {
        "colab": {
          "base_uri": "https://localhost:8080/"
        },
        "id": "lt4ToxGJt4Ip",
        "outputId": "61b2b56e-8823-4383-9d84-26c0977f61d7"
      },
      "source": [
        "# create GridSearchCV model\n",
        "grid_smote = GridSearchCV(\n",
        "    pipe_s, # pipeline\n",
        "    param_grid=param_grid_s, # dict of hyper pramters\n",
        "    cv=5, # number of cross validation\n",
        "    verbose=2, # Higher number means the training step show more output\n",
        "    n_jobs=-1 # Use all available cores on my computer (Thanks Ahmed, Zarah, Raghad)\n",
        ")\n",
        "\n",
        "grid_smote.fit(X_train_smote,y_train_smote)"
      ],
      "execution_count": null,
      "outputs": [
        {
          "output_type": "stream",
          "text": [
            "[Parallel(n_jobs=-1)]: Using backend LokyBackend with 2 concurrent workers.\n"
          ],
          "name": "stderr"
        },
        {
          "output_type": "stream",
          "text": [
            "Fitting 5 folds for each of 540 candidates, totalling 2700 fits\n"
          ],
          "name": "stdout"
        },
        {
          "output_type": "stream",
          "text": [
            "[Parallel(n_jobs=-1)]: Done 396 tasks      | elapsed:    3.4s\n",
            "[Parallel(n_jobs=-1)]: Done 2332 tasks      | elapsed:   19.7s\n",
            "[Parallel(n_jobs=-1)]: Done 2700 out of 2700 | elapsed:   22.7s finished\n"
          ],
          "name": "stderr"
        },
        {
          "output_type": "execute_result",
          "data": {
            "text/plain": [
              "GridSearchCV(cv=5, error_score=nan,\n",
              "             estimator=Pipeline(memory=None,\n",
              "                                steps=[('standardscaler',\n",
              "                                        StandardScaler(copy=True,\n",
              "                                                       with_mean=True,\n",
              "                                                       with_std=True)),\n",
              "                                       ('pca',\n",
              "                                        PCA(copy=True, iterated_power='auto',\n",
              "                                            n_components=None,\n",
              "                                            random_state=None,\n",
              "                                            svd_solver='auto', tol=0.0,\n",
              "                                            whiten=False)),\n",
              "                                       ('logisticregression',\n",
              "                                        LogisticRegression(C=1.0,\n",
              "                                                           class_weight=None,\n",
              "                                                           dual=False,\n",
              "                                                           fit_inte...\n",
              "                                                           warm_start=False))],\n",
              "                                verbose=False),\n",
              "             iid='deprecated', n_jobs=-1,\n",
              "             param_grid={'logisticregression__C': [1, 0.9, 0.8, 0.7, 0.6],\n",
              "                         'logisticregression__max_iter': [100, 500, 1000],\n",
              "                         'pca__n_components': range(0, 9),\n",
              "                         'standardscaler__with_mean': [True, False],\n",
              "                         'standardscaler__with_std': [True, False]},\n",
              "             pre_dispatch='2*n_jobs', refit=True, return_train_score=False,\n",
              "             scoring=None, verbose=2)"
            ]
          },
          "metadata": {
            "tags": []
          },
          "execution_count": 135
        }
      ]
    },
    {
      "cell_type": "code",
      "metadata": {
        "colab": {
          "base_uri": "https://localhost:8080/",
          "height": 378
        },
        "id": "dKBov_caAqvf",
        "outputId": "a15cc363-05c6-499e-b0c8-f8f72361d9da"
      },
      "source": [
        "plot_confusion_matrix(grid_smote.best_estimator_,X_test_smote,y_test_smote,cmap='Blues')"
      ],
      "execution_count": null,
      "outputs": [
        {
          "output_type": "execute_result",
          "data": {
            "text/plain": [
              "<sklearn.metrics._plot.confusion_matrix.ConfusionMatrixDisplay at 0x7f4a7e2b49d0>"
            ]
          },
          "metadata": {
            "tags": []
          },
          "execution_count": 190
        },
        {
          "output_type": "display_data",
          "data": {
            "image/png": "[encoded data removed]",
            "text/plain": [
              "<Figure size 576x396 with 2 Axes>"
            ]
          },
          "metadata": {
            "tags": []
          }
        }
      ]
    },
    {
      "cell_type": "code",
      "metadata": {
        "colab": {
          "base_uri": "https://localhost:8080/"
        },
        "id": "Xd9Gr21quP-R",
        "outputId": "282b2ab2-25b3-4e12-f70d-7cef3d28753c"
      },
      "source": [
        "print(\"******************************\")\n",
        "print(\"Result for Logistic Regression \\nwith PCA, using GridSearchCV \\nUsing SMOTE\")\n",
        "print(\"******************************\")\n",
        "print(\"Accuracy for train: {:.10f}\".format(grid_smote.best_estimator_.score(X_train_smote, y_train_smote)))\n",
        "print(\"Accuracy for test: {:.10f}\".format(grid_smote.best_estimator_.score(X_test_smote, y_test_smote)))"
      ],
      "execution_count": null,
      "outputs": [
        {
          "output_type": "stream",
          "text": [
            "******************************\n",
            "Result for Logistic Regression \n",
            "with PCA, using GridSearchCV \n",
            "Using SMOTE\n",
            "******************************\n",
            "Accuracy for train: 0.7656716418\n",
            "Accuracy for test: 0.7696969697\n"
          ],
          "name": "stdout"
        }
      ]
    },
    {
      "cell_type": "markdown",
      "metadata": {
        "id": "0VZkXqgFnRtx"
      },
      "source": [
        "## **Conclusion**\n",
        "From above results, we can summarize these insights:\n",
        "1. The model that used PCA and GridSearchCV achieve the highest result on train with accuracy 78.6%.\n",
        "2. The best number of components for PCA is 6.\n",
        "3. In test, Logistic Regression without PCA and Logistic Regression with PCA and GridSearchCV get the same results. \n",
        "4. Using resample techniques reduced the difference between train and test results."
      ]
    }
  ]
}